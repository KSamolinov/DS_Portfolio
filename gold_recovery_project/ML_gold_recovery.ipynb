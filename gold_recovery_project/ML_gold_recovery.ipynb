{
 "cells": [
  {
   "cell_type": "markdown",
   "metadata": {
    "jp-MarkdownHeadingCollapsed": true,
    "tags": [],
    "toc": true
   },
   "source": [
    "<h1>Содержание<span class=\"tocSkip\"></span></h1>\n",
    "<div class=\"toc\"><ul class=\"toc-item\"><li><span><a href=\"#Метрика-оценки\" data-toc-modified-id=\"Метрика-оценки-1\"><span class=\"toc-item-num\">1&nbsp;&nbsp;</span>Метрика оценки</a></span></li><li><span><a href=\"#Расчет-эффективности-восстановления\" data-toc-modified-id=\"Расчет-эффективности-восстановления-2\"><span class=\"toc-item-num\">2&nbsp;&nbsp;</span>Расчет эффективности восстановления</a></span></li><li><span><a href=\"#Установка-библиотек\" data-toc-modified-id=\"Установка-библиотек-3\"><span class=\"toc-item-num\">3&nbsp;&nbsp;</span>Установка библиотек</a></span></li><li><span><a href=\"#Импорт-библиотек\" data-toc-modified-id=\"Импорт-библиотек-4\"><span class=\"toc-item-num\">4&nbsp;&nbsp;</span>Импорт библиотек</a></span></li><li><span><a href=\"#Импорт-данных\" data-toc-modified-id=\"Импорт-данных-5\"><span class=\"toc-item-num\">5&nbsp;&nbsp;</span>Импорт данных</a></span></li><li><span><a href=\"#Анализ-данных\" data-toc-modified-id=\"Анализ-данных-6\"><span class=\"toc-item-num\">6&nbsp;&nbsp;</span>Анализ данных</a></span><ul class=\"toc-item\"><li><span><a href=\"#Первичный-взгляд-на-данные\" data-toc-modified-id=\"Первичный-взгляд-на-данные-6.1\"><span class=\"toc-item-num\">6.1&nbsp;&nbsp;</span>Первичный взгляд на данные</a></span><ul class=\"toc-item\"><li><span><a href=\"#Первичный-вывод-таблиц\" data-toc-modified-id=\"Первичный-вывод-таблиц-6.1.1\"><span class=\"toc-item-num\">6.1.1&nbsp;&nbsp;</span>Первичный вывод таблиц</a></span></li><li><span><a href=\"#Информация-о-содержании-столбцов\" data-toc-modified-id=\"Информация-о-содержании-столбцов-6.1.2\"><span class=\"toc-item-num\">6.1.2&nbsp;&nbsp;</span>Информация о содержании столбцов</a></span></li><li><span><a href=\"#Описание-данных-в-столбцах\" data-toc-modified-id=\"Описание-данных-в-столбцах-6.1.3\"><span class=\"toc-item-num\">6.1.3&nbsp;&nbsp;</span>Описание данных в столбцах</a></span></li><li><span><a href=\"#Проверка-пропусков\" data-toc-modified-id=\"Проверка-пропусков-6.1.4\"><span class=\"toc-item-num\">6.1.4&nbsp;&nbsp;</span>Проверка пропусков</a></span></li><li><span><a href=\"#Дубликаты-строк\" data-toc-modified-id=\"Дубликаты-строк-6.1.5\"><span class=\"toc-item-num\">6.1.5&nbsp;&nbsp;</span>Дубликаты строк</a></span></li></ul></li><li><span><a href=\"#Содержрание-данных\" data-toc-modified-id=\"Содержрание-данных-6.2\"><span class=\"toc-item-num\">6.2&nbsp;&nbsp;</span>Содержрание данных</a></span></li></ul></li><li><span><a href=\"#Формула-обогощения-золота\" data-toc-modified-id=\"Формула-обогощения-золота-7\"><span class=\"toc-item-num\">7&nbsp;&nbsp;</span>Формула обогощения золота</a></span></li><li><span><a href=\"#Функция-sMAPE\" data-toc-modified-id=\"Функция-sMAPE-8\"><span class=\"toc-item-num\">8&nbsp;&nbsp;</span>Функция sMAPE</a></span><ul class=\"toc-item\"><li><span><a href=\"#sMAPE\" data-toc-modified-id=\"sMAPE-8.1\"><span class=\"toc-item-num\">8.1&nbsp;&nbsp;</span>sMAPE</a></span></li><li><span><a href=\"#final-sMAPE\" data-toc-modified-id=\"final-sMAPE-8.2\"><span class=\"toc-item-num\">8.2&nbsp;&nbsp;</span>final sMAPE</a></span></li></ul></li><li><span><a href=\"#Анализ-технологических-операций\" data-toc-modified-id=\"Анализ-технологических-операций-9\"><span class=\"toc-item-num\">9&nbsp;&nbsp;</span>Анализ технологических операций</a></span></li><li><span><a href=\"#Анализ-распределения-значений\" data-toc-modified-id=\"Анализ-распределения-значений-10\"><span class=\"toc-item-num\">10&nbsp;&nbsp;</span>Анализ распределения значений</a></span></li><li><span><a href=\"#Сравним-распределения-размеров-гранул-сырья-на-обучающей-и-тестовой-выборках.\" data-toc-modified-id=\"Сравним-распределения-размеров-гранул-сырья-на-обучающей-и-тестовой-выборках.-11\"><span class=\"toc-item-num\">11&nbsp;&nbsp;</span>Сравним распределения размеров гранул сырья на обучающей и тестовой выборках.</a></span></li><li><span><a href=\"#Суммарная-концентрацая-всех-веществ-на-разных-стадиях:-в-сырье,-в-черновом-и-финальном-концентратах\" data-toc-modified-id=\"Суммарная-концентрацая-всех-веществ-на-разных-стадиях:-в-сырье,-в-черновом-и-финальном-концентратах-12\"><span class=\"toc-item-num\">12&nbsp;&nbsp;</span>Суммарная концентрацая всех веществ на разных стадиях: в сырье, в черновом и финальном концентратах</a></span><ul class=\"toc-item\"><li><span><a href=\"#Суммарная-концентрация-в-сырьевой-стадии\" data-toc-modified-id=\"Суммарная-концентрация-в-сырьевой-стадии-12.1\"><span class=\"toc-item-num\">12.1&nbsp;&nbsp;</span>Суммарная концентрация в сырьевой стадии</a></span></li><li><span><a href=\"#Суммарная-концентрация-в-черновой-стадии\" data-toc-modified-id=\"Суммарная-концентрация-в-черновой-стадии-12.2\"><span class=\"toc-item-num\">12.2&nbsp;&nbsp;</span>Суммарная концентрация в черновой стадии</a></span></li><li><span><a href=\"#Суммарная-концентрация-в-финальной-стадии\" data-toc-modified-id=\"Суммарная-концентрация-в-финальной-стадии-12.3\"><span class=\"toc-item-num\">12.3&nbsp;&nbsp;</span>Суммарная концентрация в финальной стадии</a></span></li><li><span><a href=\"#Выводы-по-распределению-металлов\" data-toc-modified-id=\"Выводы-по-распределению-металлов-12.4\"><span class=\"toc-item-num\">12.4&nbsp;&nbsp;</span>Выводы по распределению металлов</a></span></li></ul></li><li><span><a href=\"#Подготовка-данных-для-модели-обучения\" data-toc-modified-id=\"Подготовка-данных-для-модели-обучения-13\"><span class=\"toc-item-num\">13&nbsp;&nbsp;</span>Подготовка данных для модели обучения</a></span></li><li><span><a href=\"#Разбивка-данных\" data-toc-modified-id=\"Разбивка-данных-14\"><span class=\"toc-item-num\">14&nbsp;&nbsp;</span>Разбивка данных</a></span><ul class=\"toc-item\"><li><span><a href=\"#Обучение-модели\" data-toc-modified-id=\"Обучение-модели-14.1\"><span class=\"toc-item-num\">14.1&nbsp;&nbsp;</span>Обучение модели</a></span><ul class=\"toc-item\"><li><span><a href=\"#Линейная-регрессия\" data-toc-modified-id=\"Линейная-регрессия-14.1.1\"><span class=\"toc-item-num\">14.1.1&nbsp;&nbsp;</span>Линейная регрессия</a></span></li><li><span><a href=\"#K-Ближайших-Соседей-(KNN)\" data-toc-modified-id=\"K-Ближайших-Соседей-(KNN)-14.1.2\"><span class=\"toc-item-num\">14.1.2&nbsp;&nbsp;</span>K Ближайших Соседей (KNN)</a></span></li><li><span><a href=\"#Метод-опорных-Векторов-(SVMs)\" data-toc-modified-id=\"Метод-опорных-Векторов-(SVMs)-14.1.3\"><span class=\"toc-item-num\">14.1.3&nbsp;&nbsp;</span>Метод опорных Векторов (SVMs)</a></span></li><li><span><a href=\"#Регрессия-дерева-решений\" data-toc-modified-id=\"Регрессия-дерева-решений-14.1.4\"><span class=\"toc-item-num\">14.1.4&nbsp;&nbsp;</span>Регрессия дерева решений</a></span></li><li><span><a href=\"#Результаты-обучения\" data-toc-modified-id=\"Результаты-обучения-14.1.5\"><span class=\"toc-item-num\">14.1.5&nbsp;&nbsp;</span>Результаты обучения</a></span></li></ul></li><li><span><a href=\"#Применение-модели-на-тестовой-выборке\" data-toc-modified-id=\"Применение-модели-на-тестовой-выборке-14.2\"><span class=\"toc-item-num\">14.2&nbsp;&nbsp;</span>Применение модели на тестовой выборке</a></span></li><li><span><a href=\"#Сравнение-модели\" data-toc-modified-id=\"Сравнение-модели-14.3\"><span class=\"toc-item-num\">14.3&nbsp;&nbsp;</span>Сравнение модели</a></span></li><li><span><a href=\"#Выводы-по-моделям\" data-toc-modified-id=\"Выводы-по-моделям-14.4\"><span class=\"toc-item-num\">14.4&nbsp;&nbsp;</span>Выводы по моделям</a></span></li></ul></li></ul></div>"
   ]
  },
  {
   "cell_type": "markdown",
   "metadata": {},
   "source": [
    "# Восстановление золота из руды"
   ]
  },
  {
   "cell_type": "markdown",
   "metadata": {
    "tags": []
   },
   "source": [
    "Подготовьте прототип модели машинного обучения для «Цифры». Компания разрабатывает решения для эффективной работы промышленных предприятий.\n",
    "\n",
    "Модель должна предсказать коэффициент восстановления золота из золотосодержащей руды. Используйте данные с параметрами добычи и очистки. \n",
    "\n",
    "Модель поможет оптимизировать производство, чтобы не запускать предприятие с убыточными характеристиками.\n",
    "\n",
    "Вам нужно:\n",
    "\n",
    "1. Подготовить данные;\n",
    "2. Провести исследовательский анализ данных;\n",
    "3. Построить и обучить модель.\n",
    "\n",
    "Чтобы выполнить проект, обращайтесь к библиотекам *pandas*, *matplotlib* и *sklearn.* Вам поможет их документация."
   ]
  },
  {
   "cell_type": "markdown",
   "metadata": {},
   "source": [
    "# Методы оценки работы"
   ]
  },
  {
   "cell_type": "markdown",
   "metadata": {},
   "source": [
    "## Метрика оценки"
   ]
  },
  {
   "cell_type": "markdown",
   "metadata": {
    "tags": []
   },
   "source": [
    "Метрика оценки качества будет считаться по формуле:\n",
    "$$\n",
    "  sMAPE = \\dfrac{1}{N}\\sum_{i=1}^n\\dfrac{|y_i - \\hat{y_i}|}{(|y_i| + |\\hat{y_i}|)/2} x 100%\n",
    "$$\n",
    "\n",
    ", где:\n",
    "- $$ y_i - $$ Значение  целевого признака для объекта с порядковым номером i в выборке, на которой измеряется качество\n",
    "- $$ \\hat{y_i} - $$  Значение предсказания для объекта с порядковым номером i, например, в тестовой выборке.\n",
    "- $$ N - $$ Количество объектов в выборке.\n",
    "- $$ \\sum_{i=1}^n - $$ Суммирование по всем объектам выборки (i меняется от 1 до N)."
   ]
  },
  {
   "cell_type": "markdown",
   "metadata": {},
   "source": [
    "Финальная метрика будет считаться по формуле: как `25% от sMAPE(rougher) + 75% от sMAPE(final)`"
   ]
  },
  {
   "cell_type": "markdown",
   "metadata": {},
   "source": [
    "## Расчет эффективности восстановления"
   ]
  },
  {
   "cell_type": "markdown",
   "metadata": {
    "tags": []
   },
   "source": [
    "Эффективность восстановления золота расчитывается по формуле:\n",
    "$$\n",
    "Recovery = \\dfrac{C x (F - T)}{F x (C - T)} x 100%\n",
    "$$\n",
    ", где:\n",
    "- C - доля золота в концентрате после флотации/очистки;\n",
    "- F - доля золота в сырье/концентрате до флотации/очистки;\n",
    "- T - доля золота в отвальных хвостах после флотации/очистки."
   ]
  },
  {
   "cell_type": "markdown",
   "metadata": {},
   "source": [
    "# Технологический процесс"
   ]
  },
  {
   "cell_type": "markdown",
   "metadata": {
    "tags": []
   },
   "source": [
    "Для решения поставленной задачи необзодимо понимание технологического процесса.  \n",
    "Технологический процесс состоит из шагов:\n",
    "- Флотация\n",
    "- Первый этап очистки\n",
    "- Второй этап очистки\n",
    "\n",
    "После каждого из технологического этапа выделяются отвальные хвосты как результат процесса.\n",
    "\n",
    "В таблице\n",
    "- Rougher feed — исходное сырье\n",
    "- Rougher additions (или reagent additions) — флотационные реагенты: Xanthate, Sulphate, Depressant \n",
    "- Xanthate — ксантогенат (промотер, или активатор флотации);\n",
    "- Sulphate — сульфат (на данном производстве сульфид натрия);\n",
    "- Depressant — депрессант (силикат натрия).\n",
    "- Rougher process (англ. «грубый процесс») — флотация\n",
    "- Rougher tails — отвальные хвосты\n",
    "- Float banks — флотационная установка\n",
    "- Cleaner process — очистка\n",
    "- Rougher Au — черновой концентрат золота\n",
    "- Final Au — финальный концентрат золота"
   ]
  },
  {
   "cell_type": "markdown",
   "metadata": {
    "tags": []
   },
   "source": [
    "# Подготовка данных"
   ]
  },
  {
   "cell_type": "markdown",
   "metadata": {},
   "source": [
    "## Импорт библиотек"
   ]
  },
  {
   "cell_type": "code",
   "execution_count": 1,
   "metadata": {},
   "outputs": [],
   "source": [
    "import pandas as pd\n",
    "import numpy as np\n",
    "#import ydata_profiling\n",
    "import matplotlib.pyplot as plt\n",
    "import seaborn as sns\n",
    "from scipy.stats import mannwhitneyu\n",
    "from sklearn.metrics import mean_absolute_error\n",
    "from sklearn.linear_model import LinearRegression\n",
    "from sklearn.model_selection import cross_val_score\n",
    "from sklearn.model_selection import cross_val_predict\n",
    "from sklearn.metrics import fbeta_score, make_scorer\n",
    "from sklearn.neighbors import KNeighborsRegressor\n",
    "from sklearn.tree import DecisionTreeRegressor\n",
    "from sklearn import svm\n",
    "from sklearn.dummy import DummyRegressor"
   ]
  },
  {
   "cell_type": "markdown",
   "metadata": {},
   "source": [
    "## Импорт данных"
   ]
  },
  {
   "cell_type": "code",
   "execution_count": 2,
   "metadata": {},
   "outputs": [],
   "source": [
    "try:\n",
    "    train = pd.read_csv('/Users/samolinovkonstantin/Desktop/IT/Yandex/sborn/Сборный 2/gold_industry_train.csv')\n",
    "except:\n",
    "    train = pd.read_csv('/datasets/gold_industry_train.csv')"
   ]
  },
  {
   "cell_type": "code",
   "execution_count": 3,
   "metadata": {},
   "outputs": [],
   "source": [
    "try:\n",
    "    full = pd.read_csv('/Users/samolinovkonstantin/Desktop/IT/Yandex/sborn/Сборный 2/gold_industry_full.csv')\n",
    "except:\n",
    "    full = pd.read_csv('/datasets/gold_industry_full.csv')"
   ]
  },
  {
   "cell_type": "code",
   "execution_count": 4,
   "metadata": {},
   "outputs": [],
   "source": [
    "try:\n",
    "    test = pd.read_csv('/Users/samolinovkonstantin/Desktop/IT/Yandex/sborn/Сборный 2/gold_industry_test.csv')\n",
    "except:\n",
    "    test = pd.read_csv('/datasets/gold_industry_test.csv')"
   ]
  },
  {
   "cell_type": "markdown",
   "metadata": {},
   "source": [
    "## Анализ данных"
   ]
  },
  {
   "cell_type": "markdown",
   "metadata": {},
   "source": [
    "### Первичный взгляд на данные"
   ]
  },
  {
   "cell_type": "code",
   "execution_count": 5,
   "metadata": {
    "tags": []
   },
   "outputs": [],
   "source": [
    "data_sets = [full, train, test]\n",
    "names = [full, train, test]"
   ]
  },
  {
   "cell_type": "markdown",
   "metadata": {
    "tags": []
   },
   "source": [
    "#### Первичный вывод таблиц"
   ]
  },
  {
   "cell_type": "code",
   "execution_count": 6,
   "metadata": {
    "tags": []
   },
   "outputs": [
    {
     "data": {
      "text/html": [
       "<div>\n",
       "<style scoped>\n",
       "    .dataframe tbody tr th:only-of-type {\n",
       "        vertical-align: middle;\n",
       "    }\n",
       "\n",
       "    .dataframe tbody tr th {\n",
       "        vertical-align: top;\n",
       "    }\n",
       "\n",
       "    .dataframe thead th {\n",
       "        text-align: right;\n",
       "    }\n",
       "</style>\n",
       "<table border=\"1\" class=\"dataframe\">\n",
       "  <thead>\n",
       "    <tr style=\"text-align: right;\">\n",
       "      <th></th>\n",
       "      <th>date</th>\n",
       "      <th>rougher.input.feed_au</th>\n",
       "      <th>rougher.input.feed_ag</th>\n",
       "      <th>rougher.input.feed_pb</th>\n",
       "      <th>rougher.input.feed_sol</th>\n",
       "      <th>rougher.input.feed_rate</th>\n",
       "      <th>rougher.input.feed_size</th>\n",
       "      <th>rougher.input.floatbank10_sulfate</th>\n",
       "      <th>rougher.input.floatbank10_xanthate</th>\n",
       "      <th>rougher.state.floatbank10_a_air</th>\n",
       "      <th>...</th>\n",
       "      <th>secondary_cleaner.output.tail_sol</th>\n",
       "      <th>final.output.concentrate_au</th>\n",
       "      <th>final.output.concentrate_ag</th>\n",
       "      <th>final.output.concentrate_pb</th>\n",
       "      <th>final.output.concentrate_sol</th>\n",
       "      <th>final.output.recovery</th>\n",
       "      <th>final.output.tail_au</th>\n",
       "      <th>final.output.tail_ag</th>\n",
       "      <th>final.output.tail_pb</th>\n",
       "      <th>final.output.tail_sol</th>\n",
       "    </tr>\n",
       "  </thead>\n",
       "  <tbody>\n",
       "    <tr>\n",
       "      <th>0</th>\n",
       "      <td>2016-01-15 00:00:00</td>\n",
       "      <td>6.486150</td>\n",
       "      <td>6.100378</td>\n",
       "      <td>2.284912</td>\n",
       "      <td>36.808594</td>\n",
       "      <td>523.546326</td>\n",
       "      <td>55.486599</td>\n",
       "      <td>11.986616</td>\n",
       "      <td>6.007990</td>\n",
       "      <td>999.706909</td>\n",
       "      <td>...</td>\n",
       "      <td>8.764648</td>\n",
       "      <td>42.192020</td>\n",
       "      <td>6.055403</td>\n",
       "      <td>9.889648</td>\n",
       "      <td>5.507324</td>\n",
       "      <td>70.541216</td>\n",
       "      <td>2.143149</td>\n",
       "      <td>10.411962</td>\n",
       "      <td>0.895447</td>\n",
       "      <td>16.904297</td>\n",
       "    </tr>\n",
       "    <tr>\n",
       "      <th>1</th>\n",
       "      <td>2016-01-15 01:00:00</td>\n",
       "      <td>6.478583</td>\n",
       "      <td>6.161113</td>\n",
       "      <td>2.266033</td>\n",
       "      <td>35.753385</td>\n",
       "      <td>525.290581</td>\n",
       "      <td>57.278666</td>\n",
       "      <td>11.971193</td>\n",
       "      <td>6.005766</td>\n",
       "      <td>1000.286398</td>\n",
       "      <td>...</td>\n",
       "      <td>9.001494</td>\n",
       "      <td>42.701629</td>\n",
       "      <td>6.029369</td>\n",
       "      <td>9.968944</td>\n",
       "      <td>5.257781</td>\n",
       "      <td>69.266198</td>\n",
       "      <td>2.224930</td>\n",
       "      <td>10.462676</td>\n",
       "      <td>0.927452</td>\n",
       "      <td>16.634514</td>\n",
       "    </tr>\n",
       "    <tr>\n",
       "      <th>2</th>\n",
       "      <td>2016-01-15 02:00:00</td>\n",
       "      <td>6.362222</td>\n",
       "      <td>6.116455</td>\n",
       "      <td>2.159622</td>\n",
       "      <td>35.971630</td>\n",
       "      <td>530.026610</td>\n",
       "      <td>57.510649</td>\n",
       "      <td>11.920603</td>\n",
       "      <td>6.197377</td>\n",
       "      <td>999.719565</td>\n",
       "      <td>...</td>\n",
       "      <td>8.842896</td>\n",
       "      <td>42.657501</td>\n",
       "      <td>6.055926</td>\n",
       "      <td>10.213995</td>\n",
       "      <td>5.383759</td>\n",
       "      <td>68.116445</td>\n",
       "      <td>2.257889</td>\n",
       "      <td>10.507046</td>\n",
       "      <td>0.953716</td>\n",
       "      <td>16.208849</td>\n",
       "    </tr>\n",
       "    <tr>\n",
       "      <th>3</th>\n",
       "      <td>2016-01-15 03:00:00</td>\n",
       "      <td>6.118189</td>\n",
       "      <td>6.043309</td>\n",
       "      <td>2.037807</td>\n",
       "      <td>36.862241</td>\n",
       "      <td>542.590390</td>\n",
       "      <td>57.792734</td>\n",
       "      <td>11.630094</td>\n",
       "      <td>6.203177</td>\n",
       "      <td>999.814770</td>\n",
       "      <td>...</td>\n",
       "      <td>9.122857</td>\n",
       "      <td>42.689819</td>\n",
       "      <td>6.047977</td>\n",
       "      <td>9.977019</td>\n",
       "      <td>4.858634</td>\n",
       "      <td>68.347543</td>\n",
       "      <td>2.146849</td>\n",
       "      <td>10.422762</td>\n",
       "      <td>0.883763</td>\n",
       "      <td>16.532835</td>\n",
       "    </tr>\n",
       "    <tr>\n",
       "      <th>4</th>\n",
       "      <td>2016-01-15 04:00:00</td>\n",
       "      <td>5.663707</td>\n",
       "      <td>6.060915</td>\n",
       "      <td>1.786875</td>\n",
       "      <td>34.347666</td>\n",
       "      <td>540.531893</td>\n",
       "      <td>56.047189</td>\n",
       "      <td>10.957755</td>\n",
       "      <td>6.198826</td>\n",
       "      <td>999.678690</td>\n",
       "      <td>...</td>\n",
       "      <td>8.871028</td>\n",
       "      <td>42.774141</td>\n",
       "      <td>6.148599</td>\n",
       "      <td>10.142511</td>\n",
       "      <td>4.939416</td>\n",
       "      <td>66.927016</td>\n",
       "      <td>2.055292</td>\n",
       "      <td>10.360302</td>\n",
       "      <td>0.792826</td>\n",
       "      <td>16.525686</td>\n",
       "    </tr>\n",
       "  </tbody>\n",
       "</table>\n",
       "<p>5 rows × 87 columns</p>\n",
       "</div>"
      ],
      "text/plain": [
       "                  date  rougher.input.feed_au  rougher.input.feed_ag  \\\n",
       "0  2016-01-15 00:00:00               6.486150               6.100378   \n",
       "1  2016-01-15 01:00:00               6.478583               6.161113   \n",
       "2  2016-01-15 02:00:00               6.362222               6.116455   \n",
       "3  2016-01-15 03:00:00               6.118189               6.043309   \n",
       "4  2016-01-15 04:00:00               5.663707               6.060915   \n",
       "\n",
       "   rougher.input.feed_pb  rougher.input.feed_sol  rougher.input.feed_rate  \\\n",
       "0               2.284912               36.808594               523.546326   \n",
       "1               2.266033               35.753385               525.290581   \n",
       "2               2.159622               35.971630               530.026610   \n",
       "3               2.037807               36.862241               542.590390   \n",
       "4               1.786875               34.347666               540.531893   \n",
       "\n",
       "   rougher.input.feed_size  rougher.input.floatbank10_sulfate  \\\n",
       "0                55.486599                          11.986616   \n",
       "1                57.278666                          11.971193   \n",
       "2                57.510649                          11.920603   \n",
       "3                57.792734                          11.630094   \n",
       "4                56.047189                          10.957755   \n",
       "\n",
       "   rougher.input.floatbank10_xanthate  rougher.state.floatbank10_a_air  ...  \\\n",
       "0                            6.007990                       999.706909  ...   \n",
       "1                            6.005766                      1000.286398  ...   \n",
       "2                            6.197377                       999.719565  ...   \n",
       "3                            6.203177                       999.814770  ...   \n",
       "4                            6.198826                       999.678690  ...   \n",
       "\n",
       "   secondary_cleaner.output.tail_sol  final.output.concentrate_au  \\\n",
       "0                           8.764648                    42.192020   \n",
       "1                           9.001494                    42.701629   \n",
       "2                           8.842896                    42.657501   \n",
       "3                           9.122857                    42.689819   \n",
       "4                           8.871028                    42.774141   \n",
       "\n",
       "   final.output.concentrate_ag  final.output.concentrate_pb  \\\n",
       "0                     6.055403                     9.889648   \n",
       "1                     6.029369                     9.968944   \n",
       "2                     6.055926                    10.213995   \n",
       "3                     6.047977                     9.977019   \n",
       "4                     6.148599                    10.142511   \n",
       "\n",
       "   final.output.concentrate_sol  final.output.recovery  final.output.tail_au  \\\n",
       "0                      5.507324              70.541216              2.143149   \n",
       "1                      5.257781              69.266198              2.224930   \n",
       "2                      5.383759              68.116445              2.257889   \n",
       "3                      4.858634              68.347543              2.146849   \n",
       "4                      4.939416              66.927016              2.055292   \n",
       "\n",
       "   final.output.tail_ag  final.output.tail_pb  final.output.tail_sol  \n",
       "0             10.411962              0.895447              16.904297  \n",
       "1             10.462676              0.927452              16.634514  \n",
       "2             10.507046              0.953716              16.208849  \n",
       "3             10.422762              0.883763              16.532835  \n",
       "4             10.360302              0.792826              16.525686  \n",
       "\n",
       "[5 rows x 87 columns]"
      ]
     },
     "metadata": {},
     "output_type": "display_data"
    },
    {
     "name": "stdout",
     "output_type": "stream",
     "text": [
      "*************************************************************************************\n"
     ]
    },
    {
     "data": {
      "text/html": [
       "<div>\n",
       "<style scoped>\n",
       "    .dataframe tbody tr th:only-of-type {\n",
       "        vertical-align: middle;\n",
       "    }\n",
       "\n",
       "    .dataframe tbody tr th {\n",
       "        vertical-align: top;\n",
       "    }\n",
       "\n",
       "    .dataframe thead th {\n",
       "        text-align: right;\n",
       "    }\n",
       "</style>\n",
       "<table border=\"1\" class=\"dataframe\">\n",
       "  <thead>\n",
       "    <tr style=\"text-align: right;\">\n",
       "      <th></th>\n",
       "      <th>date</th>\n",
       "      <th>rougher.input.feed_au</th>\n",
       "      <th>rougher.input.feed_ag</th>\n",
       "      <th>rougher.input.feed_pb</th>\n",
       "      <th>rougher.input.feed_sol</th>\n",
       "      <th>rougher.input.feed_rate</th>\n",
       "      <th>rougher.input.feed_size</th>\n",
       "      <th>rougher.input.floatbank10_sulfate</th>\n",
       "      <th>rougher.input.floatbank10_xanthate</th>\n",
       "      <th>rougher.state.floatbank10_a_air</th>\n",
       "      <th>...</th>\n",
       "      <th>secondary_cleaner.output.tail_sol</th>\n",
       "      <th>final.output.concentrate_au</th>\n",
       "      <th>final.output.concentrate_ag</th>\n",
       "      <th>final.output.concentrate_pb</th>\n",
       "      <th>final.output.concentrate_sol</th>\n",
       "      <th>final.output.recovery</th>\n",
       "      <th>final.output.tail_au</th>\n",
       "      <th>final.output.tail_ag</th>\n",
       "      <th>final.output.tail_pb</th>\n",
       "      <th>final.output.tail_sol</th>\n",
       "    </tr>\n",
       "  </thead>\n",
       "  <tbody>\n",
       "    <tr>\n",
       "      <th>0</th>\n",
       "      <td>2016-01-15 00:00:00</td>\n",
       "      <td>6.486150</td>\n",
       "      <td>6.100378</td>\n",
       "      <td>2.284912</td>\n",
       "      <td>36.808594</td>\n",
       "      <td>523.546326</td>\n",
       "      <td>55.486599</td>\n",
       "      <td>11.986616</td>\n",
       "      <td>6.007990</td>\n",
       "      <td>999.706909</td>\n",
       "      <td>...</td>\n",
       "      <td>8.764648</td>\n",
       "      <td>42.192020</td>\n",
       "      <td>6.055403</td>\n",
       "      <td>9.889648</td>\n",
       "      <td>5.507324</td>\n",
       "      <td>70.541216</td>\n",
       "      <td>2.143149</td>\n",
       "      <td>10.411962</td>\n",
       "      <td>0.895447</td>\n",
       "      <td>16.904297</td>\n",
       "    </tr>\n",
       "    <tr>\n",
       "      <th>1</th>\n",
       "      <td>2016-01-15 01:00:00</td>\n",
       "      <td>6.478583</td>\n",
       "      <td>6.161113</td>\n",
       "      <td>2.266033</td>\n",
       "      <td>35.753385</td>\n",
       "      <td>525.290581</td>\n",
       "      <td>57.278666</td>\n",
       "      <td>11.971193</td>\n",
       "      <td>6.005766</td>\n",
       "      <td>1000.286398</td>\n",
       "      <td>...</td>\n",
       "      <td>9.001494</td>\n",
       "      <td>42.701629</td>\n",
       "      <td>6.029369</td>\n",
       "      <td>9.968944</td>\n",
       "      <td>5.257781</td>\n",
       "      <td>69.266198</td>\n",
       "      <td>2.224930</td>\n",
       "      <td>10.462676</td>\n",
       "      <td>0.927452</td>\n",
       "      <td>16.634514</td>\n",
       "    </tr>\n",
       "    <tr>\n",
       "      <th>2</th>\n",
       "      <td>2016-01-15 02:00:00</td>\n",
       "      <td>6.362222</td>\n",
       "      <td>6.116455</td>\n",
       "      <td>2.159622</td>\n",
       "      <td>35.971630</td>\n",
       "      <td>530.026610</td>\n",
       "      <td>57.510649</td>\n",
       "      <td>11.920603</td>\n",
       "      <td>6.197377</td>\n",
       "      <td>999.719565</td>\n",
       "      <td>...</td>\n",
       "      <td>8.842896</td>\n",
       "      <td>42.657501</td>\n",
       "      <td>6.055926</td>\n",
       "      <td>10.213995</td>\n",
       "      <td>5.383759</td>\n",
       "      <td>68.116445</td>\n",
       "      <td>2.257889</td>\n",
       "      <td>10.507046</td>\n",
       "      <td>0.953716</td>\n",
       "      <td>16.208849</td>\n",
       "    </tr>\n",
       "    <tr>\n",
       "      <th>3</th>\n",
       "      <td>2016-01-15 03:00:00</td>\n",
       "      <td>6.118189</td>\n",
       "      <td>6.043309</td>\n",
       "      <td>2.037807</td>\n",
       "      <td>36.862241</td>\n",
       "      <td>542.590390</td>\n",
       "      <td>57.792734</td>\n",
       "      <td>11.630094</td>\n",
       "      <td>6.203177</td>\n",
       "      <td>999.814770</td>\n",
       "      <td>...</td>\n",
       "      <td>9.122857</td>\n",
       "      <td>42.689819</td>\n",
       "      <td>6.047977</td>\n",
       "      <td>9.977019</td>\n",
       "      <td>4.858634</td>\n",
       "      <td>68.347543</td>\n",
       "      <td>2.146849</td>\n",
       "      <td>10.422762</td>\n",
       "      <td>0.883763</td>\n",
       "      <td>16.532835</td>\n",
       "    </tr>\n",
       "    <tr>\n",
       "      <th>4</th>\n",
       "      <td>2016-01-15 04:00:00</td>\n",
       "      <td>5.663707</td>\n",
       "      <td>6.060915</td>\n",
       "      <td>1.786875</td>\n",
       "      <td>34.347666</td>\n",
       "      <td>540.531893</td>\n",
       "      <td>56.047189</td>\n",
       "      <td>10.957755</td>\n",
       "      <td>6.198826</td>\n",
       "      <td>999.678690</td>\n",
       "      <td>...</td>\n",
       "      <td>8.871028</td>\n",
       "      <td>42.774141</td>\n",
       "      <td>6.148599</td>\n",
       "      <td>10.142511</td>\n",
       "      <td>4.939416</td>\n",
       "      <td>66.927016</td>\n",
       "      <td>2.055292</td>\n",
       "      <td>10.360302</td>\n",
       "      <td>0.792826</td>\n",
       "      <td>16.525686</td>\n",
       "    </tr>\n",
       "  </tbody>\n",
       "</table>\n",
       "<p>5 rows × 87 columns</p>\n",
       "</div>"
      ],
      "text/plain": [
       "                  date  rougher.input.feed_au  rougher.input.feed_ag  \\\n",
       "0  2016-01-15 00:00:00               6.486150               6.100378   \n",
       "1  2016-01-15 01:00:00               6.478583               6.161113   \n",
       "2  2016-01-15 02:00:00               6.362222               6.116455   \n",
       "3  2016-01-15 03:00:00               6.118189               6.043309   \n",
       "4  2016-01-15 04:00:00               5.663707               6.060915   \n",
       "\n",
       "   rougher.input.feed_pb  rougher.input.feed_sol  rougher.input.feed_rate  \\\n",
       "0               2.284912               36.808594               523.546326   \n",
       "1               2.266033               35.753385               525.290581   \n",
       "2               2.159622               35.971630               530.026610   \n",
       "3               2.037807               36.862241               542.590390   \n",
       "4               1.786875               34.347666               540.531893   \n",
       "\n",
       "   rougher.input.feed_size  rougher.input.floatbank10_sulfate  \\\n",
       "0                55.486599                          11.986616   \n",
       "1                57.278666                          11.971193   \n",
       "2                57.510649                          11.920603   \n",
       "3                57.792734                          11.630094   \n",
       "4                56.047189                          10.957755   \n",
       "\n",
       "   rougher.input.floatbank10_xanthate  rougher.state.floatbank10_a_air  ...  \\\n",
       "0                            6.007990                       999.706909  ...   \n",
       "1                            6.005766                      1000.286398  ...   \n",
       "2                            6.197377                       999.719565  ...   \n",
       "3                            6.203177                       999.814770  ...   \n",
       "4                            6.198826                       999.678690  ...   \n",
       "\n",
       "   secondary_cleaner.output.tail_sol  final.output.concentrate_au  \\\n",
       "0                           8.764648                    42.192020   \n",
       "1                           9.001494                    42.701629   \n",
       "2                           8.842896                    42.657501   \n",
       "3                           9.122857                    42.689819   \n",
       "4                           8.871028                    42.774141   \n",
       "\n",
       "   final.output.concentrate_ag  final.output.concentrate_pb  \\\n",
       "0                     6.055403                     9.889648   \n",
       "1                     6.029369                     9.968944   \n",
       "2                     6.055926                    10.213995   \n",
       "3                     6.047977                     9.977019   \n",
       "4                     6.148599                    10.142511   \n",
       "\n",
       "   final.output.concentrate_sol  final.output.recovery  final.output.tail_au  \\\n",
       "0                      5.507324              70.541216              2.143149   \n",
       "1                      5.257781              69.266198              2.224930   \n",
       "2                      5.383759              68.116445              2.257889   \n",
       "3                      4.858634              68.347543              2.146849   \n",
       "4                      4.939416              66.927016              2.055292   \n",
       "\n",
       "   final.output.tail_ag  final.output.tail_pb  final.output.tail_sol  \n",
       "0             10.411962              0.895447              16.904297  \n",
       "1             10.462676              0.927452              16.634514  \n",
       "2             10.507046              0.953716              16.208849  \n",
       "3             10.422762              0.883763              16.532835  \n",
       "4             10.360302              0.792826              16.525686  \n",
       "\n",
       "[5 rows x 87 columns]"
      ]
     },
     "metadata": {},
     "output_type": "display_data"
    },
    {
     "name": "stdout",
     "output_type": "stream",
     "text": [
      "*************************************************************************************\n"
     ]
    },
    {
     "data": {
      "text/html": [
       "<div>\n",
       "<style scoped>\n",
       "    .dataframe tbody tr th:only-of-type {\n",
       "        vertical-align: middle;\n",
       "    }\n",
       "\n",
       "    .dataframe tbody tr th {\n",
       "        vertical-align: top;\n",
       "    }\n",
       "\n",
       "    .dataframe thead th {\n",
       "        text-align: right;\n",
       "    }\n",
       "</style>\n",
       "<table border=\"1\" class=\"dataframe\">\n",
       "  <thead>\n",
       "    <tr style=\"text-align: right;\">\n",
       "      <th></th>\n",
       "      <th>date</th>\n",
       "      <th>rougher.input.feed_au</th>\n",
       "      <th>rougher.input.feed_ag</th>\n",
       "      <th>rougher.input.feed_pb</th>\n",
       "      <th>rougher.input.feed_sol</th>\n",
       "      <th>rougher.input.feed_rate</th>\n",
       "      <th>rougher.input.feed_size</th>\n",
       "      <th>rougher.input.floatbank10_sulfate</th>\n",
       "      <th>rougher.input.floatbank10_xanthate</th>\n",
       "      <th>rougher.state.floatbank10_a_air</th>\n",
       "      <th>...</th>\n",
       "      <th>secondary_cleaner.state.floatbank4_a_air</th>\n",
       "      <th>secondary_cleaner.state.floatbank4_a_level</th>\n",
       "      <th>secondary_cleaner.state.floatbank4_b_air</th>\n",
       "      <th>secondary_cleaner.state.floatbank4_b_level</th>\n",
       "      <th>secondary_cleaner.state.floatbank5_a_air</th>\n",
       "      <th>secondary_cleaner.state.floatbank5_a_level</th>\n",
       "      <th>secondary_cleaner.state.floatbank5_b_air</th>\n",
       "      <th>secondary_cleaner.state.floatbank5_b_level</th>\n",
       "      <th>secondary_cleaner.state.floatbank6_a_air</th>\n",
       "      <th>secondary_cleaner.state.floatbank6_a_level</th>\n",
       "    </tr>\n",
       "  </thead>\n",
       "  <tbody>\n",
       "    <tr>\n",
       "      <th>0</th>\n",
       "      <td>2017-12-09 14:59:59</td>\n",
       "      <td>4.365491</td>\n",
       "      <td>6.158718</td>\n",
       "      <td>3.875727</td>\n",
       "      <td>39.135119</td>\n",
       "      <td>555.820208</td>\n",
       "      <td>94.544358</td>\n",
       "      <td>6.146982</td>\n",
       "      <td>9.308612</td>\n",
       "      <td>1196.238112</td>\n",
       "      <td>...</td>\n",
       "      <td>23.018622</td>\n",
       "      <td>-500.492702</td>\n",
       "      <td>20.020205</td>\n",
       "      <td>-500.220296</td>\n",
       "      <td>17.963512</td>\n",
       "      <td>-499.939490</td>\n",
       "      <td>12.990306</td>\n",
       "      <td>-500.080993</td>\n",
       "      <td>19.990336</td>\n",
       "      <td>-499.191575</td>\n",
       "    </tr>\n",
       "    <tr>\n",
       "      <th>1</th>\n",
       "      <td>2017-12-09 15:59:59</td>\n",
       "      <td>4.362781</td>\n",
       "      <td>6.048130</td>\n",
       "      <td>3.902537</td>\n",
       "      <td>39.713906</td>\n",
       "      <td>544.731687</td>\n",
       "      <td>123.742430</td>\n",
       "      <td>6.210119</td>\n",
       "      <td>9.297709</td>\n",
       "      <td>1201.904177</td>\n",
       "      <td>...</td>\n",
       "      <td>23.024963</td>\n",
       "      <td>-501.153409</td>\n",
       "      <td>20.054122</td>\n",
       "      <td>-500.314711</td>\n",
       "      <td>17.979515</td>\n",
       "      <td>-499.272871</td>\n",
       "      <td>12.992404</td>\n",
       "      <td>-499.976268</td>\n",
       "      <td>20.013986</td>\n",
       "      <td>-500.625471</td>\n",
       "    </tr>\n",
       "    <tr>\n",
       "      <th>2</th>\n",
       "      <td>2017-12-09 16:59:59</td>\n",
       "      <td>5.081681</td>\n",
       "      <td>6.082745</td>\n",
       "      <td>4.564078</td>\n",
       "      <td>37.208683</td>\n",
       "      <td>558.155110</td>\n",
       "      <td>82.610855</td>\n",
       "      <td>7.363824</td>\n",
       "      <td>9.003562</td>\n",
       "      <td>1200.826926</td>\n",
       "      <td>...</td>\n",
       "      <td>22.993827</td>\n",
       "      <td>-501.559663</td>\n",
       "      <td>20.029144</td>\n",
       "      <td>-500.000662</td>\n",
       "      <td>18.012723</td>\n",
       "      <td>-500.024764</td>\n",
       "      <td>13.016445</td>\n",
       "      <td>-500.058432</td>\n",
       "      <td>19.973767</td>\n",
       "      <td>-501.394155</td>\n",
       "    </tr>\n",
       "    <tr>\n",
       "      <th>3</th>\n",
       "      <td>2017-12-09 17:59:59</td>\n",
       "      <td>5.145949</td>\n",
       "      <td>6.084374</td>\n",
       "      <td>4.768124</td>\n",
       "      <td>36.808874</td>\n",
       "      <td>539.713765</td>\n",
       "      <td>77.984784</td>\n",
       "      <td>6.927072</td>\n",
       "      <td>8.955597</td>\n",
       "      <td>1199.292489</td>\n",
       "      <td>...</td>\n",
       "      <td>23.032807</td>\n",
       "      <td>-501.287889</td>\n",
       "      <td>19.977466</td>\n",
       "      <td>-500.159903</td>\n",
       "      <td>17.980463</td>\n",
       "      <td>-500.504602</td>\n",
       "      <td>12.949071</td>\n",
       "      <td>-500.009937</td>\n",
       "      <td>20.010332</td>\n",
       "      <td>-508.337973</td>\n",
       "    </tr>\n",
       "    <tr>\n",
       "      <th>4</th>\n",
       "      <td>2017-12-09 18:59:59</td>\n",
       "      <td>5.735249</td>\n",
       "      <td>6.165220</td>\n",
       "      <td>4.512346</td>\n",
       "      <td>37.810642</td>\n",
       "      <td>558.713584</td>\n",
       "      <td>86.434874</td>\n",
       "      <td>7.823471</td>\n",
       "      <td>7.490356</td>\n",
       "      <td>1198.005449</td>\n",
       "      <td>...</td>\n",
       "      <td>23.001911</td>\n",
       "      <td>-499.947838</td>\n",
       "      <td>20.023735</td>\n",
       "      <td>-499.713680</td>\n",
       "      <td>17.990955</td>\n",
       "      <td>-500.334769</td>\n",
       "      <td>13.007523</td>\n",
       "      <td>-499.968459</td>\n",
       "      <td>19.995999</td>\n",
       "      <td>-499.788805</td>\n",
       "    </tr>\n",
       "  </tbody>\n",
       "</table>\n",
       "<p>5 rows × 53 columns</p>\n",
       "</div>"
      ],
      "text/plain": [
       "                  date  rougher.input.feed_au  rougher.input.feed_ag  \\\n",
       "0  2017-12-09 14:59:59               4.365491               6.158718   \n",
       "1  2017-12-09 15:59:59               4.362781               6.048130   \n",
       "2  2017-12-09 16:59:59               5.081681               6.082745   \n",
       "3  2017-12-09 17:59:59               5.145949               6.084374   \n",
       "4  2017-12-09 18:59:59               5.735249               6.165220   \n",
       "\n",
       "   rougher.input.feed_pb  rougher.input.feed_sol  rougher.input.feed_rate  \\\n",
       "0               3.875727               39.135119               555.820208   \n",
       "1               3.902537               39.713906               544.731687   \n",
       "2               4.564078               37.208683               558.155110   \n",
       "3               4.768124               36.808874               539.713765   \n",
       "4               4.512346               37.810642               558.713584   \n",
       "\n",
       "   rougher.input.feed_size  rougher.input.floatbank10_sulfate  \\\n",
       "0                94.544358                           6.146982   \n",
       "1               123.742430                           6.210119   \n",
       "2                82.610855                           7.363824   \n",
       "3                77.984784                           6.927072   \n",
       "4                86.434874                           7.823471   \n",
       "\n",
       "   rougher.input.floatbank10_xanthate  rougher.state.floatbank10_a_air  ...  \\\n",
       "0                            9.308612                      1196.238112  ...   \n",
       "1                            9.297709                      1201.904177  ...   \n",
       "2                            9.003562                      1200.826926  ...   \n",
       "3                            8.955597                      1199.292489  ...   \n",
       "4                            7.490356                      1198.005449  ...   \n",
       "\n",
       "   secondary_cleaner.state.floatbank4_a_air  \\\n",
       "0                                 23.018622   \n",
       "1                                 23.024963   \n",
       "2                                 22.993827   \n",
       "3                                 23.032807   \n",
       "4                                 23.001911   \n",
       "\n",
       "   secondary_cleaner.state.floatbank4_a_level  \\\n",
       "0                                 -500.492702   \n",
       "1                                 -501.153409   \n",
       "2                                 -501.559663   \n",
       "3                                 -501.287889   \n",
       "4                                 -499.947838   \n",
       "\n",
       "   secondary_cleaner.state.floatbank4_b_air  \\\n",
       "0                                 20.020205   \n",
       "1                                 20.054122   \n",
       "2                                 20.029144   \n",
       "3                                 19.977466   \n",
       "4                                 20.023735   \n",
       "\n",
       "   secondary_cleaner.state.floatbank4_b_level  \\\n",
       "0                                 -500.220296   \n",
       "1                                 -500.314711   \n",
       "2                                 -500.000662   \n",
       "3                                 -500.159903   \n",
       "4                                 -499.713680   \n",
       "\n",
       "   secondary_cleaner.state.floatbank5_a_air  \\\n",
       "0                                 17.963512   \n",
       "1                                 17.979515   \n",
       "2                                 18.012723   \n",
       "3                                 17.980463   \n",
       "4                                 17.990955   \n",
       "\n",
       "   secondary_cleaner.state.floatbank5_a_level  \\\n",
       "0                                 -499.939490   \n",
       "1                                 -499.272871   \n",
       "2                                 -500.024764   \n",
       "3                                 -500.504602   \n",
       "4                                 -500.334769   \n",
       "\n",
       "   secondary_cleaner.state.floatbank5_b_air  \\\n",
       "0                                 12.990306   \n",
       "1                                 12.992404   \n",
       "2                                 13.016445   \n",
       "3                                 12.949071   \n",
       "4                                 13.007523   \n",
       "\n",
       "   secondary_cleaner.state.floatbank5_b_level  \\\n",
       "0                                 -500.080993   \n",
       "1                                 -499.976268   \n",
       "2                                 -500.058432   \n",
       "3                                 -500.009937   \n",
       "4                                 -499.968459   \n",
       "\n",
       "   secondary_cleaner.state.floatbank6_a_air  \\\n",
       "0                                 19.990336   \n",
       "1                                 20.013986   \n",
       "2                                 19.973767   \n",
       "3                                 20.010332   \n",
       "4                                 19.995999   \n",
       "\n",
       "   secondary_cleaner.state.floatbank6_a_level  \n",
       "0                                 -499.191575  \n",
       "1                                 -500.625471  \n",
       "2                                 -501.394155  \n",
       "3                                 -508.337973  \n",
       "4                                 -499.788805  \n",
       "\n",
       "[5 rows x 53 columns]"
      ]
     },
     "metadata": {},
     "output_type": "display_data"
    },
    {
     "name": "stdout",
     "output_type": "stream",
     "text": [
      "*************************************************************************************\n"
     ]
    }
   ],
   "source": [
    "for data in data_sets:\n",
    "    display(data.head())\n",
    "    print('*************************************************************************************')"
   ]
  },
  {
   "cell_type": "markdown",
   "metadata": {},
   "source": [
    "#### Информация о содержании столбцов"
   ]
  },
  {
   "cell_type": "code",
   "execution_count": 7,
   "metadata": {
    "tags": []
   },
   "outputs": [
    {
     "name": "stdout",
     "output_type": "stream",
     "text": [
      "<class 'pandas.core.frame.DataFrame'>\n",
      "RangeIndex: 19439 entries, 0 to 19438\n",
      "Data columns (total 87 columns):\n",
      " #   Column                                              Non-Null Count  Dtype  \n",
      "---  ------                                              --------------  -----  \n",
      " 0   date                                                19439 non-null  object \n",
      " 1   rougher.input.feed_au                               19439 non-null  float64\n",
      " 2   rougher.input.feed_ag                               19439 non-null  float64\n",
      " 3   rougher.input.feed_pb                               19339 non-null  float64\n",
      " 4   rougher.input.feed_sol                              19340 non-null  float64\n",
      " 5   rougher.input.feed_rate                             19428 non-null  float64\n",
      " 6   rougher.input.feed_size                             19294 non-null  float64\n",
      " 7   rougher.input.floatbank10_sulfate                   19405 non-null  float64\n",
      " 8   rougher.input.floatbank10_xanthate                  19431 non-null  float64\n",
      " 9   rougher.state.floatbank10_a_air                     19438 non-null  float64\n",
      " 10  rougher.state.floatbank10_a_level                   19438 non-null  float64\n",
      " 11  rougher.state.floatbank10_b_air                     19438 non-null  float64\n",
      " 12  rougher.state.floatbank10_b_level                   19438 non-null  float64\n",
      " 13  rougher.state.floatbank10_c_air                     19438 non-null  float64\n",
      " 14  rougher.state.floatbank10_c_level                   19438 non-null  float64\n",
      " 15  rougher.state.floatbank10_d_air                     19439 non-null  float64\n",
      " 16  rougher.state.floatbank10_d_level                   19439 non-null  float64\n",
      " 17  rougher.state.floatbank10_e_air                     19003 non-null  float64\n",
      " 18  rougher.state.floatbank10_e_level                   19439 non-null  float64\n",
      " 19  rougher.state.floatbank10_f_air                     19439 non-null  float64\n",
      " 20  rougher.state.floatbank10_f_level                   19439 non-null  float64\n",
      " 21  rougher.input.floatbank11_sulfate                   19395 non-null  float64\n",
      " 22  rougher.input.floatbank11_xanthate                  18986 non-null  float64\n",
      " 23  rougher.calculation.sulfate_to_au_concentrate       19437 non-null  float64\n",
      " 24  rougher.calculation.floatbank10_sulfate_to_au_feed  19437 non-null  float64\n",
      " 25  rougher.calculation.floatbank11_sulfate_to_au_feed  19437 non-null  float64\n",
      " 26  rougher.calculation.au_pb_ratio                     19439 non-null  float64\n",
      " 27  rougher.output.concentrate_au                       19439 non-null  float64\n",
      " 28  rougher.output.concentrate_ag                       19439 non-null  float64\n",
      " 29  rougher.output.concentrate_pb                       19439 non-null  float64\n",
      " 30  rougher.output.concentrate_sol                      19416 non-null  float64\n",
      " 31  rougher.output.recovery                             19439 non-null  float64\n",
      " 32  rougher.output.tail_au                              19439 non-null  float64\n",
      " 33  rougher.output.tail_ag                              19438 non-null  float64\n",
      " 34  rougher.output.tail_pb                              19439 non-null  float64\n",
      " 35  rougher.output.tail_sol                             19439 non-null  float64\n",
      " 36  primary_cleaner.input.sulfate                       19415 non-null  float64\n",
      " 37  primary_cleaner.input.depressant                    19402 non-null  float64\n",
      " 38  primary_cleaner.input.feed_size                     19439 non-null  float64\n",
      " 39  primary_cleaner.input.xanthate                      19335 non-null  float64\n",
      " 40  primary_cleaner.state.floatbank8_a_air              19435 non-null  float64\n",
      " 41  primary_cleaner.state.floatbank8_a_level            19438 non-null  float64\n",
      " 42  primary_cleaner.state.floatbank8_b_air              19435 non-null  float64\n",
      " 43  primary_cleaner.state.floatbank8_b_level            19438 non-null  float64\n",
      " 44  primary_cleaner.state.floatbank8_c_air              19437 non-null  float64\n",
      " 45  primary_cleaner.state.floatbank8_c_level            19438 non-null  float64\n",
      " 46  primary_cleaner.state.floatbank8_d_air              19436 non-null  float64\n",
      " 47  primary_cleaner.state.floatbank8_d_level            19438 non-null  float64\n",
      " 48  primary_cleaner.output.concentrate_au               19439 non-null  float64\n",
      " 49  primary_cleaner.output.concentrate_ag               19439 non-null  float64\n",
      " 50  primary_cleaner.output.concentrate_pb               19323 non-null  float64\n",
      " 51  primary_cleaner.output.concentrate_sol              19069 non-null  float64\n",
      " 52  primary_cleaner.output.tail_au                      19439 non-null  float64\n",
      " 53  primary_cleaner.output.tail_ag                      19435 non-null  float64\n",
      " 54  primary_cleaner.output.tail_pb                      19418 non-null  float64\n",
      " 55  primary_cleaner.output.tail_sol                     19377 non-null  float64\n",
      " 56  secondary_cleaner.state.floatbank2_a_air            19219 non-null  float64\n",
      " 57  secondary_cleaner.state.floatbank2_a_level          19438 non-null  float64\n",
      " 58  secondary_cleaner.state.floatbank2_b_air            19416 non-null  float64\n",
      " 59  secondary_cleaner.state.floatbank2_b_level          19438 non-null  float64\n",
      " 60  secondary_cleaner.state.floatbank3_a_air            19426 non-null  float64\n",
      " 61  secondary_cleaner.state.floatbank3_a_level          19438 non-null  float64\n",
      " 62  secondary_cleaner.state.floatbank3_b_air            19438 non-null  float64\n",
      " 63  secondary_cleaner.state.floatbank3_b_level          19438 non-null  float64\n",
      " 64  secondary_cleaner.state.floatbank4_a_air            19433 non-null  float64\n",
      " 65  secondary_cleaner.state.floatbank4_a_level          19438 non-null  float64\n",
      " 66  secondary_cleaner.state.floatbank4_b_air            19438 non-null  float64\n",
      " 67  secondary_cleaner.state.floatbank4_b_level          19438 non-null  float64\n",
      " 68  secondary_cleaner.state.floatbank5_a_air            19438 non-null  float64\n",
      " 69  secondary_cleaner.state.floatbank5_a_level          19438 non-null  float64\n",
      " 70  secondary_cleaner.state.floatbank5_b_air            19438 non-null  float64\n",
      " 71  secondary_cleaner.state.floatbank5_b_level          19438 non-null  float64\n",
      " 72  secondary_cleaner.state.floatbank6_a_air            19437 non-null  float64\n",
      " 73  secondary_cleaner.state.floatbank6_a_level          19438 non-null  float64\n",
      " 74  secondary_cleaner.output.tail_au                    19439 non-null  float64\n",
      " 75  secondary_cleaner.output.tail_ag                    19437 non-null  float64\n",
      " 76  secondary_cleaner.output.tail_pb                    19427 non-null  float64\n",
      " 77  secondary_cleaner.output.tail_sol                   17691 non-null  float64\n",
      " 78  final.output.concentrate_au                         19439 non-null  float64\n",
      " 79  final.output.concentrate_ag                         19438 non-null  float64\n",
      " 80  final.output.concentrate_pb                         19438 non-null  float64\n",
      " 81  final.output.concentrate_sol                        19228 non-null  float64\n",
      " 82  final.output.recovery                               19439 non-null  float64\n",
      " 83  final.output.tail_au                                19439 non-null  float64\n",
      " 84  final.output.tail_ag                                19438 non-null  float64\n",
      " 85  final.output.tail_pb                                19338 non-null  float64\n",
      " 86  final.output.tail_sol                               19433 non-null  float64\n",
      "dtypes: float64(86), object(1)\n",
      "memory usage: 12.9+ MB\n"
     ]
    },
    {
     "data": {
      "text/plain": [
       "None"
      ]
     },
     "metadata": {},
     "output_type": "display_data"
    },
    {
     "name": "stdout",
     "output_type": "stream",
     "text": [
      "*************************************************************************************\n",
      "<class 'pandas.core.frame.DataFrame'>\n",
      "RangeIndex: 14579 entries, 0 to 14578\n",
      "Data columns (total 87 columns):\n",
      " #   Column                                              Non-Null Count  Dtype  \n",
      "---  ------                                              --------------  -----  \n",
      " 0   date                                                14579 non-null  object \n",
      " 1   rougher.input.feed_au                               14579 non-null  float64\n",
      " 2   rougher.input.feed_ag                               14579 non-null  float64\n",
      " 3   rougher.input.feed_pb                               14507 non-null  float64\n",
      " 4   rougher.input.feed_sol                              14502 non-null  float64\n",
      " 5   rougher.input.feed_rate                             14572 non-null  float64\n",
      " 6   rougher.input.feed_size                             14478 non-null  float64\n",
      " 7   rougher.input.floatbank10_sulfate                   14548 non-null  float64\n",
      " 8   rougher.input.floatbank10_xanthate                  14572 non-null  float64\n",
      " 9   rougher.state.floatbank10_a_air                     14579 non-null  float64\n",
      " 10  rougher.state.floatbank10_a_level                   14579 non-null  float64\n",
      " 11  rougher.state.floatbank10_b_air                     14579 non-null  float64\n",
      " 12  rougher.state.floatbank10_b_level                   14579 non-null  float64\n",
      " 13  rougher.state.floatbank10_c_air                     14579 non-null  float64\n",
      " 14  rougher.state.floatbank10_c_level                   14579 non-null  float64\n",
      " 15  rougher.state.floatbank10_d_air                     14579 non-null  float64\n",
      " 16  rougher.state.floatbank10_d_level                   14579 non-null  float64\n",
      " 17  rougher.state.floatbank10_e_air                     14150 non-null  float64\n",
      " 18  rougher.state.floatbank10_e_level                   14579 non-null  float64\n",
      " 19  rougher.state.floatbank10_f_air                     14579 non-null  float64\n",
      " 20  rougher.state.floatbank10_f_level                   14579 non-null  float64\n",
      " 21  rougher.input.floatbank11_sulfate                   14543 non-null  float64\n",
      " 22  rougher.input.floatbank11_xanthate                  14172 non-null  float64\n",
      " 23  rougher.calculation.sulfate_to_au_concentrate       14578 non-null  float64\n",
      " 24  rougher.calculation.floatbank10_sulfate_to_au_feed  14578 non-null  float64\n",
      " 25  rougher.calculation.floatbank11_sulfate_to_au_feed  14578 non-null  float64\n",
      " 26  rougher.calculation.au_pb_ratio                     14579 non-null  float64\n",
      " 27  rougher.output.concentrate_au                       14579 non-null  float64\n",
      " 28  rougher.output.concentrate_ag                       14579 non-null  float64\n",
      " 29  rougher.output.concentrate_pb                       14579 non-null  float64\n",
      " 30  rougher.output.concentrate_sol                      14561 non-null  float64\n",
      " 31  rougher.output.recovery                             14579 non-null  float64\n",
      " 32  rougher.output.tail_au                              14579 non-null  float64\n",
      " 33  rougher.output.tail_ag                              14578 non-null  float64\n",
      " 34  rougher.output.tail_pb                              14579 non-null  float64\n",
      " 35  rougher.output.tail_sol                             14579 non-null  float64\n",
      " 36  primary_cleaner.input.sulfate                       14556 non-null  float64\n",
      " 37  primary_cleaner.input.depressant                    14551 non-null  float64\n",
      " 38  primary_cleaner.input.feed_size                     14579 non-null  float64\n",
      " 39  primary_cleaner.input.xanthate                      14518 non-null  float64\n",
      " 40  primary_cleaner.state.floatbank8_a_air              14576 non-null  float64\n",
      " 41  primary_cleaner.state.floatbank8_a_level            14579 non-null  float64\n",
      " 42  primary_cleaner.state.floatbank8_b_air              14576 non-null  float64\n",
      " 43  primary_cleaner.state.floatbank8_b_level            14579 non-null  float64\n",
      " 44  primary_cleaner.state.floatbank8_c_air              14579 non-null  float64\n",
      " 45  primary_cleaner.state.floatbank8_c_level            14579 non-null  float64\n",
      " 46  primary_cleaner.state.floatbank8_d_air              14578 non-null  float64\n",
      " 47  primary_cleaner.state.floatbank8_d_level            14579 non-null  float64\n",
      " 48  primary_cleaner.output.concentrate_au               14579 non-null  float64\n",
      " 49  primary_cleaner.output.concentrate_ag               14579 non-null  float64\n",
      " 50  primary_cleaner.output.concentrate_pb               14491 non-null  float64\n",
      " 51  primary_cleaner.output.concentrate_sol              14314 non-null  float64\n",
      " 52  primary_cleaner.output.tail_au                      14579 non-null  float64\n",
      " 53  primary_cleaner.output.tail_ag                      14575 non-null  float64\n",
      " 54  primary_cleaner.output.tail_pb                      14573 non-null  float64\n",
      " 55  primary_cleaner.output.tail_sol                     14534 non-null  float64\n",
      " 56  secondary_cleaner.state.floatbank2_a_air            14485 non-null  float64\n",
      " 57  secondary_cleaner.state.floatbank2_a_level          14579 non-null  float64\n",
      " 58  secondary_cleaner.state.floatbank2_b_air            14557 non-null  float64\n",
      " 59  secondary_cleaner.state.floatbank2_b_level          14579 non-null  float64\n",
      " 60  secondary_cleaner.state.floatbank3_a_air            14567 non-null  float64\n",
      " 61  secondary_cleaner.state.floatbank3_a_level          14579 non-null  float64\n",
      " 62  secondary_cleaner.state.floatbank3_b_air            14579 non-null  float64\n",
      " 63  secondary_cleaner.state.floatbank3_b_level          14579 non-null  float64\n",
      " 64  secondary_cleaner.state.floatbank4_a_air            14574 non-null  float64\n",
      " 65  secondary_cleaner.state.floatbank4_a_level          14579 non-null  float64\n",
      " 66  secondary_cleaner.state.floatbank4_b_air            14579 non-null  float64\n",
      " 67  secondary_cleaner.state.floatbank4_b_level          14579 non-null  float64\n",
      " 68  secondary_cleaner.state.floatbank5_a_air            14579 non-null  float64\n",
      " 69  secondary_cleaner.state.floatbank5_a_level          14579 non-null  float64\n",
      " 70  secondary_cleaner.state.floatbank5_b_air            14579 non-null  float64\n",
      " 71  secondary_cleaner.state.floatbank5_b_level          14579 non-null  float64\n",
      " 72  secondary_cleaner.state.floatbank6_a_air            14578 non-null  float64\n",
      " 73  secondary_cleaner.state.floatbank6_a_level          14579 non-null  float64\n",
      " 74  secondary_cleaner.output.tail_au                    14579 non-null  float64\n",
      " 75  secondary_cleaner.output.tail_ag                    14578 non-null  float64\n",
      " 76  secondary_cleaner.output.tail_pb                    14575 non-null  float64\n",
      " 77  secondary_cleaner.output.tail_sol                   13659 non-null  float64\n",
      " 78  final.output.concentrate_au                         14579 non-null  float64\n",
      " 79  final.output.concentrate_ag                         14578 non-null  float64\n",
      " 80  final.output.concentrate_pb                         14578 non-null  float64\n",
      " 81  final.output.concentrate_sol                        14387 non-null  float64\n",
      " 82  final.output.recovery                               14579 non-null  float64\n",
      " 83  final.output.tail_au                                14579 non-null  float64\n",
      " 84  final.output.tail_ag                                14578 non-null  float64\n",
      " 85  final.output.tail_pb                                14504 non-null  float64\n",
      " 86  final.output.tail_sol                               14574 non-null  float64\n",
      "dtypes: float64(86), object(1)\n",
      "memory usage: 9.7+ MB\n"
     ]
    },
    {
     "data": {
      "text/plain": [
       "None"
      ]
     },
     "metadata": {},
     "output_type": "display_data"
    },
    {
     "name": "stdout",
     "output_type": "stream",
     "text": [
      "*************************************************************************************\n",
      "<class 'pandas.core.frame.DataFrame'>\n",
      "RangeIndex: 4860 entries, 0 to 4859\n",
      "Data columns (total 53 columns):\n",
      " #   Column                                      Non-Null Count  Dtype  \n",
      "---  ------                                      --------------  -----  \n",
      " 0   date                                        4860 non-null   object \n",
      " 1   rougher.input.feed_au                       4860 non-null   float64\n",
      " 2   rougher.input.feed_ag                       4860 non-null   float64\n",
      " 3   rougher.input.feed_pb                       4832 non-null   float64\n",
      " 4   rougher.input.feed_sol                      4838 non-null   float64\n",
      " 5   rougher.input.feed_rate                     4856 non-null   float64\n",
      " 6   rougher.input.feed_size                     4816 non-null   float64\n",
      " 7   rougher.input.floatbank10_sulfate           4857 non-null   float64\n",
      " 8   rougher.input.floatbank10_xanthate          4859 non-null   float64\n",
      " 9   rougher.state.floatbank10_a_air             4859 non-null   float64\n",
      " 10  rougher.state.floatbank10_a_level           4859 non-null   float64\n",
      " 11  rougher.state.floatbank10_b_air             4859 non-null   float64\n",
      " 12  rougher.state.floatbank10_b_level           4859 non-null   float64\n",
      " 13  rougher.state.floatbank10_c_air             4859 non-null   float64\n",
      " 14  rougher.state.floatbank10_c_level           4859 non-null   float64\n",
      " 15  rougher.state.floatbank10_d_air             4860 non-null   float64\n",
      " 16  rougher.state.floatbank10_d_level           4860 non-null   float64\n",
      " 17  rougher.state.floatbank10_e_air             4853 non-null   float64\n",
      " 18  rougher.state.floatbank10_e_level           4860 non-null   float64\n",
      " 19  rougher.state.floatbank10_f_air             4860 non-null   float64\n",
      " 20  rougher.state.floatbank10_f_level           4860 non-null   float64\n",
      " 21  rougher.input.floatbank11_sulfate           4852 non-null   float64\n",
      " 22  rougher.input.floatbank11_xanthate          4814 non-null   float64\n",
      " 23  primary_cleaner.input.sulfate               4859 non-null   float64\n",
      " 24  primary_cleaner.input.depressant            4851 non-null   float64\n",
      " 25  primary_cleaner.input.feed_size             4860 non-null   float64\n",
      " 26  primary_cleaner.input.xanthate              4817 non-null   float64\n",
      " 27  primary_cleaner.state.floatbank8_a_air      4859 non-null   float64\n",
      " 28  primary_cleaner.state.floatbank8_a_level    4859 non-null   float64\n",
      " 29  primary_cleaner.state.floatbank8_b_air      4859 non-null   float64\n",
      " 30  primary_cleaner.state.floatbank8_b_level    4859 non-null   float64\n",
      " 31  primary_cleaner.state.floatbank8_c_air      4858 non-null   float64\n",
      " 32  primary_cleaner.state.floatbank8_c_level    4859 non-null   float64\n",
      " 33  primary_cleaner.state.floatbank8_d_air      4858 non-null   float64\n",
      " 34  primary_cleaner.state.floatbank8_d_level    4859 non-null   float64\n",
      " 35  secondary_cleaner.state.floatbank2_a_air    4734 non-null   float64\n",
      " 36  secondary_cleaner.state.floatbank2_a_level  4859 non-null   float64\n",
      " 37  secondary_cleaner.state.floatbank2_b_air    4859 non-null   float64\n",
      " 38  secondary_cleaner.state.floatbank2_b_level  4859 non-null   float64\n",
      " 39  secondary_cleaner.state.floatbank3_a_air    4859 non-null   float64\n",
      " 40  secondary_cleaner.state.floatbank3_a_level  4859 non-null   float64\n",
      " 41  secondary_cleaner.state.floatbank3_b_air    4859 non-null   float64\n",
      " 42  secondary_cleaner.state.floatbank3_b_level  4859 non-null   float64\n",
      " 43  secondary_cleaner.state.floatbank4_a_air    4859 non-null   float64\n",
      " 44  secondary_cleaner.state.floatbank4_a_level  4859 non-null   float64\n",
      " 45  secondary_cleaner.state.floatbank4_b_air    4859 non-null   float64\n",
      " 46  secondary_cleaner.state.floatbank4_b_level  4859 non-null   float64\n",
      " 47  secondary_cleaner.state.floatbank5_a_air    4859 non-null   float64\n",
      " 48  secondary_cleaner.state.floatbank5_a_level  4859 non-null   float64\n",
      " 49  secondary_cleaner.state.floatbank5_b_air    4859 non-null   float64\n",
      " 50  secondary_cleaner.state.floatbank5_b_level  4859 non-null   float64\n",
      " 51  secondary_cleaner.state.floatbank6_a_air    4859 non-null   float64\n",
      " 52  secondary_cleaner.state.floatbank6_a_level  4859 non-null   float64\n",
      "dtypes: float64(52), object(1)\n",
      "memory usage: 2.0+ MB\n"
     ]
    },
    {
     "data": {
      "text/plain": [
       "None"
      ]
     },
     "metadata": {},
     "output_type": "display_data"
    },
    {
     "name": "stdout",
     "output_type": "stream",
     "text": [
      "*************************************************************************************\n"
     ]
    }
   ],
   "source": [
    "for data in data_sets:\n",
    "    display(data.info())\n",
    "    print('*************************************************************************************')"
   ]
  },
  {
   "cell_type": "markdown",
   "metadata": {},
   "source": [
    "#### Описание данных в столбцах"
   ]
  },
  {
   "cell_type": "code",
   "execution_count": 8,
   "metadata": {
    "tags": []
   },
   "outputs": [
    {
     "data": {
      "text/html": [
       "<div>\n",
       "<style scoped>\n",
       "    .dataframe tbody tr th:only-of-type {\n",
       "        vertical-align: middle;\n",
       "    }\n",
       "\n",
       "    .dataframe tbody tr th {\n",
       "        vertical-align: top;\n",
       "    }\n",
       "\n",
       "    .dataframe thead th {\n",
       "        text-align: right;\n",
       "    }\n",
       "</style>\n",
       "<table border=\"1\" class=\"dataframe\">\n",
       "  <thead>\n",
       "    <tr style=\"text-align: right;\">\n",
       "      <th></th>\n",
       "      <th>rougher.input.feed_au</th>\n",
       "      <th>rougher.input.feed_ag</th>\n",
       "      <th>rougher.input.feed_pb</th>\n",
       "      <th>rougher.input.feed_sol</th>\n",
       "      <th>rougher.input.feed_rate</th>\n",
       "      <th>rougher.input.feed_size</th>\n",
       "      <th>rougher.input.floatbank10_sulfate</th>\n",
       "      <th>rougher.input.floatbank10_xanthate</th>\n",
       "      <th>rougher.state.floatbank10_a_air</th>\n",
       "      <th>rougher.state.floatbank10_a_level</th>\n",
       "      <th>...</th>\n",
       "      <th>secondary_cleaner.output.tail_sol</th>\n",
       "      <th>final.output.concentrate_au</th>\n",
       "      <th>final.output.concentrate_ag</th>\n",
       "      <th>final.output.concentrate_pb</th>\n",
       "      <th>final.output.concentrate_sol</th>\n",
       "      <th>final.output.recovery</th>\n",
       "      <th>final.output.tail_au</th>\n",
       "      <th>final.output.tail_ag</th>\n",
       "      <th>final.output.tail_pb</th>\n",
       "      <th>final.output.tail_sol</th>\n",
       "    </tr>\n",
       "  </thead>\n",
       "  <tbody>\n",
       "    <tr>\n",
       "      <th>count</th>\n",
       "      <td>19439.000000</td>\n",
       "      <td>19439.000000</td>\n",
       "      <td>19339.000000</td>\n",
       "      <td>19340.000000</td>\n",
       "      <td>19428.000000</td>\n",
       "      <td>19294.000000</td>\n",
       "      <td>19405.000000</td>\n",
       "      <td>19431.000000</td>\n",
       "      <td>19438.000000</td>\n",
       "      <td>19438.000000</td>\n",
       "      <td>...</td>\n",
       "      <td>17691.000000</td>\n",
       "      <td>19439.000000</td>\n",
       "      <td>19438.000000</td>\n",
       "      <td>19438.000000</td>\n",
       "      <td>19228.000000</td>\n",
       "      <td>19439.000000</td>\n",
       "      <td>19439.000000</td>\n",
       "      <td>19438.000000</td>\n",
       "      <td>19338.000000</td>\n",
       "      <td>19433.000000</td>\n",
       "    </tr>\n",
       "    <tr>\n",
       "      <th>mean</th>\n",
       "      <td>8.266097</td>\n",
       "      <td>8.794927</td>\n",
       "      <td>3.598085</td>\n",
       "      <td>36.695114</td>\n",
       "      <td>478.320042</td>\n",
       "      <td>58.970310</td>\n",
       "      <td>12.334373</td>\n",
       "      <td>6.021474</td>\n",
       "      <td>1105.315068</td>\n",
       "      <td>-376.610690</td>\n",
       "      <td>...</td>\n",
       "      <td>7.167247</td>\n",
       "      <td>44.076513</td>\n",
       "      <td>5.168470</td>\n",
       "      <td>9.978895</td>\n",
       "      <td>9.501224</td>\n",
       "      <td>67.050208</td>\n",
       "      <td>3.042467</td>\n",
       "      <td>9.688589</td>\n",
       "      <td>2.705795</td>\n",
       "      <td>10.583728</td>\n",
       "    </tr>\n",
       "    <tr>\n",
       "      <th>std</th>\n",
       "      <td>1.955092</td>\n",
       "      <td>1.936847</td>\n",
       "      <td>1.049486</td>\n",
       "      <td>5.145445</td>\n",
       "      <td>105.373758</td>\n",
       "      <td>21.634478</td>\n",
       "      <td>3.427317</td>\n",
       "      <td>1.127263</td>\n",
       "      <td>160.826798</td>\n",
       "      <td>93.909667</td>\n",
       "      <td>...</td>\n",
       "      <td>3.916079</td>\n",
       "      <td>5.129784</td>\n",
       "      <td>1.372348</td>\n",
       "      <td>1.669240</td>\n",
       "      <td>2.787537</td>\n",
       "      <td>10.125840</td>\n",
       "      <td>0.922808</td>\n",
       "      <td>2.328642</td>\n",
       "      <td>0.949077</td>\n",
       "      <td>2.868782</td>\n",
       "    </tr>\n",
       "    <tr>\n",
       "      <th>min</th>\n",
       "      <td>0.010000</td>\n",
       "      <td>0.010000</td>\n",
       "      <td>0.010000</td>\n",
       "      <td>0.010000</td>\n",
       "      <td>0.002986</td>\n",
       "      <td>0.046369</td>\n",
       "      <td>0.001083</td>\n",
       "      <td>0.000568</td>\n",
       "      <td>-0.042069</td>\n",
       "      <td>-657.949759</td>\n",
       "      <td>...</td>\n",
       "      <td>0.000000</td>\n",
       "      <td>0.000000</td>\n",
       "      <td>0.000000</td>\n",
       "      <td>0.000000</td>\n",
       "      <td>0.000000</td>\n",
       "      <td>0.000000</td>\n",
       "      <td>0.000000</td>\n",
       "      <td>0.000000</td>\n",
       "      <td>0.000000</td>\n",
       "      <td>0.000000</td>\n",
       "    </tr>\n",
       "    <tr>\n",
       "      <th>25%</th>\n",
       "      <td>6.854384</td>\n",
       "      <td>7.237967</td>\n",
       "      <td>2.887280</td>\n",
       "      <td>34.207799</td>\n",
       "      <td>416.525453</td>\n",
       "      <td>47.435103</td>\n",
       "      <td>10.000362</td>\n",
       "      <td>5.398678</td>\n",
       "      <td>999.661867</td>\n",
       "      <td>-499.835165</td>\n",
       "      <td>...</td>\n",
       "      <td>3.845475</td>\n",
       "      <td>43.402215</td>\n",
       "      <td>4.251240</td>\n",
       "      <td>9.137262</td>\n",
       "      <td>7.722820</td>\n",
       "      <td>63.299712</td>\n",
       "      <td>2.461138</td>\n",
       "      <td>8.062878</td>\n",
       "      <td>2.040119</td>\n",
       "      <td>8.938947</td>\n",
       "    </tr>\n",
       "    <tr>\n",
       "      <th>50%</th>\n",
       "      <td>8.125839</td>\n",
       "      <td>8.593574</td>\n",
       "      <td>3.534895</td>\n",
       "      <td>37.202650</td>\n",
       "      <td>499.416120</td>\n",
       "      <td>54.610197</td>\n",
       "      <td>12.001174</td>\n",
       "      <td>6.008273</td>\n",
       "      <td>1001.072890</td>\n",
       "      <td>-300.263994</td>\n",
       "      <td>...</td>\n",
       "      <td>7.685827</td>\n",
       "      <td>45.011244</td>\n",
       "      <td>5.066094</td>\n",
       "      <td>10.102433</td>\n",
       "      <td>9.218961</td>\n",
       "      <td>68.172738</td>\n",
       "      <td>2.984909</td>\n",
       "      <td>9.743623</td>\n",
       "      <td>2.748730</td>\n",
       "      <td>10.622456</td>\n",
       "    </tr>\n",
       "    <tr>\n",
       "      <th>75%</th>\n",
       "      <td>9.769917</td>\n",
       "      <td>10.213771</td>\n",
       "      <td>4.244161</td>\n",
       "      <td>40.039133</td>\n",
       "      <td>550.172183</td>\n",
       "      <td>65.023044</td>\n",
       "      <td>14.716595</td>\n",
       "      <td>6.798051</td>\n",
       "      <td>1205.620588</td>\n",
       "      <td>-299.981998</td>\n",
       "      <td>...</td>\n",
       "      <td>10.411296</td>\n",
       "      <td>46.275313</td>\n",
       "      <td>5.895527</td>\n",
       "      <td>11.035769</td>\n",
       "      <td>10.947813</td>\n",
       "      <td>72.686642</td>\n",
       "      <td>3.571351</td>\n",
       "      <td>11.134294</td>\n",
       "      <td>3.333216</td>\n",
       "      <td>12.104271</td>\n",
       "    </tr>\n",
       "    <tr>\n",
       "      <th>max</th>\n",
       "      <td>13.731330</td>\n",
       "      <td>14.596026</td>\n",
       "      <td>7.142594</td>\n",
       "      <td>53.477742</td>\n",
       "      <td>717.508837</td>\n",
       "      <td>484.967466</td>\n",
       "      <td>36.118275</td>\n",
       "      <td>9.703448</td>\n",
       "      <td>1521.980372</td>\n",
       "      <td>-273.776101</td>\n",
       "      <td>...</td>\n",
       "      <td>26.000772</td>\n",
       "      <td>52.756638</td>\n",
       "      <td>16.001945</td>\n",
       "      <td>17.031899</td>\n",
       "      <td>19.615720</td>\n",
       "      <td>100.000000</td>\n",
       "      <td>8.245022</td>\n",
       "      <td>19.552149</td>\n",
       "      <td>5.804178</td>\n",
       "      <td>22.317730</td>\n",
       "    </tr>\n",
       "  </tbody>\n",
       "</table>\n",
       "<p>8 rows × 86 columns</p>\n",
       "</div>"
      ],
      "text/plain": [
       "       rougher.input.feed_au  rougher.input.feed_ag  rougher.input.feed_pb  \\\n",
       "count           19439.000000           19439.000000           19339.000000   \n",
       "mean                8.266097               8.794927               3.598085   \n",
       "std                 1.955092               1.936847               1.049486   \n",
       "min                 0.010000               0.010000               0.010000   \n",
       "25%                 6.854384               7.237967               2.887280   \n",
       "50%                 8.125839               8.593574               3.534895   \n",
       "75%                 9.769917              10.213771               4.244161   \n",
       "max                13.731330              14.596026               7.142594   \n",
       "\n",
       "       rougher.input.feed_sol  rougher.input.feed_rate  \\\n",
       "count            19340.000000             19428.000000   \n",
       "mean                36.695114               478.320042   \n",
       "std                  5.145445               105.373758   \n",
       "min                  0.010000                 0.002986   \n",
       "25%                 34.207799               416.525453   \n",
       "50%                 37.202650               499.416120   \n",
       "75%                 40.039133               550.172183   \n",
       "max                 53.477742               717.508837   \n",
       "\n",
       "       rougher.input.feed_size  rougher.input.floatbank10_sulfate  \\\n",
       "count             19294.000000                       19405.000000   \n",
       "mean                 58.970310                          12.334373   \n",
       "std                  21.634478                           3.427317   \n",
       "min                   0.046369                           0.001083   \n",
       "25%                  47.435103                          10.000362   \n",
       "50%                  54.610197                          12.001174   \n",
       "75%                  65.023044                          14.716595   \n",
       "max                 484.967466                          36.118275   \n",
       "\n",
       "       rougher.input.floatbank10_xanthate  rougher.state.floatbank10_a_air  \\\n",
       "count                        19431.000000                     19438.000000   \n",
       "mean                             6.021474                      1105.315068   \n",
       "std                              1.127263                       160.826798   \n",
       "min                              0.000568                        -0.042069   \n",
       "25%                              5.398678                       999.661867   \n",
       "50%                              6.008273                      1001.072890   \n",
       "75%                              6.798051                      1205.620588   \n",
       "max                              9.703448                      1521.980372   \n",
       "\n",
       "       rougher.state.floatbank10_a_level  ...  \\\n",
       "count                       19438.000000  ...   \n",
       "mean                         -376.610690  ...   \n",
       "std                            93.909667  ...   \n",
       "min                          -657.949759  ...   \n",
       "25%                          -499.835165  ...   \n",
       "50%                          -300.263994  ...   \n",
       "75%                          -299.981998  ...   \n",
       "max                          -273.776101  ...   \n",
       "\n",
       "       secondary_cleaner.output.tail_sol  final.output.concentrate_au  \\\n",
       "count                       17691.000000                 19439.000000   \n",
       "mean                            7.167247                    44.076513   \n",
       "std                             3.916079                     5.129784   \n",
       "min                             0.000000                     0.000000   \n",
       "25%                             3.845475                    43.402215   \n",
       "50%                             7.685827                    45.011244   \n",
       "75%                            10.411296                    46.275313   \n",
       "max                            26.000772                    52.756638   \n",
       "\n",
       "       final.output.concentrate_ag  final.output.concentrate_pb  \\\n",
       "count                 19438.000000                 19438.000000   \n",
       "mean                      5.168470                     9.978895   \n",
       "std                       1.372348                     1.669240   \n",
       "min                       0.000000                     0.000000   \n",
       "25%                       4.251240                     9.137262   \n",
       "50%                       5.066094                    10.102433   \n",
       "75%                       5.895527                    11.035769   \n",
       "max                      16.001945                    17.031899   \n",
       "\n",
       "       final.output.concentrate_sol  final.output.recovery  \\\n",
       "count                  19228.000000           19439.000000   \n",
       "mean                       9.501224              67.050208   \n",
       "std                        2.787537              10.125840   \n",
       "min                        0.000000               0.000000   \n",
       "25%                        7.722820              63.299712   \n",
       "50%                        9.218961              68.172738   \n",
       "75%                       10.947813              72.686642   \n",
       "max                       19.615720             100.000000   \n",
       "\n",
       "       final.output.tail_au  final.output.tail_ag  final.output.tail_pb  \\\n",
       "count          19439.000000          19438.000000          19338.000000   \n",
       "mean               3.042467              9.688589              2.705795   \n",
       "std                0.922808              2.328642              0.949077   \n",
       "min                0.000000              0.000000              0.000000   \n",
       "25%                2.461138              8.062878              2.040119   \n",
       "50%                2.984909              9.743623              2.748730   \n",
       "75%                3.571351             11.134294              3.333216   \n",
       "max                8.245022             19.552149              5.804178   \n",
       "\n",
       "       final.output.tail_sol  \n",
       "count           19433.000000  \n",
       "mean               10.583728  \n",
       "std                 2.868782  \n",
       "min                 0.000000  \n",
       "25%                 8.938947  \n",
       "50%                10.622456  \n",
       "75%                12.104271  \n",
       "max                22.317730  \n",
       "\n",
       "[8 rows x 86 columns]"
      ]
     },
     "metadata": {},
     "output_type": "display_data"
    },
    {
     "name": "stdout",
     "output_type": "stream",
     "text": [
      "*************************************************************************************\n"
     ]
    },
    {
     "data": {
      "text/html": [
       "<div>\n",
       "<style scoped>\n",
       "    .dataframe tbody tr th:only-of-type {\n",
       "        vertical-align: middle;\n",
       "    }\n",
       "\n",
       "    .dataframe tbody tr th {\n",
       "        vertical-align: top;\n",
       "    }\n",
       "\n",
       "    .dataframe thead th {\n",
       "        text-align: right;\n",
       "    }\n",
       "</style>\n",
       "<table border=\"1\" class=\"dataframe\">\n",
       "  <thead>\n",
       "    <tr style=\"text-align: right;\">\n",
       "      <th></th>\n",
       "      <th>rougher.input.feed_au</th>\n",
       "      <th>rougher.input.feed_ag</th>\n",
       "      <th>rougher.input.feed_pb</th>\n",
       "      <th>rougher.input.feed_sol</th>\n",
       "      <th>rougher.input.feed_rate</th>\n",
       "      <th>rougher.input.feed_size</th>\n",
       "      <th>rougher.input.floatbank10_sulfate</th>\n",
       "      <th>rougher.input.floatbank10_xanthate</th>\n",
       "      <th>rougher.state.floatbank10_a_air</th>\n",
       "      <th>rougher.state.floatbank10_a_level</th>\n",
       "      <th>...</th>\n",
       "      <th>secondary_cleaner.output.tail_sol</th>\n",
       "      <th>final.output.concentrate_au</th>\n",
       "      <th>final.output.concentrate_ag</th>\n",
       "      <th>final.output.concentrate_pb</th>\n",
       "      <th>final.output.concentrate_sol</th>\n",
       "      <th>final.output.recovery</th>\n",
       "      <th>final.output.tail_au</th>\n",
       "      <th>final.output.tail_ag</th>\n",
       "      <th>final.output.tail_pb</th>\n",
       "      <th>final.output.tail_sol</th>\n",
       "    </tr>\n",
       "  </thead>\n",
       "  <tbody>\n",
       "    <tr>\n",
       "      <th>count</th>\n",
       "      <td>14579.000000</td>\n",
       "      <td>14579.000000</td>\n",
       "      <td>14507.000000</td>\n",
       "      <td>14502.000000</td>\n",
       "      <td>14572.000000</td>\n",
       "      <td>14478.000000</td>\n",
       "      <td>14548.000000</td>\n",
       "      <td>14572.000000</td>\n",
       "      <td>14579.000000</td>\n",
       "      <td>14579.000000</td>\n",
       "      <td>...</td>\n",
       "      <td>13659.000000</td>\n",
       "      <td>14579.000000</td>\n",
       "      <td>14578.000000</td>\n",
       "      <td>14578.000000</td>\n",
       "      <td>14387.000000</td>\n",
       "      <td>14579.000000</td>\n",
       "      <td>14579.000000</td>\n",
       "      <td>14578.000000</td>\n",
       "      <td>14504.000000</td>\n",
       "      <td>14574.000000</td>\n",
       "    </tr>\n",
       "    <tr>\n",
       "      <th>mean</th>\n",
       "      <td>8.352941</td>\n",
       "      <td>8.877460</td>\n",
       "      <td>3.604221</td>\n",
       "      <td>36.561420</td>\n",
       "      <td>474.332784</td>\n",
       "      <td>58.922712</td>\n",
       "      <td>12.427399</td>\n",
       "      <td>5.994854</td>\n",
       "      <td>1104.208278</td>\n",
       "      <td>-379.367166</td>\n",
       "      <td>...</td>\n",
       "      <td>7.111347</td>\n",
       "      <td>43.979499</td>\n",
       "      <td>5.192145</td>\n",
       "      <td>9.923809</td>\n",
       "      <td>9.566676</td>\n",
       "      <td>66.759066</td>\n",
       "      <td>3.087939</td>\n",
       "      <td>9.731972</td>\n",
       "      <td>2.719985</td>\n",
       "      <td>10.612745</td>\n",
       "    </tr>\n",
       "    <tr>\n",
       "      <th>std</th>\n",
       "      <td>1.934376</td>\n",
       "      <td>1.922536</td>\n",
       "      <td>1.056063</td>\n",
       "      <td>5.209823</td>\n",
       "      <td>108.503552</td>\n",
       "      <td>22.407410</td>\n",
       "      <td>3.428939</td>\n",
       "      <td>1.152873</td>\n",
       "      <td>162.235606</td>\n",
       "      <td>94.652311</td>\n",
       "      <td>...</td>\n",
       "      <td>3.909951</td>\n",
       "      <td>5.471437</td>\n",
       "      <td>1.388014</td>\n",
       "      <td>1.706976</td>\n",
       "      <td>2.805654</td>\n",
       "      <td>10.619709</td>\n",
       "      <td>0.915187</td>\n",
       "      <td>2.358143</td>\n",
       "      <td>0.958929</td>\n",
       "      <td>2.871075</td>\n",
       "    </tr>\n",
       "    <tr>\n",
       "      <th>min</th>\n",
       "      <td>0.010000</td>\n",
       "      <td>0.010000</td>\n",
       "      <td>0.010000</td>\n",
       "      <td>0.010000</td>\n",
       "      <td>0.002986</td>\n",
       "      <td>0.049194</td>\n",
       "      <td>0.001083</td>\n",
       "      <td>0.000568</td>\n",
       "      <td>-0.042069</td>\n",
       "      <td>-657.949759</td>\n",
       "      <td>...</td>\n",
       "      <td>0.000000</td>\n",
       "      <td>0.000000</td>\n",
       "      <td>0.000000</td>\n",
       "      <td>0.000000</td>\n",
       "      <td>0.000000</td>\n",
       "      <td>0.000000</td>\n",
       "      <td>0.000000</td>\n",
       "      <td>0.000000</td>\n",
       "      <td>0.000000</td>\n",
       "      <td>0.000000</td>\n",
       "    </tr>\n",
       "    <tr>\n",
       "      <th>25%</th>\n",
       "      <td>6.932996</td>\n",
       "      <td>7.341922</td>\n",
       "      <td>2.880490</td>\n",
       "      <td>34.093951</td>\n",
       "      <td>411.048483</td>\n",
       "      <td>47.278490</td>\n",
       "      <td>10.002832</td>\n",
       "      <td>5.304167</td>\n",
       "      <td>999.644856</td>\n",
       "      <td>-499.861797</td>\n",
       "      <td>...</td>\n",
       "      <td>3.784897</td>\n",
       "      <td>43.345906</td>\n",
       "      <td>4.283347</td>\n",
       "      <td>9.103183</td>\n",
       "      <td>7.860030</td>\n",
       "      <td>63.114596</td>\n",
       "      <td>2.505287</td>\n",
       "      <td>8.088928</td>\n",
       "      <td>2.036512</td>\n",
       "      <td>9.013412</td>\n",
       "    </tr>\n",
       "    <tr>\n",
       "      <th>50%</th>\n",
       "      <td>8.225284</td>\n",
       "      <td>8.715859</td>\n",
       "      <td>3.532399</td>\n",
       "      <td>37.097511</td>\n",
       "      <td>498.187968</td>\n",
       "      <td>54.361187</td>\n",
       "      <td>12.003320</td>\n",
       "      <td>6.003053</td>\n",
       "      <td>1000.982624</td>\n",
       "      <td>-300.314199</td>\n",
       "      <td>...</td>\n",
       "      <td>7.629968</td>\n",
       "      <td>44.975014</td>\n",
       "      <td>5.118647</td>\n",
       "      <td>10.046455</td>\n",
       "      <td>9.301970</td>\n",
       "      <td>67.962788</td>\n",
       "      <td>3.029238</td>\n",
       "      <td>9.818512</td>\n",
       "      <td>2.774847</td>\n",
       "      <td>10.670515</td>\n",
       "    </tr>\n",
       "    <tr>\n",
       "      <th>75%</th>\n",
       "      <td>9.832210</td>\n",
       "      <td>10.255843</td>\n",
       "      <td>4.257282</td>\n",
       "      <td>39.899799</td>\n",
       "      <td>549.586552</td>\n",
       "      <td>64.464926</td>\n",
       "      <td>14.929903</td>\n",
       "      <td>6.796632</td>\n",
       "      <td>1292.663971</td>\n",
       "      <td>-299.989315</td>\n",
       "      <td>...</td>\n",
       "      <td>10.367050</td>\n",
       "      <td>46.275153</td>\n",
       "      <td>5.925380</td>\n",
       "      <td>10.981203</td>\n",
       "      <td>11.001573</td>\n",
       "      <td>72.598187</td>\n",
       "      <td>3.614098</td>\n",
       "      <td>11.169187</td>\n",
       "      <td>3.353845</td>\n",
       "      <td>12.130827</td>\n",
       "    </tr>\n",
       "    <tr>\n",
       "      <th>max</th>\n",
       "      <td>13.731330</td>\n",
       "      <td>14.596026</td>\n",
       "      <td>7.052325</td>\n",
       "      <td>53.475325</td>\n",
       "      <td>717.508837</td>\n",
       "      <td>484.967466</td>\n",
       "      <td>36.118275</td>\n",
       "      <td>9.703448</td>\n",
       "      <td>1512.299531</td>\n",
       "      <td>-273.776101</td>\n",
       "      <td>...</td>\n",
       "      <td>26.000772</td>\n",
       "      <td>52.756638</td>\n",
       "      <td>16.001945</td>\n",
       "      <td>16.705297</td>\n",
       "      <td>19.423912</td>\n",
       "      <td>100.000000</td>\n",
       "      <td>8.245022</td>\n",
       "      <td>19.552149</td>\n",
       "      <td>5.804178</td>\n",
       "      <td>22.317730</td>\n",
       "    </tr>\n",
       "  </tbody>\n",
       "</table>\n",
       "<p>8 rows × 86 columns</p>\n",
       "</div>"
      ],
      "text/plain": [
       "       rougher.input.feed_au  rougher.input.feed_ag  rougher.input.feed_pb  \\\n",
       "count           14579.000000           14579.000000           14507.000000   \n",
       "mean                8.352941               8.877460               3.604221   \n",
       "std                 1.934376               1.922536               1.056063   \n",
       "min                 0.010000               0.010000               0.010000   \n",
       "25%                 6.932996               7.341922               2.880490   \n",
       "50%                 8.225284               8.715859               3.532399   \n",
       "75%                 9.832210              10.255843               4.257282   \n",
       "max                13.731330              14.596026               7.052325   \n",
       "\n",
       "       rougher.input.feed_sol  rougher.input.feed_rate  \\\n",
       "count            14502.000000             14572.000000   \n",
       "mean                36.561420               474.332784   \n",
       "std                  5.209823               108.503552   \n",
       "min                  0.010000                 0.002986   \n",
       "25%                 34.093951               411.048483   \n",
       "50%                 37.097511               498.187968   \n",
       "75%                 39.899799               549.586552   \n",
       "max                 53.475325               717.508837   \n",
       "\n",
       "       rougher.input.feed_size  rougher.input.floatbank10_sulfate  \\\n",
       "count             14478.000000                       14548.000000   \n",
       "mean                 58.922712                          12.427399   \n",
       "std                  22.407410                           3.428939   \n",
       "min                   0.049194                           0.001083   \n",
       "25%                  47.278490                          10.002832   \n",
       "50%                  54.361187                          12.003320   \n",
       "75%                  64.464926                          14.929903   \n",
       "max                 484.967466                          36.118275   \n",
       "\n",
       "       rougher.input.floatbank10_xanthate  rougher.state.floatbank10_a_air  \\\n",
       "count                        14572.000000                     14579.000000   \n",
       "mean                             5.994854                      1104.208278   \n",
       "std                              1.152873                       162.235606   \n",
       "min                              0.000568                        -0.042069   \n",
       "25%                              5.304167                       999.644856   \n",
       "50%                              6.003053                      1000.982624   \n",
       "75%                              6.796632                      1292.663971   \n",
       "max                              9.703448                      1512.299531   \n",
       "\n",
       "       rougher.state.floatbank10_a_level  ...  \\\n",
       "count                       14579.000000  ...   \n",
       "mean                         -379.367166  ...   \n",
       "std                            94.652311  ...   \n",
       "min                          -657.949759  ...   \n",
       "25%                          -499.861797  ...   \n",
       "50%                          -300.314199  ...   \n",
       "75%                          -299.989315  ...   \n",
       "max                          -273.776101  ...   \n",
       "\n",
       "       secondary_cleaner.output.tail_sol  final.output.concentrate_au  \\\n",
       "count                       13659.000000                 14579.000000   \n",
       "mean                            7.111347                    43.979499   \n",
       "std                             3.909951                     5.471437   \n",
       "min                             0.000000                     0.000000   \n",
       "25%                             3.784897                    43.345906   \n",
       "50%                             7.629968                    44.975014   \n",
       "75%                            10.367050                    46.275153   \n",
       "max                            26.000772                    52.756638   \n",
       "\n",
       "       final.output.concentrate_ag  final.output.concentrate_pb  \\\n",
       "count                 14578.000000                 14578.000000   \n",
       "mean                      5.192145                     9.923809   \n",
       "std                       1.388014                     1.706976   \n",
       "min                       0.000000                     0.000000   \n",
       "25%                       4.283347                     9.103183   \n",
       "50%                       5.118647                    10.046455   \n",
       "75%                       5.925380                    10.981203   \n",
       "max                      16.001945                    16.705297   \n",
       "\n",
       "       final.output.concentrate_sol  final.output.recovery  \\\n",
       "count                  14387.000000           14579.000000   \n",
       "mean                       9.566676              66.759066   \n",
       "std                        2.805654              10.619709   \n",
       "min                        0.000000               0.000000   \n",
       "25%                        7.860030              63.114596   \n",
       "50%                        9.301970              67.962788   \n",
       "75%                       11.001573              72.598187   \n",
       "max                       19.423912             100.000000   \n",
       "\n",
       "       final.output.tail_au  final.output.tail_ag  final.output.tail_pb  \\\n",
       "count          14579.000000          14578.000000          14504.000000   \n",
       "mean               3.087939              9.731972              2.719985   \n",
       "std                0.915187              2.358143              0.958929   \n",
       "min                0.000000              0.000000              0.000000   \n",
       "25%                2.505287              8.088928              2.036512   \n",
       "50%                3.029238              9.818512              2.774847   \n",
       "75%                3.614098             11.169187              3.353845   \n",
       "max                8.245022             19.552149              5.804178   \n",
       "\n",
       "       final.output.tail_sol  \n",
       "count           14574.000000  \n",
       "mean               10.612745  \n",
       "std                 2.871075  \n",
       "min                 0.000000  \n",
       "25%                 9.013412  \n",
       "50%                10.670515  \n",
       "75%                12.130827  \n",
       "max                22.317730  \n",
       "\n",
       "[8 rows x 86 columns]"
      ]
     },
     "metadata": {},
     "output_type": "display_data"
    },
    {
     "name": "stdout",
     "output_type": "stream",
     "text": [
      "*************************************************************************************\n"
     ]
    },
    {
     "data": {
      "text/html": [
       "<div>\n",
       "<style scoped>\n",
       "    .dataframe tbody tr th:only-of-type {\n",
       "        vertical-align: middle;\n",
       "    }\n",
       "\n",
       "    .dataframe tbody tr th {\n",
       "        vertical-align: top;\n",
       "    }\n",
       "\n",
       "    .dataframe thead th {\n",
       "        text-align: right;\n",
       "    }\n",
       "</style>\n",
       "<table border=\"1\" class=\"dataframe\">\n",
       "  <thead>\n",
       "    <tr style=\"text-align: right;\">\n",
       "      <th></th>\n",
       "      <th>rougher.input.feed_au</th>\n",
       "      <th>rougher.input.feed_ag</th>\n",
       "      <th>rougher.input.feed_pb</th>\n",
       "      <th>rougher.input.feed_sol</th>\n",
       "      <th>rougher.input.feed_rate</th>\n",
       "      <th>rougher.input.feed_size</th>\n",
       "      <th>rougher.input.floatbank10_sulfate</th>\n",
       "      <th>rougher.input.floatbank10_xanthate</th>\n",
       "      <th>rougher.state.floatbank10_a_air</th>\n",
       "      <th>rougher.state.floatbank10_a_level</th>\n",
       "      <th>...</th>\n",
       "      <th>secondary_cleaner.state.floatbank4_a_air</th>\n",
       "      <th>secondary_cleaner.state.floatbank4_a_level</th>\n",
       "      <th>secondary_cleaner.state.floatbank4_b_air</th>\n",
       "      <th>secondary_cleaner.state.floatbank4_b_level</th>\n",
       "      <th>secondary_cleaner.state.floatbank5_a_air</th>\n",
       "      <th>secondary_cleaner.state.floatbank5_a_level</th>\n",
       "      <th>secondary_cleaner.state.floatbank5_b_air</th>\n",
       "      <th>secondary_cleaner.state.floatbank5_b_level</th>\n",
       "      <th>secondary_cleaner.state.floatbank6_a_air</th>\n",
       "      <th>secondary_cleaner.state.floatbank6_a_level</th>\n",
       "    </tr>\n",
       "  </thead>\n",
       "  <tbody>\n",
       "    <tr>\n",
       "      <th>count</th>\n",
       "      <td>4860.000000</td>\n",
       "      <td>4860.000000</td>\n",
       "      <td>4832.000000</td>\n",
       "      <td>4838.000000</td>\n",
       "      <td>4856.000000</td>\n",
       "      <td>4816.000000</td>\n",
       "      <td>4857.000000</td>\n",
       "      <td>4859.000000</td>\n",
       "      <td>4859.000000</td>\n",
       "      <td>4859.000000</td>\n",
       "      <td>...</td>\n",
       "      <td>4.859000e+03</td>\n",
       "      <td>4859.000000</td>\n",
       "      <td>4.859000e+03</td>\n",
       "      <td>4859.000000</td>\n",
       "      <td>4859.000000</td>\n",
       "      <td>4859.000000</td>\n",
       "      <td>4859.000000</td>\n",
       "      <td>4859.000000</td>\n",
       "      <td>4859.000000</td>\n",
       "      <td>4859.000000</td>\n",
       "    </tr>\n",
       "    <tr>\n",
       "      <th>mean</th>\n",
       "      <td>8.005584</td>\n",
       "      <td>8.547348</td>\n",
       "      <td>3.579662</td>\n",
       "      <td>37.095864</td>\n",
       "      <td>490.285103</td>\n",
       "      <td>59.113400</td>\n",
       "      <td>12.055735</td>\n",
       "      <td>6.101308</td>\n",
       "      <td>1108.635895</td>\n",
       "      <td>-368.340127</td>\n",
       "      <td>...</td>\n",
       "      <td>1.985770e+01</td>\n",
       "      <td>-488.665140</td>\n",
       "      <td>1.557025e+01</td>\n",
       "      <td>-464.176507</td>\n",
       "      <td>16.594103</td>\n",
       "      <td>-490.815250</td>\n",
       "      <td>12.945971</td>\n",
       "      <td>-489.583564</td>\n",
       "      <td>19.053888</td>\n",
       "      <td>-504.678924</td>\n",
       "    </tr>\n",
       "    <tr>\n",
       "      <th>std</th>\n",
       "      <td>1.993590</td>\n",
       "      <td>1.958601</td>\n",
       "      <td>1.029377</td>\n",
       "      <td>4.926284</td>\n",
       "      <td>94.371623</td>\n",
       "      <td>19.125122</td>\n",
       "      <td>3.407642</td>\n",
       "      <td>1.042754</td>\n",
       "      <td>156.493143</td>\n",
       "      <td>91.155929</td>\n",
       "      <td>...</td>\n",
       "      <td>5.913105e+00</td>\n",
       "      <td>44.392714</td>\n",
       "      <td>4.927361e+00</td>\n",
       "      <td>65.706994</td>\n",
       "      <td>5.724305</td>\n",
       "      <td>32.258443</td>\n",
       "      <td>5.533176</td>\n",
       "      <td>37.084609</td>\n",
       "      <td>5.548996</td>\n",
       "      <td>38.690186</td>\n",
       "    </tr>\n",
       "    <tr>\n",
       "      <th>min</th>\n",
       "      <td>0.010000</td>\n",
       "      <td>0.010000</td>\n",
       "      <td>0.010000</td>\n",
       "      <td>0.010000</td>\n",
       "      <td>0.012786</td>\n",
       "      <td>0.046369</td>\n",
       "      <td>0.018907</td>\n",
       "      <td>0.015783</td>\n",
       "      <td>300.792494</td>\n",
       "      <td>-600.568138</td>\n",
       "      <td>...</td>\n",
       "      <td>1.079872e-16</td>\n",
       "      <td>-799.704969</td>\n",
       "      <td>2.489718e-17</td>\n",
       "      <td>-799.860767</td>\n",
       "      <td>-0.371498</td>\n",
       "      <td>-797.142475</td>\n",
       "      <td>1.358469</td>\n",
       "      <td>-800.006180</td>\n",
       "      <td>0.160386</td>\n",
       "      <td>-809.734800</td>\n",
       "    </tr>\n",
       "    <tr>\n",
       "      <th>25%</th>\n",
       "      <td>6.574363</td>\n",
       "      <td>6.975898</td>\n",
       "      <td>2.903612</td>\n",
       "      <td>34.510841</td>\n",
       "      <td>434.099695</td>\n",
       "      <td>47.596984</td>\n",
       "      <td>9.890429</td>\n",
       "      <td>5.499808</td>\n",
       "      <td>999.715729</td>\n",
       "      <td>-499.731972</td>\n",
       "      <td>...</td>\n",
       "      <td>1.501123e+01</td>\n",
       "      <td>-500.704004</td>\n",
       "      <td>1.202172e+01</td>\n",
       "      <td>-500.196517</td>\n",
       "      <td>11.073822</td>\n",
       "      <td>-500.483564</td>\n",
       "      <td>9.011890</td>\n",
       "      <td>-500.129913</td>\n",
       "      <td>14.963953</td>\n",
       "      <td>-500.668501</td>\n",
       "    </tr>\n",
       "    <tr>\n",
       "      <th>50%</th>\n",
       "      <td>7.812923</td>\n",
       "      <td>8.179714</td>\n",
       "      <td>3.540772</td>\n",
       "      <td>37.499761</td>\n",
       "      <td>502.118742</td>\n",
       "      <td>55.509481</td>\n",
       "      <td>11.997859</td>\n",
       "      <td>6.099805</td>\n",
       "      <td>1001.414798</td>\n",
       "      <td>-300.181367</td>\n",
       "      <td>...</td>\n",
       "      <td>1.996807e+01</td>\n",
       "      <td>-499.892919</td>\n",
       "      <td>1.501240e+01</td>\n",
       "      <td>-499.540776</td>\n",
       "      <td>16.631195</td>\n",
       "      <td>-499.873136</td>\n",
       "      <td>11.999417</td>\n",
       "      <td>-499.955304</td>\n",
       "      <td>19.960006</td>\n",
       "      <td>-500.033769</td>\n",
       "    </tr>\n",
       "    <tr>\n",
       "      <th>75%</th>\n",
       "      <td>9.556589</td>\n",
       "      <td>10.084339</td>\n",
       "      <td>4.199847</td>\n",
       "      <td>40.461315</td>\n",
       "      <td>555.596563</td>\n",
       "      <td>66.661547</td>\n",
       "      <td>14.496072</td>\n",
       "      <td>6.802101</td>\n",
       "      <td>1202.837565</td>\n",
       "      <td>-299.961547</td>\n",
       "      <td>...</td>\n",
       "      <td>2.498900e+01</td>\n",
       "      <td>-498.652030</td>\n",
       "      <td>1.999949e+01</td>\n",
       "      <td>-400.302329</td>\n",
       "      <td>19.983191</td>\n",
       "      <td>-498.852815</td>\n",
       "      <td>15.004198</td>\n",
       "      <td>-499.643776</td>\n",
       "      <td>24.974583</td>\n",
       "      <td>-499.460134</td>\n",
       "    </tr>\n",
       "    <tr>\n",
       "      <th>max</th>\n",
       "      <td>13.417156</td>\n",
       "      <td>14.533698</td>\n",
       "      <td>7.142594</td>\n",
       "      <td>53.477742</td>\n",
       "      <td>702.523396</td>\n",
       "      <td>363.989699</td>\n",
       "      <td>30.010759</td>\n",
       "      <td>9.396928</td>\n",
       "      <td>1521.980372</td>\n",
       "      <td>-281.039299</td>\n",
       "      <td>...</td>\n",
       "      <td>3.008450e+01</td>\n",
       "      <td>-383.373053</td>\n",
       "      <td>2.398898e+01</td>\n",
       "      <td>-114.250832</td>\n",
       "      <td>33.215996</td>\n",
       "      <td>-288.963521</td>\n",
       "      <td>24.177106</td>\n",
       "      <td>-141.934397</td>\n",
       "      <td>32.028529</td>\n",
       "      <td>-104.427459</td>\n",
       "    </tr>\n",
       "  </tbody>\n",
       "</table>\n",
       "<p>8 rows × 52 columns</p>\n",
       "</div>"
      ],
      "text/plain": [
       "       rougher.input.feed_au  rougher.input.feed_ag  rougher.input.feed_pb  \\\n",
       "count            4860.000000            4860.000000            4832.000000   \n",
       "mean                8.005584               8.547348               3.579662   \n",
       "std                 1.993590               1.958601               1.029377   \n",
       "min                 0.010000               0.010000               0.010000   \n",
       "25%                 6.574363               6.975898               2.903612   \n",
       "50%                 7.812923               8.179714               3.540772   \n",
       "75%                 9.556589              10.084339               4.199847   \n",
       "max                13.417156              14.533698               7.142594   \n",
       "\n",
       "       rougher.input.feed_sol  rougher.input.feed_rate  \\\n",
       "count             4838.000000              4856.000000   \n",
       "mean                37.095864               490.285103   \n",
       "std                  4.926284                94.371623   \n",
       "min                  0.010000                 0.012786   \n",
       "25%                 34.510841               434.099695   \n",
       "50%                 37.499761               502.118742   \n",
       "75%                 40.461315               555.596563   \n",
       "max                 53.477742               702.523396   \n",
       "\n",
       "       rougher.input.feed_size  rougher.input.floatbank10_sulfate  \\\n",
       "count              4816.000000                        4857.000000   \n",
       "mean                 59.113400                          12.055735   \n",
       "std                  19.125122                           3.407642   \n",
       "min                   0.046369                           0.018907   \n",
       "25%                  47.596984                           9.890429   \n",
       "50%                  55.509481                          11.997859   \n",
       "75%                  66.661547                          14.496072   \n",
       "max                 363.989699                          30.010759   \n",
       "\n",
       "       rougher.input.floatbank10_xanthate  rougher.state.floatbank10_a_air  \\\n",
       "count                         4859.000000                      4859.000000   \n",
       "mean                             6.101308                      1108.635895   \n",
       "std                              1.042754                       156.493143   \n",
       "min                              0.015783                       300.792494   \n",
       "25%                              5.499808                       999.715729   \n",
       "50%                              6.099805                      1001.414798   \n",
       "75%                              6.802101                      1202.837565   \n",
       "max                              9.396928                      1521.980372   \n",
       "\n",
       "       rougher.state.floatbank10_a_level  ...  \\\n",
       "count                        4859.000000  ...   \n",
       "mean                         -368.340127  ...   \n",
       "std                            91.155929  ...   \n",
       "min                          -600.568138  ...   \n",
       "25%                          -499.731972  ...   \n",
       "50%                          -300.181367  ...   \n",
       "75%                          -299.961547  ...   \n",
       "max                          -281.039299  ...   \n",
       "\n",
       "       secondary_cleaner.state.floatbank4_a_air  \\\n",
       "count                              4.859000e+03   \n",
       "mean                               1.985770e+01   \n",
       "std                                5.913105e+00   \n",
       "min                                1.079872e-16   \n",
       "25%                                1.501123e+01   \n",
       "50%                                1.996807e+01   \n",
       "75%                                2.498900e+01   \n",
       "max                                3.008450e+01   \n",
       "\n",
       "       secondary_cleaner.state.floatbank4_a_level  \\\n",
       "count                                 4859.000000   \n",
       "mean                                  -488.665140   \n",
       "std                                     44.392714   \n",
       "min                                   -799.704969   \n",
       "25%                                   -500.704004   \n",
       "50%                                   -499.892919   \n",
       "75%                                   -498.652030   \n",
       "max                                   -383.373053   \n",
       "\n",
       "       secondary_cleaner.state.floatbank4_b_air  \\\n",
       "count                              4.859000e+03   \n",
       "mean                               1.557025e+01   \n",
       "std                                4.927361e+00   \n",
       "min                                2.489718e-17   \n",
       "25%                                1.202172e+01   \n",
       "50%                                1.501240e+01   \n",
       "75%                                1.999949e+01   \n",
       "max                                2.398898e+01   \n",
       "\n",
       "       secondary_cleaner.state.floatbank4_b_level  \\\n",
       "count                                 4859.000000   \n",
       "mean                                  -464.176507   \n",
       "std                                     65.706994   \n",
       "min                                   -799.860767   \n",
       "25%                                   -500.196517   \n",
       "50%                                   -499.540776   \n",
       "75%                                   -400.302329   \n",
       "max                                   -114.250832   \n",
       "\n",
       "       secondary_cleaner.state.floatbank5_a_air  \\\n",
       "count                               4859.000000   \n",
       "mean                                  16.594103   \n",
       "std                                    5.724305   \n",
       "min                                   -0.371498   \n",
       "25%                                   11.073822   \n",
       "50%                                   16.631195   \n",
       "75%                                   19.983191   \n",
       "max                                   33.215996   \n",
       "\n",
       "       secondary_cleaner.state.floatbank5_a_level  \\\n",
       "count                                 4859.000000   \n",
       "mean                                  -490.815250   \n",
       "std                                     32.258443   \n",
       "min                                   -797.142475   \n",
       "25%                                   -500.483564   \n",
       "50%                                   -499.873136   \n",
       "75%                                   -498.852815   \n",
       "max                                   -288.963521   \n",
       "\n",
       "       secondary_cleaner.state.floatbank5_b_air  \\\n",
       "count                               4859.000000   \n",
       "mean                                  12.945971   \n",
       "std                                    5.533176   \n",
       "min                                    1.358469   \n",
       "25%                                    9.011890   \n",
       "50%                                   11.999417   \n",
       "75%                                   15.004198   \n",
       "max                                   24.177106   \n",
       "\n",
       "       secondary_cleaner.state.floatbank5_b_level  \\\n",
       "count                                 4859.000000   \n",
       "mean                                  -489.583564   \n",
       "std                                     37.084609   \n",
       "min                                   -800.006180   \n",
       "25%                                   -500.129913   \n",
       "50%                                   -499.955304   \n",
       "75%                                   -499.643776   \n",
       "max                                   -141.934397   \n",
       "\n",
       "       secondary_cleaner.state.floatbank6_a_air  \\\n",
       "count                               4859.000000   \n",
       "mean                                  19.053888   \n",
       "std                                    5.548996   \n",
       "min                                    0.160386   \n",
       "25%                                   14.963953   \n",
       "50%                                   19.960006   \n",
       "75%                                   24.974583   \n",
       "max                                   32.028529   \n",
       "\n",
       "       secondary_cleaner.state.floatbank6_a_level  \n",
       "count                                 4859.000000  \n",
       "mean                                  -504.678924  \n",
       "std                                     38.690186  \n",
       "min                                   -809.734800  \n",
       "25%                                   -500.668501  \n",
       "50%                                   -500.033769  \n",
       "75%                                   -499.460134  \n",
       "max                                   -104.427459  \n",
       "\n",
       "[8 rows x 52 columns]"
      ]
     },
     "metadata": {},
     "output_type": "display_data"
    },
    {
     "name": "stdout",
     "output_type": "stream",
     "text": [
      "*************************************************************************************\n"
     ]
    }
   ],
   "source": [
    "for data in data_sets:\n",
    "    display(data.describe())\n",
    "    print('*************************************************************************************')"
   ]
  },
  {
   "cell_type": "markdown",
   "metadata": {},
   "source": [
    "#### Проверка пропусков"
   ]
  },
  {
   "cell_type": "code",
   "execution_count": 9,
   "metadata": {
    "scrolled": true,
    "tags": []
   },
   "outputs": [
    {
     "data": {
      "text/plain": [
       "date                      0.000000\n",
       "rougher.input.feed_au     0.000000\n",
       "rougher.input.feed_ag     0.000000\n",
       "rougher.input.feed_pb     0.005144\n",
       "rougher.input.feed_sol    0.005093\n",
       "                            ...   \n",
       "final.output.recovery     0.000000\n",
       "final.output.tail_au      0.000000\n",
       "final.output.tail_ag      0.000051\n",
       "final.output.tail_pb      0.005196\n",
       "final.output.tail_sol     0.000309\n",
       "Length: 87, dtype: float64"
      ]
     },
     "metadata": {},
     "output_type": "display_data"
    },
    {
     "name": "stdout",
     "output_type": "stream",
     "text": [
      "*************************************************************************************\n"
     ]
    },
    {
     "data": {
      "text/plain": [
       "date                      0.000000\n",
       "rougher.input.feed_au     0.000000\n",
       "rougher.input.feed_ag     0.000000\n",
       "rougher.input.feed_pb     0.004939\n",
       "rougher.input.feed_sol    0.005282\n",
       "                            ...   \n",
       "final.output.recovery     0.000000\n",
       "final.output.tail_au      0.000000\n",
       "final.output.tail_ag      0.000069\n",
       "final.output.tail_pb      0.005144\n",
       "final.output.tail_sol     0.000343\n",
       "Length: 87, dtype: float64"
      ]
     },
     "metadata": {},
     "output_type": "display_data"
    },
    {
     "name": "stdout",
     "output_type": "stream",
     "text": [
      "*************************************************************************************\n"
     ]
    },
    {
     "data": {
      "text/plain": [
       "date                                          0.000000\n",
       "rougher.input.feed_au                         0.000000\n",
       "rougher.input.feed_ag                         0.000000\n",
       "rougher.input.feed_pb                         0.005761\n",
       "rougher.input.feed_sol                        0.004527\n",
       "rougher.input.feed_rate                       0.000823\n",
       "rougher.input.feed_size                       0.009053\n",
       "rougher.input.floatbank10_sulfate             0.000617\n",
       "rougher.input.floatbank10_xanthate            0.000206\n",
       "rougher.state.floatbank10_a_air               0.000206\n",
       "rougher.state.floatbank10_a_level             0.000206\n",
       "rougher.state.floatbank10_b_air               0.000206\n",
       "rougher.state.floatbank10_b_level             0.000206\n",
       "rougher.state.floatbank10_c_air               0.000206\n",
       "rougher.state.floatbank10_c_level             0.000206\n",
       "rougher.state.floatbank10_d_air               0.000000\n",
       "rougher.state.floatbank10_d_level             0.000000\n",
       "rougher.state.floatbank10_e_air               0.001440\n",
       "rougher.state.floatbank10_e_level             0.000000\n",
       "rougher.state.floatbank10_f_air               0.000000\n",
       "rougher.state.floatbank10_f_level             0.000000\n",
       "rougher.input.floatbank11_sulfate             0.001646\n",
       "rougher.input.floatbank11_xanthate            0.009465\n",
       "primary_cleaner.input.sulfate                 0.000206\n",
       "primary_cleaner.input.depressant              0.001852\n",
       "primary_cleaner.input.feed_size               0.000000\n",
       "primary_cleaner.input.xanthate                0.008848\n",
       "primary_cleaner.state.floatbank8_a_air        0.000206\n",
       "primary_cleaner.state.floatbank8_a_level      0.000206\n",
       "primary_cleaner.state.floatbank8_b_air        0.000206\n",
       "primary_cleaner.state.floatbank8_b_level      0.000206\n",
       "primary_cleaner.state.floatbank8_c_air        0.000412\n",
       "primary_cleaner.state.floatbank8_c_level      0.000206\n",
       "primary_cleaner.state.floatbank8_d_air        0.000412\n",
       "primary_cleaner.state.floatbank8_d_level      0.000206\n",
       "secondary_cleaner.state.floatbank2_a_air      0.025926\n",
       "secondary_cleaner.state.floatbank2_a_level    0.000206\n",
       "secondary_cleaner.state.floatbank2_b_air      0.000206\n",
       "secondary_cleaner.state.floatbank2_b_level    0.000206\n",
       "secondary_cleaner.state.floatbank3_a_air      0.000206\n",
       "secondary_cleaner.state.floatbank3_a_level    0.000206\n",
       "secondary_cleaner.state.floatbank3_b_air      0.000206\n",
       "secondary_cleaner.state.floatbank3_b_level    0.000206\n",
       "secondary_cleaner.state.floatbank4_a_air      0.000206\n",
       "secondary_cleaner.state.floatbank4_a_level    0.000206\n",
       "secondary_cleaner.state.floatbank4_b_air      0.000206\n",
       "secondary_cleaner.state.floatbank4_b_level    0.000206\n",
       "secondary_cleaner.state.floatbank5_a_air      0.000206\n",
       "secondary_cleaner.state.floatbank5_a_level    0.000206\n",
       "secondary_cleaner.state.floatbank5_b_air      0.000206\n",
       "secondary_cleaner.state.floatbank5_b_level    0.000206\n",
       "secondary_cleaner.state.floatbank6_a_air      0.000206\n",
       "secondary_cleaner.state.floatbank6_a_level    0.000206\n",
       "dtype: float64"
      ]
     },
     "metadata": {},
     "output_type": "display_data"
    },
    {
     "name": "stdout",
     "output_type": "stream",
     "text": [
      "*************************************************************************************\n"
     ]
    }
   ],
   "source": [
    "for data in data_sets:\n",
    "    display(data.isna().mean())\n",
    "    print('*************************************************************************************')"
   ]
  },
  {
   "cell_type": "markdown",
   "metadata": {},
   "source": [
    "В исходном задании проекта сказано, что данные индексируются датой и временем получения информации и соседние по времени параметры часто похожи, заполним пропуски соответствующими значениями в следующем ряду методом ffill."
   ]
  },
  {
   "cell_type": "code",
   "execution_count": 10,
   "metadata": {},
   "outputs": [],
   "source": [
    "for data in data_sets:\n",
    "  data.bfill(axis='rows', inplace=True)"
   ]
  },
  {
   "cell_type": "code",
   "execution_count": 11,
   "metadata": {
    "scrolled": true,
    "tags": []
   },
   "outputs": [
    {
     "data": {
      "text/plain": [
       "date                      0.0\n",
       "rougher.input.feed_au     0.0\n",
       "rougher.input.feed_ag     0.0\n",
       "rougher.input.feed_pb     0.0\n",
       "rougher.input.feed_sol    0.0\n",
       "                         ... \n",
       "final.output.recovery     0.0\n",
       "final.output.tail_au      0.0\n",
       "final.output.tail_ag      0.0\n",
       "final.output.tail_pb      0.0\n",
       "final.output.tail_sol     0.0\n",
       "Length: 87, dtype: float64"
      ]
     },
     "metadata": {},
     "output_type": "display_data"
    },
    {
     "name": "stdout",
     "output_type": "stream",
     "text": [
      "*************************************************************\n"
     ]
    },
    {
     "data": {
      "text/plain": [
       "date                      0.0\n",
       "rougher.input.feed_au     0.0\n",
       "rougher.input.feed_ag     0.0\n",
       "rougher.input.feed_pb     0.0\n",
       "rougher.input.feed_sol    0.0\n",
       "                         ... \n",
       "final.output.recovery     0.0\n",
       "final.output.tail_au      0.0\n",
       "final.output.tail_ag      0.0\n",
       "final.output.tail_pb      0.0\n",
       "final.output.tail_sol     0.0\n",
       "Length: 87, dtype: float64"
      ]
     },
     "metadata": {},
     "output_type": "display_data"
    },
    {
     "name": "stdout",
     "output_type": "stream",
     "text": [
      "*************************************************************\n"
     ]
    },
    {
     "data": {
      "text/plain": [
       "date                                          0.0\n",
       "rougher.input.feed_au                         0.0\n",
       "rougher.input.feed_ag                         0.0\n",
       "rougher.input.feed_pb                         0.0\n",
       "rougher.input.feed_sol                        0.0\n",
       "rougher.input.feed_rate                       0.0\n",
       "rougher.input.feed_size                       0.0\n",
       "rougher.input.floatbank10_sulfate             0.0\n",
       "rougher.input.floatbank10_xanthate            0.0\n",
       "rougher.state.floatbank10_a_air               0.0\n",
       "rougher.state.floatbank10_a_level             0.0\n",
       "rougher.state.floatbank10_b_air               0.0\n",
       "rougher.state.floatbank10_b_level             0.0\n",
       "rougher.state.floatbank10_c_air               0.0\n",
       "rougher.state.floatbank10_c_level             0.0\n",
       "rougher.state.floatbank10_d_air               0.0\n",
       "rougher.state.floatbank10_d_level             0.0\n",
       "rougher.state.floatbank10_e_air               0.0\n",
       "rougher.state.floatbank10_e_level             0.0\n",
       "rougher.state.floatbank10_f_air               0.0\n",
       "rougher.state.floatbank10_f_level             0.0\n",
       "rougher.input.floatbank11_sulfate             0.0\n",
       "rougher.input.floatbank11_xanthate            0.0\n",
       "primary_cleaner.input.sulfate                 0.0\n",
       "primary_cleaner.input.depressant              0.0\n",
       "primary_cleaner.input.feed_size               0.0\n",
       "primary_cleaner.input.xanthate                0.0\n",
       "primary_cleaner.state.floatbank8_a_air        0.0\n",
       "primary_cleaner.state.floatbank8_a_level      0.0\n",
       "primary_cleaner.state.floatbank8_b_air        0.0\n",
       "primary_cleaner.state.floatbank8_b_level      0.0\n",
       "primary_cleaner.state.floatbank8_c_air        0.0\n",
       "primary_cleaner.state.floatbank8_c_level      0.0\n",
       "primary_cleaner.state.floatbank8_d_air        0.0\n",
       "primary_cleaner.state.floatbank8_d_level      0.0\n",
       "secondary_cleaner.state.floatbank2_a_air      0.0\n",
       "secondary_cleaner.state.floatbank2_a_level    0.0\n",
       "secondary_cleaner.state.floatbank2_b_air      0.0\n",
       "secondary_cleaner.state.floatbank2_b_level    0.0\n",
       "secondary_cleaner.state.floatbank3_a_air      0.0\n",
       "secondary_cleaner.state.floatbank3_a_level    0.0\n",
       "secondary_cleaner.state.floatbank3_b_air      0.0\n",
       "secondary_cleaner.state.floatbank3_b_level    0.0\n",
       "secondary_cleaner.state.floatbank4_a_air      0.0\n",
       "secondary_cleaner.state.floatbank4_a_level    0.0\n",
       "secondary_cleaner.state.floatbank4_b_air      0.0\n",
       "secondary_cleaner.state.floatbank4_b_level    0.0\n",
       "secondary_cleaner.state.floatbank5_a_air      0.0\n",
       "secondary_cleaner.state.floatbank5_a_level    0.0\n",
       "secondary_cleaner.state.floatbank5_b_air      0.0\n",
       "secondary_cleaner.state.floatbank5_b_level    0.0\n",
       "secondary_cleaner.state.floatbank6_a_air      0.0\n",
       "secondary_cleaner.state.floatbank6_a_level    0.0\n",
       "dtype: float64"
      ]
     },
     "metadata": {},
     "output_type": "display_data"
    },
    {
     "name": "stdout",
     "output_type": "stream",
     "text": [
      "*************************************************************\n"
     ]
    }
   ],
   "source": [
    "for data in data_sets:\n",
    "    display(data.isna().mean())\n",
    "    print('*************************************************************')"
   ]
  },
  {
   "cell_type": "markdown",
   "metadata": {},
   "source": [
    "#### Дубликаты строк"
   ]
  },
  {
   "cell_type": "code",
   "execution_count": 12,
   "metadata": {
    "tags": []
   },
   "outputs": [
    {
     "data": {
      "text/plain": [
       "0"
      ]
     },
     "metadata": {},
     "output_type": "display_data"
    },
    {
     "name": "stdout",
     "output_type": "stream",
     "text": [
      "*************************************************************\n"
     ]
    },
    {
     "data": {
      "text/plain": [
       "0"
      ]
     },
     "metadata": {},
     "output_type": "display_data"
    },
    {
     "name": "stdout",
     "output_type": "stream",
     "text": [
      "*************************************************************\n"
     ]
    },
    {
     "data": {
      "text/plain": [
       "0"
      ]
     },
     "metadata": {},
     "output_type": "display_data"
    },
    {
     "name": "stdout",
     "output_type": "stream",
     "text": [
      "*************************************************************\n"
     ]
    }
   ],
   "source": [
    "for data in data_sets:\n",
    "    display(data.duplicated().sum())\n",
    "    print('*************************************************************')"
   ]
  },
  {
   "cell_type": "markdown",
   "metadata": {},
   "source": [
    "Дубликаты строк отсутствуют во всех представленных данных"
   ]
  },
  {
   "cell_type": "markdown",
   "metadata": {
    "tags": []
   },
   "source": [
    "### Содержрание данных"
   ]
  },
  {
   "cell_type": "markdown",
   "metadata": {},
   "source": [
    "Из пункта 5.4.1.3 видно, что в Тестовой выборке содержится меньше столбцов."
   ]
  },
  {
   "cell_type": "code",
   "execution_count": 13,
   "metadata": {
    "tags": []
   },
   "outputs": [
    {
     "data": {
      "text/plain": [
       "{'final.output.concentrate_ag',\n",
       " 'final.output.concentrate_au',\n",
       " 'final.output.concentrate_pb',\n",
       " 'final.output.concentrate_sol',\n",
       " 'final.output.recovery',\n",
       " 'final.output.tail_ag',\n",
       " 'final.output.tail_au',\n",
       " 'final.output.tail_pb',\n",
       " 'final.output.tail_sol',\n",
       " 'primary_cleaner.output.concentrate_ag',\n",
       " 'primary_cleaner.output.concentrate_au',\n",
       " 'primary_cleaner.output.concentrate_pb',\n",
       " 'primary_cleaner.output.concentrate_sol',\n",
       " 'primary_cleaner.output.tail_ag',\n",
       " 'primary_cleaner.output.tail_au',\n",
       " 'primary_cleaner.output.tail_pb',\n",
       " 'primary_cleaner.output.tail_sol',\n",
       " 'rougher.calculation.au_pb_ratio',\n",
       " 'rougher.calculation.floatbank10_sulfate_to_au_feed',\n",
       " 'rougher.calculation.floatbank11_sulfate_to_au_feed',\n",
       " 'rougher.calculation.sulfate_to_au_concentrate',\n",
       " 'rougher.output.concentrate_ag',\n",
       " 'rougher.output.concentrate_au',\n",
       " 'rougher.output.concentrate_pb',\n",
       " 'rougher.output.concentrate_sol',\n",
       " 'rougher.output.recovery',\n",
       " 'rougher.output.tail_ag',\n",
       " 'rougher.output.tail_au',\n",
       " 'rougher.output.tail_pb',\n",
       " 'rougher.output.tail_sol',\n",
       " 'secondary_cleaner.output.tail_ag',\n",
       " 'secondary_cleaner.output.tail_au',\n",
       " 'secondary_cleaner.output.tail_pb',\n",
       " 'secondary_cleaner.output.tail_sol'}"
      ]
     },
     "execution_count": 13,
     "metadata": {},
     "output_type": "execute_result"
    }
   ],
   "source": [
    "# найдем столбцы недоступные в тестовой выборке\n",
    "set(train.columns)-set(test.columns) "
   ]
  },
  {
   "cell_type": "markdown",
   "metadata": {},
   "source": [
    "Данные столбцы отсутствуют в тестовой выборке. В этих столбцах содержатся данные, которые относятся ко второй стадии обогащения, параметры продуктов (а не сырья), расчетные характеристики, относящиеся к разным этапам, т.е значения `final.output, primary_cleaner.output, rougher.calculations, rougher.output, secondary_cleaner.output`"
   ]
  },
  {
   "cell_type": "markdown",
   "metadata": {},
   "source": [
    "# Значения формул и функции рассчета метрик"
   ]
  },
  {
   "cell_type": "markdown",
   "metadata": {},
   "source": [
    "## Формула обогощения золота"
   ]
  },
  {
   "cell_type": "markdown",
   "metadata": {},
   "source": [
    "В пункте 3.2 представлена формула обогощения золота, создадим переменные для вычисления."
   ]
  },
  {
   "cell_type": "code",
   "execution_count": 14,
   "metadata": {},
   "outputs": [],
   "source": [
    "C = train['rougher.output.concentrate_au'] # C - доля золота в концентрате после флотации/очистки\n",
    "F = train['rougher.input.feed_au']         # F - доля золота в сырье/концентрате до флотации/очистки\n",
    "T = train['rougher.output.tail_au']        # T - доля золота в отвальных хвостах после флотации/очистки"
   ]
  },
  {
   "cell_type": "code",
   "execution_count": 15,
   "metadata": {},
   "outputs": [],
   "source": [
    "recovery = (C * (F - T)) / (F * (C - T)) * 100"
   ]
  },
  {
   "cell_type": "code",
   "execution_count": 16,
   "metadata": {},
   "outputs": [],
   "source": [
    "# добавим в train выборку столбец с рассчитанным уровнем восстановления\n",
    "train['recovery'] = recovery"
   ]
  },
  {
   "cell_type": "code",
   "execution_count": 17,
   "metadata": {},
   "outputs": [
    {
     "data": {
      "text/plain": [
       "count    14579.000000\n",
       "mean        82.521200\n",
       "std         15.797521\n",
       "min         -0.000000\n",
       "25%         80.558542\n",
       "50%         85.946497\n",
       "75%         89.960375\n",
       "max        100.000000\n",
       "Name: recovery, dtype: float64"
      ]
     },
     "execution_count": 17,
     "metadata": {},
     "output_type": "execute_result"
    }
   ],
   "source": [
    "train['recovery'].describe()"
   ]
  },
  {
   "cell_type": "code",
   "execution_count": 18,
   "metadata": {},
   "outputs": [
    {
     "data": {
      "text/plain": [
       "count    14579.000000\n",
       "mean        82.521200\n",
       "std         15.797521\n",
       "min          0.000000\n",
       "25%         80.558542\n",
       "50%         85.946497\n",
       "75%         89.960375\n",
       "max        100.000000\n",
       "Name: rougher.output.recovery, dtype: float64"
      ]
     },
     "execution_count": 18,
     "metadata": {},
     "output_type": "execute_result"
    }
   ],
   "source": [
    "train['rougher.output.recovery'].describe()"
   ]
  },
  {
   "cell_type": "code",
   "execution_count": 19,
   "metadata": {},
   "outputs": [
    {
     "data": {
      "text/plain": [
       "9.862076326186705e-15"
      ]
     },
     "execution_count": 19,
     "metadata": {},
     "output_type": "execute_result"
    }
   ],
   "source": [
    "mean_absolute_error(train['recovery'], train['rougher.output.recovery'])"
   ]
  },
  {
   "cell_type": "markdown",
   "metadata": {},
   "source": [
    "Значения между созданным `Recovery` и существующим `ougher.output.recovery` одинаковые, что говорит о корректности формулы. Также это подтверждается низким значением квадратичного отклонения.\n",
    "Корректность формулы проверено, далее искусственный столбец не нужен."
   ]
  },
  {
   "cell_type": "code",
   "execution_count": 20,
   "metadata": {},
   "outputs": [],
   "source": [
    "train = train.drop('recovery', axis=1)"
   ]
  },
  {
   "cell_type": "markdown",
   "metadata": {},
   "source": [
    "## Функция sMAPE"
   ]
  },
  {
   "cell_type": "markdown",
   "metadata": {},
   "source": [
    "### sMAPE"
   ]
  },
  {
   "cell_type": "markdown",
   "metadata": {},
   "source": [
    "Из условий задачи нам известна метрика оценки (формула приведена в пункте 3.1), создадим функцию по расчету."
   ]
  },
  {
   "cell_type": "code",
   "execution_count": 21,
   "metadata": {},
   "outputs": [],
   "source": [
    "def smape(target, predicted): #на вход принимает 2 значения, целевой и предсказанный\n",
    "     #так как критерий оценки финальной модели - минимизация значения sMAPE, то для будущих вычислений умножим на -1\n",
    "  return (1/len(target) * np.sum(2 * np.abs(target - predicted) / (np.abs(target) + np.abs(predicted))*100)) * (-1)"
   ]
  },
  {
   "cell_type": "markdown",
   "metadata": {},
   "source": [
    "### final sMAPE"
   ]
  },
  {
   "cell_type": "code",
   "execution_count": 22,
   "metadata": {},
   "outputs": [],
   "source": [
    "def smape_final(rougher, final): #на вход принимает 2 значения, предсказания по сырьевым значениям и финальный состав\n",
    "   #так как критерий оценки финальной модели - минимизация значения sMAPE, то для будущих вычислений умножим на -1\n",
    "  return (0.25*rougher + 0.75*final) * (-1)"
   ]
  },
  {
   "cell_type": "markdown",
   "metadata": {},
   "source": [
    "# EDA"
   ]
  },
  {
   "cell_type": "markdown",
   "metadata": {},
   "source": [
    "## Анализ технологических операций"
   ]
  },
  {
   "cell_type": "markdown",
   "metadata": {},
   "source": [
    "В ходе технологического процесса изменяется содержание металлов:\n",
    "- Золото (AU)\n",
    "- Серебро (Ag)\n",
    "- Свинец (Pb)\n",
    "\n",
    "Целесообразно посмотреть, как изменяется концентрация по разных этапах очистки. "
   ]
  },
  {
   "cell_type": "code",
   "execution_count": 23,
   "metadata": {},
   "outputs": [],
   "source": [
    "full_copy = full.copy(deep=True)"
   ]
  },
  {
   "cell_type": "code",
   "execution_count": 24,
   "metadata": {},
   "outputs": [],
   "source": [
    "full_copy = full_copy[['rougher.input.feed_ag', 'rougher.output.concentrate_ag', 'primary_cleaner.output.concentrate_ag', 'final.output.concentrate_ag', \\\n",
    "                       'rougher.input.feed_pb', 'rougher.output.concentrate_pb', 'primary_cleaner.output.concentrate_pb', 'final.output.concentrate_pb', \\\n",
    "                       'rougher.input.feed_au', 'rougher.output.concentrate_au', 'primary_cleaner.output.concentrate_au', 'final.output.concentrate_au', \\\n",
    "                       'rougher.input.feed_sol', 'rougher.output.concentrate_sol', 'primary_cleaner.output.concentrate_sol', 'final.output.concentrate_sol'\n",
    "                    ]]"
   ]
  },
  {
   "cell_type": "markdown",
   "metadata": {},
   "source": [
    "Для удобства работы переименуем столбцы"
   ]
  },
  {
   "cell_type": "code",
   "execution_count": 25,
   "metadata": {},
   "outputs": [],
   "source": [
    "full_copy = full_copy.rename(columns = {'rougher.output.concentrate_ag' : 'Флотация Серебро', \\\n",
    "                                        'primary_cleaner.output.concentrate_ag' : 'Первичная очистка Серебро', \\\n",
    "                                        'final.output.concentrate_ag' : 'Вторичная очистка Серебро', \\\n",
    "                                        'rougher.output.concentrate_pb' : 'Флотация Свинец', \\\n",
    "                                        'primary_cleaner.output.concentrate_pb' : 'Первичная очистка Свинец', \\\n",
    "                                        'final.output.concentrate_pb' : 'Вторичная очистка Свинец', \\\n",
    "                                        'rougher.output.concentrate_au' : 'Флотация Золото', \\\n",
    "                                        'primary_cleaner.output.concentrate_au': 'Первичная очистка Золото', \\\n",
    "                                        'final.output.concentrate_au' : 'Вторичная очистка Золото', \\\n",
    "                                        'rougher.output.concentrate_sol' : 'Флотация Sol', \\\n",
    "                                        'primary_cleaner.output.concentrate_sol': 'Первичная очистка Sol', \\\n",
    "                                        'final.output.concentrate_sol' : 'Вторичная очистка Sol', \\\n",
    "                                        'rougher.input.feed_ag' : 'Серебро в первичном сырье', \\\n",
    "                                        'rougher.input.feed_pb' : 'Свинец в первичном сырье', \\\n",
    "                                        'rougher.input.feed_au' : 'Золото в первичном сырье', \\\n",
    "                                        'rougher.input.feed_sol' : 'Sol в первичном сырье'\n",
    "                                       })"
   ]
  },
  {
   "cell_type": "code",
   "execution_count": 26,
   "metadata": {},
   "outputs": [
    {
     "data": {
      "text/plain": [
       "Index(['Серебро в первичном сырье', 'Флотация Серебро',\n",
       "       'Первичная очистка Серебро', 'Вторичная очистка Серебро',\n",
       "       'Свинец в первичном сырье', 'Флотация Свинец',\n",
       "       'Первичная очистка Свинец', 'Вторичная очистка Свинец',\n",
       "       'Золото в первичном сырье', 'Флотация Золото',\n",
       "       'Первичная очистка Золото', 'Вторичная очистка Золото',\n",
       "       'Sol в первичном сырье', 'Флотация Sol', 'Первичная очистка Sol',\n",
       "       'Вторичная очистка Sol'],\n",
       "      dtype='object')"
      ]
     },
     "execution_count": 26,
     "metadata": {},
     "output_type": "execute_result"
    }
   ],
   "source": [
    "full_copy.columns"
   ]
  },
  {
   "cell_type": "code",
   "execution_count": 27,
   "metadata": {},
   "outputs": [],
   "source": [
    "data_ag = full_copy[['Серебро в первичном сырье', 'Флотация Серебро', 'Первичная очистка Серебро', 'Вторичная очистка Серебро']]\n",
    "data_pb = full_copy[['Свинец в первичном сырье', 'Флотация Свинец','Первичная очистка Свинец', 'Вторичная очистка Свинец']]\n",
    "data_au = full_copy[['Золото в первичном сырье', 'Флотация Золото', 'Первичная очистка Золото','Вторичная очистка Золото']]\n",
    "data_sol = full_copy[['Sol в первичном сырье', 'Флотация Sol', 'Первичная очистка Sol','Вторичная очистка Sol']]"
   ]
  },
  {
   "cell_type": "code",
   "execution_count": 28,
   "metadata": {},
   "outputs": [
    {
     "data": {
      "image/png": "[encoded data removed]",
      "text/plain": [
       "<Figure size 2200x600 with 4 Axes>"
      ]
     },
     "metadata": {},
     "output_type": "display_data"
    }
   ],
   "source": [
    "fig, (ax1, ax2, ax3, ax4) = plt.subplots(1, 4, linewidth=3, figsize=(22, 6))    # 1 ряд, 3 графика\n",
    "\n",
    "data_ag.mean().plot(ax=ax1, subplots=True, grid=True)\n",
    "ax1.set_title('Серебро (Ag)')\n",
    "ax1.set_ylabel('Концентрация серебра')\n",
    "ax1.set_xlabel('Стадии очистки')\n",
    "ax1.tick_params(axis='x', rotation=90)\n",
    "\n",
    "data_pb.mean().plot(ax=ax2, subplots=True, grid=True)\n",
    "ax2.set_title('Свинец (Pb)')\n",
    "ax2.set_ylabel('Концентрация свинца')\n",
    "ax2.set_xlabel('Стадии очистки')\n",
    "ax2.tick_params(axis='x', rotation=90)\n",
    "\n",
    "data_au.mean().plot(ax=ax3, subplots=True, grid=True)\n",
    "ax3.set_title('Золото (Au)')\n",
    "ax3.set_ylabel('Концентрация золота')\n",
    "ax3.set_xlabel('Стадии очистки')\n",
    "ax3.tick_params(axis='x', rotation=90)\n",
    "\n",
    "data_sol.mean().plot(ax=ax4, subplots=True, grid=True)\n",
    "ax4.set_title('Sol')\n",
    "ax4.set_ylabel('Концентрация Sol')\n",
    "ax4.set_xlabel('Стадии очистки')\n",
    "ax4.tick_params(axis='x', rotation=90)\n",
    "\n",
    "plt.suptitle('Изменение содержания металлов на этапах флотации, первичной и вторичной очистки', fontweight='bold')\n",
    "plt.show()"
   ]
  },
  {
   "cell_type": "markdown",
   "metadata": {},
   "source": [
    "Из графиков видно, что:\n",
    "- Содержание повышается относительно первоначального сырья и снижается по мере очищения сплава\n",
    "- Содержание свинца сильно возрастает до первой очистки и незначительно после второй\n",
    "- Содержание золота в сплаве стабильно растет после каждой технологической операции\n",
    "- Содержание Sol зеркально свинцу, сильно падает на каждом технологическом этапе и в небольшом количестве уходит после вторичной очистки"
   ]
  },
  {
   "cell_type": "markdown",
   "metadata": {},
   "source": [
    "## Анализ распределения значений"
   ]
  },
  {
   "cell_type": "markdown",
   "metadata": {},
   "source": [
    "Для корретного выбора модели обучения необходимо оценить распределение соответствующих столбцов между датасетами.  \n",
    "Оценка будет проводиться U-test Манна-Витни."
   ]
  },
  {
   "cell_type": "code",
   "execution_count": 29,
   "metadata": {},
   "outputs": [],
   "source": [
    "def m_u_test(data_1, data_2):\n",
    "    stat, pvalue = mannwhitneyu (data_1, data_2, alternative='two-sided')\n",
    "    alpha = 0.05\n",
    "    return pvalue"
   ]
  },
  {
   "cell_type": "code",
   "execution_count": 30,
   "metadata": {},
   "outputs": [],
   "source": [
    "same = []\n",
    "not_same = []\n",
    "alpha = 0.05\n",
    "for col in test.columns[1:]:\n",
    "    if m_u_test(test[col], train[col]) < alpha:\n",
    "        same.append(col)\n",
    "    else:\n",
    "        not_same.append(col)"
   ]
  },
  {
   "cell_type": "code",
   "execution_count": 31,
   "metadata": {},
   "outputs": [
    {
     "name": "stdout",
     "output_type": "stream",
     "text": [
      "При сравнении распределения между соответствующими столбцами базы Test и Train было выявлено, распределения:  \n",
      "- одинаковые в 44 случаях  \n",
      "- разные в 8 случаях\n"
     ]
    }
   ],
   "source": [
    "print(f'''При сравнении распределения между соответствующими столбцами базы Test и Train было выявлено, распределения:  \n",
    "- одинаковые в {len(same)} случаях  \n",
    "- разные в {len(not_same)} случаях''')"
   ]
  },
  {
   "cell_type": "code",
   "execution_count": 32,
   "metadata": {},
   "outputs": [
    {
     "name": "stdout",
     "output_type": "stream",
     "text": [
      "Разность распредеелния значений выявлены для столбцов ['rougher.input.feed_pb', 'rougher.state.floatbank10_e_air', 'primary_cleaner.input.feed_size', 'primary_cleaner.state.floatbank8_b_air', 'primary_cleaner.state.floatbank8_c_air', 'secondary_cleaner.state.floatbank2_a_level', 'secondary_cleaner.state.floatbank3_b_level', 'secondary_cleaner.state.floatbank6_a_air']\n"
     ]
    }
   ],
   "source": [
    "print(f'Разность распредеелния значений выявлены для столбцов {not_same}')"
   ]
  },
  {
   "cell_type": "markdown",
   "metadata": {},
   "source": [
    "## Сравним распределения размеров гранул сырья на обучающей и тестовой выборках."
   ]
  },
  {
   "cell_type": "code",
   "execution_count": 33,
   "metadata": {},
   "outputs": [
    {
     "data": {
      "image/png": "[encoded data removed]",
      "text/plain": [
       "<Figure size 640x480 with 1 Axes>"
      ]
     },
     "metadata": {},
     "output_type": "display_data"
    }
   ],
   "source": [
    "train['rougher.input.feed_size'].hist(bins=200, alpha=0.5, label='train', density=True)\n",
    "test['rougher.input.feed_size'].hist(bins=200, alpha=0.5, label='test', density=True)\n",
    "plt.xlabel('размер частиц, мк')\n",
    "plt.ylabel('количество наблюдений')\n",
    "plt.legend()\n",
    "plt.show()"
   ]
  },
  {
   "cell_type": "code",
   "execution_count": 34,
   "metadata": {},
   "outputs": [
    {
     "name": "stdout",
     "output_type": "stream",
     "text": [
      "Распределения размеров гранул сырья на обучающей и тестовой выборках одинаковое\n"
     ]
    }
   ],
   "source": [
    "if m_u_test(train['rougher.input.feed_size'], test['rougher.input.feed_size']) < alpha:\n",
    "    print('Распределения размеров гранул сырья на обучающей и тестовой выборках одинаковое')\n",
    "else:\n",
    "    print('Распределения размеров гранул сырья на обучающей и тестовой выборках разное')"
   ]
  },
  {
   "cell_type": "markdown",
   "metadata": {},
   "source": [
    "## Суммарная концентрацая всех веществ на разных стадиях: в сырье, в черновом и финальном концентратах"
   ]
  },
  {
   "cell_type": "markdown",
   "metadata": {},
   "source": [
    "### Суммарная концентрация в сырьевой стадии"
   ]
  },
  {
   "cell_type": "code",
   "execution_count": 35,
   "metadata": {},
   "outputs": [],
   "source": [
    "rouhger_sum = full[['rougher.input.feed_ag', \n",
    "                   'rougher.input.feed_pb', \n",
    "                   'rougher.input.feed_sol', \n",
    "                   'rougher.input.feed_au']].sum(axis=1)"
   ]
  },
  {
   "cell_type": "code",
   "execution_count": 36,
   "metadata": {},
   "outputs": [
    {
     "data": {
      "image/png": "[encoded data removed]",
      "text/plain": [
       "<Figure size 640x480 with 1 Axes>"
      ]
     },
     "metadata": {},
     "output_type": "display_data"
    }
   ],
   "source": [
    "sns.histplot(data=rouhger_sum, kde=True)\n",
    "plt.title('Содержание металлов на сырьевой стадии')\n",
    "plt.ylabel('Концентрация металлов')\n",
    "plt.xlabel('Количество металлов')\n",
    "plt.tick_params(axis='x', rotation=30)\n",
    "plt.show()"
   ]
  },
  {
   "cell_type": "markdown",
   "metadata": {},
   "source": [
    "### Суммарная концентрация в черновой стадии"
   ]
  },
  {
   "cell_type": "code",
   "execution_count": 37,
   "metadata": {},
   "outputs": [],
   "source": [
    "concentrate_sum = full[['rougher.output.concentrate_pb', \n",
    "                   'rougher.output.concentrate_ag', \n",
    "                   'rougher.output.concentrate_sol', \n",
    "                   'rougher.output.concentrate_au']].sum(axis=1)"
   ]
  },
  {
   "cell_type": "code",
   "execution_count": 38,
   "metadata": {},
   "outputs": [
    {
     "data": {
      "image/png": "[encoded data removed]",
      "text/plain": [
       "<Figure size 640x480 with 1 Axes>"
      ]
     },
     "metadata": {},
     "output_type": "display_data"
    }
   ],
   "source": [
    "sns.histplot(data=concentrate_sum, kde=True)\n",
    "plt.title('Содержание металлов на черновой стадии')\n",
    "plt.ylabel('Концентрация металлов')\n",
    "plt.xlabel('Количество металлов')\n",
    "plt.tick_params(axis='x', rotation=30)\n",
    "plt.show()"
   ]
  },
  {
   "cell_type": "markdown",
   "metadata": {},
   "source": [
    "### Суммарная концентрация в финальной стадии"
   ]
  },
  {
   "cell_type": "code",
   "execution_count": 39,
   "metadata": {},
   "outputs": [],
   "source": [
    "final_sum = full[['final.output.concentrate_pb', \n",
    "                   'final.output.concentrate_ag', \n",
    "                   'final.output.concentrate_sol', \n",
    "                   'final.output.concentrate_au']].sum(axis=1)"
   ]
  },
  {
   "cell_type": "code",
   "execution_count": 40,
   "metadata": {},
   "outputs": [
    {
     "data": {
      "image/png": "[encoded data removed]",
      "text/plain": [
       "<Figure size 640x480 with 1 Axes>"
      ]
     },
     "metadata": {},
     "output_type": "display_data"
    }
   ],
   "source": [
    "sns.histplot(data=final_sum, kde=True)\n",
    "plt.title('Содержание металлов на финальной стадии')\n",
    "plt.ylabel('Концентрация металлов')\n",
    "plt.xlabel('Количество металлов')\n",
    "plt.tick_params(axis='x', rotation=30)\n",
    "plt.show()"
   ]
  },
  {
   "cell_type": "markdown",
   "metadata": {},
   "source": [
    "### Выводы по распределению металлов"
   ]
  },
  {
   "cell_type": "markdown",
   "metadata": {},
   "source": [
    "Аномалии видны на этапах черновой и финальной обработки сплава (значения около 0), так как нет уверенности в корректности этих значений. Считаю целесообразно исключить строки, где сумма металлов на каком-либо этапе = 0, так как либо это ошибки автоматического сбора данных, либо процесс очистки технологической емкости, что вредит исследумым данным."
   ]
  },
  {
   "cell_type": "code",
   "execution_count": 41,
   "metadata": {},
   "outputs": [
    {
     "data": {
      "text/plain": [
       "0"
      ]
     },
     "execution_count": 41,
     "metadata": {},
     "output_type": "execute_result"
    }
   ],
   "source": [
    "(rouhger_sum == 0).sum()"
   ]
  },
  {
   "cell_type": "code",
   "execution_count": 42,
   "metadata": {},
   "outputs": [
    {
     "data": {
      "text/plain": [
       "394"
      ]
     },
     "execution_count": 42,
     "metadata": {},
     "output_type": "execute_result"
    }
   ],
   "source": [
    "(concentrate_sum == 0).sum()"
   ]
  },
  {
   "cell_type": "code",
   "execution_count": 43,
   "metadata": {},
   "outputs": [
    {
     "data": {
      "text/plain": [
       "98"
      ]
     },
     "execution_count": 43,
     "metadata": {},
     "output_type": "execute_result"
    }
   ],
   "source": [
    "(final_sum == 0).sum()"
   ]
  },
  {
   "cell_type": "markdown",
   "metadata": {},
   "source": [
    "Удалять такие значения будем в Train и Test"
   ]
  },
  {
   "cell_type": "code",
   "execution_count": 44,
   "metadata": {},
   "outputs": [],
   "source": [
    "train['concentrate_sum'] = train['rougher.output.concentrate_pb'] + train['rougher.output.concentrate_ag'] + train['rougher.output.concentrate_sol'] + train['rougher.output.concentrate_au']\n",
    "train = train.loc[train['concentrate_sum'] != 0]\n",
    "train = train.drop('concentrate_sum', axis=1)"
   ]
  },
  {
   "cell_type": "code",
   "execution_count": 45,
   "metadata": {},
   "outputs": [],
   "source": [
    "train['final_sum'] = train['final.output.concentrate_pb'] + train['final.output.concentrate_ag'] + train['final.output.concentrate_sol'] + train['final.output.concentrate_au']\n",
    "train = train.loc[train['final_sum'] != 0]\n",
    "train = train.drop('final_sum', axis=1)"
   ]
  },
  {
   "cell_type": "markdown",
   "metadata": {},
   "source": [
    "Из пункта 5.4.2 видно, что в Test отсутствуют данные столбцы"
   ]
  },
  {
   "cell_type": "markdown",
   "metadata": {
    "tags": []
   },
   "source": [
    "# Модель"
   ]
  },
  {
   "cell_type": "markdown",
   "metadata": {},
   "source": [
    "## Подготовка данных для модели обучения"
   ]
  },
  {
   "cell_type": "markdown",
   "metadata": {},
   "source": [
    "Из пункта 5.4.2 известно об отсутствии необходимых данных в тествой выборке."
   ]
  },
  {
   "cell_type": "code",
   "execution_count": 46,
   "metadata": {},
   "outputs": [
    {
     "data": {
      "text/html": [
       "<div>\n",
       "<style scoped>\n",
       "    .dataframe tbody tr th:only-of-type {\n",
       "        vertical-align: middle;\n",
       "    }\n",
       "\n",
       "    .dataframe tbody tr th {\n",
       "        vertical-align: top;\n",
       "    }\n",
       "\n",
       "    .dataframe thead th {\n",
       "        text-align: right;\n",
       "    }\n",
       "</style>\n",
       "<table border=\"1\" class=\"dataframe\">\n",
       "  <thead>\n",
       "    <tr style=\"text-align: right;\">\n",
       "      <th></th>\n",
       "      <th>date</th>\n",
       "      <th>rougher.output.recovery</th>\n",
       "      <th>final.output.recovery</th>\n",
       "    </tr>\n",
       "  </thead>\n",
       "  <tbody>\n",
       "    <tr>\n",
       "      <th>0</th>\n",
       "      <td>2016-01-15 00:00:00</td>\n",
       "      <td>87.107763</td>\n",
       "      <td>70.541216</td>\n",
       "    </tr>\n",
       "    <tr>\n",
       "      <th>1</th>\n",
       "      <td>2016-01-15 01:00:00</td>\n",
       "      <td>86.843261</td>\n",
       "      <td>69.266198</td>\n",
       "    </tr>\n",
       "    <tr>\n",
       "      <th>2</th>\n",
       "      <td>2016-01-15 02:00:00</td>\n",
       "      <td>86.842308</td>\n",
       "      <td>68.116445</td>\n",
       "    </tr>\n",
       "    <tr>\n",
       "      <th>3</th>\n",
       "      <td>2016-01-15 03:00:00</td>\n",
       "      <td>87.226430</td>\n",
       "      <td>68.347543</td>\n",
       "    </tr>\n",
       "    <tr>\n",
       "      <th>4</th>\n",
       "      <td>2016-01-15 04:00:00</td>\n",
       "      <td>86.688794</td>\n",
       "      <td>66.927016</td>\n",
       "    </tr>\n",
       "  </tbody>\n",
       "</table>\n",
       "</div>"
      ],
      "text/plain": [
       "                  date  rougher.output.recovery  final.output.recovery\n",
       "0  2016-01-15 00:00:00                87.107763              70.541216\n",
       "1  2016-01-15 01:00:00                86.843261              69.266198\n",
       "2  2016-01-15 02:00:00                86.842308              68.116445\n",
       "3  2016-01-15 03:00:00                87.226430              68.347543\n",
       "4  2016-01-15 04:00:00                86.688794              66.927016"
      ]
     },
     "execution_count": 46,
     "metadata": {},
     "output_type": "execute_result"
    }
   ],
   "source": [
    "df_target = full[['date', 'rougher.output.recovery', 'final.output.recovery']] # недостающие данные\n",
    "df_target.head()"
   ]
  },
  {
   "cell_type": "code",
   "execution_count": 47,
   "metadata": {},
   "outputs": [],
   "source": [
    "#добавим эти признаки в тестовую выборку из полной\n",
    "test = test.merge(df_target, how = 'left', on = 'date')"
   ]
  },
  {
   "cell_type": "code",
   "execution_count": 48,
   "metadata": {},
   "outputs": [],
   "source": [
    "# удалим столбец с датой, так как он не влияет на обучаемую модель\n",
    "test.drop(['date'], axis=1, inplace=True)"
   ]
  },
  {
   "cell_type": "code",
   "execution_count": 49,
   "metadata": {},
   "outputs": [],
   "source": [
    "# удалим из тренировочной выборки те признаки, которых нет в тестовой, для корректности обучения модели\n",
    "train = train.drop(set(train.columns)-set(test.columns), axis=1)"
   ]
  },
  {
   "cell_type": "markdown",
   "metadata": {},
   "source": [
    "## Разбивка данных"
   ]
  },
  {
   "cell_type": "markdown",
   "metadata": {},
   "source": [
    "Выделим фичи и таргеты для чернового и финального концентрата в тренировочной и тестовой выборке"
   ]
  },
  {
   "cell_type": "code",
   "execution_count": 50,
   "metadata": {},
   "outputs": [],
   "source": [
    "# выделим признаки на тренировочной выборке для чернового концентрата (rougher)\n",
    "features_train_r = train.filter(regex='^rougher',axis=1)\n",
    "features_train_r = features_train_r.drop(['rougher.output.recovery'], axis=1)\n",
    "target_train_r = train['rougher.output.recovery']\n",
    "\n",
    "# выделим признаки на тренировочной выборке для финального концентрата (final)\n",
    "features_train_f = train.drop(['rougher.output.recovery', 'final.output.recovery'], axis=1)\n",
    "target_train_f = train['final.output.recovery']\n",
    "\n",
    "# выделим признаки на тестовой выборке для чернового концентрата (rougher)\n",
    "features_test_r = test.filter(regex='^rougher',axis=1)\n",
    "features_test_r = features_test_r.drop(['rougher.output.recovery'], axis=1)\n",
    "target_test_r = test['rougher.output.recovery']\n",
    "\n",
    "# выделим признаки на тестовой выборке для финального концентрата (final)\n",
    "features_test_f = test.drop(['rougher.output.recovery', 'final.output.recovery'], axis=1)\n",
    "target_test_f = test['final.output.recovery']"
   ]
  },
  {
   "cell_type": "markdown",
   "metadata": {},
   "source": [
    "Проверим размер выборок"
   ]
  },
  {
   "cell_type": "code",
   "execution_count": 51,
   "metadata": {},
   "outputs": [
    {
     "data": {
      "text/plain": [
       "(14089, 22)"
      ]
     },
     "metadata": {},
     "output_type": "display_data"
    },
    {
     "data": {
      "text/plain": [
       "(14089,)"
      ]
     },
     "metadata": {},
     "output_type": "display_data"
    },
    {
     "data": {
      "text/plain": [
       "(14089, 52)"
      ]
     },
     "metadata": {},
     "output_type": "display_data"
    },
    {
     "data": {
      "text/plain": [
       "(14089,)"
      ]
     },
     "metadata": {},
     "output_type": "display_data"
    },
    {
     "data": {
      "text/plain": [
       "(4860, 22)"
      ]
     },
     "metadata": {},
     "output_type": "display_data"
    },
    {
     "data": {
      "text/plain": [
       "(4860,)"
      ]
     },
     "metadata": {},
     "output_type": "display_data"
    },
    {
     "data": {
      "text/plain": [
       "(4860, 52)"
      ]
     },
     "metadata": {},
     "output_type": "display_data"
    },
    {
     "data": {
      "text/plain": [
       "(4860,)"
      ]
     },
     "metadata": {},
     "output_type": "display_data"
    }
   ],
   "source": [
    "# проверим размер признаков\n",
    "display(features_train_r.shape)\n",
    "display(target_train_r.shape)\n",
    "\n",
    "display(features_train_f.shape)\n",
    "display(target_train_f.shape)\n",
    "\n",
    "display(features_test_r.shape)\n",
    "display(target_test_r.shape)\n",
    "\n",
    "display(features_test_f.shape)\n",
    "display(target_test_f.shape)"
   ]
  },
  {
   "cell_type": "markdown",
   "metadata": {},
   "source": [
    "Соответствующие выборки одинакового размера"
   ]
  },
  {
   "cell_type": "markdown",
   "metadata": {},
   "source": [
    "### Обучение модели"
   ]
  },
  {
   "cell_type": "markdown",
   "metadata": {},
   "source": [
    "Для наших целей, когда предсказываемое событие является непрерывной величиной подойдут модели машинного обучения:\n",
    "- Линейной регрессии\n",
    "- K Ближайших Соседей (KNN)\n",
    "- Метод опорных Векторов (SVMs)"
   ]
  },
  {
   "cell_type": "markdown",
   "metadata": {},
   "source": [
    "Основная задача - минимизировать значение sMAPE, следственно метрика будет умножаться на значение `-1` и проверяться наибольшая величина."
   ]
  },
  {
   "cell_type": "markdown",
   "metadata": {},
   "source": [
    "#### Линейная регрессия"
   ]
  },
  {
   "cell_type": "code",
   "execution_count": 52,
   "metadata": {},
   "outputs": [],
   "source": [
    "model_lr = LinearRegression()"
   ]
  },
  {
   "cell_type": "code",
   "execution_count": 53,
   "metadata": {},
   "outputs": [
    {
     "name": "stdout",
     "output_type": "stream",
     "text": [
      "\n",
      "Значение sMAPE для чернового концентрата: 6.47103592436662\n",
      "Значение sMAPE для финального концентрата: 9.709372271525073\n",
      "Финальное значение sMAPE: 8.89978818473546\n",
      "\n",
      "CPU times: user 1.44 s, sys: 237 ms, total: 1.68 s\n",
      "Wall time: 253 ms\n"
     ]
    }
   ],
   "source": [
    "%%time\n",
    "\n",
    "scorer = make_scorer(smape)\n",
    "rougher_lin = cross_val_score(model_lr, features_train_r, target_train_r, scoring=scorer, cv=5)\n",
    "final_lin =  cross_val_score(model_lr, features_train_f, target_train_f, scoring=scorer, cv=5)\n",
    "print(f'''\n",
    "Значение sMAPE для чернового концентрата: {rougher_lin.mean() * (-1)}\n",
    "Значение sMAPE для финального концентрата: {final_lin.mean() * (-1)}\n",
    "Финальное значение sMAPE: {smape_final(rougher_lin, final_lin).mean()}\n",
    "''')"
   ]
  },
  {
   "cell_type": "markdown",
   "metadata": {},
   "source": [
    "#### K Ближайших Соседей (KNN)"
   ]
  },
  {
   "cell_type": "code",
   "execution_count": 54,
   "metadata": {},
   "outputs": [],
   "source": [
    "model_knn = KNeighborsRegressor()"
   ]
  },
  {
   "cell_type": "code",
   "execution_count": 55,
   "metadata": {},
   "outputs": [
    {
     "name": "stdout",
     "output_type": "stream",
     "text": [
      "\n",
      "Значение sMAPE для чернового концентрата: 8.82096386933286\n",
      "Значение sMAPE для финального концентрата: 11.757402334367265\n",
      "Финальное значение sMAPE: 11.023292718108664\n",
      "\n",
      "CPU times: user 3.67 s, sys: 1.54 s, total: 5.21 s\n",
      "Wall time: 864 ms\n"
     ]
    }
   ],
   "source": [
    "%%time\n",
    "\n",
    "scorer = make_scorer(smape)\n",
    "rougher_lin = cross_val_score(model_knn, features_train_r, target_train_r, scoring=scorer, cv=5)\n",
    "final_lin =  cross_val_score(model_knn, features_train_f, target_train_f, scoring=scorer, cv=5)\n",
    "print(f'''\n",
    "Значение sMAPE для чернового концентрата: {rougher_lin.mean() * (-1)}\n",
    "Значение sMAPE для финального концентрата: {final_lin.mean() * (-1)}\n",
    "Финальное значение sMAPE: {smape_final(rougher_lin, final_lin).mean()}\n",
    "''')"
   ]
  },
  {
   "cell_type": "markdown",
   "metadata": {},
   "source": [
    "#### Метод опорных Векторов (SVMs)"
   ]
  },
  {
   "cell_type": "code",
   "execution_count": 56,
   "metadata": {},
   "outputs": [],
   "source": [
    "model_svm = svm.SVR()"
   ]
  },
  {
   "cell_type": "code",
   "execution_count": 57,
   "metadata": {},
   "outputs": [
    {
     "name": "stdout",
     "output_type": "stream",
     "text": [
      "\n",
      "Значение sMAPE для чернового концентрата: 7.043319470106584\n",
      "Значение sMAPE для финального концентрата: 9.850220539528816\n",
      "Финальное значение sMAPE: 9.148495272173259\n",
      "\n",
      "CPU times: user 1min 21s, sys: 1.55 s, total: 1min 23s\n",
      "Wall time: 1min 22s\n"
     ]
    }
   ],
   "source": [
    "%%time\n",
    "\n",
    "scorer = make_scorer(smape)\n",
    "rougher_lin = cross_val_score(model_svm, features_train_r, target_train_r, scoring=scorer, cv=5)\n",
    "final_lin =  cross_val_score(model_svm, features_train_f, target_train_f, scoring=scorer, cv=5)\n",
    "print(f'''\n",
    "Значение sMAPE для чернового концентрата: {rougher_lin.mean() * (-1)}\n",
    "Значение sMAPE для финального концентрата: {final_lin.mean() * (-1)}\n",
    "Финальное значение sMAPE: {smape_final(rougher_lin, final_lin).mean()}\n",
    "''')"
   ]
  },
  {
   "cell_type": "markdown",
   "metadata": {},
   "source": [
    "#### Регрессия дерева решений"
   ]
  },
  {
   "cell_type": "code",
   "execution_count": 58,
   "metadata": {},
   "outputs": [],
   "source": [
    "model_dtr = model2 = DecisionTreeRegressor(random_state=160891)"
   ]
  },
  {
   "cell_type": "code",
   "execution_count": 59,
   "metadata": {},
   "outputs": [
    {
     "name": "stdout",
     "output_type": "stream",
     "text": [
      "\n",
      "Значение sMAPE для чернового концентрата: 9.27837184958419\n",
      "Значение sMAPE для финального концентрата: 15.79539829567993\n",
      "Финальное значение sMAPE: 14.166141684155997\n",
      "\n",
      "CPU times: user 8.19 s, sys: 28.1 ms, total: 8.22 s\n",
      "Wall time: 8.25 s\n"
     ]
    }
   ],
   "source": [
    "%%time\n",
    "\n",
    "scorer = make_scorer(smape)\n",
    "rougher_lin = cross_val_score(model_dtr, features_train_r, target_train_r, scoring=scorer, cv=5)\n",
    "final_lin = cross_val_score(model_dtr, features_train_f, target_train_f, scoring=scorer, cv=5)\n",
    "print(f'''\n",
    "Значение sMAPE для чернового концентрата: {rougher_lin.mean() * (-1)}\n",
    "Значение sMAPE для финального концентрата: {final_lin.mean() * (-1)}\n",
    "Финальное значение sMAPE: {smape_final(rougher_lin, final_lin).mean()}\n",
    "''')"
   ]
  },
  {
   "cell_type": "markdown",
   "metadata": {},
   "source": [
    "#### Результаты обучения"
   ]
  },
  {
   "cell_type": "markdown",
   "metadata": {},
   "source": [
    "В ходе проверки 3 моделей в соответствии с пунктом 8.2.1 были получены следующие результаты:\n",
    "- Линейной регрессии\n",
    "    - Значение sMAPE для чернового концентрата: 6.471\n",
    "    - Значение sMAPE для финального концентрата: 9.709\n",
    "    - Финальное значение sMAPE: 8.89\n",
    "- K Ближайших Соседей (KNN)\n",
    "    - Значение sMAPE для чернового концентрата: 8.821\n",
    "    - Значение sMAPE для финального концентрата: 11.757\n",
    "    - Финальное значение sMAPE: 11.023\n",
    "- Метод опорных Векторов (SVMs)\n",
    "    - Значение sMAPE для чернового концентрата: 7.043\n",
    "    - Значение sMAPE для финального концентрата: 9.850\n",
    "    - Финальное значение sMAPE: 9.149\n",
    "- Метод регрессия дерева решений:\n",
    "    - Значение sMAPE для чернового концентрата: 9.279\n",
    "    - Значение sMAPE для финального концентрата: 15.795\n",
    "    - Финальное значение sMAPE: 14.166"
   ]
  },
  {
   "cell_type": "markdown",
   "metadata": {},
   "source": [
    "Линейная регрессия показала лучший результат среди моделей, проверим ее на тестовой выборке."
   ]
  },
  {
   "cell_type": "markdown",
   "metadata": {},
   "source": [
    "### Применение модели на тестовой выборке"
   ]
  },
  {
   "cell_type": "markdown",
   "metadata": {},
   "source": [
    "В пункте 8.2.1 определена лучшая модель среди выбранных, которая будет применена к тестовой выборке"
   ]
  },
  {
   "cell_type": "code",
   "execution_count": 60,
   "metadata": {},
   "outputs": [
    {
     "ename": "NameError",
     "evalue": "name 'test_predictions_r' is not defined",
     "output_type": "error",
     "traceback": [
      "\u001b[0;31m---------------------------------------------------------------------------\u001b[0m",
      "\u001b[0;31mNameError\u001b[0m                                 Traceback (most recent call last)",
      "Cell \u001b[0;32mIn[60], line 1\u001b[0m\n\u001b[0;32m----> 1\u001b[0m smape_test_r \u001b[38;5;241m=\u001b[39m smape(target_test_r, test_predictions_r)\n",
      "\u001b[0;31mNameError\u001b[0m: name 'test_predictions_r' is not defined"
     ]
    }
   ],
   "source": [
    "smape_test_r = smape(target_test_r, test_predictions_r)"
   ]
  },
  {
   "cell_type": "code",
   "execution_count": null,
   "metadata": {},
   "outputs": [],
   "source": [
    "smape_test_f = smape(target_test_f, test_predictions_f)"
   ]
  },
  {
   "cell_type": "code",
   "execution_count": null,
   "metadata": {},
   "outputs": [],
   "source": [
    "print(f'''\n",
    "Значение sMAPE для чернового концентрата на тестовой выборке: {smape_test_r * (-1)}\n",
    "Значение sMAPE для финального концентрата на тестовой выборке: {smape_test_f * (-1)}\n",
    "Финальное значение sMAPE: {smape_final(smape_test_r, smape_test_f).mean()}\n",
    "''')"
   ]
  },
  {
   "cell_type": "markdown",
   "metadata": {},
   "source": [
    "### Сравнение модели"
   ]
  },
  {
   "cell_type": "markdown",
   "metadata": {},
   "source": [
    "Для корректности интерпритации данных, сравним с Dummy моделью"
   ]
  },
  {
   "cell_type": "code",
   "execution_count": null,
   "metadata": {},
   "outputs": [],
   "source": [
    "dummy_model_r = DummyRegressor(strategy=\"mean\")\n",
    "dummy_model_r.fit(features_train_r, target_train_r)\n",
    "test_predictions__dummy_r = dummy_model_r.predict(features_test_r)"
   ]
  },
  {
   "cell_type": "code",
   "execution_count": null,
   "metadata": {},
   "outputs": [],
   "source": [
    "smape_test__dummy_r = smape(target_test_r, test_predictions__dummy_r)"
   ]
  },
  {
   "cell_type": "code",
   "execution_count": null,
   "metadata": {},
   "outputs": [],
   "source": [
    "dummy_model_f = DummyRegressor(strategy=\"mean\")\n",
    "dummy_model_f.fit(features_train_f, target_train_f)\n",
    "test_predictions_dummy_f = dummy_model_f.predict(features_test_f)"
   ]
  },
  {
   "cell_type": "code",
   "execution_count": null,
   "metadata": {},
   "outputs": [],
   "source": [
    "smape_test_dummy_f = smape(target_test_f, test_predictions_dummy_f)"
   ]
  },
  {
   "cell_type": "code",
   "execution_count": null,
   "metadata": {},
   "outputs": [],
   "source": [
    "print(f'Итоговое sMAPE для DummyRegressor: {smape_final(smape_test__dummy_r, smape_test_dummy_f).mean()}')"
   ]
  },
  {
   "cell_type": "markdown",
   "metadata": {},
   "source": [
    "### Выводы по моделям"
   ]
  },
  {
   "cell_type": "markdown",
   "metadata": {},
   "source": [
    "На тестовой выборке с помощью Линейной регрессии получилось достичь результата `7.27`. \n",
    "Для корретности интерпритации полученных результатов была построена Dummy модель по среднему значению, результат которой показал `8.468` \n",
    "Исходя из этого можно сделать вывод, что обученная модель точнее, чем просто среднее значение на 14%."
   ]
  },
  {
   "cell_type": "markdown",
   "metadata": {},
   "source": [
    "# Финальные выводы по проекту "
   ]
  },
  {
   "cell_type": "markdown",
   "metadata": {},
   "source": [
    "В ходе проведения анализа процесса по золотодобычи были сделаны шаги:\n",
    "- Изучены предоставленные данные:\n",
    "    - сделаны выводы по отсутствующим значениям в разных выборках\n",
    "    - изучены предоставленные данные\n",
    "- Проведен исследовательский анализ данных:\n",
    "    - изучено содержание разных металлов на всех технологических этапах\n",
    "    - Сопоставлены размеры гранул в разных выборках (распределение подтверждено с помозью теста Манна Уитни)\n",
    "    - Изучены совокупное содержание металлов на всех технологических операциях\n",
    "        - выявлены аномалии в значениях(содержание металлов было 0), которые были исключены из выборки Train\n",
    "- Изучено распределение одинаковых столбцов в выборках Train и Test \n",
    "- Подготовлены данные для обучения моделей\n",
    "- Выбрана модель по наилучшим показателям - Линейная регрессия\n",
    "- Корректность модели проверено с помощью Dummy модели"
   ]
  },
  {
   "cell_type": "markdown",
   "metadata": {},
   "source": [
    "Считаю обученную модель корретной и допутстить в работу на данных заказчика."
   ]
  }
 ],
 "metadata": {
  "ExecuteTimeLog": [
   {
    "duration": 99,
    "start_time": "2023-05-25T11:30:41.569Z"
   },
   {
    "duration": 3,
    "start_time": "2023-05-25T11:30:54.134Z"
   },
   {
    "duration": 468,
    "start_time": "2023-05-25T11:30:54.144Z"
   },
   {
    "duration": 0,
    "start_time": "2023-05-25T11:30:54.616Z"
   },
   {
    "duration": 0,
    "start_time": "2023-05-25T11:30:54.618Z"
   },
   {
    "duration": 0,
    "start_time": "2023-05-25T11:30:54.625Z"
   },
   {
    "duration": 0,
    "start_time": "2023-05-25T11:30:54.626Z"
   },
   {
    "duration": 0,
    "start_time": "2023-05-25T11:30:54.627Z"
   },
   {
    "duration": 0,
    "start_time": "2023-05-25T11:30:54.628Z"
   },
   {
    "duration": 0,
    "start_time": "2023-05-25T11:30:54.629Z"
   },
   {
    "duration": 0,
    "start_time": "2023-05-25T11:30:54.631Z"
   },
   {
    "duration": 0,
    "start_time": "2023-05-25T11:30:54.632Z"
   },
   {
    "duration": 0,
    "start_time": "2023-05-25T11:30:54.633Z"
   },
   {
    "duration": 0,
    "start_time": "2023-05-25T11:30:54.634Z"
   },
   {
    "duration": 0,
    "start_time": "2023-05-25T11:30:54.635Z"
   },
   {
    "duration": 1,
    "start_time": "2023-05-25T11:30:54.636Z"
   },
   {
    "duration": 0,
    "start_time": "2023-05-25T11:30:54.637Z"
   },
   {
    "duration": 0,
    "start_time": "2023-05-25T11:30:54.639Z"
   },
   {
    "duration": 0,
    "start_time": "2023-05-25T11:30:54.640Z"
   },
   {
    "duration": 0,
    "start_time": "2023-05-25T11:30:54.641Z"
   },
   {
    "duration": 0,
    "start_time": "2023-05-25T11:30:54.642Z"
   },
   {
    "duration": 0,
    "start_time": "2023-05-25T11:30:54.643Z"
   },
   {
    "duration": 0,
    "start_time": "2023-05-25T11:30:54.644Z"
   },
   {
    "duration": 0,
    "start_time": "2023-05-25T11:30:54.645Z"
   },
   {
    "duration": 0,
    "start_time": "2023-05-25T11:30:54.646Z"
   },
   {
    "duration": 0,
    "start_time": "2023-05-25T11:30:54.647Z"
   },
   {
    "duration": 0,
    "start_time": "2023-05-25T11:30:54.648Z"
   },
   {
    "duration": 0,
    "start_time": "2023-05-25T11:30:54.649Z"
   },
   {
    "duration": 0,
    "start_time": "2023-05-25T11:30:54.650Z"
   },
   {
    "duration": 0,
    "start_time": "2023-05-25T11:30:54.651Z"
   },
   {
    "duration": 0,
    "start_time": "2023-05-25T11:30:54.652Z"
   },
   {
    "duration": 0,
    "start_time": "2023-05-25T11:30:54.653Z"
   },
   {
    "duration": 0,
    "start_time": "2023-05-25T11:30:54.654Z"
   },
   {
    "duration": 0,
    "start_time": "2023-05-25T11:30:54.655Z"
   },
   {
    "duration": 0,
    "start_time": "2023-05-25T11:30:54.656Z"
   },
   {
    "duration": 0,
    "start_time": "2023-05-25T11:30:54.657Z"
   },
   {
    "duration": 0,
    "start_time": "2023-05-25T11:30:54.658Z"
   },
   {
    "duration": 0,
    "start_time": "2023-05-25T11:30:54.659Z"
   },
   {
    "duration": 0,
    "start_time": "2023-05-25T11:30:54.660Z"
   },
   {
    "duration": 0,
    "start_time": "2023-05-25T11:30:54.661Z"
   },
   {
    "duration": 0,
    "start_time": "2023-05-25T11:30:54.663Z"
   },
   {
    "duration": 0,
    "start_time": "2023-05-25T11:30:54.725Z"
   },
   {
    "duration": 0,
    "start_time": "2023-05-25T11:30:54.727Z"
   },
   {
    "duration": 0,
    "start_time": "2023-05-25T11:30:54.728Z"
   },
   {
    "duration": 0,
    "start_time": "2023-05-25T11:30:54.729Z"
   },
   {
    "duration": 0,
    "start_time": "2023-05-25T11:30:54.730Z"
   },
   {
    "duration": 0,
    "start_time": "2023-05-25T11:30:54.731Z"
   },
   {
    "duration": 0,
    "start_time": "2023-05-25T11:30:54.732Z"
   },
   {
    "duration": 0,
    "start_time": "2023-05-25T11:30:54.733Z"
   },
   {
    "duration": 0,
    "start_time": "2023-05-25T11:30:54.734Z"
   },
   {
    "duration": 0,
    "start_time": "2023-05-25T11:30:54.735Z"
   },
   {
    "duration": 0,
    "start_time": "2023-05-25T11:30:54.736Z"
   },
   {
    "duration": 0,
    "start_time": "2023-05-25T11:30:54.738Z"
   },
   {
    "duration": 0,
    "start_time": "2023-05-25T11:30:54.739Z"
   },
   {
    "duration": 0,
    "start_time": "2023-05-25T11:30:54.740Z"
   },
   {
    "duration": 0,
    "start_time": "2023-05-25T11:30:54.741Z"
   },
   {
    "duration": 0,
    "start_time": "2023-05-25T11:30:54.743Z"
   },
   {
    "duration": 0,
    "start_time": "2023-05-25T11:30:54.745Z"
   },
   {
    "duration": 0,
    "start_time": "2023-05-25T11:30:54.747Z"
   },
   {
    "duration": 0,
    "start_time": "2023-05-25T11:30:54.748Z"
   },
   {
    "duration": 0,
    "start_time": "2023-05-25T11:30:54.749Z"
   },
   {
    "duration": 0,
    "start_time": "2023-05-25T11:30:54.750Z"
   },
   {
    "duration": 0,
    "start_time": "2023-05-25T11:30:54.751Z"
   },
   {
    "duration": 0,
    "start_time": "2023-05-25T11:30:54.753Z"
   },
   {
    "duration": 0,
    "start_time": "2023-05-25T11:30:54.754Z"
   },
   {
    "duration": 0,
    "start_time": "2023-05-25T11:30:54.755Z"
   },
   {
    "duration": 0,
    "start_time": "2023-05-25T11:30:54.756Z"
   },
   {
    "duration": 0,
    "start_time": "2023-05-25T11:30:54.757Z"
   },
   {
    "duration": 0,
    "start_time": "2023-05-25T11:30:54.758Z"
   },
   {
    "duration": 0,
    "start_time": "2023-05-25T11:30:54.759Z"
   },
   {
    "duration": 0,
    "start_time": "2023-05-25T11:30:54.760Z"
   },
   {
    "duration": 0,
    "start_time": "2023-05-25T11:30:54.761Z"
   },
   {
    "duration": 0,
    "start_time": "2023-05-25T11:30:54.762Z"
   },
   {
    "duration": 0,
    "start_time": "2023-05-25T11:30:54.762Z"
   },
   {
    "duration": 1198,
    "start_time": "2023-05-25T11:31:17.522Z"
   },
   {
    "duration": 3,
    "start_time": "2023-05-25T11:31:21.128Z"
   },
   {
    "duration": 1405,
    "start_time": "2023-05-25T11:31:21.153Z"
   },
   {
    "duration": 1194,
    "start_time": "2023-05-25T11:31:22.560Z"
   },
   {
    "duration": 1679,
    "start_time": "2023-05-25T11:31:23.756Z"
   },
   {
    "duration": 366,
    "start_time": "2023-05-25T11:31:25.438Z"
   },
   {
    "duration": 3,
    "start_time": "2023-05-25T11:31:25.806Z"
   },
   {
    "duration": 11,
    "start_time": "2023-05-25T11:31:25.811Z"
   },
   {
    "duration": 85,
    "start_time": "2023-05-25T11:31:25.823Z"
   },
   {
    "duration": 53,
    "start_time": "2023-05-25T11:31:25.910Z"
   },
   {
    "duration": 663,
    "start_time": "2023-05-25T11:31:25.965Z"
   },
   {
    "duration": 22,
    "start_time": "2023-05-25T11:31:26.631Z"
   },
   {
    "duration": 17,
    "start_time": "2023-05-25T11:31:26.654Z"
   },
   {
    "duration": 67,
    "start_time": "2023-05-25T11:31:26.672Z"
   },
   {
    "duration": 289,
    "start_time": "2023-05-25T11:31:26.741Z"
   },
   {
    "duration": 4,
    "start_time": "2023-05-25T11:31:27.032Z"
   },
   {
    "duration": 10,
    "start_time": "2023-05-25T11:31:27.037Z"
   },
   {
    "duration": 25,
    "start_time": "2023-05-25T11:31:27.049Z"
   },
   {
    "duration": 6,
    "start_time": "2023-05-25T11:31:27.076Z"
   },
   {
    "duration": 12,
    "start_time": "2023-05-25T11:31:27.084Z"
   },
   {
    "duration": 8,
    "start_time": "2023-05-25T11:31:27.097Z"
   },
   {
    "duration": 15,
    "start_time": "2023-05-25T11:31:27.106Z"
   },
   {
    "duration": 29,
    "start_time": "2023-05-25T11:31:27.124Z"
   },
   {
    "duration": 15,
    "start_time": "2023-05-25T11:31:27.155Z"
   },
   {
    "duration": 44,
    "start_time": "2023-05-25T11:31:27.172Z"
   },
   {
    "duration": 16,
    "start_time": "2023-05-25T11:31:27.217Z"
   },
   {
    "duration": 9,
    "start_time": "2023-05-25T11:31:27.235Z"
   },
   {
    "duration": 9,
    "start_time": "2023-05-25T11:31:27.246Z"
   },
   {
    "duration": 12,
    "start_time": "2023-05-25T11:31:27.257Z"
   },
   {
    "duration": 14,
    "start_time": "2023-05-25T11:31:27.273Z"
   },
   {
    "duration": 689,
    "start_time": "2023-05-25T11:31:27.290Z"
   },
   {
    "duration": 3,
    "start_time": "2023-05-25T11:31:27.981Z"
   },
   {
    "duration": 735,
    "start_time": "2023-05-25T11:31:27.986Z"
   },
   {
    "duration": 3,
    "start_time": "2023-05-25T11:31:28.725Z"
   },
   {
    "duration": 6,
    "start_time": "2023-05-25T11:31:28.730Z"
   },
   {
    "duration": 781,
    "start_time": "2023-05-25T11:31:28.738Z"
   },
   {
    "duration": 22,
    "start_time": "2023-05-25T11:31:29.520Z"
   },
   {
    "duration": 15,
    "start_time": "2023-05-25T11:31:29.544Z"
   },
   {
    "duration": 627,
    "start_time": "2023-05-25T11:31:29.560Z"
   },
   {
    "duration": 5,
    "start_time": "2023-05-25T11:31:30.189Z"
   },
   {
    "duration": 1163,
    "start_time": "2023-05-25T11:31:30.196Z"
   },
   {
    "duration": 5,
    "start_time": "2023-05-25T11:31:31.360Z"
   },
   {
    "duration": 1500,
    "start_time": "2023-05-25T11:31:31.367Z"
   },
   {
    "duration": 5,
    "start_time": "2023-05-25T11:31:32.869Z"
   },
   {
    "duration": 7,
    "start_time": "2023-05-25T11:31:32.875Z"
   },
   {
    "duration": 6,
    "start_time": "2023-05-25T11:31:32.883Z"
   },
   {
    "duration": 42,
    "start_time": "2023-05-25T11:31:32.890Z"
   },
   {
    "duration": 17,
    "start_time": "2023-05-25T11:31:32.934Z"
   },
   {
    "duration": 9,
    "start_time": "2023-05-25T11:31:32.953Z"
   },
   {
    "duration": 14,
    "start_time": "2023-05-25T11:31:32.964Z"
   },
   {
    "duration": 5,
    "start_time": "2023-05-25T11:31:32.980Z"
   },
   {
    "duration": 6,
    "start_time": "2023-05-25T11:31:32.987Z"
   },
   {
    "duration": 37,
    "start_time": "2023-05-25T11:31:32.995Z"
   },
   {
    "duration": 12,
    "start_time": "2023-05-25T11:31:33.034Z"
   },
   {
    "duration": 3,
    "start_time": "2023-05-25T11:31:33.048Z"
   },
   {
    "duration": 2287,
    "start_time": "2023-05-25T11:31:33.052Z"
   },
   {
    "duration": 3,
    "start_time": "2023-05-25T11:31:35.426Z"
   },
   {
    "duration": 10104,
    "start_time": "2023-05-25T11:31:35.430Z"
   },
   {
    "duration": 3,
    "start_time": "2023-05-25T11:31:45.536Z"
   },
   {
    "duration": 91352,
    "start_time": "2023-05-25T11:31:45.540Z"
   },
   {
    "duration": 3,
    "start_time": "2023-05-25T11:33:16.896Z"
   },
   {
    "duration": 6453,
    "start_time": "2023-05-25T11:33:16.901Z"
   },
   {
    "duration": 3,
    "start_time": "2023-05-25T11:33:23.355Z"
   },
   {
    "duration": 70,
    "start_time": "2023-05-25T11:33:23.359Z"
   },
   {
    "duration": 94,
    "start_time": "2023-05-25T11:33:23.431Z"
   },
   {
    "duration": 10,
    "start_time": "2023-05-25T11:33:23.528Z"
   },
   {
    "duration": 0,
    "start_time": "2023-05-25T11:33:23.541Z"
   },
   {
    "duration": 0,
    "start_time": "2023-05-25T11:33:23.542Z"
   },
   {
    "duration": 0,
    "start_time": "2023-05-25T11:33:23.544Z"
   },
   {
    "duration": 0,
    "start_time": "2023-05-25T11:33:23.546Z"
   },
   {
    "duration": 1,
    "start_time": "2023-05-25T11:33:23.546Z"
   },
   {
    "duration": 0,
    "start_time": "2023-05-25T11:33:23.548Z"
   },
   {
    "duration": 0,
    "start_time": "2023-05-25T11:33:23.548Z"
   },
   {
    "duration": 0,
    "start_time": "2023-05-25T11:33:23.549Z"
   },
   {
    "duration": 3,
    "start_time": "2023-05-25T11:34:11.095Z"
   },
   {
    "duration": 2,
    "start_time": "2023-05-25T11:34:36.275Z"
   },
   {
    "duration": 231,
    "start_time": "2023-05-25T11:34:58.995Z"
   },
   {
    "duration": 5,
    "start_time": "2023-05-25T11:35:00.755Z"
   },
   {
    "duration": 4,
    "start_time": "2023-05-25T11:35:00.891Z"
   },
   {
    "duration": 94,
    "start_time": "2023-05-25T11:35:40.135Z"
   },
   {
    "duration": 4,
    "start_time": "2023-05-25T11:35:43.653Z"
   },
   {
    "duration": 302,
    "start_time": "2023-05-25T11:36:01.177Z"
   },
   {
    "duration": 165,
    "start_time": "2023-05-25T11:37:08.664Z"
   },
   {
    "duration": 6,
    "start_time": "2023-05-25T11:37:10.106Z"
   },
   {
    "duration": 3,
    "start_time": "2023-05-25T11:37:10.240Z"
   },
   {
    "duration": 4,
    "start_time": "2023-05-25T11:37:22.094Z"
   },
   {
    "duration": 1480,
    "start_time": "2023-05-25T11:37:22.114Z"
   },
   {
    "duration": 307,
    "start_time": "2023-05-25T11:37:23.596Z"
   },
   {
    "duration": 366,
    "start_time": "2023-05-25T11:37:23.904Z"
   },
   {
    "duration": 81,
    "start_time": "2023-05-25T11:37:24.271Z"
   },
   {
    "duration": 3,
    "start_time": "2023-05-25T11:37:24.354Z"
   },
   {
    "duration": 7,
    "start_time": "2023-05-25T11:37:24.358Z"
   },
   {
    "duration": 82,
    "start_time": "2023-05-25T11:37:24.367Z"
   },
   {
    "duration": 50,
    "start_time": "2023-05-25T11:37:24.451Z"
   },
   {
    "duration": 696,
    "start_time": "2023-05-25T11:37:24.525Z"
   },
   {
    "duration": 25,
    "start_time": "2023-05-25T11:37:25.226Z"
   },
   {
    "duration": 12,
    "start_time": "2023-05-25T11:37:25.253Z"
   },
   {
    "duration": 58,
    "start_time": "2023-05-25T11:37:25.267Z"
   },
   {
    "duration": 254,
    "start_time": "2023-05-25T11:37:25.327Z"
   },
   {
    "duration": 5,
    "start_time": "2023-05-25T11:37:25.584Z"
   },
   {
    "duration": 38,
    "start_time": "2023-05-25T11:37:25.590Z"
   },
   {
    "duration": 38,
    "start_time": "2023-05-25T11:37:25.629Z"
   },
   {
    "duration": 19,
    "start_time": "2023-05-25T11:37:25.668Z"
   },
   {
    "duration": 38,
    "start_time": "2023-05-25T11:37:25.688Z"
   },
   {
    "duration": 9,
    "start_time": "2023-05-25T11:37:25.727Z"
   },
   {
    "duration": 11,
    "start_time": "2023-05-25T11:37:25.738Z"
   },
   {
    "duration": 22,
    "start_time": "2023-05-25T11:37:25.750Z"
   },
   {
    "duration": 12,
    "start_time": "2023-05-25T11:37:25.774Z"
   },
   {
    "duration": 10,
    "start_time": "2023-05-25T11:37:25.788Z"
   },
   {
    "duration": 34,
    "start_time": "2023-05-25T11:37:25.799Z"
   },
   {
    "duration": 6,
    "start_time": "2023-05-25T11:37:25.835Z"
   },
   {
    "duration": 23,
    "start_time": "2023-05-25T11:37:25.843Z"
   },
   {
    "duration": 29,
    "start_time": "2023-05-25T11:37:25.868Z"
   },
   {
    "duration": 16,
    "start_time": "2023-05-25T11:37:25.899Z"
   },
   {
    "duration": 654,
    "start_time": "2023-05-25T11:37:25.917Z"
   },
   {
    "duration": 4,
    "start_time": "2023-05-25T11:37:26.573Z"
   },
   {
    "duration": 873,
    "start_time": "2023-05-25T11:37:26.579Z"
   },
   {
    "duration": 3,
    "start_time": "2023-05-25T11:37:27.454Z"
   },
   {
    "duration": 13,
    "start_time": "2023-05-25T11:37:27.459Z"
   },
   {
    "duration": 773,
    "start_time": "2023-05-25T11:37:27.474Z"
   },
   {
    "duration": 18,
    "start_time": "2023-05-25T11:37:28.249Z"
   },
   {
    "duration": 6,
    "start_time": "2023-05-25T11:37:28.269Z"
   },
   {
    "duration": 590,
    "start_time": "2023-05-25T11:37:28.277Z"
   },
   {
    "duration": 7,
    "start_time": "2023-05-25T11:37:28.869Z"
   },
   {
    "duration": 605,
    "start_time": "2023-05-25T11:37:28.877Z"
   },
   {
    "duration": 6,
    "start_time": "2023-05-25T11:37:29.484Z"
   },
   {
    "duration": 963,
    "start_time": "2023-05-25T11:37:29.494Z"
   },
   {
    "duration": 5,
    "start_time": "2023-05-25T11:37:30.459Z"
   },
   {
    "duration": 24,
    "start_time": "2023-05-25T11:37:30.465Z"
   },
   {
    "duration": 40,
    "start_time": "2023-05-25T11:37:30.490Z"
   },
   {
    "duration": 35,
    "start_time": "2023-05-25T11:37:30.532Z"
   },
   {
    "duration": 23,
    "start_time": "2023-05-25T11:37:30.568Z"
   },
   {
    "duration": 36,
    "start_time": "2023-05-25T11:37:30.592Z"
   },
   {
    "duration": 36,
    "start_time": "2023-05-25T11:37:30.630Z"
   },
   {
    "duration": 29,
    "start_time": "2023-05-25T11:37:30.668Z"
   },
   {
    "duration": 87,
    "start_time": "2023-05-25T11:37:30.699Z"
   },
   {
    "duration": 34,
    "start_time": "2023-05-25T11:37:30.788Z"
   },
   {
    "duration": 59,
    "start_time": "2023-05-25T11:37:30.824Z"
   },
   {
    "duration": 37,
    "start_time": "2023-05-25T11:37:30.885Z"
   },
   {
    "duration": 2611,
    "start_time": "2023-05-25T11:37:30.924Z"
   },
   {
    "duration": 4,
    "start_time": "2023-05-25T11:37:33.537Z"
   },
   {
    "duration": 10001,
    "start_time": "2023-05-25T11:37:33.626Z"
   },
   {
    "duration": 3,
    "start_time": "2023-05-25T11:37:43.629Z"
   },
   {
    "duration": 93641,
    "start_time": "2023-05-25T11:37:43.634Z"
   },
   {
    "duration": 3,
    "start_time": "2023-05-25T11:39:17.277Z"
   },
   {
    "duration": 6783,
    "start_time": "2023-05-25T11:39:17.283Z"
   },
   {
    "duration": 12,
    "start_time": "2023-05-25T11:39:24.069Z"
   },
   {
    "duration": 12,
    "start_time": "2023-05-25T11:39:24.083Z"
   },
   {
    "duration": 9,
    "start_time": "2023-05-25T11:39:24.097Z"
   },
   {
    "duration": 127,
    "start_time": "2023-05-25T11:39:24.108Z"
   },
   {
    "duration": 6,
    "start_time": "2023-05-25T11:39:24.236Z"
   },
   {
    "duration": 86,
    "start_time": "2023-05-25T11:39:24.244Z"
   },
   {
    "duration": 521,
    "start_time": "2023-05-25T11:39:24.332Z"
   },
   {
    "duration": 13,
    "start_time": "2023-05-25T11:39:24.933Z"
   },
   {
    "duration": 15,
    "start_time": "2023-05-25T11:39:25.024Z"
   },
   {
    "duration": 7,
    "start_time": "2023-05-25T11:39:25.042Z"
   },
   {
    "duration": 11,
    "start_time": "2023-05-25T11:39:25.051Z"
   },
   {
    "duration": 8,
    "start_time": "2023-05-25T11:39:25.063Z"
   },
   {
    "duration": 9,
    "start_time": "2023-05-25T11:39:25.073Z"
   },
   {
    "duration": 5,
    "start_time": "2023-05-25T11:39:25.084Z"
   },
   {
    "duration": 6,
    "start_time": "2023-05-25T11:49:48.846Z"
   },
   {
    "duration": 5,
    "start_time": "2023-05-25T11:49:51.716Z"
   },
   {
    "duration": 3,
    "start_time": "2023-05-25T11:49:52.607Z"
   },
   {
    "duration": 3,
    "start_time": "2023-05-25T11:49:56.529Z"
   },
   {
    "duration": 1353,
    "start_time": "2023-05-25T11:49:56.551Z"
   },
   {
    "duration": 301,
    "start_time": "2023-05-25T11:49:57.906Z"
   },
   {
    "duration": 371,
    "start_time": "2023-05-25T11:49:58.209Z"
   },
   {
    "duration": 76,
    "start_time": "2023-05-25T11:49:58.582Z"
   },
   {
    "duration": 2,
    "start_time": "2023-05-25T11:49:58.660Z"
   },
   {
    "duration": 21,
    "start_time": "2023-05-25T11:49:58.663Z"
   },
   {
    "duration": 72,
    "start_time": "2023-05-25T11:49:58.685Z"
   },
   {
    "duration": 68,
    "start_time": "2023-05-25T11:49:58.759Z"
   },
   {
    "duration": 610,
    "start_time": "2023-05-25T11:49:58.829Z"
   },
   {
    "duration": 21,
    "start_time": "2023-05-25T11:49:59.441Z"
   },
   {
    "duration": 12,
    "start_time": "2023-05-25T11:49:59.464Z"
   },
   {
    "duration": 55,
    "start_time": "2023-05-25T11:49:59.478Z"
   },
   {
    "duration": 296,
    "start_time": "2023-05-25T11:49:59.535Z"
   },
   {
    "duration": 5,
    "start_time": "2023-05-25T11:49:59.832Z"
   },
   {
    "duration": 8,
    "start_time": "2023-05-25T11:49:59.839Z"
   },
   {
    "duration": 15,
    "start_time": "2023-05-25T11:49:59.849Z"
   },
   {
    "duration": 7,
    "start_time": "2023-05-25T11:49:59.866Z"
   },
   {
    "duration": 29,
    "start_time": "2023-05-25T11:49:59.874Z"
   },
   {
    "duration": 20,
    "start_time": "2023-05-25T11:49:59.905Z"
   },
   {
    "duration": 32,
    "start_time": "2023-05-25T11:49:59.927Z"
   },
   {
    "duration": 24,
    "start_time": "2023-05-25T11:49:59.960Z"
   },
   {
    "duration": 5,
    "start_time": "2023-05-25T11:49:59.987Z"
   },
   {
    "duration": 32,
    "start_time": "2023-05-25T11:49:59.994Z"
   },
   {
    "duration": 31,
    "start_time": "2023-05-25T11:50:00.028Z"
   },
   {
    "duration": 29,
    "start_time": "2023-05-25T11:50:00.061Z"
   },
   {
    "duration": 33,
    "start_time": "2023-05-25T11:50:00.092Z"
   },
   {
    "duration": 39,
    "start_time": "2023-05-25T11:50:00.126Z"
   },
   {
    "duration": 25,
    "start_time": "2023-05-25T11:50:00.170Z"
   },
   {
    "duration": 698,
    "start_time": "2023-05-25T11:50:00.197Z"
   },
   {
    "duration": 3,
    "start_time": "2023-05-25T11:50:00.897Z"
   },
   {
    "duration": 764,
    "start_time": "2023-05-25T11:50:00.902Z"
   },
   {
    "duration": 4,
    "start_time": "2023-05-25T11:50:01.669Z"
   },
   {
    "duration": 53,
    "start_time": "2023-05-25T11:50:01.675Z"
   },
   {
    "duration": 882,
    "start_time": "2023-05-25T11:50:01.731Z"
   },
   {
    "duration": 26,
    "start_time": "2023-05-25T11:50:02.615Z"
   },
   {
    "duration": 58,
    "start_time": "2023-05-25T11:50:02.643Z"
   },
   {
    "duration": 593,
    "start_time": "2023-05-25T11:50:02.703Z"
   },
   {
    "duration": 5,
    "start_time": "2023-05-25T11:50:03.298Z"
   },
   {
    "duration": 598,
    "start_time": "2023-05-25T11:50:03.305Z"
   },
   {
    "duration": 5,
    "start_time": "2023-05-25T11:50:03.905Z"
   },
   {
    "duration": 896,
    "start_time": "2023-05-25T11:50:03.912Z"
   },
   {
    "duration": 5,
    "start_time": "2023-05-25T11:50:04.809Z"
   },
   {
    "duration": 17,
    "start_time": "2023-05-25T11:50:04.815Z"
   },
   {
    "duration": 36,
    "start_time": "2023-05-25T11:50:04.834Z"
   },
   {
    "duration": 65,
    "start_time": "2023-05-25T11:50:04.872Z"
   },
   {
    "duration": 24,
    "start_time": "2023-05-25T11:50:04.939Z"
   },
   {
    "duration": 98,
    "start_time": "2023-05-25T11:50:04.965Z"
   },
   {
    "duration": 108,
    "start_time": "2023-05-25T11:50:05.065Z"
   },
   {
    "duration": 163,
    "start_time": "2023-05-25T11:50:05.175Z"
   },
   {
    "duration": 83,
    "start_time": "2023-05-25T11:50:05.340Z"
   },
   {
    "duration": 78,
    "start_time": "2023-05-25T11:50:05.425Z"
   },
   {
    "duration": 80,
    "start_time": "2023-05-25T11:50:05.505Z"
   },
   {
    "duration": 19,
    "start_time": "2023-05-25T11:50:05.587Z"
   },
   {
    "duration": 2421,
    "start_time": "2023-05-25T11:50:05.608Z"
   },
   {
    "duration": 4,
    "start_time": "2023-05-25T11:50:08.032Z"
   },
   {
    "duration": 10087,
    "start_time": "2023-05-25T11:50:08.038Z"
   },
   {
    "duration": 3,
    "start_time": "2023-05-25T11:50:18.127Z"
   },
   {
    "duration": 96215,
    "start_time": "2023-05-25T11:50:18.131Z"
   },
   {
    "duration": 3,
    "start_time": "2023-05-25T11:51:54.348Z"
   },
   {
    "duration": 6260,
    "start_time": "2023-05-25T11:51:54.353Z"
   },
   {
    "duration": 3,
    "start_time": "2023-05-25T11:52:00.615Z"
   },
   {
    "duration": 25,
    "start_time": "2023-05-25T11:52:00.625Z"
   },
   {
    "duration": 135,
    "start_time": "2023-05-25T11:52:00.652Z"
   },
   {
    "duration": 0,
    "start_time": "2023-05-25T11:52:00.790Z"
   },
   {
    "duration": 0,
    "start_time": "2023-05-25T11:52:00.791Z"
   },
   {
    "duration": 0,
    "start_time": "2023-05-25T11:52:00.793Z"
   },
   {
    "duration": 0,
    "start_time": "2023-05-25T11:52:00.794Z"
   },
   {
    "duration": 0,
    "start_time": "2023-05-25T11:52:00.796Z"
   },
   {
    "duration": 0,
    "start_time": "2023-05-25T11:52:00.798Z"
   },
   {
    "duration": 0,
    "start_time": "2023-05-25T11:52:00.799Z"
   },
   {
    "duration": 0,
    "start_time": "2023-05-25T11:52:00.801Z"
   },
   {
    "duration": 13,
    "start_time": "2023-05-25T11:52:34.250Z"
   },
   {
    "duration": 3,
    "start_time": "2023-05-25T11:54:05.962Z"
   },
   {
    "duration": 2789,
    "start_time": "2023-05-25T11:54:06.135Z"
   },
   {
    "duration": 13,
    "start_time": "2023-05-25T11:54:14.931Z"
   },
   {
    "duration": 35,
    "start_time": "2023-05-25T11:56:48.299Z"
   },
   {
    "duration": 92,
    "start_time": "2023-05-25T11:56:48.433Z"
   },
   {
    "duration": 34,
    "start_time": "2023-05-25T11:59:04.893Z"
   },
   {
    "duration": 10,
    "start_time": "2023-05-25T11:59:05.082Z"
   },
   {
    "duration": 234,
    "start_time": "2023-05-25T11:59:16.993Z"
   },
   {
    "duration": 5,
    "start_time": "2023-05-25T11:59:17.685Z"
   },
   {
    "duration": 4,
    "start_time": "2023-05-25T11:59:19.950Z"
   },
   {
    "duration": 4,
    "start_time": "2023-05-25T12:00:55.939Z"
   },
   {
    "duration": 1577,
    "start_time": "2023-05-25T12:00:55.946Z"
   },
   {
    "duration": 339,
    "start_time": "2023-05-25T12:00:57.525Z"
   },
   {
    "duration": 382,
    "start_time": "2023-05-25T12:00:57.866Z"
   },
   {
    "duration": 81,
    "start_time": "2023-05-25T12:00:58.250Z"
   },
   {
    "duration": 3,
    "start_time": "2023-05-25T12:00:58.334Z"
   },
   {
    "duration": 8,
    "start_time": "2023-05-25T12:00:58.340Z"
   },
   {
    "duration": 105,
    "start_time": "2023-05-25T12:00:58.350Z"
   },
   {
    "duration": 86,
    "start_time": "2023-05-25T12:00:58.458Z"
   },
   {
    "duration": 684,
    "start_time": "2023-05-25T12:00:58.546Z"
   },
   {
    "duration": 27,
    "start_time": "2023-05-25T12:00:59.232Z"
   },
   {
    "duration": 19,
    "start_time": "2023-05-25T12:00:59.261Z"
   },
   {
    "duration": 68,
    "start_time": "2023-05-25T12:00:59.283Z"
   },
   {
    "duration": 294,
    "start_time": "2023-05-25T12:00:59.354Z"
   },
   {
    "duration": 7,
    "start_time": "2023-05-25T12:00:59.654Z"
   },
   {
    "duration": 9,
    "start_time": "2023-05-25T12:00:59.662Z"
   },
   {
    "duration": 13,
    "start_time": "2023-05-25T12:00:59.673Z"
   },
   {
    "duration": 17,
    "start_time": "2023-05-25T12:00:59.689Z"
   },
   {
    "duration": 16,
    "start_time": "2023-05-25T12:00:59.724Z"
   },
   {
    "duration": 12,
    "start_time": "2023-05-25T12:00:59.743Z"
   },
   {
    "duration": 9,
    "start_time": "2023-05-25T12:00:59.758Z"
   },
   {
    "duration": 22,
    "start_time": "2023-05-25T12:00:59.770Z"
   },
   {
    "duration": 4,
    "start_time": "2023-05-25T12:00:59.795Z"
   },
   {
    "duration": 4,
    "start_time": "2023-05-25T12:00:59.826Z"
   },
   {
    "duration": 12,
    "start_time": "2023-05-25T12:00:59.833Z"
   },
   {
    "duration": 6,
    "start_time": "2023-05-25T12:00:59.849Z"
   },
   {
    "duration": 6,
    "start_time": "2023-05-25T12:00:59.858Z"
   },
   {
    "duration": 7,
    "start_time": "2023-05-25T12:00:59.867Z"
   },
   {
    "duration": 49,
    "start_time": "2023-05-25T12:00:59.876Z"
   },
   {
    "duration": 719,
    "start_time": "2023-05-25T12:00:59.928Z"
   },
   {
    "duration": 3,
    "start_time": "2023-05-25T12:01:00.649Z"
   },
   {
    "duration": 821,
    "start_time": "2023-05-25T12:01:00.654Z"
   },
   {
    "duration": 5,
    "start_time": "2023-05-25T12:01:01.477Z"
   },
   {
    "duration": 50,
    "start_time": "2023-05-25T12:01:01.484Z"
   },
   {
    "duration": 882,
    "start_time": "2023-05-25T12:01:01.537Z"
   },
   {
    "duration": 18,
    "start_time": "2023-05-25T12:01:02.425Z"
   },
   {
    "duration": 13,
    "start_time": "2023-05-25T12:01:02.446Z"
   },
   {
    "duration": 636,
    "start_time": "2023-05-25T12:01:02.461Z"
   },
   {
    "duration": 6,
    "start_time": "2023-05-25T12:01:03.099Z"
   },
   {
    "duration": 595,
    "start_time": "2023-05-25T12:01:03.107Z"
   },
   {
    "duration": 6,
    "start_time": "2023-05-25T12:01:03.704Z"
   },
   {
    "duration": 897,
    "start_time": "2023-05-25T12:01:03.728Z"
   },
   {
    "duration": 5,
    "start_time": "2023-05-25T12:01:04.627Z"
   },
   {
    "duration": 10,
    "start_time": "2023-05-25T12:01:04.635Z"
   },
   {
    "duration": 12,
    "start_time": "2023-05-25T12:01:04.647Z"
   },
   {
    "duration": 23,
    "start_time": "2023-05-25T12:01:04.660Z"
   },
   {
    "duration": 17,
    "start_time": "2023-05-25T12:01:04.685Z"
   },
   {
    "duration": 29,
    "start_time": "2023-05-25T12:01:04.704Z"
   },
   {
    "duration": 18,
    "start_time": "2023-05-25T12:01:04.735Z"
   },
   {
    "duration": 5,
    "start_time": "2023-05-25T12:01:04.755Z"
   },
   {
    "duration": 6,
    "start_time": "2023-05-25T12:01:04.762Z"
   },
   {
    "duration": 17,
    "start_time": "2023-05-25T12:01:04.770Z"
   },
   {
    "duration": 36,
    "start_time": "2023-05-25T12:01:04.789Z"
   },
   {
    "duration": 3,
    "start_time": "2023-05-25T12:01:04.827Z"
   },
   {
    "duration": 2496,
    "start_time": "2023-05-25T12:01:04.832Z"
   },
   {
    "duration": 4,
    "start_time": "2023-05-25T12:01:07.330Z"
   },
   {
    "duration": 10090,
    "start_time": "2023-05-25T12:01:07.339Z"
   },
   {
    "duration": 3,
    "start_time": "2023-05-25T12:01:17.431Z"
   },
   {
    "duration": 94015,
    "start_time": "2023-05-25T12:01:17.436Z"
   },
   {
    "duration": 4,
    "start_time": "2023-05-25T12:02:51.454Z"
   },
   {
    "duration": 6364,
    "start_time": "2023-05-25T12:02:51.460Z"
   },
   {
    "duration": 3,
    "start_time": "2023-05-25T12:02:57.826Z"
   },
   {
    "duration": 6,
    "start_time": "2023-05-25T12:02:57.830Z"
   },
   {
    "duration": 188,
    "start_time": "2023-05-25T12:02:57.838Z"
   },
   {
    "duration": 7,
    "start_time": "2023-05-25T12:02:58.028Z"
   },
   {
    "duration": 5,
    "start_time": "2023-05-25T12:02:58.037Z"
   },
   {
    "duration": 283,
    "start_time": "2023-05-25T12:02:58.044Z"
   },
   {
    "duration": 6,
    "start_time": "2023-05-25T12:02:58.330Z"
   },
   {
    "duration": 87,
    "start_time": "2023-05-25T12:02:58.339Z"
   },
   {
    "duration": 11,
    "start_time": "2023-05-25T12:02:58.428Z"
   },
   {
    "duration": 5,
    "start_time": "2023-05-25T12:02:58.441Z"
   },
   {
    "duration": 5,
    "start_time": "2023-05-25T12:02:58.448Z"
   },
   {
    "duration": 5,
    "start_time": "2023-05-25T12:02:58.455Z"
   },
   {
    "duration": 5,
    "start_time": "2023-05-25T12:02:58.462Z"
   },
   {
    "duration": 3,
    "start_time": "2023-05-25T12:15:38.512Z"
   },
   {
    "duration": 1523,
    "start_time": "2023-05-25T12:15:38.522Z"
   },
   {
    "duration": 305,
    "start_time": "2023-05-25T12:15:40.047Z"
   },
   {
    "duration": 374,
    "start_time": "2023-05-25T12:15:40.353Z"
   },
   {
    "duration": 76,
    "start_time": "2023-05-25T12:15:40.729Z"
   },
   {
    "duration": 2,
    "start_time": "2023-05-25T12:15:40.807Z"
   },
   {
    "duration": 11,
    "start_time": "2023-05-25T12:15:40.811Z"
   },
   {
    "duration": 67,
    "start_time": "2023-05-25T12:15:40.824Z"
   },
   {
    "duration": 77,
    "start_time": "2023-05-25T12:15:40.893Z"
   },
   {
    "duration": 626,
    "start_time": "2023-05-25T12:15:40.971Z"
   },
   {
    "duration": 38,
    "start_time": "2023-05-25T12:15:41.598Z"
   },
   {
    "duration": 12,
    "start_time": "2023-05-25T12:15:41.638Z"
   },
   {
    "duration": 24,
    "start_time": "2023-05-25T12:15:41.652Z"
   },
   {
    "duration": 283,
    "start_time": "2023-05-25T12:15:41.678Z"
   },
   {
    "duration": 4,
    "start_time": "2023-05-25T12:15:41.965Z"
   },
   {
    "duration": 10,
    "start_time": "2023-05-25T12:15:41.971Z"
   },
   {
    "duration": 37,
    "start_time": "2023-05-25T12:15:41.983Z"
   },
   {
    "duration": 12,
    "start_time": "2023-05-25T12:15:42.022Z"
   },
   {
    "duration": 29,
    "start_time": "2023-05-25T12:15:42.035Z"
   },
   {
    "duration": 22,
    "start_time": "2023-05-25T12:15:42.065Z"
   },
   {
    "duration": 14,
    "start_time": "2023-05-25T12:15:42.089Z"
   },
   {
    "duration": 29,
    "start_time": "2023-05-25T12:15:42.104Z"
   },
   {
    "duration": 3,
    "start_time": "2023-05-25T12:15:42.135Z"
   },
   {
    "duration": 33,
    "start_time": "2023-05-25T12:15:42.139Z"
   },
   {
    "duration": 22,
    "start_time": "2023-05-25T12:15:42.174Z"
   },
   {
    "duration": 127,
    "start_time": "2023-05-25T12:15:42.198Z"
   },
   {
    "duration": 0,
    "start_time": "2023-05-25T12:15:42.327Z"
   },
   {
    "duration": 0,
    "start_time": "2023-05-25T12:15:42.329Z"
   },
   {
    "duration": 0,
    "start_time": "2023-05-25T12:15:42.331Z"
   },
   {
    "duration": 0,
    "start_time": "2023-05-25T12:15:42.332Z"
   },
   {
    "duration": 0,
    "start_time": "2023-05-25T12:15:42.334Z"
   },
   {
    "duration": 0,
    "start_time": "2023-05-25T12:15:42.335Z"
   },
   {
    "duration": 0,
    "start_time": "2023-05-25T12:15:42.337Z"
   },
   {
    "duration": 0,
    "start_time": "2023-05-25T12:15:42.339Z"
   },
   {
    "duration": 0,
    "start_time": "2023-05-25T12:15:42.340Z"
   },
   {
    "duration": 0,
    "start_time": "2023-05-25T12:15:42.342Z"
   },
   {
    "duration": 0,
    "start_time": "2023-05-25T12:15:42.343Z"
   },
   {
    "duration": 0,
    "start_time": "2023-05-25T12:15:42.345Z"
   },
   {
    "duration": 0,
    "start_time": "2023-05-25T12:15:42.347Z"
   },
   {
    "duration": 0,
    "start_time": "2023-05-25T12:15:42.348Z"
   },
   {
    "duration": 0,
    "start_time": "2023-05-25T12:15:42.350Z"
   },
   {
    "duration": 0,
    "start_time": "2023-05-25T12:15:42.351Z"
   },
   {
    "duration": 0,
    "start_time": "2023-05-25T12:15:42.353Z"
   },
   {
    "duration": 0,
    "start_time": "2023-05-25T12:15:42.354Z"
   },
   {
    "duration": 0,
    "start_time": "2023-05-25T12:15:42.355Z"
   },
   {
    "duration": 0,
    "start_time": "2023-05-25T12:15:42.356Z"
   },
   {
    "duration": 0,
    "start_time": "2023-05-25T12:15:42.358Z"
   },
   {
    "duration": 0,
    "start_time": "2023-05-25T12:15:42.359Z"
   },
   {
    "duration": 1,
    "start_time": "2023-05-25T12:15:42.360Z"
   },
   {
    "duration": 0,
    "start_time": "2023-05-25T12:15:42.362Z"
   },
   {
    "duration": 0,
    "start_time": "2023-05-25T12:15:42.363Z"
   },
   {
    "duration": 0,
    "start_time": "2023-05-25T12:15:42.364Z"
   },
   {
    "duration": 0,
    "start_time": "2023-05-25T12:15:42.425Z"
   },
   {
    "duration": 0,
    "start_time": "2023-05-25T12:15:42.427Z"
   },
   {
    "duration": 0,
    "start_time": "2023-05-25T12:15:42.428Z"
   },
   {
    "duration": 0,
    "start_time": "2023-05-25T12:15:42.430Z"
   },
   {
    "duration": 0,
    "start_time": "2023-05-25T12:15:42.431Z"
   },
   {
    "duration": 0,
    "start_time": "2023-05-25T12:15:42.432Z"
   },
   {
    "duration": 0,
    "start_time": "2023-05-25T12:15:42.434Z"
   },
   {
    "duration": 0,
    "start_time": "2023-05-25T12:15:42.435Z"
   },
   {
    "duration": 0,
    "start_time": "2023-05-25T12:15:42.436Z"
   },
   {
    "duration": 0,
    "start_time": "2023-05-25T12:15:42.437Z"
   },
   {
    "duration": 0,
    "start_time": "2023-05-25T12:15:42.438Z"
   },
   {
    "duration": 0,
    "start_time": "2023-05-25T12:15:42.440Z"
   },
   {
    "duration": 0,
    "start_time": "2023-05-25T12:15:42.441Z"
   },
   {
    "duration": 0,
    "start_time": "2023-05-25T12:15:42.442Z"
   },
   {
    "duration": 0,
    "start_time": "2023-05-25T12:15:42.443Z"
   },
   {
    "duration": 0,
    "start_time": "2023-05-25T12:15:42.444Z"
   },
   {
    "duration": 0,
    "start_time": "2023-05-25T12:15:42.445Z"
   },
   {
    "duration": 0,
    "start_time": "2023-05-25T12:15:42.446Z"
   },
   {
    "duration": 0,
    "start_time": "2023-05-25T12:15:42.446Z"
   },
   {
    "duration": 0,
    "start_time": "2023-05-25T12:15:42.447Z"
   },
   {
    "duration": 0,
    "start_time": "2023-05-25T12:15:42.448Z"
   },
   {
    "duration": 0,
    "start_time": "2023-05-25T12:15:42.449Z"
   },
   {
    "duration": 15,
    "start_time": "2023-05-25T12:16:53.591Z"
   },
   {
    "duration": 7,
    "start_time": "2023-05-25T12:17:38.983Z"
   },
   {
    "duration": 53,
    "start_time": "2023-05-25T12:17:40.226Z"
   },
   {
    "duration": 57,
    "start_time": "2023-05-25T12:17:48.134Z"
   },
   {
    "duration": 64,
    "start_time": "2023-05-25T12:18:29.028Z"
   },
   {
    "duration": 43,
    "start_time": "2023-05-25T12:18:52.583Z"
   },
   {
    "duration": 53,
    "start_time": "2023-05-25T12:19:06.381Z"
   },
   {
    "duration": 54,
    "start_time": "2023-05-25T12:19:13.810Z"
   },
   {
    "duration": 50,
    "start_time": "2023-05-25T12:19:23.679Z"
   },
   {
    "duration": 47,
    "start_time": "2023-05-25T12:20:16.554Z"
   },
   {
    "duration": 6,
    "start_time": "2023-05-25T12:20:29.729Z"
   },
   {
    "duration": 3,
    "start_time": "2023-05-25T12:20:39.546Z"
   },
   {
    "duration": 17,
    "start_time": "2023-05-25T12:20:39.558Z"
   },
   {
    "duration": 450,
    "start_time": "2023-05-25T12:20:39.578Z"
   },
   {
    "duration": 402,
    "start_time": "2023-05-25T12:20:40.032Z"
   },
   {
    "duration": 77,
    "start_time": "2023-05-25T12:20:40.436Z"
   },
   {
    "duration": 3,
    "start_time": "2023-05-25T12:20:40.516Z"
   },
   {
    "duration": 21,
    "start_time": "2023-05-25T12:20:40.524Z"
   },
   {
    "duration": 72,
    "start_time": "2023-05-25T12:20:40.547Z"
   },
   {
    "duration": 53,
    "start_time": "2023-05-25T12:20:40.621Z"
   },
   {
    "duration": 660,
    "start_time": "2023-05-25T12:20:40.676Z"
   },
   {
    "duration": 33,
    "start_time": "2023-05-25T12:20:41.339Z"
   },
   {
    "duration": 51,
    "start_time": "2023-05-25T12:20:41.375Z"
   },
   {
    "duration": 33,
    "start_time": "2023-05-25T12:20:41.428Z"
   },
   {
    "duration": 273,
    "start_time": "2023-05-25T12:20:41.463Z"
   },
   {
    "duration": 5,
    "start_time": "2023-05-25T12:20:41.742Z"
   },
   {
    "duration": 15,
    "start_time": "2023-05-25T12:20:41.749Z"
   },
   {
    "duration": 17,
    "start_time": "2023-05-25T12:20:41.767Z"
   },
   {
    "duration": 26,
    "start_time": "2023-05-25T12:20:41.785Z"
   },
   {
    "duration": 32,
    "start_time": "2023-05-25T12:20:41.813Z"
   },
   {
    "duration": 35,
    "start_time": "2023-05-25T12:20:41.847Z"
   },
   {
    "duration": 7,
    "start_time": "2023-05-25T12:20:41.884Z"
   },
   {
    "duration": 13,
    "start_time": "2023-05-25T12:20:41.892Z"
   },
   {
    "duration": 4,
    "start_time": "2023-05-25T12:20:41.908Z"
   },
   {
    "duration": 5,
    "start_time": "2023-05-25T12:20:41.914Z"
   },
   {
    "duration": 9,
    "start_time": "2023-05-25T12:20:41.922Z"
   },
   {
    "duration": 7,
    "start_time": "2023-05-25T12:20:41.934Z"
   },
   {
    "duration": 7,
    "start_time": "2023-05-25T12:20:45.917Z"
   },
   {
    "duration": 18,
    "start_time": "2023-05-25T12:20:45.927Z"
   },
   {
    "duration": 29,
    "start_time": "2023-05-25T12:20:45.947Z"
   },
   {
    "duration": 804,
    "start_time": "2023-05-25T12:20:45.979Z"
   },
   {
    "duration": 5,
    "start_time": "2023-05-25T12:20:46.787Z"
   },
   {
    "duration": 746,
    "start_time": "2023-05-25T12:20:46.794Z"
   },
   {
    "duration": 5,
    "start_time": "2023-05-25T12:20:47.542Z"
   },
   {
    "duration": 6,
    "start_time": "2023-05-25T12:20:47.549Z"
   },
   {
    "duration": 835,
    "start_time": "2023-05-25T12:20:47.557Z"
   },
   {
    "duration": 33,
    "start_time": "2023-05-25T12:20:48.394Z"
   },
   {
    "duration": 6,
    "start_time": "2023-05-25T12:20:48.430Z"
   },
   {
    "duration": 811,
    "start_time": "2023-05-25T12:20:48.438Z"
   },
   {
    "duration": 7,
    "start_time": "2023-05-25T12:20:49.251Z"
   },
   {
    "duration": 786,
    "start_time": "2023-05-25T12:20:49.262Z"
   },
   {
    "duration": 9,
    "start_time": "2023-05-25T12:20:50.051Z"
   },
   {
    "duration": 1045,
    "start_time": "2023-05-25T12:20:50.062Z"
   },
   {
    "duration": 6,
    "start_time": "2023-05-25T12:20:51.108Z"
   },
   {
    "duration": 40,
    "start_time": "2023-05-25T12:20:51.116Z"
   },
   {
    "duration": 18,
    "start_time": "2023-05-25T12:20:51.159Z"
   },
   {
    "duration": 47,
    "start_time": "2023-05-25T12:20:51.180Z"
   },
   {
    "duration": 30,
    "start_time": "2023-05-25T12:20:51.230Z"
   },
   {
    "duration": 22,
    "start_time": "2023-05-25T12:20:51.263Z"
   },
   {
    "duration": 46,
    "start_time": "2023-05-25T12:20:51.288Z"
   },
   {
    "duration": 20,
    "start_time": "2023-05-25T12:20:51.338Z"
   },
   {
    "duration": 24,
    "start_time": "2023-05-25T12:20:51.361Z"
   },
   {
    "duration": 28,
    "start_time": "2023-05-25T12:20:51.388Z"
   },
   {
    "duration": 32,
    "start_time": "2023-05-25T12:20:51.419Z"
   },
   {
    "duration": 11,
    "start_time": "2023-05-25T12:20:51.454Z"
   },
   {
    "duration": 2874,
    "start_time": "2023-05-25T12:20:51.467Z"
   },
   {
    "duration": 4,
    "start_time": "2023-05-25T12:20:54.343Z"
   },
   {
    "duration": 9199,
    "start_time": "2023-05-25T12:20:54.354Z"
   },
   {
    "duration": 4,
    "start_time": "2023-05-25T12:21:03.555Z"
   },
   {
    "duration": 95554,
    "start_time": "2023-05-25T12:21:03.561Z"
   },
   {
    "duration": 9,
    "start_time": "2023-05-25T12:22:39.117Z"
   },
   {
    "duration": 6453,
    "start_time": "2023-05-25T12:22:39.128Z"
   },
   {
    "duration": 3,
    "start_time": "2023-05-25T12:22:45.583Z"
   },
   {
    "duration": 10,
    "start_time": "2023-05-25T12:22:45.588Z"
   },
   {
    "duration": 228,
    "start_time": "2023-05-25T12:22:45.600Z"
   },
   {
    "duration": 6,
    "start_time": "2023-05-25T12:22:45.831Z"
   },
   {
    "duration": 3,
    "start_time": "2023-05-25T12:22:45.843Z"
   },
   {
    "duration": 677,
    "start_time": "2023-05-25T12:22:45.852Z"
   },
   {
    "duration": 11,
    "start_time": "2023-05-25T12:22:46.532Z"
   },
   {
    "duration": 6,
    "start_time": "2023-05-25T12:22:46.624Z"
   },
   {
    "duration": 7,
    "start_time": "2023-05-25T12:22:46.633Z"
   },
   {
    "duration": 7,
    "start_time": "2023-05-25T12:22:46.643Z"
   },
   {
    "duration": 9,
    "start_time": "2023-05-25T12:22:46.725Z"
   },
   {
    "duration": 19,
    "start_time": "2023-05-25T12:22:46.736Z"
   },
   {
    "duration": 8,
    "start_time": "2023-05-25T12:22:46.758Z"
   },
   {
    "duration": 561,
    "start_time": "2023-05-25T12:23:22.126Z"
   },
   {
    "duration": 573,
    "start_time": "2023-05-25T12:23:28.548Z"
   },
   {
    "duration": 715,
    "start_time": "2023-05-25T12:23:41.798Z"
   },
   {
    "duration": 19,
    "start_time": "2023-05-25T12:24:53.873Z"
   },
   {
    "duration": 4,
    "start_time": "2023-05-25T12:24:58.077Z"
   },
   {
    "duration": 1504,
    "start_time": "2023-05-25T12:24:58.096Z"
   },
   {
    "duration": 375,
    "start_time": "2023-05-25T12:24:59.603Z"
   },
   {
    "duration": 412,
    "start_time": "2023-05-25T12:24:59.983Z"
   },
   {
    "duration": 80,
    "start_time": "2023-05-25T12:25:00.398Z"
   },
   {
    "duration": 3,
    "start_time": "2023-05-25T12:25:00.479Z"
   },
   {
    "duration": 22,
    "start_time": "2023-05-25T12:25:00.484Z"
   },
   {
    "duration": 112,
    "start_time": "2023-05-25T12:25:00.508Z"
   },
   {
    "duration": 58,
    "start_time": "2023-05-25T12:25:00.621Z"
   },
   {
    "duration": 660,
    "start_time": "2023-05-25T12:25:00.680Z"
   },
   {
    "duration": 24,
    "start_time": "2023-05-25T12:25:01.344Z"
   },
   {
    "duration": 136,
    "start_time": "2023-05-25T12:25:01.370Z"
   },
   {
    "duration": 147,
    "start_time": "2023-05-25T12:25:01.508Z"
   },
   {
    "duration": 278,
    "start_time": "2023-05-25T12:25:01.657Z"
   },
   {
    "duration": 6,
    "start_time": "2023-05-25T12:25:01.936Z"
   },
   {
    "duration": 25,
    "start_time": "2023-05-25T12:25:01.944Z"
   },
   {
    "duration": 33,
    "start_time": "2023-05-25T12:25:01.972Z"
   },
   {
    "duration": 41,
    "start_time": "2023-05-25T12:25:02.007Z"
   },
   {
    "duration": 61,
    "start_time": "2023-05-25T12:25:02.050Z"
   },
   {
    "duration": 41,
    "start_time": "2023-05-25T12:25:02.114Z"
   },
   {
    "duration": 36,
    "start_time": "2023-05-25T12:25:02.157Z"
   },
   {
    "duration": 55,
    "start_time": "2023-05-25T12:25:02.195Z"
   },
   {
    "duration": 13,
    "start_time": "2023-05-25T12:25:02.252Z"
   },
   {
    "duration": 94,
    "start_time": "2023-05-25T12:25:02.267Z"
   },
   {
    "duration": 82,
    "start_time": "2023-05-25T12:25:02.363Z"
   },
   {
    "duration": 31,
    "start_time": "2023-05-25T12:25:02.447Z"
   },
   {
    "duration": 48,
    "start_time": "2023-05-25T12:25:02.480Z"
   },
   {
    "duration": 69,
    "start_time": "2023-05-25T12:25:02.530Z"
   },
   {
    "duration": 149,
    "start_time": "2023-05-25T12:25:02.603Z"
   },
   {
    "duration": 0,
    "start_time": "2023-05-25T12:25:02.753Z"
   },
   {
    "duration": 0,
    "start_time": "2023-05-25T12:25:02.755Z"
   },
   {
    "duration": 0,
    "start_time": "2023-05-25T12:25:02.756Z"
   },
   {
    "duration": 0,
    "start_time": "2023-05-25T12:25:02.757Z"
   },
   {
    "duration": 0,
    "start_time": "2023-05-25T12:25:02.759Z"
   },
   {
    "duration": 0,
    "start_time": "2023-05-25T12:25:02.760Z"
   },
   {
    "duration": 0,
    "start_time": "2023-05-25T12:25:02.762Z"
   },
   {
    "duration": 0,
    "start_time": "2023-05-25T12:25:02.763Z"
   },
   {
    "duration": 0,
    "start_time": "2023-05-25T12:25:02.765Z"
   },
   {
    "duration": 0,
    "start_time": "2023-05-25T12:25:02.766Z"
   },
   {
    "duration": 0,
    "start_time": "2023-05-25T12:25:02.767Z"
   },
   {
    "duration": 0,
    "start_time": "2023-05-25T12:25:02.769Z"
   },
   {
    "duration": 0,
    "start_time": "2023-05-25T12:25:02.770Z"
   },
   {
    "duration": 0,
    "start_time": "2023-05-25T12:25:02.771Z"
   },
   {
    "duration": 0,
    "start_time": "2023-05-25T12:25:02.773Z"
   },
   {
    "duration": 0,
    "start_time": "2023-05-25T12:25:02.774Z"
   },
   {
    "duration": 0,
    "start_time": "2023-05-25T12:25:02.776Z"
   },
   {
    "duration": 0,
    "start_time": "2023-05-25T12:25:02.777Z"
   },
   {
    "duration": 0,
    "start_time": "2023-05-25T12:25:02.778Z"
   },
   {
    "duration": 0,
    "start_time": "2023-05-25T12:25:02.779Z"
   },
   {
    "duration": 0,
    "start_time": "2023-05-25T12:25:02.780Z"
   },
   {
    "duration": 0,
    "start_time": "2023-05-25T12:25:02.826Z"
   },
   {
    "duration": 0,
    "start_time": "2023-05-25T12:25:02.828Z"
   },
   {
    "duration": 0,
    "start_time": "2023-05-25T12:25:02.829Z"
   },
   {
    "duration": 0,
    "start_time": "2023-05-25T12:25:02.831Z"
   },
   {
    "duration": 0,
    "start_time": "2023-05-25T12:25:02.832Z"
   },
   {
    "duration": 0,
    "start_time": "2023-05-25T12:25:02.833Z"
   },
   {
    "duration": 0,
    "start_time": "2023-05-25T12:25:02.835Z"
   },
   {
    "duration": 0,
    "start_time": "2023-05-25T12:25:02.836Z"
   },
   {
    "duration": 0,
    "start_time": "2023-05-25T12:25:02.837Z"
   },
   {
    "duration": 0,
    "start_time": "2023-05-25T12:25:02.839Z"
   },
   {
    "duration": 0,
    "start_time": "2023-05-25T12:25:02.840Z"
   },
   {
    "duration": 0,
    "start_time": "2023-05-25T12:25:02.842Z"
   },
   {
    "duration": 0,
    "start_time": "2023-05-25T12:25:02.844Z"
   },
   {
    "duration": 0,
    "start_time": "2023-05-25T12:25:02.845Z"
   },
   {
    "duration": 0,
    "start_time": "2023-05-25T12:25:02.846Z"
   },
   {
    "duration": 0,
    "start_time": "2023-05-25T12:25:02.847Z"
   },
   {
    "duration": 0,
    "start_time": "2023-05-25T12:25:02.848Z"
   },
   {
    "duration": 0,
    "start_time": "2023-05-25T12:25:02.849Z"
   },
   {
    "duration": 0,
    "start_time": "2023-05-25T12:25:02.851Z"
   },
   {
    "duration": 0,
    "start_time": "2023-05-25T12:25:02.852Z"
   },
   {
    "duration": 0,
    "start_time": "2023-05-25T12:25:02.853Z"
   },
   {
    "duration": 0,
    "start_time": "2023-05-25T12:25:02.855Z"
   },
   {
    "duration": 0,
    "start_time": "2023-05-25T12:25:02.857Z"
   },
   {
    "duration": 0,
    "start_time": "2023-05-25T12:25:02.858Z"
   },
   {
    "duration": 5,
    "start_time": "2023-05-25T12:25:53.174Z"
   },
   {
    "duration": 4,
    "start_time": "2023-05-25T12:25:56.932Z"
   },
   {
    "duration": 26,
    "start_time": "2023-05-25T12:25:56.943Z"
   },
   {
    "duration": 0,
    "start_time": "2023-05-25T12:25:56.971Z"
   },
   {
    "duration": 0,
    "start_time": "2023-05-25T12:25:56.973Z"
   },
   {
    "duration": 0,
    "start_time": "2023-05-25T12:25:56.974Z"
   },
   {
    "duration": 29,
    "start_time": "2023-05-25T12:25:56.977Z"
   },
   {
    "duration": 0,
    "start_time": "2023-05-25T12:25:57.010Z"
   },
   {
    "duration": 0,
    "start_time": "2023-05-25T12:25:57.011Z"
   },
   {
    "duration": 0,
    "start_time": "2023-05-25T12:25:57.013Z"
   },
   {
    "duration": 0,
    "start_time": "2023-05-25T12:25:57.024Z"
   },
   {
    "duration": 0,
    "start_time": "2023-05-25T12:25:57.026Z"
   },
   {
    "duration": 0,
    "start_time": "2023-05-25T12:25:57.028Z"
   },
   {
    "duration": 0,
    "start_time": "2023-05-25T12:25:57.031Z"
   },
   {
    "duration": 0,
    "start_time": "2023-05-25T12:25:57.033Z"
   },
   {
    "duration": 0,
    "start_time": "2023-05-25T12:25:57.034Z"
   },
   {
    "duration": 0,
    "start_time": "2023-05-25T12:25:57.036Z"
   },
   {
    "duration": 0,
    "start_time": "2023-05-25T12:25:57.038Z"
   },
   {
    "duration": 0,
    "start_time": "2023-05-25T12:25:57.039Z"
   },
   {
    "duration": 0,
    "start_time": "2023-05-25T12:25:57.041Z"
   },
   {
    "duration": 0,
    "start_time": "2023-05-25T12:25:57.043Z"
   },
   {
    "duration": 0,
    "start_time": "2023-05-25T12:25:57.045Z"
   },
   {
    "duration": 0,
    "start_time": "2023-05-25T12:25:57.046Z"
   },
   {
    "duration": 0,
    "start_time": "2023-05-25T12:25:57.048Z"
   },
   {
    "duration": 0,
    "start_time": "2023-05-25T12:25:57.050Z"
   },
   {
    "duration": 0,
    "start_time": "2023-05-25T12:25:57.052Z"
   },
   {
    "duration": 0,
    "start_time": "2023-05-25T12:25:57.053Z"
   },
   {
    "duration": 0,
    "start_time": "2023-05-25T12:25:57.055Z"
   },
   {
    "duration": 0,
    "start_time": "2023-05-25T12:25:57.056Z"
   },
   {
    "duration": 0,
    "start_time": "2023-05-25T12:25:57.057Z"
   },
   {
    "duration": 0,
    "start_time": "2023-05-25T12:25:57.059Z"
   },
   {
    "duration": 0,
    "start_time": "2023-05-25T12:25:57.060Z"
   },
   {
    "duration": 0,
    "start_time": "2023-05-25T12:25:57.061Z"
   },
   {
    "duration": 0,
    "start_time": "2023-05-25T12:25:57.124Z"
   },
   {
    "duration": 0,
    "start_time": "2023-05-25T12:25:57.126Z"
   },
   {
    "duration": 0,
    "start_time": "2023-05-25T12:25:57.127Z"
   },
   {
    "duration": 0,
    "start_time": "2023-05-25T12:25:57.128Z"
   },
   {
    "duration": 0,
    "start_time": "2023-05-25T12:25:57.130Z"
   },
   {
    "duration": 0,
    "start_time": "2023-05-25T12:25:57.131Z"
   },
   {
    "duration": 1,
    "start_time": "2023-05-25T12:25:57.132Z"
   },
   {
    "duration": 60,
    "start_time": "2023-05-25T12:25:57.139Z"
   },
   {
    "duration": 10,
    "start_time": "2023-05-25T12:25:57.200Z"
   },
   {
    "duration": 0,
    "start_time": "2023-05-25T12:25:57.211Z"
   },
   {
    "duration": 0,
    "start_time": "2023-05-25T12:25:57.213Z"
   },
   {
    "duration": 0,
    "start_time": "2023-05-25T12:25:57.214Z"
   },
   {
    "duration": 0,
    "start_time": "2023-05-25T12:25:57.215Z"
   },
   {
    "duration": 0,
    "start_time": "2023-05-25T12:25:57.216Z"
   },
   {
    "duration": 0,
    "start_time": "2023-05-25T12:25:57.217Z"
   },
   {
    "duration": 4,
    "start_time": "2023-05-25T12:26:24.105Z"
   },
   {
    "duration": 1498,
    "start_time": "2023-05-25T12:26:24.111Z"
   },
   {
    "duration": 345,
    "start_time": "2023-05-25T12:26:25.611Z"
   },
   {
    "duration": 392,
    "start_time": "2023-05-25T12:26:25.958Z"
   },
   {
    "duration": 81,
    "start_time": "2023-05-25T12:26:26.352Z"
   },
   {
    "duration": 2,
    "start_time": "2023-05-25T12:26:26.435Z"
   },
   {
    "duration": 16,
    "start_time": "2023-05-25T12:26:26.438Z"
   },
   {
    "duration": 77,
    "start_time": "2023-05-25T12:26:26.455Z"
   },
   {
    "duration": 46,
    "start_time": "2023-05-25T12:26:26.533Z"
   },
   {
    "duration": 654,
    "start_time": "2023-05-25T12:26:26.580Z"
   },
   {
    "duration": 23,
    "start_time": "2023-05-25T12:26:27.237Z"
   },
   {
    "duration": 19,
    "start_time": "2023-05-25T12:26:27.262Z"
   },
   {
    "duration": 55,
    "start_time": "2023-05-25T12:26:27.283Z"
   },
   {
    "duration": 275,
    "start_time": "2023-05-25T12:26:27.340Z"
   },
   {
    "duration": 9,
    "start_time": "2023-05-25T12:26:27.617Z"
   },
   {
    "duration": 9,
    "start_time": "2023-05-25T12:26:27.628Z"
   },
   {
    "duration": 11,
    "start_time": "2023-05-25T12:26:27.639Z"
   },
   {
    "duration": 4,
    "start_time": "2023-05-25T12:26:27.652Z"
   },
   {
    "duration": 11,
    "start_time": "2023-05-25T12:26:27.657Z"
   },
   {
    "duration": 9,
    "start_time": "2023-05-25T12:26:27.669Z"
   },
   {
    "duration": 6,
    "start_time": "2023-05-25T12:26:27.680Z"
   },
   {
    "duration": 46,
    "start_time": "2023-05-25T12:26:27.688Z"
   },
   {
    "duration": 7,
    "start_time": "2023-05-25T12:26:27.735Z"
   },
   {
    "duration": 9,
    "start_time": "2023-05-25T12:26:27.744Z"
   },
   {
    "duration": 15,
    "start_time": "2023-05-25T12:26:27.755Z"
   },
   {
    "duration": 7,
    "start_time": "2023-05-25T12:26:27.771Z"
   },
   {
    "duration": 8,
    "start_time": "2023-05-25T12:26:27.780Z"
   },
   {
    "duration": 37,
    "start_time": "2023-05-25T12:26:27.790Z"
   },
   {
    "duration": 12,
    "start_time": "2023-05-25T12:26:27.836Z"
   },
   {
    "duration": 612,
    "start_time": "2023-05-25T12:26:27.851Z"
   },
   {
    "duration": 3,
    "start_time": "2023-05-25T12:26:28.465Z"
   },
   {
    "duration": 755,
    "start_time": "2023-05-25T12:26:28.470Z"
   },
   {
    "duration": 3,
    "start_time": "2023-05-25T12:26:29.227Z"
   },
   {
    "duration": 6,
    "start_time": "2023-05-25T12:26:29.232Z"
   },
   {
    "duration": 916,
    "start_time": "2023-05-25T12:26:29.240Z"
   },
   {
    "duration": 20,
    "start_time": "2023-05-25T12:26:30.158Z"
   },
   {
    "duration": 6,
    "start_time": "2023-05-25T12:26:30.180Z"
   },
   {
    "duration": 713,
    "start_time": "2023-05-25T12:26:30.188Z"
   },
   {
    "duration": 5,
    "start_time": "2023-05-25T12:26:30.904Z"
   },
   {
    "duration": 604,
    "start_time": "2023-05-25T12:26:30.911Z"
   },
   {
    "duration": 10,
    "start_time": "2023-05-25T12:26:31.517Z"
   },
   {
    "duration": 967,
    "start_time": "2023-05-25T12:26:31.528Z"
   },
   {
    "duration": 5,
    "start_time": "2023-05-25T12:26:32.497Z"
   },
   {
    "duration": 7,
    "start_time": "2023-05-25T12:26:32.503Z"
   },
   {
    "duration": 6,
    "start_time": "2023-05-25T12:26:32.525Z"
   },
   {
    "duration": 22,
    "start_time": "2023-05-25T12:26:32.532Z"
   },
   {
    "duration": 16,
    "start_time": "2023-05-25T12:26:32.557Z"
   },
   {
    "duration": 12,
    "start_time": "2023-05-25T12:26:32.575Z"
   },
   {
    "duration": 43,
    "start_time": "2023-05-25T12:26:32.589Z"
   },
   {
    "duration": 5,
    "start_time": "2023-05-25T12:26:32.634Z"
   },
   {
    "duration": 16,
    "start_time": "2023-05-25T12:26:32.641Z"
   },
   {
    "duration": 14,
    "start_time": "2023-05-25T12:26:32.659Z"
   },
   {
    "duration": 19,
    "start_time": "2023-05-25T12:26:32.675Z"
   },
   {
    "duration": 3,
    "start_time": "2023-05-25T12:26:32.726Z"
   },
   {
    "duration": 2704,
    "start_time": "2023-05-25T12:26:32.731Z"
   },
   {
    "duration": 89,
    "start_time": "2023-05-25T12:26:35.437Z"
   },
   {
    "duration": 10915,
    "start_time": "2023-05-25T12:26:35.529Z"
   },
   {
    "duration": 3,
    "start_time": "2023-05-25T12:26:46.446Z"
   },
   {
    "duration": 94122,
    "start_time": "2023-05-25T12:26:46.450Z"
   },
   {
    "duration": 4,
    "start_time": "2023-05-25T12:28:20.574Z"
   },
   {
    "duration": 6358,
    "start_time": "2023-05-25T12:28:20.580Z"
   },
   {
    "duration": 2,
    "start_time": "2023-05-25T12:28:26.939Z"
   },
   {
    "duration": 5,
    "start_time": "2023-05-25T12:28:26.943Z"
   },
   {
    "duration": 176,
    "start_time": "2023-05-25T12:28:26.949Z"
   },
   {
    "duration": 5,
    "start_time": "2023-05-25T12:28:27.127Z"
   },
   {
    "duration": 6,
    "start_time": "2023-05-25T12:28:27.133Z"
   },
   {
    "duration": 191,
    "start_time": "2023-05-25T12:28:27.141Z"
   },
   {
    "duration": 92,
    "start_time": "2023-05-25T12:28:27.334Z"
   },
   {
    "duration": 5,
    "start_time": "2023-05-25T12:28:27.428Z"
   },
   {
    "duration": 92,
    "start_time": "2023-05-25T12:28:27.435Z"
   },
   {
    "duration": 12,
    "start_time": "2023-05-25T12:28:27.528Z"
   },
   {
    "duration": 4,
    "start_time": "2023-05-25T12:28:27.542Z"
   },
   {
    "duration": 7,
    "start_time": "2023-05-25T12:28:27.548Z"
   },
   {
    "duration": 5,
    "start_time": "2023-05-25T12:28:27.557Z"
   }
  ],
  "kernelspec": {
   "display_name": "Python 3 (ipykernel)",
   "language": "python",
   "name": "python3"
  },
  "language_info": {
   "codemirror_mode": {
    "name": "ipython",
    "version": 3
   },
   "file_extension": ".py",
   "mimetype": "text/x-python",
   "name": "python",
   "nbconvert_exporter": "python",
   "pygments_lexer": "ipython3",
   "version": "3.11.5"
  },
  "toc": {
   "base_numbering": 1,
   "nav_menu": {},
   "number_sections": true,
   "sideBar": true,
   "skip_h1_title": true,
   "title_cell": "Содержание",
   "title_sidebar": "Contents",
   "toc_cell": true,
   "toc_position": {
    "height": "calc(100% - 180px)",
    "left": "10px",
    "top": "150px",
    "width": "165px"
   },
   "toc_section_display": true,
   "toc_window_display": true
  },
  "toc-autonumbering": true
 },
 "nbformat": 4,
 "nbformat_minor": 4
}
