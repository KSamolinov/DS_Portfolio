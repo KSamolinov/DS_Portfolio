{
 "cells": [
  {
   "cell_type": "markdown",
   "metadata": {},
   "source": [
    "<div class=\"alert alert-block alert-info\">\n",
    "<b>V2 Комментарий ревьюера:</b>\n",
    "\n",
    "Необходимо выполнить тестирование для одной конкретной модели. Определение наилучшей модели, на основе результатов тестовой выборки, может быть некорректным подходом, поскольку это может способствовать переобучению модели.\n",
    "    \n",
    "Анализ моделей:\n",
    "    \n",
    "1. RMSE вычисляется на валидационной выборке\n",
    "2. Время обучения = время model.fit(X_train, y_train)\n",
    "3. Время предсказания = время model.predict(X_valid)\n",
    "    \n",
    "После анализа моделей нужно порекомендовать заказчику **одну** модель на основе его критериев и провести на ней финальное тестирование.\n",
    "</div>"
   ]
  },
  {
   "cell_type": "markdown",
   "metadata": {},
   "source": [
    "<div class=\"alert alert-block alert-info\">\n",
    "<b>V2 Комментарий ревьюера:</b>\n",
    "\n",
    "План проекта:\n",
    "    \n",
    "1. Удалить неинформативные признаки: ['DateCrawled', 'RegistrationMonth', 'DateCreated', 'PostalCode', 'LastSeen', 'NumberOfPictures']\n",
    "2. Заполнить пропуски. Удаление не подходит в этом случае, удаляется 1/3 данных.\n",
    "3. Удалить дубликаты.\n",
    "4. Обработать аномалии в столбцах RegistrationYear, Power и Price.\n",
    "5. Разделить данные на три выборки. Рекомендую использовать соотношение 3:1:1.\n",
    "6. Кодировать выборки. Для линейных моделей - OHE, для \"деревьев\" - OE.\n",
    "7. Масштабировать численные признаки для линейных моделей.\n",
    "8. Обучить модели с подбором гиперпараметров.\n",
    "9. Анализ моделей и выбор одной модели.\n",
    "10. Тестирование лучшей модели.\n",
    "</div>"
   ]
  },
  {
   "cell_type": "markdown",
   "metadata": {},
   "source": [
    "<div class=\"alert alert-block alert-info\">\n",
    "<b>Комментарий ревьюера:</b>\n",
    "\n",
    "Мне понравился твой проект 👍🏻 Видно, что приложено много усилий)\n",
    "\n",
    "Перед отправкой проекта, пожалуйста, перезапусти ядро и убедись, что весь код работает (Kernel -> Restart and Run All). Важно, чтобы нумерация ячеек была правильной (начиналась с \"1\" и выполнялась по порядку).\n",
    "\n",
    "Если не хочешь ждать обучения моделей, можешь сохранить лучшие гиперпараметры в отдельной переменной и закомментировать код. Необходимо также зафиксировать random_state, чтобы результат был всегда одинаковым.\n",
    "\n",
    "Таким образом, я смогу быстрее проверить проект, и ты успеешь к дедлайну 👋🏻\n",
    "</div>"
   ]
  },
  {
   "cell_type": "markdown",
   "metadata": {},
   "source": [
    "Привет, Константин!)\n",
    "<br> Меня зовут Дуолан 👋 и я рад стать твоим проводником в мире кода и данных!\n",
    "<br> Вместе мы прокачаем твой проект до самого верха! 🚀\n",
    "<br> Давай общаться на «ты» и поддерживать дружескую атмосферу. Если ты согласен, конечно! 😊\n",
    "<br> Пожалуйста, напиши мне ответ на каждый комментарий («исправлено», «не уверен, как это сделать» и т. д.)\n",
    "<br> Оставь, пожалуйста, мои комментарии на месте – они пригодятся для последующих проверок.\n",
    "\n",
    "Комментарии будут в <font color='green'>зеленой</font>, <font color='blue'>синей</font> или <font color='red'>красной</font> рамках:\n",
    "\n",
    "<div class=\"alert alert-block alert-success\">\n",
    "<b>✔️ Успех:</b> Если всё просто супер!\n",
    "</div>\n",
    "\n",
    "<div class=\"alert alert-block alert-warning\">\n",
    "<b>⚠️ Совет:</b> Если можно немного улучшить\n",
    "</div>\n",
    "\n",
    "<div class=\"alert alert-block alert-danger\">\n",
    "<b>❌ Замечание:</b> Если требуются исправления\n",
    "</div>\n",
    "\n",
    "Твой проект не может быть принят, пока есть красные комментарии.\n",
    "\n",
    "-------------------\n",
    "\n",
    "Пожалуйста, отмечай свои ответы и изменения таким образом:\n",
    "\n",
    "<div class=\"alert alert-block alert-info\">\n",
    "<b>Комментарий студента:</b> ...\n",
    "</div>\n",
    "\n",
    "<div class=\"alert alert-block alert-info\">\n",
    "<b>Изменения:</b> Были внесены следующие изменения ...\n",
    "</div>"
   ]
  },
  {
   "cell_type": "markdown",
   "metadata": {},
   "source": [
    "# Определение стоимости автомобилей"
   ]
  },
  {
   "cell_type": "markdown",
   "metadata": {},
   "source": [
    "Сервис по продаже автомобилей с пробегом «Не бит, не крашен» разрабатывает приложение для привлечения новых клиентов. В нём можно быстро узнать рыночную стоимость своего автомобиля. В вашем распоряжении исторические данные: технические характеристики, комплектации и цены автомобилей. Вам нужно построить модель для определения стоимости. \n",
    "\n",
    "Заказчику важны:\n",
    "\n",
    "- качество предсказания;\n",
    "- скорость предсказания;\n",
    "- время обучения."
   ]
  },
  {
   "cell_type": "markdown",
   "metadata": {},
   "source": [
    "<h1>Содержание<span class=\"tocSkip\"></span></h1>\n",
    "<div class=\"toc\"><ul class=\"toc-item\"><li><span><a href=\"#Загрузка-данных\" data-toc-modified-id=\"Загрузка-данных-1\"><span class=\"toc-item-num\">1&nbsp;&nbsp;</span>Загрузка данных</a></span></li><li><span><a href=\"#Умножение-матриц\" data-toc-modified-id=\"Умножение-матриц-2\"><span class=\"toc-item-num\">2&nbsp;&nbsp;</span>Умножение матриц</a></span></li><li><span><a href=\"#Алгоритм-преобразования\" data-toc-modified-id=\"Алгоритм-преобразования-3\"><span class=\"toc-item-num\">3&nbsp;&nbsp;</span>Алгоритм преобразования</a></span></li><li><span><a href=\"#Проверка-алгоритма\" data-toc-modified-id=\"Проверка-алгоритма-4\"><span class=\"toc-item-num\">4&nbsp;&nbsp;</span>Проверка алгоритма</a></span></li><li><span><a href=\"#Чек-лист-проверки\" data-toc-modified-id=\"Чек-лист-проверки-5\"><span class=\"toc-item-num\">5&nbsp;&nbsp;</span>Чек-лист проверки</a></span></li></ul></div>"
   ]
  },
  {
   "cell_type": "markdown",
   "metadata": {
    "jp-MarkdownHeadingCollapsed": true,
    "tags": []
   },
   "source": [
    "## Подготовка данных"
   ]
  },
  {
   "cell_type": "markdown",
   "metadata": {
    "tags": []
   },
   "source": [
    "## Импорт библиотек"
   ]
  },
  {
   "cell_type": "code",
   "execution_count": 1,
   "metadata": {
    "collapsed": true,
    "jupyter": {
     "outputs_hidden": true
    },
    "tags": []
   },
   "outputs": [
    {
     "name": "stdout",
     "output_type": "stream",
     "text": [
      "Requirement already satisfied: pandas-profiling in /Users/samolinovkonstantin/anaconda3/lib/python3.10/site-packages (3.6.6)\n",
      "Requirement already satisfied: ydata-profiling in /Users/samolinovkonstantin/anaconda3/lib/python3.10/site-packages (from pandas-profiling) (4.1.2)\n",
      "Requirement already satisfied: scipy<1.10,>=1.4.1 in /Users/samolinovkonstantin/anaconda3/lib/python3.10/site-packages (from ydata-profiling->pandas-profiling) (1.9.3)\n",
      "Requirement already satisfied: pandas!=1.4.0,<1.6,>1.1 in /Users/samolinovkonstantin/anaconda3/lib/python3.10/site-packages (from ydata-profiling->pandas-profiling) (1.5.3)\n",
      "Requirement already satisfied: matplotlib<3.7,>=3.2 in /Users/samolinovkonstantin/anaconda3/lib/python3.10/site-packages (from ydata-profiling->pandas-profiling) (3.6.3)\n",
      "Requirement already satisfied: pydantic<1.11,>=1.8.1 in /Users/samolinovkonstantin/anaconda3/lib/python3.10/site-packages (from ydata-profiling->pandas-profiling) (1.10.7)\n",
      "Requirement already satisfied: PyYAML<6.1,>=5.0.0 in /Users/samolinovkonstantin/anaconda3/lib/python3.10/site-packages (from ydata-profiling->pandas-profiling) (6.0)\n",
      "Requirement already satisfied: jinja2<3.2,>=2.11.1 in /Users/samolinovkonstantin/anaconda3/lib/python3.10/site-packages (from ydata-profiling->pandas-profiling) (3.1.2)\n",
      "Requirement already satisfied: visions[type_image_path]==0.7.5 in /Users/samolinovkonstantin/anaconda3/lib/python3.10/site-packages (from ydata-profiling->pandas-profiling) (0.7.5)\n",
      "Requirement already satisfied: numpy<1.24,>=1.16.0 in /Users/samolinovkonstantin/anaconda3/lib/python3.10/site-packages (from ydata-profiling->pandas-profiling) (1.23.5)\n",
      "Requirement already satisfied: htmlmin==0.1.12 in /Users/samolinovkonstantin/anaconda3/lib/python3.10/site-packages (from ydata-profiling->pandas-profiling) (0.1.12)\n",
      "Requirement already satisfied: phik<0.13,>=0.11.1 in /Users/samolinovkonstantin/anaconda3/lib/python3.10/site-packages (from ydata-profiling->pandas-profiling) (0.12.3)\n",
      "Requirement already satisfied: requests<2.29,>=2.24.0 in /Users/samolinovkonstantin/anaconda3/lib/python3.10/site-packages (from ydata-profiling->pandas-profiling) (2.28.1)\n",
      "Requirement already satisfied: tqdm<4.65,>=4.48.2 in /Users/samolinovkonstantin/anaconda3/lib/python3.10/site-packages (from ydata-profiling->pandas-profiling) (4.64.1)\n",
      "Requirement already satisfied: seaborn<0.13,>=0.10.1 in /Users/samolinovkonstantin/anaconda3/lib/python3.10/site-packages (from ydata-profiling->pandas-profiling) (0.12.2)\n",
      "Requirement already satisfied: multimethod<1.10,>=1.4 in /Users/samolinovkonstantin/anaconda3/lib/python3.10/site-packages (from ydata-profiling->pandas-profiling) (1.9.1)\n",
      "Requirement already satisfied: statsmodels<0.14,>=0.13.2 in /Users/samolinovkonstantin/anaconda3/lib/python3.10/site-packages (from ydata-profiling->pandas-profiling) (0.13.5)\n",
      "Requirement already satisfied: typeguard<2.14,>=2.13.2 in /Users/samolinovkonstantin/anaconda3/lib/python3.10/site-packages (from ydata-profiling->pandas-profiling) (2.13.3)\n",
      "Requirement already satisfied: imagehash==4.3.1 in /Users/samolinovkonstantin/anaconda3/lib/python3.10/site-packages (from ydata-profiling->pandas-profiling) (4.3.1)\n",
      "Requirement already satisfied: PyWavelets in /Users/samolinovkonstantin/anaconda3/lib/python3.10/site-packages (from imagehash==4.3.1->ydata-profiling->pandas-profiling) (1.4.1)\n",
      "Requirement already satisfied: pillow in /Users/samolinovkonstantin/anaconda3/lib/python3.10/site-packages (from imagehash==4.3.1->ydata-profiling->pandas-profiling) (9.4.0)\n",
      "Requirement already satisfied: attrs>=19.3.0 in /Users/samolinovkonstantin/anaconda3/lib/python3.10/site-packages (from visions[type_image_path]==0.7.5->ydata-profiling->pandas-profiling) (22.1.0)\n",
      "Requirement already satisfied: networkx>=2.4 in /Users/samolinovkonstantin/anaconda3/lib/python3.10/site-packages (from visions[type_image_path]==0.7.5->ydata-profiling->pandas-profiling) (2.8.4)\n",
      "Requirement already satisfied: tangled-up-in-unicode>=0.0.4 in /Users/samolinovkonstantin/anaconda3/lib/python3.10/site-packages (from visions[type_image_path]==0.7.5->ydata-profiling->pandas-profiling) (0.2.0)\n",
      "Requirement already satisfied: MarkupSafe>=2.0 in /Users/samolinovkonstantin/anaconda3/lib/python3.10/site-packages (from jinja2<3.2,>=2.11.1->ydata-profiling->pandas-profiling) (2.1.1)\n",
      "Requirement already satisfied: contourpy>=1.0.1 in /Users/samolinovkonstantin/anaconda3/lib/python3.10/site-packages (from matplotlib<3.7,>=3.2->ydata-profiling->pandas-profiling) (1.0.5)\n",
      "Requirement already satisfied: cycler>=0.10 in /Users/samolinovkonstantin/anaconda3/lib/python3.10/site-packages (from matplotlib<3.7,>=3.2->ydata-profiling->pandas-profiling) (0.11.0)\n",
      "Requirement already satisfied: fonttools>=4.22.0 in /Users/samolinovkonstantin/anaconda3/lib/python3.10/site-packages (from matplotlib<3.7,>=3.2->ydata-profiling->pandas-profiling) (4.25.0)\n",
      "Requirement already satisfied: kiwisolver>=1.0.1 in /Users/samolinovkonstantin/anaconda3/lib/python3.10/site-packages (from matplotlib<3.7,>=3.2->ydata-profiling->pandas-profiling) (1.4.4)\n",
      "Requirement already satisfied: packaging>=20.0 in /Users/samolinovkonstantin/anaconda3/lib/python3.10/site-packages (from matplotlib<3.7,>=3.2->ydata-profiling->pandas-profiling) (22.0)\n",
      "Requirement already satisfied: pyparsing>=2.2.1 in /Users/samolinovkonstantin/anaconda3/lib/python3.10/site-packages (from matplotlib<3.7,>=3.2->ydata-profiling->pandas-profiling) (3.0.9)\n",
      "Requirement already satisfied: python-dateutil>=2.7 in /Users/samolinovkonstantin/anaconda3/lib/python3.10/site-packages (from matplotlib<3.7,>=3.2->ydata-profiling->pandas-profiling) (2.8.2)\n",
      "Requirement already satisfied: pytz>=2020.1 in /Users/samolinovkonstantin/anaconda3/lib/python3.10/site-packages (from pandas!=1.4.0,<1.6,>1.1->ydata-profiling->pandas-profiling) (2022.7)\n",
      "Requirement already satisfied: joblib>=0.14.1 in /Users/samolinovkonstantin/anaconda3/lib/python3.10/site-packages (from phik<0.13,>=0.11.1->ydata-profiling->pandas-profiling) (1.1.1)\n",
      "Requirement already satisfied: typing-extensions>=4.2.0 in /Users/samolinovkonstantin/anaconda3/lib/python3.10/site-packages (from pydantic<1.11,>=1.8.1->ydata-profiling->pandas-profiling) (4.4.0)\n",
      "Requirement already satisfied: charset-normalizer<3,>=2 in /Users/samolinovkonstantin/anaconda3/lib/python3.10/site-packages (from requests<2.29,>=2.24.0->ydata-profiling->pandas-profiling) (2.0.4)\n",
      "Requirement already satisfied: idna<4,>=2.5 in /Users/samolinovkonstantin/anaconda3/lib/python3.10/site-packages (from requests<2.29,>=2.24.0->ydata-profiling->pandas-profiling) (3.4)\n",
      "Requirement already satisfied: urllib3<1.27,>=1.21.1 in /Users/samolinovkonstantin/anaconda3/lib/python3.10/site-packages (from requests<2.29,>=2.24.0->ydata-profiling->pandas-profiling) (1.26.14)\n",
      "Requirement already satisfied: certifi>=2017.4.17 in /Users/samolinovkonstantin/anaconda3/lib/python3.10/site-packages (from requests<2.29,>=2.24.0->ydata-profiling->pandas-profiling) (2023.5.7)\n",
      "Requirement already satisfied: patsy>=0.5.2 in /Users/samolinovkonstantin/anaconda3/lib/python3.10/site-packages (from statsmodels<0.14,>=0.13.2->ydata-profiling->pandas-profiling) (0.5.3)\n",
      "Requirement already satisfied: six in /Users/samolinovkonstantin/anaconda3/lib/python3.10/site-packages (from patsy>=0.5.2->statsmodels<0.14,>=0.13.2->ydata-profiling->pandas-profiling) (1.16.0)\n"
     ]
    }
   ],
   "source": [
    "!pip install pandas-profiling"
   ]
  },
  {
   "cell_type": "code",
   "execution_count": 2,
   "metadata": {
    "collapsed": true,
    "jupyter": {
     "outputs_hidden": true
    },
    "tags": []
   },
   "outputs": [
    {
     "name": "stdout",
     "output_type": "stream",
     "text": [
      "Requirement already satisfied: missingno in /Users/samolinovkonstantin/anaconda3/lib/python3.10/site-packages (0.5.2)\n",
      "Requirement already satisfied: numpy in /Users/samolinovkonstantin/anaconda3/lib/python3.10/site-packages (from missingno) (1.23.5)\n",
      "Requirement already satisfied: matplotlib in /Users/samolinovkonstantin/anaconda3/lib/python3.10/site-packages (from missingno) (3.6.3)\n",
      "Requirement already satisfied: scipy in /Users/samolinovkonstantin/anaconda3/lib/python3.10/site-packages (from missingno) (1.9.3)\n",
      "Requirement already satisfied: seaborn in /Users/samolinovkonstantin/anaconda3/lib/python3.10/site-packages (from missingno) (0.12.2)\n",
      "Requirement already satisfied: contourpy>=1.0.1 in /Users/samolinovkonstantin/anaconda3/lib/python3.10/site-packages (from matplotlib->missingno) (1.0.5)\n",
      "Requirement already satisfied: cycler>=0.10 in /Users/samolinovkonstantin/anaconda3/lib/python3.10/site-packages (from matplotlib->missingno) (0.11.0)\n",
      "Requirement already satisfied: fonttools>=4.22.0 in /Users/samolinovkonstantin/anaconda3/lib/python3.10/site-packages (from matplotlib->missingno) (4.25.0)\n",
      "Requirement already satisfied: kiwisolver>=1.0.1 in /Users/samolinovkonstantin/anaconda3/lib/python3.10/site-packages (from matplotlib->missingno) (1.4.4)\n",
      "Requirement already satisfied: packaging>=20.0 in /Users/samolinovkonstantin/anaconda3/lib/python3.10/site-packages (from matplotlib->missingno) (22.0)\n",
      "Requirement already satisfied: pillow>=6.2.0 in /Users/samolinovkonstantin/anaconda3/lib/python3.10/site-packages (from matplotlib->missingno) (9.4.0)\n",
      "Requirement already satisfied: pyparsing>=2.2.1 in /Users/samolinovkonstantin/anaconda3/lib/python3.10/site-packages (from matplotlib->missingno) (3.0.9)\n",
      "Requirement already satisfied: python-dateutil>=2.7 in /Users/samolinovkonstantin/anaconda3/lib/python3.10/site-packages (from matplotlib->missingno) (2.8.2)\n",
      "Requirement already satisfied: pandas>=0.25 in /Users/samolinovkonstantin/anaconda3/lib/python3.10/site-packages (from seaborn->missingno) (1.5.3)\n",
      "Requirement already satisfied: pytz>=2020.1 in /Users/samolinovkonstantin/anaconda3/lib/python3.10/site-packages (from pandas>=0.25->seaborn->missingno) (2022.7)\n",
      "Requirement already satisfied: six>=1.5 in /Users/samolinovkonstantin/anaconda3/lib/python3.10/site-packages (from python-dateutil>=2.7->matplotlib->missingno) (1.16.0)\n"
     ]
    }
   ],
   "source": [
    "!pip install missingno"
   ]
  },
  {
   "cell_type": "code",
   "execution_count": 3,
   "metadata": {
    "tags": []
   },
   "outputs": [
    {
     "name": "stdout",
     "output_type": "stream",
     "text": [
      "Requirement already satisfied: cmake in /Users/samolinovkonstantin/anaconda3/lib/python3.10/site-packages (3.26.4)\n"
     ]
    }
   ],
   "source": [
    "!pip install cmake"
   ]
  },
  {
   "cell_type": "code",
   "execution_count": 4,
   "metadata": {
    "collapsed": true,
    "jupyter": {
     "outputs_hidden": true
    },
    "tags": []
   },
   "outputs": [
    {
     "name": "stdout",
     "output_type": "stream",
     "text": [
      "Requirement already satisfied: lightgbm in /Users/samolinovkonstantin/anaconda3/lib/python3.10/site-packages (3.3.5)\n",
      "Requirement already satisfied: wheel in /Users/samolinovkonstantin/anaconda3/lib/python3.10/site-packages (from lightgbm) (0.40.0)\n",
      "Requirement already satisfied: numpy in /Users/samolinovkonstantin/anaconda3/lib/python3.10/site-packages (from lightgbm) (1.23.5)\n",
      "Requirement already satisfied: scipy in /Users/samolinovkonstantin/anaconda3/lib/python3.10/site-packages (from lightgbm) (1.9.3)\n",
      "Requirement already satisfied: scikit-learn!=0.22.0 in /Users/samolinovkonstantin/anaconda3/lib/python3.10/site-packages (from lightgbm) (1.2.1)\n",
      "Requirement already satisfied: joblib>=1.1.1 in /Users/samolinovkonstantin/anaconda3/lib/python3.10/site-packages (from scikit-learn!=0.22.0->lightgbm) (1.1.1)\n",
      "Requirement already satisfied: threadpoolctl>=2.0.0 in /Users/samolinovkonstantin/anaconda3/lib/python3.10/site-packages (from scikit-learn!=0.22.0->lightgbm) (2.2.0)\n"
     ]
    }
   ],
   "source": [
    "!pip install lightgbm"
   ]
  },
  {
   "cell_type": "code",
   "execution_count": 5,
   "metadata": {
    "tags": []
   },
   "outputs": [],
   "source": [
    "import pandas as pd\n",
    "import numpy as np\n",
    "import matplotlib.pyplot as plt\n",
    "import seaborn as sns\n",
    "\n",
    "from sklearn.ensemble import RandomForestRegressor\n",
    "from sklearn.metrics import mean_squared_error as rmse\n",
    "from sklearn.model_selection import GridSearchCV\n",
    "from sklearn.model_selection import train_test_split\n",
    "from sklearn.preprocessing import OrdinalEncoder\n",
    "\n",
    "import missingno as msno\n",
    "from ydata_profiling import ProfileReport\n",
    "import lightgbm as lgb"
   ]
  },
  {
   "cell_type": "markdown",
   "metadata": {},
   "source": [
    "<div class=\"alert alert-block alert-success\">\n",
    "<b>✔️ Успех:</b>\n",
    "\n",
    "Импорт выглядит отлично 👍\n",
    "</div>"
   ]
  },
  {
   "cell_type": "markdown",
   "metadata": {},
   "source": [
    "<div class=\"alert alert-block alert-info\">\n",
    "<b>Изменения:</b> импортировал OrdinalEncoder\n",
    "</div>"
   ]
  },
  {
   "cell_type": "markdown",
   "metadata": {
    "tags": []
   },
   "source": [
    "## Импорт данных"
   ]
  },
  {
   "cell_type": "code",
   "execution_count": 6,
   "metadata": {},
   "outputs": [],
   "source": [
    "try:\n",
    "    data = pd.read_csv('/datasets/autos.csv')\n",
    "except:\n",
    "    data = pd.read_csv('/Users/samolinovkonstantin/Desktop/Yandex/sprint/sprint9/autos.csv')"
   ]
  },
  {
   "cell_type": "markdown",
   "metadata": {
    "jp-MarkdownHeadingCollapsed": true,
    "tags": []
   },
   "source": [
    "## Первый взгляд на данные"
   ]
  },
  {
   "cell_type": "code",
   "execution_count": 7,
   "metadata": {},
   "outputs": [
    {
     "data": {
      "text/html": [
       "<div>\n",
       "<style scoped>\n",
       "    .dataframe tbody tr th:only-of-type {\n",
       "        vertical-align: middle;\n",
       "    }\n",
       "\n",
       "    .dataframe tbody tr th {\n",
       "        vertical-align: top;\n",
       "    }\n",
       "\n",
       "    .dataframe thead th {\n",
       "        text-align: right;\n",
       "    }\n",
       "</style>\n",
       "<table border=\"1\" class=\"dataframe\">\n",
       "  <thead>\n",
       "    <tr style=\"text-align: right;\">\n",
       "      <th></th>\n",
       "      <th>DateCrawled</th>\n",
       "      <th>Price</th>\n",
       "      <th>VehicleType</th>\n",
       "      <th>RegistrationYear</th>\n",
       "      <th>Gearbox</th>\n",
       "      <th>Power</th>\n",
       "      <th>Model</th>\n",
       "      <th>Kilometer</th>\n",
       "      <th>RegistrationMonth</th>\n",
       "      <th>FuelType</th>\n",
       "      <th>Brand</th>\n",
       "      <th>Repaired</th>\n",
       "      <th>DateCreated</th>\n",
       "      <th>NumberOfPictures</th>\n",
       "      <th>PostalCode</th>\n",
       "      <th>LastSeen</th>\n",
       "    </tr>\n",
       "  </thead>\n",
       "  <tbody>\n",
       "    <tr>\n",
       "      <th>0</th>\n",
       "      <td>2016-03-24 11:52:17</td>\n",
       "      <td>480</td>\n",
       "      <td>NaN</td>\n",
       "      <td>1993</td>\n",
       "      <td>manual</td>\n",
       "      <td>0</td>\n",
       "      <td>golf</td>\n",
       "      <td>150000</td>\n",
       "      <td>0</td>\n",
       "      <td>petrol</td>\n",
       "      <td>volkswagen</td>\n",
       "      <td>NaN</td>\n",
       "      <td>2016-03-24 00:00:00</td>\n",
       "      <td>0</td>\n",
       "      <td>70435</td>\n",
       "      <td>2016-04-07 03:16:57</td>\n",
       "    </tr>\n",
       "    <tr>\n",
       "      <th>1</th>\n",
       "      <td>2016-03-24 10:58:45</td>\n",
       "      <td>18300</td>\n",
       "      <td>coupe</td>\n",
       "      <td>2011</td>\n",
       "      <td>manual</td>\n",
       "      <td>190</td>\n",
       "      <td>NaN</td>\n",
       "      <td>125000</td>\n",
       "      <td>5</td>\n",
       "      <td>gasoline</td>\n",
       "      <td>audi</td>\n",
       "      <td>yes</td>\n",
       "      <td>2016-03-24 00:00:00</td>\n",
       "      <td>0</td>\n",
       "      <td>66954</td>\n",
       "      <td>2016-04-07 01:46:50</td>\n",
       "    </tr>\n",
       "    <tr>\n",
       "      <th>2</th>\n",
       "      <td>2016-03-14 12:52:21</td>\n",
       "      <td>9800</td>\n",
       "      <td>suv</td>\n",
       "      <td>2004</td>\n",
       "      <td>auto</td>\n",
       "      <td>163</td>\n",
       "      <td>grand</td>\n",
       "      <td>125000</td>\n",
       "      <td>8</td>\n",
       "      <td>gasoline</td>\n",
       "      <td>jeep</td>\n",
       "      <td>NaN</td>\n",
       "      <td>2016-03-14 00:00:00</td>\n",
       "      <td>0</td>\n",
       "      <td>90480</td>\n",
       "      <td>2016-04-05 12:47:46</td>\n",
       "    </tr>\n",
       "    <tr>\n",
       "      <th>3</th>\n",
       "      <td>2016-03-17 16:54:04</td>\n",
       "      <td>1500</td>\n",
       "      <td>small</td>\n",
       "      <td>2001</td>\n",
       "      <td>manual</td>\n",
       "      <td>75</td>\n",
       "      <td>golf</td>\n",
       "      <td>150000</td>\n",
       "      <td>6</td>\n",
       "      <td>petrol</td>\n",
       "      <td>volkswagen</td>\n",
       "      <td>no</td>\n",
       "      <td>2016-03-17 00:00:00</td>\n",
       "      <td>0</td>\n",
       "      <td>91074</td>\n",
       "      <td>2016-03-17 17:40:17</td>\n",
       "    </tr>\n",
       "    <tr>\n",
       "      <th>4</th>\n",
       "      <td>2016-03-31 17:25:20</td>\n",
       "      <td>3600</td>\n",
       "      <td>small</td>\n",
       "      <td>2008</td>\n",
       "      <td>manual</td>\n",
       "      <td>69</td>\n",
       "      <td>fabia</td>\n",
       "      <td>90000</td>\n",
       "      <td>7</td>\n",
       "      <td>gasoline</td>\n",
       "      <td>skoda</td>\n",
       "      <td>no</td>\n",
       "      <td>2016-03-31 00:00:00</td>\n",
       "      <td>0</td>\n",
       "      <td>60437</td>\n",
       "      <td>2016-04-06 10:17:21</td>\n",
       "    </tr>\n",
       "  </tbody>\n",
       "</table>\n",
       "</div>"
      ],
      "text/plain": [
       "           DateCrawled  Price VehicleType  RegistrationYear Gearbox  Power  \\\n",
       "0  2016-03-24 11:52:17    480         NaN              1993  manual      0   \n",
       "1  2016-03-24 10:58:45  18300       coupe              2011  manual    190   \n",
       "2  2016-03-14 12:52:21   9800         suv              2004    auto    163   \n",
       "3  2016-03-17 16:54:04   1500       small              2001  manual     75   \n",
       "4  2016-03-31 17:25:20   3600       small              2008  manual     69   \n",
       "\n",
       "   Model  Kilometer  RegistrationMonth  FuelType       Brand Repaired  \\\n",
       "0   golf     150000                  0    petrol  volkswagen      NaN   \n",
       "1    NaN     125000                  5  gasoline        audi      yes   \n",
       "2  grand     125000                  8  gasoline        jeep      NaN   \n",
       "3   golf     150000                  6    petrol  volkswagen       no   \n",
       "4  fabia      90000                  7  gasoline       skoda       no   \n",
       "\n",
       "           DateCreated  NumberOfPictures  PostalCode             LastSeen  \n",
       "0  2016-03-24 00:00:00                 0       70435  2016-04-07 03:16:57  \n",
       "1  2016-03-24 00:00:00                 0       66954  2016-04-07 01:46:50  \n",
       "2  2016-03-14 00:00:00                 0       90480  2016-04-05 12:47:46  \n",
       "3  2016-03-17 00:00:00                 0       91074  2016-03-17 17:40:17  \n",
       "4  2016-03-31 00:00:00                 0       60437  2016-04-06 10:17:21  "
      ]
     },
     "execution_count": 7,
     "metadata": {},
     "output_type": "execute_result"
    }
   ],
   "source": [
    "data.head()"
   ]
  },
  {
   "cell_type": "code",
   "execution_count": 8,
   "metadata": {},
   "outputs": [
    {
     "name": "stdout",
     "output_type": "stream",
     "text": [
      "<class 'pandas.core.frame.DataFrame'>\n",
      "RangeIndex: 354369 entries, 0 to 354368\n",
      "Data columns (total 16 columns):\n",
      " #   Column             Non-Null Count   Dtype \n",
      "---  ------             --------------   ----- \n",
      " 0   DateCrawled        354369 non-null  object\n",
      " 1   Price              354369 non-null  int64 \n",
      " 2   VehicleType        316879 non-null  object\n",
      " 3   RegistrationYear   354369 non-null  int64 \n",
      " 4   Gearbox            334536 non-null  object\n",
      " 5   Power              354369 non-null  int64 \n",
      " 6   Model              334664 non-null  object\n",
      " 7   Kilometer          354369 non-null  int64 \n",
      " 8   RegistrationMonth  354369 non-null  int64 \n",
      " 9   FuelType           321474 non-null  object\n",
      " 10  Brand              354369 non-null  object\n",
      " 11  Repaired           283215 non-null  object\n",
      " 12  DateCreated        354369 non-null  object\n",
      " 13  NumberOfPictures   354369 non-null  int64 \n",
      " 14  PostalCode         354369 non-null  int64 \n",
      " 15  LastSeen           354369 non-null  object\n",
      "dtypes: int64(7), object(9)\n",
      "memory usage: 43.3+ MB\n"
     ]
    }
   ],
   "source": [
    "data.info()"
   ]
  },
  {
   "cell_type": "code",
   "execution_count": 9,
   "metadata": {},
   "outputs": [],
   "source": [
    "#data.profile_report()"
   ]
  },
  {
   "cell_type": "markdown",
   "metadata": {
    "jp-MarkdownHeadingCollapsed": true,
    "tags": []
   },
   "source": [
    "## Обработка данных"
   ]
  },
  {
   "cell_type": "code",
   "execution_count": 10,
   "metadata": {},
   "outputs": [],
   "source": [
    "# функция по выводу первичной информации о столбце\n",
    "def data_info(column_to_info):\n",
    "    print(f'Info for {column_to_info}')\n",
    "    print(data[column_to_info].info())\n",
    "    print('***************')\n",
    "    print()\n",
    "    print('***************')\n",
    "    print(f'Describe for {column_to_info}')\n",
    "    print(data[column_to_info].describe())\n",
    "    print('***************')\n",
    "    print()\n",
    "    print('***************')\n",
    "    print(f'Missing values for {column_to_info}')\n",
    "    print(data[column_to_info].isna().mean()*100)\n",
    "    print('***************')\n"
   ]
  },
  {
   "cell_type": "markdown",
   "metadata": {},
   "source": [
    "### Обработка наименований столбцов"
   ]
  },
  {
   "cell_type": "markdown",
   "metadata": {},
   "source": [
    "Приведем наименование столбцов к нижнему регистру и разделением между словами"
   ]
  },
  {
   "cell_type": "code",
   "execution_count": 11,
   "metadata": {},
   "outputs": [
    {
     "data": {
      "text/plain": [
       "Index(['date_crawled', 'price', 'vehicle_type', 'registration_year', 'gearbox',\n",
       "       'power', 'model', 'kilometer', 'registration_month', 'fuel_type',\n",
       "       'brand', 'repaired', 'date_created', 'number_of_pictures',\n",
       "       'postal_code', 'last_seen'],\n",
       "      dtype='object')"
      ]
     },
     "execution_count": 11,
     "metadata": {},
     "output_type": "execute_result"
    }
   ],
   "source": [
    "data.columns = data.columns.str.lower()\n",
    "data = data.rename(columns={'datecrawled': 'date_crawled',\n",
    "                            'vehicletype': 'vehicle_type',\n",
    "                            'registrationyear': 'registration_year',\n",
    "                            'registrationmonth': 'registration_month',\n",
    "                            'fueltype': 'fuel_type',\n",
    "                            'datecreated': 'date_created',\n",
    "                            'numberofpictures': 'number_of_pictures',\n",
    "                            'postalcode': 'postal_code',\n",
    "                            'lastseen': 'last_seen'})\n",
    "data.columns"
   ]
  },
  {
   "cell_type": "markdown",
   "metadata": {},
   "source": [
    "<div class=\"alert alert-block alert-success\">\n",
    "<b>✔️ Успех:</b> \n",
    "\n",
    "Работать с такими названиями гораздо удобнее 👍🏻\n",
    "</div>"
   ]
  },
  {
   "cell_type": "markdown",
   "metadata": {},
   "source": [
    "### Работа со столбцом date_crawled"
   ]
  },
  {
   "cell_type": "code",
   "execution_count": 12,
   "metadata": {},
   "outputs": [
    {
     "name": "stdout",
     "output_type": "stream",
     "text": [
      "Info for date_crawled\n",
      "<class 'pandas.core.series.Series'>\n",
      "RangeIndex: 354369 entries, 0 to 354368\n",
      "Series name: date_crawled\n",
      "Non-Null Count   Dtype \n",
      "--------------   ----- \n",
      "354369 non-null  object\n",
      "dtypes: object(1)\n",
      "memory usage: 2.7+ MB\n",
      "None\n",
      "***************\n",
      "\n",
      "***************\n",
      "Describe for date_crawled\n",
      "count                  354369\n",
      "unique                 271174\n",
      "top       2016-03-24 14:49:47\n",
      "freq                        7\n",
      "Name: date_crawled, dtype: object\n",
      "***************\n",
      "\n",
      "***************\n",
      "Missing values for date_crawled\n",
      "0.0\n",
      "***************\n"
     ]
    }
   ],
   "source": [
    "data_info('date_crawled')"
   ]
  },
  {
   "cell_type": "code",
   "execution_count": 13,
   "metadata": {},
   "outputs": [],
   "source": [
    "# перевод типа столбца в дату\n",
    "data.date_crawled = pd.to_datetime(data.date_crawled)"
   ]
  },
  {
   "cell_type": "code",
   "execution_count": 14,
   "metadata": {},
   "outputs": [
    {
     "name": "stdout",
     "output_type": "stream",
     "text": [
      "<class 'pandas.core.series.Series'>\n",
      "RangeIndex: 354369 entries, 0 to 354368\n",
      "Series name: date_crawled\n",
      "Non-Null Count   Dtype         \n",
      "--------------   -----         \n",
      "354369 non-null  datetime64[ns]\n",
      "dtypes: datetime64[ns](1)\n",
      "memory usage: 2.7 MB\n"
     ]
    }
   ],
   "source": [
    "data.date_crawled.info()"
   ]
  },
  {
   "cell_type": "markdown",
   "metadata": {},
   "source": [
    "<div class=\"alert alert-block alert-success\">\n",
    "<b>✔️ Успех:</b> 👍🏻\n",
    "</div>"
   ]
  },
  {
   "cell_type": "markdown",
   "metadata": {},
   "source": [
    "### Работа со столбцом price"
   ]
  },
  {
   "cell_type": "code",
   "execution_count": 15,
   "metadata": {},
   "outputs": [
    {
     "name": "stdout",
     "output_type": "stream",
     "text": [
      "Info for price\n",
      "<class 'pandas.core.series.Series'>\n",
      "RangeIndex: 354369 entries, 0 to 354368\n",
      "Series name: price\n",
      "Non-Null Count   Dtype\n",
      "--------------   -----\n",
      "354369 non-null  int64\n",
      "dtypes: int64(1)\n",
      "memory usage: 2.7 MB\n",
      "None\n",
      "***************\n",
      "\n",
      "***************\n",
      "Describe for price\n",
      "count    354369.000000\n",
      "mean       4416.656776\n",
      "std        4514.158514\n",
      "min           0.000000\n",
      "25%        1050.000000\n",
      "50%        2700.000000\n",
      "75%        6400.000000\n",
      "max       20000.000000\n",
      "Name: price, dtype: float64\n",
      "***************\n",
      "\n",
      "***************\n",
      "Missing values for price\n",
      "0.0\n",
      "***************\n"
     ]
    }
   ],
   "source": [
    "data_info('price')"
   ]
  },
  {
   "cell_type": "markdown",
   "metadata": {},
   "source": [
    "Из описания стоит обратить внимание на то, что цена у некоторых автомобилей равна `0`"
   ]
  },
  {
   "cell_type": "code",
   "execution_count": 16,
   "metadata": {},
   "outputs": [
    {
     "name": "stdout",
     "output_type": "stream",
     "text": [
      "Количество значений 0: 10772 | 3.0397692800442475%\n"
     ]
    }
   ],
   "source": [
    "print(f'Количество значений 0: {(data.price == 0).sum()} | {(data.price == 0).mean()*100}%')"
   ]
  },
  {
   "cell_type": "code",
   "execution_count": 17,
   "metadata": {},
   "outputs": [
    {
     "data": {
      "image/png": "[encoded data removed]",
      "text/plain": [
       "<Figure size 640x480 with 1 Axes>"
      ]
     },
     "metadata": {},
     "output_type": "display_data"
    }
   ],
   "source": [
    "%matplotlib inline\n",
    "sns.histplot(data=data['price'], kde=True)\n",
    "plt.show()"
   ]
  },
  {
   "cell_type": "markdown",
   "metadata": {},
   "source": [
    "Из графика видно, что распределение имеет логарифмическое распределение"
   ]
  },
  {
   "cell_type": "markdown",
   "metadata": {},
   "source": [
    "Посмотрим на строки, где стоимость машины равно `0`"
   ]
  },
  {
   "cell_type": "code",
   "execution_count": 18,
   "metadata": {},
   "outputs": [
    {
     "data": {
      "text/html": [
       "<div>\n",
       "<style scoped>\n",
       "    .dataframe tbody tr th:only-of-type {\n",
       "        vertical-align: middle;\n",
       "    }\n",
       "\n",
       "    .dataframe tbody tr th {\n",
       "        vertical-align: top;\n",
       "    }\n",
       "\n",
       "    .dataframe thead th {\n",
       "        text-align: right;\n",
       "    }\n",
       "</style>\n",
       "<table border=\"1\" class=\"dataframe\">\n",
       "  <thead>\n",
       "    <tr style=\"text-align: right;\">\n",
       "      <th></th>\n",
       "      <th>date_crawled</th>\n",
       "      <th>price</th>\n",
       "      <th>vehicle_type</th>\n",
       "      <th>registration_year</th>\n",
       "      <th>gearbox</th>\n",
       "      <th>power</th>\n",
       "      <th>model</th>\n",
       "      <th>kilometer</th>\n",
       "      <th>registration_month</th>\n",
       "      <th>fuel_type</th>\n",
       "      <th>brand</th>\n",
       "      <th>repaired</th>\n",
       "      <th>date_created</th>\n",
       "      <th>number_of_pictures</th>\n",
       "      <th>postal_code</th>\n",
       "      <th>last_seen</th>\n",
       "    </tr>\n",
       "  </thead>\n",
       "  <tbody>\n",
       "    <tr>\n",
       "      <th>7</th>\n",
       "      <td>2016-03-21 18:54:38</td>\n",
       "      <td>0</td>\n",
       "      <td>sedan</td>\n",
       "      <td>1980</td>\n",
       "      <td>manual</td>\n",
       "      <td>50</td>\n",
       "      <td>other</td>\n",
       "      <td>40000</td>\n",
       "      <td>7</td>\n",
       "      <td>petrol</td>\n",
       "      <td>volkswagen</td>\n",
       "      <td>no</td>\n",
       "      <td>2016-03-21 00:00:00</td>\n",
       "      <td>0</td>\n",
       "      <td>19348</td>\n",
       "      <td>2016-03-25 16:47:58</td>\n",
       "    </tr>\n",
       "    <tr>\n",
       "      <th>40</th>\n",
       "      <td>2016-03-26 22:06:17</td>\n",
       "      <td>0</td>\n",
       "      <td>NaN</td>\n",
       "      <td>1990</td>\n",
       "      <td>NaN</td>\n",
       "      <td>0</td>\n",
       "      <td>corsa</td>\n",
       "      <td>150000</td>\n",
       "      <td>1</td>\n",
       "      <td>petrol</td>\n",
       "      <td>opel</td>\n",
       "      <td>NaN</td>\n",
       "      <td>2016-03-26 00:00:00</td>\n",
       "      <td>0</td>\n",
       "      <td>56412</td>\n",
       "      <td>2016-03-27 17:43:34</td>\n",
       "    </tr>\n",
       "    <tr>\n",
       "      <th>111</th>\n",
       "      <td>2016-03-19 18:40:12</td>\n",
       "      <td>0</td>\n",
       "      <td>NaN</td>\n",
       "      <td>2017</td>\n",
       "      <td>manual</td>\n",
       "      <td>0</td>\n",
       "      <td>golf</td>\n",
       "      <td>5000</td>\n",
       "      <td>12</td>\n",
       "      <td>petrol</td>\n",
       "      <td>volkswagen</td>\n",
       "      <td>NaN</td>\n",
       "      <td>2016-03-19 00:00:00</td>\n",
       "      <td>0</td>\n",
       "      <td>21698</td>\n",
       "      <td>2016-04-01 08:47:05</td>\n",
       "    </tr>\n",
       "    <tr>\n",
       "      <th>115</th>\n",
       "      <td>2016-03-20 18:53:27</td>\n",
       "      <td>0</td>\n",
       "      <td>small</td>\n",
       "      <td>1999</td>\n",
       "      <td>NaN</td>\n",
       "      <td>0</td>\n",
       "      <td>NaN</td>\n",
       "      <td>5000</td>\n",
       "      <td>0</td>\n",
       "      <td>petrol</td>\n",
       "      <td>volkswagen</td>\n",
       "      <td>NaN</td>\n",
       "      <td>2016-03-20 00:00:00</td>\n",
       "      <td>0</td>\n",
       "      <td>37520</td>\n",
       "      <td>2016-04-07 02:45:22</td>\n",
       "    </tr>\n",
       "    <tr>\n",
       "      <th>152</th>\n",
       "      <td>2016-03-11 18:55:53</td>\n",
       "      <td>0</td>\n",
       "      <td>bus</td>\n",
       "      <td>2004</td>\n",
       "      <td>manual</td>\n",
       "      <td>101</td>\n",
       "      <td>meriva</td>\n",
       "      <td>150000</td>\n",
       "      <td>10</td>\n",
       "      <td>lpg</td>\n",
       "      <td>opel</td>\n",
       "      <td>yes</td>\n",
       "      <td>2016-03-11 00:00:00</td>\n",
       "      <td>0</td>\n",
       "      <td>27432</td>\n",
       "      <td>2016-03-12 23:47:10</td>\n",
       "    </tr>\n",
       "    <tr>\n",
       "      <th>...</th>\n",
       "      <td>...</td>\n",
       "      <td>...</td>\n",
       "      <td>...</td>\n",
       "      <td>...</td>\n",
       "      <td>...</td>\n",
       "      <td>...</td>\n",
       "      <td>...</td>\n",
       "      <td>...</td>\n",
       "      <td>...</td>\n",
       "      <td>...</td>\n",
       "      <td>...</td>\n",
       "      <td>...</td>\n",
       "      <td>...</td>\n",
       "      <td>...</td>\n",
       "      <td>...</td>\n",
       "      <td>...</td>\n",
       "    </tr>\n",
       "    <tr>\n",
       "      <th>354205</th>\n",
       "      <td>2016-03-09 15:56:30</td>\n",
       "      <td>0</td>\n",
       "      <td>NaN</td>\n",
       "      <td>2000</td>\n",
       "      <td>manual</td>\n",
       "      <td>65</td>\n",
       "      <td>corsa</td>\n",
       "      <td>150000</td>\n",
       "      <td>0</td>\n",
       "      <td>NaN</td>\n",
       "      <td>opel</td>\n",
       "      <td>yes</td>\n",
       "      <td>2016-03-09 00:00:00</td>\n",
       "      <td>0</td>\n",
       "      <td>23758</td>\n",
       "      <td>2016-03-30 11:16:08</td>\n",
       "    </tr>\n",
       "    <tr>\n",
       "      <th>354238</th>\n",
       "      <td>2016-03-20 14:55:07</td>\n",
       "      <td>0</td>\n",
       "      <td>small</td>\n",
       "      <td>2002</td>\n",
       "      <td>manual</td>\n",
       "      <td>60</td>\n",
       "      <td>fiesta</td>\n",
       "      <td>150000</td>\n",
       "      <td>3</td>\n",
       "      <td>petrol</td>\n",
       "      <td>ford</td>\n",
       "      <td>NaN</td>\n",
       "      <td>2016-03-20 00:00:00</td>\n",
       "      <td>0</td>\n",
       "      <td>33659</td>\n",
       "      <td>2016-04-06 18:45:23</td>\n",
       "    </tr>\n",
       "    <tr>\n",
       "      <th>354248</th>\n",
       "      <td>2016-03-24 13:48:05</td>\n",
       "      <td>0</td>\n",
       "      <td>small</td>\n",
       "      <td>1999</td>\n",
       "      <td>manual</td>\n",
       "      <td>53</td>\n",
       "      <td>swift</td>\n",
       "      <td>150000</td>\n",
       "      <td>3</td>\n",
       "      <td>petrol</td>\n",
       "      <td>suzuki</td>\n",
       "      <td>NaN</td>\n",
       "      <td>2016-03-24 00:00:00</td>\n",
       "      <td>0</td>\n",
       "      <td>42329</td>\n",
       "      <td>2016-04-07 05:17:24</td>\n",
       "    </tr>\n",
       "    <tr>\n",
       "      <th>354277</th>\n",
       "      <td>2016-03-10 22:55:50</td>\n",
       "      <td>0</td>\n",
       "      <td>small</td>\n",
       "      <td>1999</td>\n",
       "      <td>manual</td>\n",
       "      <td>37</td>\n",
       "      <td>arosa</td>\n",
       "      <td>150000</td>\n",
       "      <td>7</td>\n",
       "      <td>petrol</td>\n",
       "      <td>seat</td>\n",
       "      <td>yes</td>\n",
       "      <td>2016-03-10 00:00:00</td>\n",
       "      <td>0</td>\n",
       "      <td>22559</td>\n",
       "      <td>2016-03-12 23:46:32</td>\n",
       "    </tr>\n",
       "    <tr>\n",
       "      <th>354364</th>\n",
       "      <td>2016-03-21 09:50:58</td>\n",
       "      <td>0</td>\n",
       "      <td>NaN</td>\n",
       "      <td>2005</td>\n",
       "      <td>manual</td>\n",
       "      <td>0</td>\n",
       "      <td>colt</td>\n",
       "      <td>150000</td>\n",
       "      <td>7</td>\n",
       "      <td>petrol</td>\n",
       "      <td>mitsubishi</td>\n",
       "      <td>yes</td>\n",
       "      <td>2016-03-21 00:00:00</td>\n",
       "      <td>0</td>\n",
       "      <td>2694</td>\n",
       "      <td>2016-03-21 10:42:49</td>\n",
       "    </tr>\n",
       "  </tbody>\n",
       "</table>\n",
       "<p>10772 rows × 16 columns</p>\n",
       "</div>"
      ],
      "text/plain": [
       "              date_crawled  price vehicle_type  registration_year gearbox  \\\n",
       "7      2016-03-21 18:54:38      0        sedan               1980  manual   \n",
       "40     2016-03-26 22:06:17      0          NaN               1990     NaN   \n",
       "111    2016-03-19 18:40:12      0          NaN               2017  manual   \n",
       "115    2016-03-20 18:53:27      0        small               1999     NaN   \n",
       "152    2016-03-11 18:55:53      0          bus               2004  manual   \n",
       "...                    ...    ...          ...                ...     ...   \n",
       "354205 2016-03-09 15:56:30      0          NaN               2000  manual   \n",
       "354238 2016-03-20 14:55:07      0        small               2002  manual   \n",
       "354248 2016-03-24 13:48:05      0        small               1999  manual   \n",
       "354277 2016-03-10 22:55:50      0        small               1999  manual   \n",
       "354364 2016-03-21 09:50:58      0          NaN               2005  manual   \n",
       "\n",
       "        power   model  kilometer  registration_month fuel_type       brand  \\\n",
       "7          50   other      40000                   7    petrol  volkswagen   \n",
       "40          0   corsa     150000                   1    petrol        opel   \n",
       "111         0    golf       5000                  12    petrol  volkswagen   \n",
       "115         0     NaN       5000                   0    petrol  volkswagen   \n",
       "152       101  meriva     150000                  10       lpg        opel   \n",
       "...       ...     ...        ...                 ...       ...         ...   \n",
       "354205     65   corsa     150000                   0       NaN        opel   \n",
       "354238     60  fiesta     150000                   3    petrol        ford   \n",
       "354248     53   swift     150000                   3    petrol      suzuki   \n",
       "354277     37   arosa     150000                   7    petrol        seat   \n",
       "354364      0    colt     150000                   7    petrol  mitsubishi   \n",
       "\n",
       "       repaired         date_created  number_of_pictures  postal_code  \\\n",
       "7            no  2016-03-21 00:00:00                   0        19348   \n",
       "40          NaN  2016-03-26 00:00:00                   0        56412   \n",
       "111         NaN  2016-03-19 00:00:00                   0        21698   \n",
       "115         NaN  2016-03-20 00:00:00                   0        37520   \n",
       "152         yes  2016-03-11 00:00:00                   0        27432   \n",
       "...         ...                  ...                 ...          ...   \n",
       "354205      yes  2016-03-09 00:00:00                   0        23758   \n",
       "354238      NaN  2016-03-20 00:00:00                   0        33659   \n",
       "354248      NaN  2016-03-24 00:00:00                   0        42329   \n",
       "354277      yes  2016-03-10 00:00:00                   0        22559   \n",
       "354364      yes  2016-03-21 00:00:00                   0         2694   \n",
       "\n",
       "                  last_seen  \n",
       "7       2016-03-25 16:47:58  \n",
       "40      2016-03-27 17:43:34  \n",
       "111     2016-04-01 08:47:05  \n",
       "115     2016-04-07 02:45:22  \n",
       "152     2016-03-12 23:47:10  \n",
       "...                     ...  \n",
       "354205  2016-03-30 11:16:08  \n",
       "354238  2016-04-06 18:45:23  \n",
       "354248  2016-04-07 05:17:24  \n",
       "354277  2016-03-12 23:46:32  \n",
       "354364  2016-03-21 10:42:49  \n",
       "\n",
       "[10772 rows x 16 columns]"
      ]
     },
     "execution_count": 18,
     "metadata": {},
     "output_type": "execute_result"
    }
   ],
   "source": [
    "data.loc[data.price == 0]"
   ]
  },
  {
   "cell_type": "markdown",
   "metadata": {},
   "source": [
    "Исключим 3% данных в которых цена = 0"
   ]
  },
  {
   "cell_type": "code",
   "execution_count": 19,
   "metadata": {},
   "outputs": [],
   "source": [
    "data = data.loc[data.price != 0]"
   ]
  },
  {
   "cell_type": "markdown",
   "metadata": {},
   "source": [
    "<div class=\"alert alert-block alert-success\">\n",
    "<b>✔️ Успех:</b>\n",
    "\n",
    "В данных остались машины только с адекватной ценой 👍\n",
    "</div>"
   ]
  },
  {
   "cell_type": "markdown",
   "metadata": {},
   "source": [
    "### Работа со столбцами vehicle_type, model, brand"
   ]
  },
  {
   "cell_type": "markdown",
   "metadata": {},
   "source": [
    "Данные столбцы целесообразно рассматривать совокупно"
   ]
  },
  {
   "cell_type": "code",
   "execution_count": 20,
   "metadata": {},
   "outputs": [
    {
     "name": "stdout",
     "output_type": "stream",
     "text": [
      "Пропуски в столбцах:\n",
      "Vehicle_type: 9.822553747558914%\n",
      "Model: 5.099287828473473%\n",
      "brand: 0.0%\n",
      "\n"
     ]
    }
   ],
   "source": [
    "print(f'''Пропуски в столбцах:\n",
    "Vehicle_type: {data.vehicle_type.isna().mean()*100}%\n",
    "Model: {data.model.isna().mean()*100}%\n",
    "brand: {data.brand.isna().mean()*100}%\n",
    "''')"
   ]
  },
  {
   "cell_type": "markdown",
   "metadata": {},
   "source": [
    "Сначала уберем пропуски, когда у нас есть информация о бренде и модели машины, но нет о типе кузова. Замена будет производиться по самой популярной модели. Замена не идеальна, так как одна модель может иметь разные варианты исполнения, но лучше пропусков."
   ]
  },
  {
   "cell_type": "code",
   "execution_count": 21,
   "metadata": {},
   "outputs": [],
   "source": [
    "data.model = data['model'].fillna('temp')"
   ]
  },
  {
   "cell_type": "code",
   "execution_count": 22,
   "metadata": {},
   "outputs": [],
   "source": [
    "data.vehicle_type = data['vehicle_type'].fillna('temp')"
   ]
  },
  {
   "cell_type": "code",
   "execution_count": 23,
   "metadata": {},
   "outputs": [],
   "source": [
    "for model in data.model.unique():\n",
    "    data.loc[data['vehicle_type'] == 'temp', 'vehicle_type'] =\\\n",
    "    data.loc[data['model'] == model, 'vehicle_type'].value_counts().idxmax()"
   ]
  },
  {
   "cell_type": "code",
   "execution_count": 24,
   "metadata": {},
   "outputs": [
    {
     "data": {
      "text/plain": [
       "array(['sedan', 'coupe', 'suv', 'small', 'convertible', 'bus', 'wagon',\n",
       "       'other'], dtype=object)"
      ]
     },
     "execution_count": 24,
     "metadata": {},
     "output_type": "execute_result"
    }
   ],
   "source": [
    "#проверка замены типа кузова\n",
    "data.vehicle_type.unique()"
   ]
  },
  {
   "cell_type": "markdown",
   "metadata": {},
   "source": [
    "Данная замена позволила полностью избавиться от пустых значений в столбце `vehicle_type`"
   ]
  },
  {
   "cell_type": "markdown",
   "metadata": {},
   "source": [
    "Проведем подобную замену в обратную сторону для отсутствующих значениях в столбце 'model'"
   ]
  },
  {
   "cell_type": "code",
   "execution_count": 25,
   "metadata": {},
   "outputs": [],
   "source": [
    "for brand in data.brand.unique():                      \n",
    "    for veh_type in data.vehicle_type.unique():\n",
    "        try:\n",
    "            data.loc[data['model'] == 'temp', 'model'] =\\\n",
    "                data.loc[(data['vehicle_type'] == veh_type)&(data['brand'] == brand), 'model'].value_counts().idxmax()\n",
    "        except:\n",
    "            data.loc[data['model'] == 'temp', 'model'] = 'unknown model'"
   ]
  },
  {
   "cell_type": "code",
   "execution_count": 26,
   "metadata": {},
   "outputs": [
    {
     "data": {
      "text/html": [
       "<div>\n",
       "<style scoped>\n",
       "    .dataframe tbody tr th:only-of-type {\n",
       "        vertical-align: middle;\n",
       "    }\n",
       "\n",
       "    .dataframe tbody tr th {\n",
       "        vertical-align: top;\n",
       "    }\n",
       "\n",
       "    .dataframe thead th {\n",
       "        text-align: right;\n",
       "    }\n",
       "</style>\n",
       "<table border=\"1\" class=\"dataframe\">\n",
       "  <thead>\n",
       "    <tr style=\"text-align: right;\">\n",
       "      <th></th>\n",
       "      <th>date_crawled</th>\n",
       "      <th>price</th>\n",
       "      <th>vehicle_type</th>\n",
       "      <th>registration_year</th>\n",
       "      <th>gearbox</th>\n",
       "      <th>power</th>\n",
       "      <th>model</th>\n",
       "      <th>kilometer</th>\n",
       "      <th>registration_month</th>\n",
       "      <th>fuel_type</th>\n",
       "      <th>brand</th>\n",
       "      <th>repaired</th>\n",
       "      <th>date_created</th>\n",
       "      <th>number_of_pictures</th>\n",
       "      <th>postal_code</th>\n",
       "      <th>last_seen</th>\n",
       "    </tr>\n",
       "  </thead>\n",
       "  <tbody>\n",
       "  </tbody>\n",
       "</table>\n",
       "</div>"
      ],
      "text/plain": [
       "Empty DataFrame\n",
       "Columns: [date_crawled, price, vehicle_type, registration_year, gearbox, power, model, kilometer, registration_month, fuel_type, brand, repaired, date_created, number_of_pictures, postal_code, last_seen]\n",
       "Index: []"
      ]
     },
     "execution_count": 26,
     "metadata": {},
     "output_type": "execute_result"
    }
   ],
   "source": [
    "#проверим была ли ошибка в цикле при замене пропущенных значений в модели\n",
    "data.loc[data['model'] == 'unknown model']"
   ]
  },
  {
   "cell_type": "code",
   "execution_count": 27,
   "metadata": {},
   "outputs": [
    {
     "data": {
      "text/plain": [
       "array(['golf', 'grand', 'fabia', '3er', '2_reihe', 'c_max', '3_reihe',\n",
       "       'passat', 'navara', 'ka', 'polo', 'twingo', 'a_klasse', 'scirocco',\n",
       "       '5er', 'meriva', 'arosa', 'other', 'c4', 'civic', 'transporter',\n",
       "       'punto', 'e_klasse', 'clio', 'kadett', 'kangoo', 'one', 'fortwo',\n",
       "       '1er', 'b_klasse', 'signum', 'astra', 'a8', 'jetta', 'fiesta',\n",
       "       'c_klasse', 'micra', 'vito', 'sprinter', '156', 'escort',\n",
       "       'forester', 'xc_reihe', 'scenic', 'a4', 'a1', 'insignia', 'combo',\n",
       "       'focus', 'tt', 'corsa', 'a6', 'jazz', 'omega', 'slk', '7er', '80',\n",
       "       '147', '100', 'z_reihe', 'sportage', 'sorento', 'v40', 'ibiza',\n",
       "       'mustang', 'eos', 'touran', 'getz', 'a3', 'almera', 'megane',\n",
       "       'lupo', 'r19', 'zafira', 'caddy', 'mondeo', 'cordoba', 'colt',\n",
       "       'impreza', 'vectra', 'berlingo', 'tiguan', 'i_reihe', 'espace',\n",
       "       'sharan', '6_reihe', 'panda', 'up', 'seicento', 'ceed', '5_reihe',\n",
       "       'yeti', 'octavia', 'mii', 'rx_reihe', '6er', 'modus', 'fox',\n",
       "       'matiz', 'beetle', 'c1', 'rio', 'touareg', 'logan', 'spider',\n",
       "       'cuore', 's_max', 'a2', 'galaxy', 'c3', 'viano', 's_klasse',\n",
       "       '1_reihe', 'avensis', 'roomster', 'sl', 'kaefer', 'santa',\n",
       "       'cooper', 'leon', '4_reihe', 'a5', '500', 'laguna', 'ptcruiser',\n",
       "       'clk', 'primera', 'x_reihe', 'exeo', '159', 'transit', 'juke',\n",
       "       'qashqai', 'carisma', 'accord', 'corolla', 'lanos', 'phaeton',\n",
       "       'verso', 'swift', 'rav', 'picanto', 'boxster', 'kalos', 'superb',\n",
       "       'stilo', 'alhambra', 'mx_reihe', 'roadster', 'ypsilon', 'cayenne',\n",
       "       'galant', 'justy', '90', 'sirion', 'crossfire', 'agila', 'duster',\n",
       "       'cr_reihe', 'v50', 'c_reihe', 'v_klasse', 'm_klasse', 'yaris',\n",
       "       'c5', 'aygo', 'cc', 'carnival', 'fusion', '911', 'bora', 'forfour',\n",
       "       'cl', 'tigra', '300c', 'spark', 'v70', 'kuga', 'x_type', 'ducato',\n",
       "       's_type', 'x_trail', 'toledo', 'altea', 'voyager', 'calibra',\n",
       "       'bravo', 'antara', 'tucson', 'citigo', 'jimny', 'wrangler',\n",
       "       'lybra', 'q7', 'lancer', 'captiva', 'c2', 'discovery',\n",
       "       'freelander', 'sandero', 'note', '900', 'cherokee', 'clubman',\n",
       "       'samara', 'defender', '601', 'cx_reihe', 'legacy', 'pajero',\n",
       "       'auris', 'niva', 's60', 'm_reihe', 'nubira', 'vivaro', 'g_klasse',\n",
       "       'lodgy', '850', 'range_rover', 'q3', 'serie_2', 'glk', 'charade',\n",
       "       'croma', 'outlander', 'doblo', 'musa', 'move', '9000', 'v60',\n",
       "       '145', 'aveo', '200', 'b_max', 'range_rover_sport', 'terios',\n",
       "       'rangerover', 'q5', 'range_rover_evoque', 'materia', 'delta', 'gl',\n",
       "       'kalina', 'amarok', 'elefantino', 'i3', 'kappa', 'serie_3',\n",
       "       'serie_1'], dtype=object)"
      ]
     },
     "execution_count": 27,
     "metadata": {},
     "output_type": "execute_result"
    }
   ],
   "source": [
    "data.model.unique()"
   ]
  },
  {
   "cell_type": "markdown",
   "metadata": {},
   "source": [
    "Получилось избавиться от всех пропусков значений в модели машины"
   ]
  },
  {
   "cell_type": "markdown",
   "metadata": {},
   "source": [
    "<div class=\"alert alert-block alert-success\">\n",
    "<b>✔️ Успех:</b>\n",
    "\n",
    "Согласен с таким заполнением 👍\n",
    "</div>"
   ]
  },
  {
   "cell_type": "markdown",
   "metadata": {},
   "source": [
    "### Работа со столбцом registration_year, registration_months"
   ]
  },
  {
   "cell_type": "markdown",
   "metadata": {},
   "source": [
    "#### Обработка столбца года"
   ]
  },
  {
   "cell_type": "code",
   "execution_count": 28,
   "metadata": {},
   "outputs": [
    {
     "name": "stdout",
     "output_type": "stream",
     "text": [
      "Info for registration_year\n",
      "<class 'pandas.core.series.Series'>\n",
      "Int64Index: 343597 entries, 0 to 354368\n",
      "Series name: registration_year\n",
      "Non-Null Count   Dtype\n",
      "--------------   -----\n",
      "343597 non-null  int64\n",
      "dtypes: int64(1)\n",
      "memory usage: 5.2 MB\n",
      "None\n",
      "***************\n",
      "\n",
      "***************\n",
      "Describe for registration_year\n",
      "count    343597.000000\n",
      "mean       2004.089797\n",
      "std          78.413225\n",
      "min        1000.000000\n",
      "25%        1999.000000\n",
      "50%        2003.000000\n",
      "75%        2008.000000\n",
      "max        9999.000000\n",
      "Name: registration_year, dtype: float64\n",
      "***************\n",
      "\n",
      "***************\n",
      "Missing values for registration_year\n",
      "0.0\n",
      "***************\n"
     ]
    }
   ],
   "source": [
    "data_info('registration_year')"
   ]
  },
  {
   "cell_type": "markdown",
   "metadata": {},
   "source": [
    "В столбце года регистрации имеется выброс значений."
   ]
  },
  {
   "cell_type": "code",
   "execution_count": 29,
   "metadata": {},
   "outputs": [
    {
     "data": {
      "text/plain": [
       "1993"
      ]
     },
     "execution_count": 29,
     "metadata": {},
     "output_type": "execute_result"
    }
   ],
   "source": [
    "int(data.registration_year.quantile(0.05))"
   ]
  },
  {
   "cell_type": "code",
   "execution_count": 30,
   "metadata": {},
   "outputs": [
    {
     "data": {
      "text/plain": [
       "2016"
      ]
     },
     "execution_count": 30,
     "metadata": {},
     "output_type": "execute_result"
    }
   ],
   "source": [
    "int(data.registration_year.quantile(0.95))"
   ]
  },
  {
   "cell_type": "markdown",
   "metadata": {},
   "source": [
    "Заменим все значения выходящие за границы 5 и 95 квантили на предельные значения этих квантилей. Для 5-й квантили отнимем еще 10 лет, так как в продаже могут быть машины, которые давно стоят на учете"
   ]
  },
  {
   "cell_type": "code",
   "execution_count": 31,
   "metadata": {},
   "outputs": [],
   "source": [
    "data.loc[data.registration_year < data.registration_year.quantile(0.05), 'registration_year'] = data.registration_year.quantile(0.05) - 10\n",
    "data.loc[data.registration_year > data.registration_year.quantile(0.95), 'registration_year'] = data.registration_year.quantile(0.95)"
   ]
  },
  {
   "cell_type": "code",
   "execution_count": 32,
   "metadata": {},
   "outputs": [
    {
     "data": {
      "image/png": "[encoded data removed]",
      "text/plain": [
       "<Figure size 640x480 with 1 Axes>"
      ]
     },
     "metadata": {},
     "output_type": "display_data"
    }
   ],
   "source": [
    "data.boxplot(column='registration_year')\n",
    "plt.title('Boxplot of registration_year values')\n",
    "plt.ylabel('values')\n",
    "plt.show()"
   ]
  },
  {
   "cell_type": "markdown",
   "metadata": {},
   "source": [
    "<div class=\"alert alert-block alert-success\">\n",
    "<b>✔️ Успех:</b>\n",
    "\n",
    "Успешно справились с аномалиями в `registration_year` 👍\n",
    "</div>"
   ]
  },
  {
   "cell_type": "markdown",
   "metadata": {},
   "source": [
    "#### Обработка столбца месяца"
   ]
  },
  {
   "cell_type": "code",
   "execution_count": 33,
   "metadata": {},
   "outputs": [
    {
     "name": "stdout",
     "output_type": "stream",
     "text": [
      "Info for registration_month\n",
      "<class 'pandas.core.series.Series'>\n",
      "Int64Index: 343597 entries, 0 to 354368\n",
      "Series name: registration_month\n",
      "Non-Null Count   Dtype\n",
      "--------------   -----\n",
      "343597 non-null  int64\n",
      "dtypes: int64(1)\n",
      "memory usage: 5.2 MB\n",
      "None\n",
      "***************\n",
      "\n",
      "***************\n",
      "Describe for registration_month\n",
      "count    343597.000000\n",
      "mean          5.777891\n",
      "std           3.698186\n",
      "min           0.000000\n",
      "25%           3.000000\n",
      "50%           6.000000\n",
      "75%           9.000000\n",
      "max          12.000000\n",
      "Name: registration_month, dtype: float64\n",
      "***************\n",
      "\n",
      "***************\n",
      "Missing values for registration_month\n",
      "0.0\n",
      "***************\n"
     ]
    }
   ],
   "source": [
    "data_info('registration_month')"
   ]
  },
  {
   "cell_type": "code",
   "execution_count": 34,
   "metadata": {},
   "outputs": [
    {
     "data": {
      "text/html": [
       "<div>\n",
       "<style scoped>\n",
       "    .dataframe tbody tr th:only-of-type {\n",
       "        vertical-align: middle;\n",
       "    }\n",
       "\n",
       "    .dataframe tbody tr th {\n",
       "        vertical-align: top;\n",
       "    }\n",
       "\n",
       "    .dataframe thead th {\n",
       "        text-align: right;\n",
       "    }\n",
       "</style>\n",
       "<table border=\"1\" class=\"dataframe\">\n",
       "  <thead>\n",
       "    <tr style=\"text-align: right;\">\n",
       "      <th></th>\n",
       "      <th>date_crawled</th>\n",
       "      <th>price</th>\n",
       "      <th>vehicle_type</th>\n",
       "      <th>registration_year</th>\n",
       "      <th>gearbox</th>\n",
       "      <th>power</th>\n",
       "      <th>model</th>\n",
       "      <th>kilometer</th>\n",
       "      <th>registration_month</th>\n",
       "      <th>fuel_type</th>\n",
       "      <th>brand</th>\n",
       "      <th>repaired</th>\n",
       "      <th>date_created</th>\n",
       "      <th>number_of_pictures</th>\n",
       "      <th>postal_code</th>\n",
       "      <th>last_seen</th>\n",
       "    </tr>\n",
       "  </thead>\n",
       "  <tbody>\n",
       "    <tr>\n",
       "      <th>0</th>\n",
       "      <td>2016-03-24 11:52:17</td>\n",
       "      <td>480</td>\n",
       "      <td>sedan</td>\n",
       "      <td>1993</td>\n",
       "      <td>manual</td>\n",
       "      <td>0</td>\n",
       "      <td>golf</td>\n",
       "      <td>150000</td>\n",
       "      <td>0</td>\n",
       "      <td>petrol</td>\n",
       "      <td>volkswagen</td>\n",
       "      <td>NaN</td>\n",
       "      <td>2016-03-24 00:00:00</td>\n",
       "      <td>0</td>\n",
       "      <td>70435</td>\n",
       "      <td>2016-04-07 03:16:57</td>\n",
       "    </tr>\n",
       "    <tr>\n",
       "      <th>9</th>\n",
       "      <td>2016-03-17 10:53:50</td>\n",
       "      <td>999</td>\n",
       "      <td>small</td>\n",
       "      <td>1998</td>\n",
       "      <td>manual</td>\n",
       "      <td>101</td>\n",
       "      <td>golf</td>\n",
       "      <td>150000</td>\n",
       "      <td>0</td>\n",
       "      <td>NaN</td>\n",
       "      <td>volkswagen</td>\n",
       "      <td>NaN</td>\n",
       "      <td>2016-03-17 00:00:00</td>\n",
       "      <td>0</td>\n",
       "      <td>27472</td>\n",
       "      <td>2016-03-31 17:17:06</td>\n",
       "    </tr>\n",
       "    <tr>\n",
       "      <th>15</th>\n",
       "      <td>2016-03-11 21:39:15</td>\n",
       "      <td>450</td>\n",
       "      <td>small</td>\n",
       "      <td>1983</td>\n",
       "      <td>NaN</td>\n",
       "      <td>0</td>\n",
       "      <td>ka</td>\n",
       "      <td>5000</td>\n",
       "      <td>0</td>\n",
       "      <td>petrol</td>\n",
       "      <td>ford</td>\n",
       "      <td>NaN</td>\n",
       "      <td>2016-03-11 00:00:00</td>\n",
       "      <td>0</td>\n",
       "      <td>24148</td>\n",
       "      <td>2016-03-19 08:46:47</td>\n",
       "    </tr>\n",
       "    <tr>\n",
       "      <th>16</th>\n",
       "      <td>2016-04-01 12:46:46</td>\n",
       "      <td>300</td>\n",
       "      <td>sedan</td>\n",
       "      <td>2016</td>\n",
       "      <td>NaN</td>\n",
       "      <td>60</td>\n",
       "      <td>polo</td>\n",
       "      <td>150000</td>\n",
       "      <td>0</td>\n",
       "      <td>petrol</td>\n",
       "      <td>volkswagen</td>\n",
       "      <td>NaN</td>\n",
       "      <td>2016-04-01 00:00:00</td>\n",
       "      <td>0</td>\n",
       "      <td>38871</td>\n",
       "      <td>2016-04-01 12:46:46</td>\n",
       "    </tr>\n",
       "    <tr>\n",
       "      <th>36</th>\n",
       "      <td>2016-03-11 11:50:37</td>\n",
       "      <td>1600</td>\n",
       "      <td>other</td>\n",
       "      <td>1983</td>\n",
       "      <td>manual</td>\n",
       "      <td>75</td>\n",
       "      <td>kadett</td>\n",
       "      <td>70000</td>\n",
       "      <td>0</td>\n",
       "      <td>NaN</td>\n",
       "      <td>opel</td>\n",
       "      <td>NaN</td>\n",
       "      <td>2016-03-11 00:00:00</td>\n",
       "      <td>0</td>\n",
       "      <td>2943</td>\n",
       "      <td>2016-04-07 03:46:09</td>\n",
       "    </tr>\n",
       "    <tr>\n",
       "      <th>...</th>\n",
       "      <td>...</td>\n",
       "      <td>...</td>\n",
       "      <td>...</td>\n",
       "      <td>...</td>\n",
       "      <td>...</td>\n",
       "      <td>...</td>\n",
       "      <td>...</td>\n",
       "      <td>...</td>\n",
       "      <td>...</td>\n",
       "      <td>...</td>\n",
       "      <td>...</td>\n",
       "      <td>...</td>\n",
       "      <td>...</td>\n",
       "      <td>...</td>\n",
       "      <td>...</td>\n",
       "      <td>...</td>\n",
       "    </tr>\n",
       "    <tr>\n",
       "      <th>354305</th>\n",
       "      <td>2016-04-03 13:46:24</td>\n",
       "      <td>3500</td>\n",
       "      <td>sedan</td>\n",
       "      <td>1995</td>\n",
       "      <td>NaN</td>\n",
       "      <td>0</td>\n",
       "      <td>polo</td>\n",
       "      <td>150000</td>\n",
       "      <td>0</td>\n",
       "      <td>NaN</td>\n",
       "      <td>volkswagen</td>\n",
       "      <td>NaN</td>\n",
       "      <td>2016-04-03 00:00:00</td>\n",
       "      <td>0</td>\n",
       "      <td>74579</td>\n",
       "      <td>2016-04-05 12:44:38</td>\n",
       "    </tr>\n",
       "    <tr>\n",
       "      <th>354318</th>\n",
       "      <td>2016-03-15 19:57:11</td>\n",
       "      <td>400</td>\n",
       "      <td>wagon</td>\n",
       "      <td>1983</td>\n",
       "      <td>manual</td>\n",
       "      <td>0</td>\n",
       "      <td>legacy</td>\n",
       "      <td>150000</td>\n",
       "      <td>0</td>\n",
       "      <td>petrol</td>\n",
       "      <td>subaru</td>\n",
       "      <td>NaN</td>\n",
       "      <td>2016-03-15 00:00:00</td>\n",
       "      <td>0</td>\n",
       "      <td>24558</td>\n",
       "      <td>2016-03-19 15:49:00</td>\n",
       "    </tr>\n",
       "    <tr>\n",
       "      <th>354326</th>\n",
       "      <td>2016-03-31 19:36:18</td>\n",
       "      <td>1300</td>\n",
       "      <td>small</td>\n",
       "      <td>1999</td>\n",
       "      <td>manual</td>\n",
       "      <td>75</td>\n",
       "      <td>2_reihe</td>\n",
       "      <td>125000</td>\n",
       "      <td>0</td>\n",
       "      <td>NaN</td>\n",
       "      <td>peugeot</td>\n",
       "      <td>NaN</td>\n",
       "      <td>2016-03-31 00:00:00</td>\n",
       "      <td>0</td>\n",
       "      <td>35102</td>\n",
       "      <td>2016-04-06 13:44:44</td>\n",
       "    </tr>\n",
       "    <tr>\n",
       "      <th>354329</th>\n",
       "      <td>2016-03-30 20:55:30</td>\n",
       "      <td>350</td>\n",
       "      <td>small</td>\n",
       "      <td>1996</td>\n",
       "      <td>NaN</td>\n",
       "      <td>65</td>\n",
       "      <td>punto</td>\n",
       "      <td>150000</td>\n",
       "      <td>0</td>\n",
       "      <td>NaN</td>\n",
       "      <td>fiat</td>\n",
       "      <td>NaN</td>\n",
       "      <td>2016-03-30 00:00:00</td>\n",
       "      <td>0</td>\n",
       "      <td>25436</td>\n",
       "      <td>2016-04-07 13:50:41</td>\n",
       "    </tr>\n",
       "    <tr>\n",
       "      <th>354337</th>\n",
       "      <td>2016-03-26 14:38:18</td>\n",
       "      <td>11500</td>\n",
       "      <td>sedan</td>\n",
       "      <td>2004</td>\n",
       "      <td>auto</td>\n",
       "      <td>445</td>\n",
       "      <td>7er</td>\n",
       "      <td>125000</td>\n",
       "      <td>0</td>\n",
       "      <td>petrol</td>\n",
       "      <td>bmw</td>\n",
       "      <td>NaN</td>\n",
       "      <td>2016-03-26 00:00:00</td>\n",
       "      <td>0</td>\n",
       "      <td>4107</td>\n",
       "      <td>2016-04-06 20:45:16</td>\n",
       "    </tr>\n",
       "  </tbody>\n",
       "</table>\n",
       "<p>32881 rows × 16 columns</p>\n",
       "</div>"
      ],
      "text/plain": [
       "              date_crawled  price vehicle_type  registration_year gearbox  \\\n",
       "0      2016-03-24 11:52:17    480        sedan               1993  manual   \n",
       "9      2016-03-17 10:53:50    999        small               1998  manual   \n",
       "15     2016-03-11 21:39:15    450        small               1983     NaN   \n",
       "16     2016-04-01 12:46:46    300        sedan               2016     NaN   \n",
       "36     2016-03-11 11:50:37   1600        other               1983  manual   \n",
       "...                    ...    ...          ...                ...     ...   \n",
       "354305 2016-04-03 13:46:24   3500        sedan               1995     NaN   \n",
       "354318 2016-03-15 19:57:11    400        wagon               1983  manual   \n",
       "354326 2016-03-31 19:36:18   1300        small               1999  manual   \n",
       "354329 2016-03-30 20:55:30    350        small               1996     NaN   \n",
       "354337 2016-03-26 14:38:18  11500        sedan               2004    auto   \n",
       "\n",
       "        power    model  kilometer  registration_month fuel_type       brand  \\\n",
       "0           0     golf     150000                   0    petrol  volkswagen   \n",
       "9         101     golf     150000                   0       NaN  volkswagen   \n",
       "15          0       ka       5000                   0    petrol        ford   \n",
       "16         60     polo     150000                   0    petrol  volkswagen   \n",
       "36         75   kadett      70000                   0       NaN        opel   \n",
       "...       ...      ...        ...                 ...       ...         ...   \n",
       "354305      0     polo     150000                   0       NaN  volkswagen   \n",
       "354318      0   legacy     150000                   0    petrol      subaru   \n",
       "354326     75  2_reihe     125000                   0       NaN     peugeot   \n",
       "354329     65    punto     150000                   0       NaN        fiat   \n",
       "354337    445      7er     125000                   0    petrol         bmw   \n",
       "\n",
       "       repaired         date_created  number_of_pictures  postal_code  \\\n",
       "0           NaN  2016-03-24 00:00:00                   0        70435   \n",
       "9           NaN  2016-03-17 00:00:00                   0        27472   \n",
       "15          NaN  2016-03-11 00:00:00                   0        24148   \n",
       "16          NaN  2016-04-01 00:00:00                   0        38871   \n",
       "36          NaN  2016-03-11 00:00:00                   0         2943   \n",
       "...         ...                  ...                 ...          ...   \n",
       "354305      NaN  2016-04-03 00:00:00                   0        74579   \n",
       "354318      NaN  2016-03-15 00:00:00                   0        24558   \n",
       "354326      NaN  2016-03-31 00:00:00                   0        35102   \n",
       "354329      NaN  2016-03-30 00:00:00                   0        25436   \n",
       "354337      NaN  2016-03-26 00:00:00                   0         4107   \n",
       "\n",
       "                  last_seen  \n",
       "0       2016-04-07 03:16:57  \n",
       "9       2016-03-31 17:17:06  \n",
       "15      2016-03-19 08:46:47  \n",
       "16      2016-04-01 12:46:46  \n",
       "36      2016-04-07 03:46:09  \n",
       "...                     ...  \n",
       "354305  2016-04-05 12:44:38  \n",
       "354318  2016-03-19 15:49:00  \n",
       "354326  2016-04-06 13:44:44  \n",
       "354329  2016-04-07 13:50:41  \n",
       "354337  2016-04-06 20:45:16  \n",
       "\n",
       "[32881 rows x 16 columns]"
      ]
     },
     "execution_count": 34,
     "metadata": {},
     "output_type": "execute_result"
    }
   ],
   "source": [
    "data.loc[data['registration_month'] == 0]"
   ]
  },
  {
   "cell_type": "markdown",
   "metadata": {},
   "source": [
    "Месяца \"0\" не существует, видимо при миграции данных была допущена ошибка, предлагаю заменить нулевой месяц регистрации автомобиля медианным значением."
   ]
  },
  {
   "cell_type": "code",
   "execution_count": 35,
   "metadata": {},
   "outputs": [],
   "source": [
    "data.loc[data['registration_month'] == 0, 'registration_month'] = data.loc[data['registration_month'] != 0, 'registration_month'].median()"
   ]
  },
  {
   "cell_type": "code",
   "execution_count": 36,
   "metadata": {},
   "outputs": [
    {
     "data": {
      "text/plain": [
       "count    343597.000000\n",
       "mean          6.352069\n",
       "std           3.186985\n",
       "min           1.000000\n",
       "25%           4.000000\n",
       "50%           6.000000\n",
       "75%           9.000000\n",
       "max          12.000000\n",
       "Name: registration_month, dtype: float64"
      ]
     },
     "execution_count": 36,
     "metadata": {},
     "output_type": "execute_result"
    }
   ],
   "source": [
    "data.registration_month.describe()"
   ]
  },
  {
   "cell_type": "markdown",
   "metadata": {},
   "source": [
    "<div class=\"alert alert-block alert-success\">\n",
    "<b>✔️ Успех:</b> 👍\n",
    "</div>"
   ]
  },
  {
   "cell_type": "markdown",
   "metadata": {},
   "source": [
    "### Работа со столбцом gearbox"
   ]
  },
  {
   "cell_type": "code",
   "execution_count": 37,
   "metadata": {},
   "outputs": [
    {
     "name": "stdout",
     "output_type": "stream",
     "text": [
      "Info for gearbox\n",
      "<class 'pandas.core.series.Series'>\n",
      "Int64Index: 343597 entries, 0 to 354368\n",
      "Series name: gearbox\n",
      "Non-Null Count   Dtype \n",
      "--------------   ----- \n",
      "326242 non-null  object\n",
      "dtypes: object(1)\n",
      "memory usage: 5.2+ MB\n",
      "None\n",
      "***************\n",
      "\n",
      "***************\n",
      "Describe for gearbox\n",
      "count     326242\n",
      "unique         2\n",
      "top       manual\n",
      "freq      261373\n",
      "Name: gearbox, dtype: object\n",
      "***************\n",
      "\n",
      "***************\n",
      "Missing values for gearbox\n",
      "5.0509754159669615\n",
      "***************\n"
     ]
    }
   ],
   "source": [
    "data_info('gearbox')"
   ]
  },
  {
   "cell_type": "code",
   "execution_count": 38,
   "metadata": {},
   "outputs": [
    {
     "data": {
      "text/plain": [
       "manual    261373\n",
       "auto       64869\n",
       "Name: gearbox, dtype: int64"
      ]
     },
     "execution_count": 38,
     "metadata": {},
     "output_type": "execute_result"
    }
   ],
   "source": [
    "data.gearbox.value_counts()"
   ]
  },
  {
   "cell_type": "markdown",
   "metadata": {},
   "source": [
    "Заменим пропущенные значения в столбцe на самые популярные значения для данной модели"
   ]
  },
  {
   "cell_type": "code",
   "execution_count": 39,
   "metadata": {},
   "outputs": [],
   "source": [
    "for brand in data.brand.unique():                      \n",
    "    for veh_type in data.vehicle_type.unique():\n",
    "        try:\n",
    "            data.loc[data.gearbox.isna(), 'gearbox'] =\\\n",
    "                data.loc[(data['vehicle_type'] == veh_type)&(data['brand'] == brand), 'gearbox'].value_counts().idxmax()\n",
    "        except:\n",
    "            data.loc[data['model'] == 'temp', 'model'] = 'unknown gearbox'"
   ]
  },
  {
   "cell_type": "markdown",
   "metadata": {},
   "source": [
    "<div class=\"alert alert-block alert-success\">\n",
    "<b>✔️ Успех:</b>\n",
    "\n",
    "Согласен с таким заполнением 👍\n",
    "</div>"
   ]
  },
  {
   "cell_type": "markdown",
   "metadata": {},
   "source": [
    "### Работа со столбцом power"
   ]
  },
  {
   "cell_type": "code",
   "execution_count": 40,
   "metadata": {},
   "outputs": [
    {
     "name": "stdout",
     "output_type": "stream",
     "text": [
      "Info for power\n",
      "<class 'pandas.core.series.Series'>\n",
      "Int64Index: 343597 entries, 0 to 354368\n",
      "Series name: power\n",
      "Non-Null Count   Dtype\n",
      "--------------   -----\n",
      "343597 non-null  int64\n",
      "dtypes: int64(1)\n",
      "memory usage: 5.2 MB\n",
      "None\n",
      "***************\n",
      "\n",
      "***************\n",
      "Describe for power\n",
      "count    343597.000000\n",
      "mean        111.000192\n",
      "std         188.177974\n",
      "min           0.000000\n",
      "25%          69.000000\n",
      "50%         105.000000\n",
      "75%         143.000000\n",
      "max       20000.000000\n",
      "Name: power, dtype: float64\n",
      "***************\n",
      "\n",
      "***************\n",
      "Missing values for power\n",
      "0.0\n",
      "***************\n"
     ]
    }
   ],
   "source": [
    "data_info('power')"
   ]
  },
  {
   "cell_type": "markdown",
   "metadata": {},
   "source": [
    "Пропусков в данном столбце нет, но видим значения мощности равные 0."
   ]
  },
  {
   "cell_type": "markdown",
   "metadata": {},
   "source": [
    "Количество лошадиных сил регламентировано в каждой модели, так же логично.\n",
    "Из личного опыта, исключать выбросы буду для машин, ЛС которых менее 100 и более 300. Так как в разных исполнениях, количество ЛС могут быть разное, то в таком случае замену подставлять будем по усредненному значению между всеми вариантам данной модели."
   ]
  },
  {
   "cell_type": "code",
   "execution_count": 41,
   "metadata": {},
   "outputs": [],
   "source": [
    "# for model in data.model.unique():\n",
    "#     if data.loc[(data.power < 100)&(data.power > 300), 'power']:\n",
    "#         data.loc[(data.model == model), 'power'] = data.loc"
   ]
  },
  {
   "cell_type": "code",
   "execution_count": 42,
   "metadata": {},
   "outputs": [
    {
     "data": {
      "text/plain": [
       "60.0"
      ]
     },
     "execution_count": 42,
     "metadata": {},
     "output_type": "execute_result"
    }
   ],
   "source": [
    "data.loc[data['model'] == 'ka', 'power'].median()"
   ]
  },
  {
   "cell_type": "code",
   "execution_count": 43,
   "metadata": {},
   "outputs": [
    {
     "data": {
      "image/png": "[encoded data removed]",
      "text/plain": [
       "<Figure size 640x480 with 1 Axes>"
      ]
     },
     "metadata": {},
     "output_type": "display_data"
    }
   ],
   "source": [
    "data.boxplot(column='power')\n",
    "plt.title('Boxplot of power values')\n",
    "plt.ylabel('values')\n",
    "plt.show()"
   ]
  },
  {
   "cell_type": "code",
   "execution_count": 44,
   "metadata": {},
   "outputs": [],
   "source": [
    "for model in data.model.unique():\n",
    "    data.loc[(data['power'] < 100)|(data['power'] > 300)&(data['model'] == model), 'power'] =\\\n",
    "    data.loc[(data['power'] > 100)&(data['power'] < 300)&(data['model'] == model), 'power'].mean()"
   ]
  },
  {
   "cell_type": "code",
   "execution_count": 45,
   "metadata": {},
   "outputs": [
    {
     "data": {
      "text/plain": [
       "133.9658111426783"
      ]
     },
     "execution_count": 45,
     "metadata": {},
     "output_type": "execute_result"
    }
   ],
   "source": [
    "data.loc[(data['power'] > 100)&(data['power'] < 300)&(data['model'] == 'golf'), 'power'].mean()"
   ]
  },
  {
   "cell_type": "code",
   "execution_count": 46,
   "metadata": {},
   "outputs": [
    {
     "data": {
      "image/png": "[encoded data removed]",
      "text/plain": [
       "<Figure size 640x480 with 1 Axes>"
      ]
     },
     "metadata": {},
     "output_type": "display_data"
    }
   ],
   "source": [
    "data.boxplot(column='power')\n",
    "plt.title('Boxplot of power values')\n",
    "plt.ylabel('values')\n",
    "plt.show()"
   ]
  },
  {
   "cell_type": "markdown",
   "metadata": {},
   "source": [
    "<div class=\"alert alert-block alert-success\">\n",
    "<b>✔️ Успех:</b>\n",
    "\n",
    "Мощность ограничили 👍\n",
    "</div>"
   ]
  },
  {
   "cell_type": "markdown",
   "metadata": {
    "tags": []
   },
   "source": [
    "### Работа со столбцом kilometer"
   ]
  },
  {
   "cell_type": "code",
   "execution_count": 47,
   "metadata": {},
   "outputs": [
    {
     "name": "stdout",
     "output_type": "stream",
     "text": [
      "Info for kilometer\n",
      "<class 'pandas.core.series.Series'>\n",
      "Int64Index: 343597 entries, 0 to 354368\n",
      "Series name: kilometer\n",
      "Non-Null Count   Dtype\n",
      "--------------   -----\n",
      "343597 non-null  int64\n",
      "dtypes: int64(1)\n",
      "memory usage: 5.2 MB\n",
      "None\n",
      "***************\n",
      "\n",
      "***************\n",
      "Describe for kilometer\n",
      "count    343597.000000\n",
      "mean     128337.616452\n",
      "std       37521.047429\n",
      "min        5000.000000\n",
      "25%      125000.000000\n",
      "50%      150000.000000\n",
      "75%      150000.000000\n",
      "max      150000.000000\n",
      "Name: kilometer, dtype: float64\n",
      "***************\n",
      "\n",
      "***************\n",
      "Missing values for kilometer\n",
      "0.0\n",
      "***************\n"
     ]
    }
   ],
   "source": [
    "data_info('kilometer')"
   ]
  },
  {
   "cell_type": "code",
   "execution_count": 48,
   "metadata": {},
   "outputs": [
    {
     "data": {
      "image/png": "[encoded data removed]",
      "text/plain": [
       "<Figure size 640x480 with 1 Axes>"
      ]
     },
     "metadata": {},
     "output_type": "display_data"
    }
   ],
   "source": [
    "data.boxplot(column='kilometer')\n",
    "plt.title('Boxplot of kilometer values')\n",
    "plt.ylabel('values')\n",
    "plt.show()"
   ]
  },
  {
   "cell_type": "markdown",
   "metadata": {},
   "source": [
    "### Работа со столбцом fuel_type"
   ]
  },
  {
   "cell_type": "code",
   "execution_count": 49,
   "metadata": {},
   "outputs": [
    {
     "name": "stdout",
     "output_type": "stream",
     "text": [
      "Info for fuel_type\n",
      "<class 'pandas.core.series.Series'>\n",
      "Int64Index: 343597 entries, 0 to 354368\n",
      "Series name: fuel_type\n",
      "Non-Null Count   Dtype \n",
      "--------------   ----- \n",
      "314138 non-null  object\n",
      "dtypes: object(1)\n",
      "memory usage: 5.2+ MB\n",
      "None\n",
      "***************\n",
      "\n",
      "***************\n",
      "Describe for fuel_type\n",
      "count     314138\n",
      "unique         7\n",
      "top       petrol\n",
      "freq      210765\n",
      "Name: fuel_type, dtype: object\n",
      "***************\n",
      "\n",
      "***************\n",
      "Missing values for fuel_type\n",
      "8.573706988128535\n",
      "***************\n"
     ]
    }
   ],
   "source": [
    "data_info('fuel_type')"
   ]
  },
  {
   "cell_type": "code",
   "execution_count": 50,
   "metadata": {},
   "outputs": [],
   "source": [
    "for brand in data.brand.unique():                      \n",
    "    for veh_type in data.vehicle_type.unique():\n",
    "        try:\n",
    "            data.loc[data.fuel_type.isna(), 'fuel_type'] =\\\n",
    "                data.loc[(data['vehicle_type'] == veh_type)&(data['brand'] == brand), 'fuel_type'].value_counts().idxmax()\n",
    "        except:\n",
    "            data.loc[data.fuel_type.isna(), 'fuel_type'] = 'unknown fuel_type'"
   ]
  },
  {
   "cell_type": "code",
   "execution_count": 51,
   "metadata": {},
   "outputs": [
    {
     "data": {
      "text/plain": [
       "petrol      240224\n",
       "gasoline     97168\n",
       "lpg           5166\n",
       "cng            554\n",
       "hybrid         227\n",
       "other          170\n",
       "electric        88\n",
       "Name: fuel_type, dtype: int64"
      ]
     },
     "execution_count": 51,
     "metadata": {},
     "output_type": "execute_result"
    }
   ],
   "source": [
    "data.fuel_type.value_counts()"
   ]
  },
  {
   "cell_type": "markdown",
   "metadata": {},
   "source": [
    "<div class=\"alert alert-block alert-success\">\n",
    "<b>✔️ Успех:</b>\n",
    "\n",
    "Согласен с таким заполнением 👍\n",
    "</div>"
   ]
  },
  {
   "cell_type": "markdown",
   "metadata": {},
   "source": [
    "### Работа со столбцом repaired"
   ]
  },
  {
   "cell_type": "code",
   "execution_count": 52,
   "metadata": {},
   "outputs": [
    {
     "name": "stdout",
     "output_type": "stream",
     "text": [
      "Info for repaired\n",
      "<class 'pandas.core.series.Series'>\n",
      "Int64Index: 343597 entries, 0 to 354368\n",
      "Series name: repaired\n",
      "Non-Null Count   Dtype \n",
      "--------------   ----- \n",
      "277731 non-null  object\n",
      "dtypes: object(1)\n",
      "memory usage: 5.2+ MB\n",
      "None\n",
      "***************\n",
      "\n",
      "***************\n",
      "Describe for repaired\n",
      "count     277731\n",
      "unique         2\n",
      "top           no\n",
      "freq      243682\n",
      "Name: repaired, dtype: object\n",
      "***************\n",
      "\n",
      "***************\n",
      "Missing values for repaired\n",
      "19.169550374421195\n",
      "***************\n"
     ]
    }
   ],
   "source": [
    "data_info('repaired')"
   ]
  },
  {
   "cell_type": "markdown",
   "metadata": {},
   "source": [
    "Так как нет прямой зависимости ремонта от других параметров, предлагаю заменить пропущенные значения на заглушку (категорию) `NA`."
   ]
  },
  {
   "cell_type": "code",
   "execution_count": 53,
   "metadata": {},
   "outputs": [],
   "source": [
    "data.repaired = data.repaired.fillna('NA')"
   ]
  },
  {
   "cell_type": "markdown",
   "metadata": {},
   "source": [
    "<div class=\"alert alert-block alert-success\">\n",
    "<b>✔️ Успех:</b>\n",
    "\n",
    "Согласен с таким заполнением 👍\n",
    "</div>"
   ]
  },
  {
   "cell_type": "markdown",
   "metadata": {},
   "source": [
    "### Работа со столбцом date_created"
   ]
  },
  {
   "cell_type": "code",
   "execution_count": 54,
   "metadata": {},
   "outputs": [
    {
     "name": "stdout",
     "output_type": "stream",
     "text": [
      "Info for date_created\n",
      "<class 'pandas.core.series.Series'>\n",
      "Int64Index: 343597 entries, 0 to 354368\n",
      "Series name: date_created\n",
      "Non-Null Count   Dtype \n",
      "--------------   ----- \n",
      "343597 non-null  object\n",
      "dtypes: object(1)\n",
      "memory usage: 5.2+ MB\n",
      "None\n",
      "***************\n",
      "\n",
      "***************\n",
      "Describe for date_created\n",
      "count                  343597\n",
      "unique                    109\n",
      "top       2016-04-03 00:00:00\n",
      "freq                    13342\n",
      "Name: date_created, dtype: object\n",
      "***************\n",
      "\n",
      "***************\n",
      "Missing values for date_created\n",
      "0.0\n",
      "***************\n"
     ]
    }
   ],
   "source": [
    "data_info('date_created')"
   ]
  },
  {
   "cell_type": "markdown",
   "metadata": {},
   "source": [
    "### Работа со столбцом number_of_pictures"
   ]
  },
  {
   "cell_type": "code",
   "execution_count": 55,
   "metadata": {},
   "outputs": [
    {
     "name": "stdout",
     "output_type": "stream",
     "text": [
      "Info for number_of_pictures\n",
      "<class 'pandas.core.series.Series'>\n",
      "Int64Index: 343597 entries, 0 to 354368\n",
      "Series name: number_of_pictures\n",
      "Non-Null Count   Dtype\n",
      "--------------   -----\n",
      "343597 non-null  int64\n",
      "dtypes: int64(1)\n",
      "memory usage: 5.2 MB\n",
      "None\n",
      "***************\n",
      "\n",
      "***************\n",
      "Describe for number_of_pictures\n",
      "count    343597.0\n",
      "mean          0.0\n",
      "std           0.0\n",
      "min           0.0\n",
      "25%           0.0\n",
      "50%           0.0\n",
      "75%           0.0\n",
      "max           0.0\n",
      "Name: number_of_pictures, dtype: float64\n",
      "***************\n",
      "\n",
      "***************\n",
      "Missing values for number_of_pictures\n",
      "0.0\n",
      "***************\n"
     ]
    }
   ],
   "source": [
    "data_info('number_of_pictures')"
   ]
  },
  {
   "cell_type": "markdown",
   "metadata": {},
   "source": [
    "при выгрузке базы данных, столбец `number_of_pictures` был перенесен некорреткно, так как все значения столбцы равны `0`, целесообразно данный столбец исключить.\n",
    "\n",
    "*в условиях реальной задачи, имеет смысл создать тикет на корректировка базы данных*"
   ]
  },
  {
   "cell_type": "code",
   "execution_count": 56,
   "metadata": {},
   "outputs": [],
   "source": [
    "data = data.drop('number_of_pictures', axis=1)"
   ]
  },
  {
   "cell_type": "markdown",
   "metadata": {},
   "source": [
    "<div class=\"alert alert-block alert-success\">\n",
    "<b>✔️ Успех:</b>\n",
    "\n",
    "Удалить неинформативные признаки - хорошее решение 👍🏻\n",
    "</div>"
   ]
  },
  {
   "cell_type": "markdown",
   "metadata": {},
   "source": [
    "### Работа со столбцом postal_code"
   ]
  },
  {
   "cell_type": "code",
   "execution_count": 57,
   "metadata": {},
   "outputs": [
    {
     "name": "stdout",
     "output_type": "stream",
     "text": [
      "Info for postal_code\n",
      "<class 'pandas.core.series.Series'>\n",
      "Int64Index: 343597 entries, 0 to 354368\n",
      "Series name: postal_code\n",
      "Non-Null Count   Dtype\n",
      "--------------   -----\n",
      "343597 non-null  int64\n",
      "dtypes: int64(1)\n",
      "memory usage: 5.2 MB\n",
      "None\n",
      "***************\n",
      "\n",
      "***************\n",
      "Describe for postal_code\n",
      "count    343597.000000\n",
      "mean      50683.358915\n",
      "std       25744.205799\n",
      "min        1067.000000\n",
      "25%       30449.000000\n",
      "50%       49525.000000\n",
      "75%       71229.000000\n",
      "max       99998.000000\n",
      "Name: postal_code, dtype: float64\n",
      "***************\n",
      "\n",
      "***************\n",
      "Missing values for postal_code\n",
      "0.0\n",
      "***************\n"
     ]
    }
   ],
   "source": [
    "data_info('postal_code')"
   ]
  },
  {
   "cell_type": "code",
   "execution_count": 58,
   "metadata": {},
   "outputs": [
    {
     "data": {
      "text/html": [
       "<div>\n",
       "<style scoped>\n",
       "    .dataframe tbody tr th:only-of-type {\n",
       "        vertical-align: middle;\n",
       "    }\n",
       "\n",
       "    .dataframe tbody tr th {\n",
       "        vertical-align: top;\n",
       "    }\n",
       "\n",
       "    .dataframe thead th {\n",
       "        text-align: right;\n",
       "    }\n",
       "</style>\n",
       "<table border=\"1\" class=\"dataframe\">\n",
       "  <thead>\n",
       "    <tr style=\"text-align: right;\">\n",
       "      <th></th>\n",
       "      <th>postal_code</th>\n",
       "    </tr>\n",
       "  </thead>\n",
       "  <tbody>\n",
       "    <tr>\n",
       "      <th>10115</th>\n",
       "      <td>812</td>\n",
       "    </tr>\n",
       "    <tr>\n",
       "      <th>65428</th>\n",
       "      <td>604</td>\n",
       "    </tr>\n",
       "    <tr>\n",
       "      <th>66333</th>\n",
       "      <td>327</td>\n",
       "    </tr>\n",
       "    <tr>\n",
       "      <th>32257</th>\n",
       "      <td>305</td>\n",
       "    </tr>\n",
       "    <tr>\n",
       "      <th>44145</th>\n",
       "      <td>303</td>\n",
       "    </tr>\n",
       "    <tr>\n",
       "      <th>...</th>\n",
       "      <td>...</td>\n",
       "    </tr>\n",
       "    <tr>\n",
       "      <th>16918</th>\n",
       "      <td>1</td>\n",
       "    </tr>\n",
       "    <tr>\n",
       "      <th>29473</th>\n",
       "      <td>1</td>\n",
       "    </tr>\n",
       "    <tr>\n",
       "      <th>12625</th>\n",
       "      <td>1</td>\n",
       "    </tr>\n",
       "    <tr>\n",
       "      <th>38879</th>\n",
       "      <td>1</td>\n",
       "    </tr>\n",
       "    <tr>\n",
       "      <th>31096</th>\n",
       "      <td>1</td>\n",
       "    </tr>\n",
       "  </tbody>\n",
       "</table>\n",
       "<p>8138 rows × 1 columns</p>\n",
       "</div>"
      ],
      "text/plain": [
       "       postal_code\n",
       "10115          812\n",
       "65428          604\n",
       "66333          327\n",
       "32257          305\n",
       "44145          303\n",
       "...            ...\n",
       "16918            1\n",
       "29473            1\n",
       "12625            1\n",
       "38879            1\n",
       "31096            1\n",
       "\n",
       "[8138 rows x 1 columns]"
      ]
     },
     "execution_count": 58,
     "metadata": {},
     "output_type": "execute_result"
    }
   ],
   "source": [
    "pd.DataFrame(data.postal_code.value_counts())"
   ]
  },
  {
   "cell_type": "markdown",
   "metadata": {},
   "source": [
    "Столбец postal_code больше носит категориальный смысл, так как обозначает регион продажи автомобиля, вносить изменения не буду."
   ]
  },
  {
   "cell_type": "markdown",
   "metadata": {},
   "source": [
    "### Работа со столбцом last_seen"
   ]
  },
  {
   "cell_type": "code",
   "execution_count": 59,
   "metadata": {},
   "outputs": [
    {
     "name": "stdout",
     "output_type": "stream",
     "text": [
      "Info for last_seen\n",
      "<class 'pandas.core.series.Series'>\n",
      "Int64Index: 343597 entries, 0 to 354368\n",
      "Series name: last_seen\n",
      "Non-Null Count   Dtype \n",
      "--------------   ----- \n",
      "343597 non-null  object\n",
      "dtypes: object(1)\n",
      "memory usage: 5.2+ MB\n",
      "None\n",
      "***************\n",
      "\n",
      "***************\n",
      "Describe for last_seen\n",
      "count                  343597\n",
      "unique                 174543\n",
      "top       2016-04-07 13:17:48\n",
      "freq                       16\n",
      "Name: last_seen, dtype: object\n",
      "***************\n",
      "\n",
      "***************\n",
      "Missing values for last_seen\n",
      "0.0\n",
      "***************\n"
     ]
    }
   ],
   "source": [
    "data_info('last_seen')"
   ]
  },
  {
   "cell_type": "code",
   "execution_count": 60,
   "metadata": {},
   "outputs": [],
   "source": [
    "# перевод типа столбца в дату\n",
    "data.last_seen = pd.to_datetime(data.last_seen)"
   ]
  },
  {
   "cell_type": "markdown",
   "metadata": {},
   "source": [
    "## Выводы по разделу"
   ]
  },
  {
   "cell_type": "markdown",
   "metadata": {},
   "source": [
    "В ходе предобработки данных были выполнены мероприятия:\n",
    "- Изменен тип столбцов на тип даты:\n",
    "    - data_crawled\n",
    "    - last_seen\n",
    "- В столбце `price` исключены строки с нулевым значением\n",
    "- На основании самых популярных значений были заполнены пропуски в столбцах:\n",
    "    - vehicle_type\n",
    "    - brand\n",
    "    - model\n",
    "    - gearbox\n",
    "    - fuel_type\n",
    "- В столбце `registration_year` года ограничены по 5 и 95 квантили, для нижней границы добавлены 10 лет\n",
    "- В столбце `registration_month` значения месяца 0 заменены на медианное значение остальных значений (исключив строки с 0 значением)\n",
    "- В столбце `power` обработаны значения менее 100 и более 300 лс, на популярные значения для каждой модели."
   ]
  },
  {
   "cell_type": "code",
   "execution_count": 61,
   "metadata": {},
   "outputs": [
    {
     "data": {
      "text/html": [
       "<div>\n",
       "<style scoped>\n",
       "    .dataframe tbody tr th:only-of-type {\n",
       "        vertical-align: middle;\n",
       "    }\n",
       "\n",
       "    .dataframe tbody tr th {\n",
       "        vertical-align: top;\n",
       "    }\n",
       "\n",
       "    .dataframe thead th {\n",
       "        text-align: right;\n",
       "    }\n",
       "</style>\n",
       "<table border=\"1\" class=\"dataframe\">\n",
       "  <thead>\n",
       "    <tr style=\"text-align: right;\">\n",
       "      <th></th>\n",
       "      <th>date_crawled</th>\n",
       "      <th>price</th>\n",
       "      <th>vehicle_type</th>\n",
       "      <th>registration_year</th>\n",
       "      <th>gearbox</th>\n",
       "      <th>power</th>\n",
       "      <th>model</th>\n",
       "      <th>kilometer</th>\n",
       "      <th>registration_month</th>\n",
       "      <th>fuel_type</th>\n",
       "      <th>brand</th>\n",
       "      <th>repaired</th>\n",
       "      <th>date_created</th>\n",
       "      <th>postal_code</th>\n",
       "      <th>last_seen</th>\n",
       "    </tr>\n",
       "  </thead>\n",
       "  <tbody>\n",
       "    <tr>\n",
       "      <th>0</th>\n",
       "      <td>2016-03-24 11:52:17</td>\n",
       "      <td>480</td>\n",
       "      <td>sedan</td>\n",
       "      <td>1993</td>\n",
       "      <td>manual</td>\n",
       "      <td>133.965811</td>\n",
       "      <td>golf</td>\n",
       "      <td>150000</td>\n",
       "      <td>6</td>\n",
       "      <td>petrol</td>\n",
       "      <td>volkswagen</td>\n",
       "      <td>NA</td>\n",
       "      <td>2016-03-24 00:00:00</td>\n",
       "      <td>70435</td>\n",
       "      <td>2016-04-07 03:16:57</td>\n",
       "    </tr>\n",
       "    <tr>\n",
       "      <th>1</th>\n",
       "      <td>2016-03-24 10:58:45</td>\n",
       "      <td>18300</td>\n",
       "      <td>coupe</td>\n",
       "      <td>2011</td>\n",
       "      <td>manual</td>\n",
       "      <td>190.000000</td>\n",
       "      <td>golf</td>\n",
       "      <td>125000</td>\n",
       "      <td>5</td>\n",
       "      <td>gasoline</td>\n",
       "      <td>audi</td>\n",
       "      <td>yes</td>\n",
       "      <td>2016-03-24 00:00:00</td>\n",
       "      <td>66954</td>\n",
       "      <td>2016-04-07 01:46:50</td>\n",
       "    </tr>\n",
       "    <tr>\n",
       "      <th>2</th>\n",
       "      <td>2016-03-14 12:52:21</td>\n",
       "      <td>9800</td>\n",
       "      <td>suv</td>\n",
       "      <td>2004</td>\n",
       "      <td>auto</td>\n",
       "      <td>163.000000</td>\n",
       "      <td>grand</td>\n",
       "      <td>125000</td>\n",
       "      <td>8</td>\n",
       "      <td>gasoline</td>\n",
       "      <td>jeep</td>\n",
       "      <td>NA</td>\n",
       "      <td>2016-03-14 00:00:00</td>\n",
       "      <td>90480</td>\n",
       "      <td>2016-04-05 12:47:46</td>\n",
       "    </tr>\n",
       "    <tr>\n",
       "      <th>3</th>\n",
       "      <td>2016-03-17 16:54:04</td>\n",
       "      <td>1500</td>\n",
       "      <td>small</td>\n",
       "      <td>2001</td>\n",
       "      <td>manual</td>\n",
       "      <td>133.965811</td>\n",
       "      <td>golf</td>\n",
       "      <td>150000</td>\n",
       "      <td>6</td>\n",
       "      <td>petrol</td>\n",
       "      <td>volkswagen</td>\n",
       "      <td>no</td>\n",
       "      <td>2016-03-17 00:00:00</td>\n",
       "      <td>91074</td>\n",
       "      <td>2016-03-17 17:40:17</td>\n",
       "    </tr>\n",
       "    <tr>\n",
       "      <th>4</th>\n",
       "      <td>2016-03-31 17:25:20</td>\n",
       "      <td>3600</td>\n",
       "      <td>small</td>\n",
       "      <td>2008</td>\n",
       "      <td>manual</td>\n",
       "      <td>133.965811</td>\n",
       "      <td>fabia</td>\n",
       "      <td>90000</td>\n",
       "      <td>7</td>\n",
       "      <td>gasoline</td>\n",
       "      <td>skoda</td>\n",
       "      <td>no</td>\n",
       "      <td>2016-03-31 00:00:00</td>\n",
       "      <td>60437</td>\n",
       "      <td>2016-04-06 10:17:21</td>\n",
       "    </tr>\n",
       "  </tbody>\n",
       "</table>\n",
       "</div>"
      ],
      "text/plain": [
       "         date_crawled  price vehicle_type  registration_year gearbox  \\\n",
       "0 2016-03-24 11:52:17    480        sedan               1993  manual   \n",
       "1 2016-03-24 10:58:45  18300        coupe               2011  manual   \n",
       "2 2016-03-14 12:52:21   9800          suv               2004    auto   \n",
       "3 2016-03-17 16:54:04   1500        small               2001  manual   \n",
       "4 2016-03-31 17:25:20   3600        small               2008  manual   \n",
       "\n",
       "        power  model  kilometer  registration_month fuel_type       brand  \\\n",
       "0  133.965811   golf     150000                   6    petrol  volkswagen   \n",
       "1  190.000000   golf     125000                   5  gasoline        audi   \n",
       "2  163.000000  grand     125000                   8  gasoline        jeep   \n",
       "3  133.965811   golf     150000                   6    petrol  volkswagen   \n",
       "4  133.965811  fabia      90000                   7  gasoline       skoda   \n",
       "\n",
       "  repaired         date_created  postal_code           last_seen  \n",
       "0       NA  2016-03-24 00:00:00        70435 2016-04-07 03:16:57  \n",
       "1      yes  2016-03-24 00:00:00        66954 2016-04-07 01:46:50  \n",
       "2       NA  2016-03-14 00:00:00        90480 2016-04-05 12:47:46  \n",
       "3       no  2016-03-17 00:00:00        91074 2016-03-17 17:40:17  \n",
       "4       no  2016-03-31 00:00:00        60437 2016-04-06 10:17:21  "
      ]
     },
     "execution_count": 61,
     "metadata": {},
     "output_type": "execute_result"
    }
   ],
   "source": [
    "data.head()"
   ]
  },
  {
   "cell_type": "markdown",
   "metadata": {},
   "source": [
    "<div class=\"alert alert-block alert-success\">\n",
    "<b>✔️ Успех:</b>\n",
    "\n",
    "Данные успешно обработаны 👍\n",
    "</div>"
   ]
  },
  {
   "cell_type": "markdown",
   "metadata": {
    "tags": []
   },
   "source": [
    "# Обучение моделей"
   ]
  },
  {
   "cell_type": "markdown",
   "metadata": {},
   "source": [
    "## Подготовка данных к обучению"
   ]
  },
  {
   "cell_type": "code",
   "execution_count": 62,
   "metadata": {},
   "outputs": [
    {
     "data": {
      "text/html": [
       "<div>\n",
       "<style scoped>\n",
       "    .dataframe tbody tr th:only-of-type {\n",
       "        vertical-align: middle;\n",
       "    }\n",
       "\n",
       "    .dataframe tbody tr th {\n",
       "        vertical-align: top;\n",
       "    }\n",
       "\n",
       "    .dataframe thead th {\n",
       "        text-align: right;\n",
       "    }\n",
       "</style>\n",
       "<table border=\"1\" class=\"dataframe\">\n",
       "  <thead>\n",
       "    <tr style=\"text-align: right;\">\n",
       "      <th></th>\n",
       "      <th>date_crawled</th>\n",
       "      <th>price</th>\n",
       "      <th>vehicle_type</th>\n",
       "      <th>registration_year</th>\n",
       "      <th>gearbox</th>\n",
       "      <th>power</th>\n",
       "      <th>model</th>\n",
       "      <th>kilometer</th>\n",
       "      <th>registration_month</th>\n",
       "      <th>fuel_type</th>\n",
       "      <th>brand</th>\n",
       "      <th>repaired</th>\n",
       "      <th>date_created</th>\n",
       "      <th>postal_code</th>\n",
       "      <th>last_seen</th>\n",
       "    </tr>\n",
       "  </thead>\n",
       "  <tbody>\n",
       "    <tr>\n",
       "      <th>0</th>\n",
       "      <td>2016-03-24 11:52:17</td>\n",
       "      <td>480</td>\n",
       "      <td>sedan</td>\n",
       "      <td>1993</td>\n",
       "      <td>manual</td>\n",
       "      <td>133.965811</td>\n",
       "      <td>golf</td>\n",
       "      <td>150000</td>\n",
       "      <td>6</td>\n",
       "      <td>petrol</td>\n",
       "      <td>volkswagen</td>\n",
       "      <td>NA</td>\n",
       "      <td>2016-03-24 00:00:00</td>\n",
       "      <td>70435</td>\n",
       "      <td>2016-04-07 03:16:57</td>\n",
       "    </tr>\n",
       "    <tr>\n",
       "      <th>1</th>\n",
       "      <td>2016-03-24 10:58:45</td>\n",
       "      <td>18300</td>\n",
       "      <td>coupe</td>\n",
       "      <td>2011</td>\n",
       "      <td>manual</td>\n",
       "      <td>190.000000</td>\n",
       "      <td>golf</td>\n",
       "      <td>125000</td>\n",
       "      <td>5</td>\n",
       "      <td>gasoline</td>\n",
       "      <td>audi</td>\n",
       "      <td>yes</td>\n",
       "      <td>2016-03-24 00:00:00</td>\n",
       "      <td>66954</td>\n",
       "      <td>2016-04-07 01:46:50</td>\n",
       "    </tr>\n",
       "    <tr>\n",
       "      <th>2</th>\n",
       "      <td>2016-03-14 12:52:21</td>\n",
       "      <td>9800</td>\n",
       "      <td>suv</td>\n",
       "      <td>2004</td>\n",
       "      <td>auto</td>\n",
       "      <td>163.000000</td>\n",
       "      <td>grand</td>\n",
       "      <td>125000</td>\n",
       "      <td>8</td>\n",
       "      <td>gasoline</td>\n",
       "      <td>jeep</td>\n",
       "      <td>NA</td>\n",
       "      <td>2016-03-14 00:00:00</td>\n",
       "      <td>90480</td>\n",
       "      <td>2016-04-05 12:47:46</td>\n",
       "    </tr>\n",
       "    <tr>\n",
       "      <th>3</th>\n",
       "      <td>2016-03-17 16:54:04</td>\n",
       "      <td>1500</td>\n",
       "      <td>small</td>\n",
       "      <td>2001</td>\n",
       "      <td>manual</td>\n",
       "      <td>133.965811</td>\n",
       "      <td>golf</td>\n",
       "      <td>150000</td>\n",
       "      <td>6</td>\n",
       "      <td>petrol</td>\n",
       "      <td>volkswagen</td>\n",
       "      <td>no</td>\n",
       "      <td>2016-03-17 00:00:00</td>\n",
       "      <td>91074</td>\n",
       "      <td>2016-03-17 17:40:17</td>\n",
       "    </tr>\n",
       "    <tr>\n",
       "      <th>4</th>\n",
       "      <td>2016-03-31 17:25:20</td>\n",
       "      <td>3600</td>\n",
       "      <td>small</td>\n",
       "      <td>2008</td>\n",
       "      <td>manual</td>\n",
       "      <td>133.965811</td>\n",
       "      <td>fabia</td>\n",
       "      <td>90000</td>\n",
       "      <td>7</td>\n",
       "      <td>gasoline</td>\n",
       "      <td>skoda</td>\n",
       "      <td>no</td>\n",
       "      <td>2016-03-31 00:00:00</td>\n",
       "      <td>60437</td>\n",
       "      <td>2016-04-06 10:17:21</td>\n",
       "    </tr>\n",
       "  </tbody>\n",
       "</table>\n",
       "</div>"
      ],
      "text/plain": [
       "         date_crawled  price vehicle_type  registration_year gearbox  \\\n",
       "0 2016-03-24 11:52:17    480        sedan               1993  manual   \n",
       "1 2016-03-24 10:58:45  18300        coupe               2011  manual   \n",
       "2 2016-03-14 12:52:21   9800          suv               2004    auto   \n",
       "3 2016-03-17 16:54:04   1500        small               2001  manual   \n",
       "4 2016-03-31 17:25:20   3600        small               2008  manual   \n",
       "\n",
       "        power  model  kilometer  registration_month fuel_type       brand  \\\n",
       "0  133.965811   golf     150000                   6    petrol  volkswagen   \n",
       "1  190.000000   golf     125000                   5  gasoline        audi   \n",
       "2  163.000000  grand     125000                   8  gasoline        jeep   \n",
       "3  133.965811   golf     150000                   6    petrol  volkswagen   \n",
       "4  133.965811  fabia      90000                   7  gasoline       skoda   \n",
       "\n",
       "  repaired         date_created  postal_code           last_seen  \n",
       "0       NA  2016-03-24 00:00:00        70435 2016-04-07 03:16:57  \n",
       "1      yes  2016-03-24 00:00:00        66954 2016-04-07 01:46:50  \n",
       "2       NA  2016-03-14 00:00:00        90480 2016-04-05 12:47:46  \n",
       "3       no  2016-03-17 00:00:00        91074 2016-03-17 17:40:17  \n",
       "4       no  2016-03-31 00:00:00        60437 2016-04-06 10:17:21  "
      ]
     },
     "execution_count": 62,
     "metadata": {},
     "output_type": "execute_result"
    }
   ],
   "source": [
    "data.head()"
   ]
  },
  {
   "cell_type": "markdown",
   "metadata": {},
   "source": [
    "Столбцы:  \n",
    "- date_crawled\n",
    "- date_created\n",
    "- last_seen  \n",
    "никак не влияют на стоимость автомобиля, столбцы будут исключены, для уменьшение времени обработки данных и повышения точности за счет исключению фантомных корреляций."
   ]
  },
  {
   "cell_type": "code",
   "execution_count": 63,
   "metadata": {},
   "outputs": [],
   "source": [
    "data = data.drop(['date_crawled', 'date_created', 'last_seen', 'postal_code'], axis=1)"
   ]
  },
  {
   "cell_type": "markdown",
   "metadata": {},
   "source": [
    "<div class=\"alert alert-block alert-info\">\n",
    "<b>Изменения:</b> дополинтельно исключил столбец <b>postal_code</b>\n",
    "</div>"
   ]
  },
  {
   "cell_type": "code",
   "execution_count": 64,
   "metadata": {},
   "outputs": [],
   "source": [
    "#закоментировал после первого ревью\n",
    "# target = data['price']\n",
    "# features = data.drop('price', axis=1)"
   ]
  },
  {
   "cell_type": "code",
   "execution_count": 65,
   "metadata": {},
   "outputs": [],
   "source": [
    "#закоментировал после первого ревью\n",
    "# features_train, features_test, target_train, target_test = train_test_split(features, target, random_state=160891, test_size=0.25) "
   ]
  },
  {
   "cell_type": "code",
   "execution_count": 66,
   "metadata": {},
   "outputs": [],
   "source": [
    "#закоментировал после первого ревью\n",
    "# features_train.shape, target_train.shape, features_test.shape, target_test.shape"
   ]
  },
  {
   "cell_type": "markdown",
   "metadata": {},
   "source": [
    "### Разбивка данных с кодировкой OHE"
   ]
  },
  {
   "cell_type": "code",
   "execution_count": 67,
   "metadata": {},
   "outputs": [],
   "source": [
    "data_ohe = data.copy()\n",
    "data_ohe = pd.get_dummies(data_ohe)"
   ]
  },
  {
   "cell_type": "code",
   "execution_count": 68,
   "metadata": {},
   "outputs": [],
   "source": [
    "# разбивка данных на тренировочную, валидационную, тестовую выборку в отношении 3|1|1 для кодировки OHE\n",
    "ohe_train_data, ohe_other_data = train_test_split(data_ohe, test_size=0.4, random_state=160891)\n",
    "ohe_valid_data, ohe_test_data = train_test_split(ohe_other_data, test_size=0.5, random_state=160891)"
   ]
  },
  {
   "cell_type": "markdown",
   "metadata": {},
   "source": [
    "<div class=\"alert alert-block alert-success\">\n",
    "<b>✔️ Успех:</b> \n",
    "\n",
    "Данные поделены верно, пропорции выбраны адекватные 👍\n",
    "</div>"
   ]
  },
  {
   "cell_type": "code",
   "execution_count": 69,
   "metadata": {},
   "outputs": [],
   "source": [
    "ohe_features_train = ohe_train_data.drop(['price'], axis=1)\n",
    "ohe_features_valid = ohe_valid_data.drop(['price'], axis=1)\n",
    "ohe_features_test = ohe_test_data.drop(['price'], axis=1)\n",
    "ohe_target_train = ohe_train_data['price']\n",
    "ohe_target_valid = ohe_valid_data['price']\n",
    "ohe_target_test = ohe_test_data['price']"
   ]
  },
  {
   "cell_type": "code",
   "execution_count": 70,
   "metadata": {},
   "outputs": [
    {
     "name": "stdout",
     "output_type": "stream",
     "text": [
      "Размер тренирующей выборки: 206158 | 60.0%\n",
      "Размер валидационной выборки: 68719 | 20.0%\n",
      "Размер тестовой выборки: 68720 | 20.0%\n"
     ]
    }
   ],
   "source": [
    "print(f'Размер тренирующей выборки: {ohe_features_train.shape[0]} | {ohe_features_train.shape[0]/len(data)*100:.1f}%')\n",
    "print(f'Размер валидационной выборки: {ohe_features_valid.shape[0]} | {ohe_features_valid.shape[0]/len(data)*100:.1f}%')\n",
    "print(f'Размер тестовой выборки: {ohe_features_test.shape[0]} | {ohe_features_test.shape[0]/len(data)*100:.1f}%')"
   ]
  },
  {
   "cell_type": "markdown",
   "metadata": {},
   "source": [
    "<div class=\"alert alert-block alert-info\">\n",
    "<b>Изменения:</b> сделал разбивку данных на тренировочную, тестовую и валидационную в соотношении 3|1|1\n",
    "</div>"
   ]
  },
  {
   "cell_type": "markdown",
   "metadata": {},
   "source": [
    "### Разбивка данных с кодировкой OE"
   ]
  },
  {
   "cell_type": "code",
   "execution_count": 71,
   "metadata": {},
   "outputs": [],
   "source": [
    "data_oe = data.copy()"
   ]
  },
  {
   "cell_type": "code",
   "execution_count": 72,
   "metadata": {},
   "outputs": [],
   "source": [
    "# разбивка данных на тренировочную, валидационную, тестовую выборку в отношении 3|1|1 для кодировки OE\n",
    "oe_train_data, oe_other_data = train_test_split(data_oe, test_size=0.4, random_state=160891)\n",
    "oe_valid_data, oe_test_data = train_test_split(oe_other_data, test_size=0.5, random_state=160891)"
   ]
  },
  {
   "cell_type": "code",
   "execution_count": 73,
   "metadata": {},
   "outputs": [],
   "source": [
    "oe_features_train = oe_train_data.drop(['price'], axis=1)\n",
    "oe_features_valid = oe_valid_data.drop(['price'], axis=1)\n",
    "oe_features_test = oe_test_data.drop(['price'], axis=1)\n",
    "oe_target_train = oe_train_data['price']\n",
    "oe_target_valid = oe_valid_data['price']\n",
    "oe_target_test = oe_test_data['price']"
   ]
  },
  {
   "cell_type": "code",
   "execution_count": 74,
   "metadata": {},
   "outputs": [
    {
     "data": {
      "text/html": [
       "<style>#sk-container-id-1 {color: black;background-color: white;}#sk-container-id-1 pre{padding: 0;}#sk-container-id-1 div.sk-toggleable {background-color: white;}#sk-container-id-1 label.sk-toggleable__label {cursor: pointer;display: block;width: 100%;margin-bottom: 0;padding: 0.3em;box-sizing: border-box;text-align: center;}#sk-container-id-1 label.sk-toggleable__label-arrow:before {content: \"▸\";float: left;margin-right: 0.25em;color: #696969;}#sk-container-id-1 label.sk-toggleable__label-arrow:hover:before {color: black;}#sk-container-id-1 div.sk-estimator:hover label.sk-toggleable__label-arrow:before {color: black;}#sk-container-id-1 div.sk-toggleable__content {max-height: 0;max-width: 0;overflow: hidden;text-align: left;background-color: #f0f8ff;}#sk-container-id-1 div.sk-toggleable__content pre {margin: 0.2em;color: black;border-radius: 0.25em;background-color: #f0f8ff;}#sk-container-id-1 input.sk-toggleable__control:checked~div.sk-toggleable__content {max-height: 200px;max-width: 100%;overflow: auto;}#sk-container-id-1 input.sk-toggleable__control:checked~label.sk-toggleable__label-arrow:before {content: \"▾\";}#sk-container-id-1 div.sk-estimator input.sk-toggleable__control:checked~label.sk-toggleable__label {background-color: #d4ebff;}#sk-container-id-1 div.sk-label input.sk-toggleable__control:checked~label.sk-toggleable__label {background-color: #d4ebff;}#sk-container-id-1 input.sk-hidden--visually {border: 0;clip: rect(1px 1px 1px 1px);clip: rect(1px, 1px, 1px, 1px);height: 1px;margin: -1px;overflow: hidden;padding: 0;position: absolute;width: 1px;}#sk-container-id-1 div.sk-estimator {font-family: monospace;background-color: #f0f8ff;border: 1px dotted black;border-radius: 0.25em;box-sizing: border-box;margin-bottom: 0.5em;}#sk-container-id-1 div.sk-estimator:hover {background-color: #d4ebff;}#sk-container-id-1 div.sk-parallel-item::after {content: \"\";width: 100%;border-bottom: 1px solid gray;flex-grow: 1;}#sk-container-id-1 div.sk-label:hover label.sk-toggleable__label {background-color: #d4ebff;}#sk-container-id-1 div.sk-serial::before {content: \"\";position: absolute;border-left: 1px solid gray;box-sizing: border-box;top: 0;bottom: 0;left: 50%;z-index: 0;}#sk-container-id-1 div.sk-serial {display: flex;flex-direction: column;align-items: center;background-color: white;padding-right: 0.2em;padding-left: 0.2em;position: relative;}#sk-container-id-1 div.sk-item {position: relative;z-index: 1;}#sk-container-id-1 div.sk-parallel {display: flex;align-items: stretch;justify-content: center;background-color: white;position: relative;}#sk-container-id-1 div.sk-item::before, #sk-container-id-1 div.sk-parallel-item::before {content: \"\";position: absolute;border-left: 1px solid gray;box-sizing: border-box;top: 0;bottom: 0;left: 50%;z-index: -1;}#sk-container-id-1 div.sk-parallel-item {display: flex;flex-direction: column;z-index: 1;position: relative;background-color: white;}#sk-container-id-1 div.sk-parallel-item:first-child::after {align-self: flex-end;width: 50%;}#sk-container-id-1 div.sk-parallel-item:last-child::after {align-self: flex-start;width: 50%;}#sk-container-id-1 div.sk-parallel-item:only-child::after {width: 0;}#sk-container-id-1 div.sk-dashed-wrapped {border: 1px dashed gray;margin: 0 0.4em 0.5em 0.4em;box-sizing: border-box;padding-bottom: 0.4em;background-color: white;}#sk-container-id-1 div.sk-label label {font-family: monospace;font-weight: bold;display: inline-block;line-height: 1.2em;}#sk-container-id-1 div.sk-label-container {text-align: center;}#sk-container-id-1 div.sk-container {/* jupyter's `normalize.less` sets `[hidden] { display: none; }` but bootstrap.min.css set `[hidden] { display: none !important; }` so we also need the `!important` here to be able to override the default hidden behavior on the sphinx rendered scikit-learn.org. See: https://github.com/scikit-learn/scikit-learn/issues/21755 */display: inline-block !important;position: relative;}#sk-container-id-1 div.sk-text-repr-fallback {display: none;}</style><div id=\"sk-container-id-1\" class=\"sk-top-container\"><div class=\"sk-text-repr-fallback\"><pre>OrdinalEncoder()</pre><b>In a Jupyter environment, please rerun this cell to show the HTML representation or trust the notebook. <br />On GitHub, the HTML representation is unable to render, please try loading this page with nbviewer.org.</b></div><div class=\"sk-container\" hidden><div class=\"sk-item\"><div class=\"sk-estimator sk-toggleable\"><input class=\"sk-toggleable__control sk-hidden--visually\" id=\"sk-estimator-id-1\" type=\"checkbox\" checked><label for=\"sk-estimator-id-1\" class=\"sk-toggleable__label sk-toggleable__label-arrow\">OrdinalEncoder</label><div class=\"sk-toggleable__content\"><pre>OrdinalEncoder()</pre></div></div></div></div></div>"
      ],
      "text/plain": [
       "OrdinalEncoder()"
      ]
     },
     "execution_count": 74,
     "metadata": {},
     "output_type": "execute_result"
    }
   ],
   "source": [
    "encoder = OrdinalEncoder()\n",
    "encoder.fit(oe_features_train[['vehicle_type', 'gearbox', 'model', 'fuel_type', 'brand', 'repaired']])"
   ]
  },
  {
   "cell_type": "code",
   "execution_count": 75,
   "metadata": {},
   "outputs": [],
   "source": [
    "oe_features_train[['vehicle_type', 'gearbox', 'model', 'fuel_type', 'brand', 'repaired']] = encoder.transform(oe_features_train[['vehicle_type', 'gearbox', 'model', 'fuel_type', 'brand', 'repaired']])\n",
    "oe_features_valid[['vehicle_type', 'gearbox', 'model', 'fuel_type', 'brand', 'repaired']] = encoder.transform(oe_features_valid[['vehicle_type', 'gearbox', 'model', 'fuel_type', 'brand', 'repaired']])\n",
    "oe_features_test[['vehicle_type', 'gearbox', 'model', 'fuel_type', 'brand', 'repaired']] = encoder.transform(oe_features_test[['vehicle_type', 'gearbox', 'model', 'fuel_type', 'brand', 'repaired']])"
   ]
  },
  {
   "cell_type": "code",
   "execution_count": 76,
   "metadata": {},
   "outputs": [
    {
     "name": "stdout",
     "output_type": "stream",
     "text": [
      "Размер тренирующей выборки: 206158 | 60.0%\n",
      "Размер валидационной выборки: 68719 | 20.0%\n",
      "Размер тестовой выборки: 68720 | 20.0%\n"
     ]
    }
   ],
   "source": [
    "print(f'Размер тренирующей выборки: {oe_features_train.shape[0]} | {oe_features_train.shape[0]/len(data)*100:.1f}%')\n",
    "print(f'Размер валидационной выборки: {oe_features_valid.shape[0]} | {oe_features_valid.shape[0]/len(data)*100:.1f}%')\n",
    "print(f'Размер тестовой выборки: {oe_features_test.shape[0]} | {oe_features_test.shape[0]/len(data)*100:.1f}%')"
   ]
  },
  {
   "cell_type": "markdown",
   "metadata": {},
   "source": [
    "<div class=\"alert alert-block alert-info\">\n",
    "<b>Изменения v2:</b> сделал 2 копии выборок для кодироки OrdinalEncoder (для модели rfr) и (для модели градиентного бустинга), затем сделал разбивку данных в соотношениях 3|1|1 и применил кодировки.\n",
    "</div>"
   ]
  },
  {
   "cell_type": "code",
   "execution_count": 77,
   "metadata": {
    "tags": []
   },
   "outputs": [],
   "source": [
    "#закоментировал после первого ревью\n",
    "# #кодирования данных в числовые значения для модели линейной регрессии\n",
    "# #кодировка данных типа кузова\n",
    "# vehicle_type_encoder = pd.DataFrame({\n",
    "#     'vehicle_type': features_train.vehicle_type,\n",
    "#     'target': target_train\n",
    "# }).groupby('vehicle_type').target.mean()\n",
    "# #кодировка данных типа коробки передач\n",
    "# gearbox_encoder = pd.DataFrame({\n",
    "#     'gearbox': features_train.gearbox,\n",
    "#     'target': target_train\n",
    "# }).groupby('gearbox').target.mean()\n",
    "# #кодировка данных модели машины\n",
    "# model_encoder = pd.DataFrame({\n",
    "#     'model': features_train.model,\n",
    "#     'target': target_train\n",
    "# }).groupby('model').target.mean()\n",
    "# # #кодировка данных типа топлива\n",
    "# fuel_type_encoder = pd.DataFrame({\n",
    "#     'fuel_type': features_train.fuel_type,\n",
    "#     'target': target_train\n",
    "# }).groupby('fuel_type').target.mean()\n",
    "# #кодировка данных бренда\n",
    "# brand_encoder = pd.DataFrame({\n",
    "#     'brand': features_train.brand,\n",
    "#     'target': target_train\n",
    "# }).groupby('brand').target.mean()\n",
    "# #кодировка данных состояния ремонта\n",
    "# repaired_encoder = pd.DataFrame({\n",
    "#     'repaired': features_train.repaired,\n",
    "#     'target': target_train\n",
    "# }).groupby('repaired').target.mean()"
   ]
  },
  {
   "cell_type": "code",
   "execution_count": 78,
   "metadata": {},
   "outputs": [],
   "source": [
    "#закоментировал после первого ревью\n",
    "# #закодируем данные в цикле\n",
    "# encoder_dict = [features_train, features_test]\n",
    "# for encod in encoder_dict:\n",
    "#     encod.vehicle_type = encod.vehicle_type.map(vehicle_type_encoder)\n",
    "#     encod.gearbox = encod.gearbox.map(gearbox_encoder)\n",
    "#     encod.model = encod.model.map(model_encoder)\n",
    "#     encod.fuel_type = encod.fuel_type.map(fuel_type_encoder)\n",
    "#     encod.brand = encod.brand.map(brand_encoder)\n",
    "#     encod.repaired = encod.repaired.map(repaired_encoder)"
   ]
  },
  {
   "cell_type": "markdown",
   "metadata": {},
   "source": [
    "<div class=\"alert alert-block alert-danger\">\n",
    "<b>❌ Замечание:</b>\n",
    "\n",
    "Кодировать данные стоит после разбиения на выборки.\n",
    "\n",
    "Кодирование переменных до разделения на обучающий и тестовый наборы может привести к \"утечке данных\". Это происходит потому, что кодирование во всем наборе данных, включая тестовый набор, может позволить модели запомнить целевые значения в тестовом наборе, которые не являются репрезентативными для реальных данных, с которыми модель еще не сталкивалась. Это может привести к чрезмерной подгонке и дать слишком оптимистичную оценку эффективности модели. Важно сначала разделить данные на обучающий и тестовый наборы, а затем выполнить кодирование, чтобы предотвратить утечку данных.\n",
    "</div>"
   ]
  },
  {
   "cell_type": "markdown",
   "metadata": {},
   "source": [
    "<div class=\"alert alert-block alert-success\">\n",
    "<b>V2 ✔️ Успешно исправлено</b>\n",
    "</div>"
   ]
  },
  {
   "cell_type": "markdown",
   "metadata": {},
   "source": [
    "<div class=\"alert alert-block alert-info\">\n",
    "<b>Комментарий студента:</b> кодировка произведена только на данных `train`, в цикле применил кодировку к `train` и `test`, просто что бы руками не писать дважды\n",
    "</div>"
   ]
  },
  {
   "cell_type": "markdown",
   "metadata": {
    "tags": []
   },
   "source": [
    "## Случайный лес регрессии"
   ]
  },
  {
   "cell_type": "markdown",
   "metadata": {},
   "source": [
    "<div class=\"alert alert-block alert-info\">\n",
    "<b>Комментарий ревьюера:</b>\n",
    "\n",
    "Линейная регрессия это модель LinearRegression)\n",
    "</div>"
   ]
  },
  {
   "cell_type": "markdown",
   "metadata": {},
   "source": [
    "<div class=\"alert alert-block alert-info\">\n",
    "<b>Изменения:</b> изменил наименование\n",
    "</div>"
   ]
  },
  {
   "cell_type": "markdown",
   "metadata": {},
   "source": [
    "### Базовая модель без параметров"
   ]
  },
  {
   "cell_type": "code",
   "execution_count": 79,
   "metadata": {},
   "outputs": [],
   "source": [
    "model_rfr_prime = RandomForestRegressor()"
   ]
  },
  {
   "cell_type": "code",
   "execution_count": 80,
   "metadata": {},
   "outputs": [
    {
     "name": "stdout",
     "output_type": "stream",
     "text": [
      "RMSE score: 1767.6646237308958\n",
      "CPU times: user 35.1 s, sys: 540 ms, total: 35.6 s\n",
      "Wall time: 35.7 s\n"
     ]
    }
   ],
   "source": [
    "%%time\n",
    "model_rfr_prime = RandomForestRegressor()\n",
    "model_rfr_prime.fit(oe_features_train, oe_target_train)\n",
    "predictions_prime = model_rfr_prime.predict(oe_features_test)\n",
    "print(f'RMSE score: {rmse(oe_target_test, predictions_prime, squared=False)}')"
   ]
  },
  {
   "cell_type": "markdown",
   "metadata": {},
   "source": [
    "### Подбор параметров для Леса регрессии"
   ]
  },
  {
   "cell_type": "code",
   "execution_count": 81,
   "metadata": {},
   "outputs": [],
   "source": [
    "model_rfr = RandomForestRegressor()\n",
    "# создадим библиотеку параметров\n",
    "param_grid_rfr = { \n",
    "    'n_estimators' : [100, 150, 200],\n",
    "    'min_samples_leaf' : [1, 2, 3],\n",
    "    'max_depth' : [1, 3, 7]\n",
    "}"
   ]
  },
  {
   "cell_type": "code",
   "execution_count": 82,
   "metadata": {},
   "outputs": [],
   "source": [
    "# %%time\n",
    "# CV_model_rfr = GridSearchCV(estimator=model_rfr, param_grid=param_grid_rfr, cv=3, scoring='neg_root_mean_squared_error', verbose=3)\n",
    "# CV_model_rfr.fit(oe_features_train, oe_target_train)"
   ]
  },
  {
   "cell_type": "code",
   "execution_count": 83,
   "metadata": {},
   "outputs": [],
   "source": [
    "# CV_model_rfr.best_estimator_"
   ]
  },
  {
   "cell_type": "markdown",
   "metadata": {},
   "source": [
    "best_etimator_rf = max_depth=7, min_samples_leaf=2, n_estimators=150"
   ]
  },
  {
   "cell_type": "markdown",
   "metadata": {},
   "source": [
    "<div class=\"alert alert-block alert-success\">\n",
    "<b>✔️ Успех:</b> \n",
    "\n",
    "Модель обучена корректно 👍\n",
    "</div>"
   ]
  },
  {
   "cell_type": "code",
   "execution_count": 84,
   "metadata": {},
   "outputs": [
    {
     "name": "stdout",
     "output_type": "stream",
     "text": [
      "CPU times: user 10 µs, sys: 0 ns, total: 10 µs\n",
      "Wall time: 11.9 µs\n"
     ]
    }
   ],
   "source": [
    "%%time\n",
    "model = RandomForestRegressor(max_depth=7, min_samples_leaf=2, n_estimators=150)"
   ]
  },
  {
   "cell_type": "code",
   "execution_count": 85,
   "metadata": {},
   "outputs": [
    {
     "name": "stdout",
     "output_type": "stream",
     "text": [
      "CPU times: user 18.5 s, sys: 75.5 ms, total: 18.5 s\n",
      "Wall time: 18.5 s\n"
     ]
    },
    {
     "data": {
      "text/html": [
       "<style>#sk-container-id-2 {color: black;background-color: white;}#sk-container-id-2 pre{padding: 0;}#sk-container-id-2 div.sk-toggleable {background-color: white;}#sk-container-id-2 label.sk-toggleable__label {cursor: pointer;display: block;width: 100%;margin-bottom: 0;padding: 0.3em;box-sizing: border-box;text-align: center;}#sk-container-id-2 label.sk-toggleable__label-arrow:before {content: \"▸\";float: left;margin-right: 0.25em;color: #696969;}#sk-container-id-2 label.sk-toggleable__label-arrow:hover:before {color: black;}#sk-container-id-2 div.sk-estimator:hover label.sk-toggleable__label-arrow:before {color: black;}#sk-container-id-2 div.sk-toggleable__content {max-height: 0;max-width: 0;overflow: hidden;text-align: left;background-color: #f0f8ff;}#sk-container-id-2 div.sk-toggleable__content pre {margin: 0.2em;color: black;border-radius: 0.25em;background-color: #f0f8ff;}#sk-container-id-2 input.sk-toggleable__control:checked~div.sk-toggleable__content {max-height: 200px;max-width: 100%;overflow: auto;}#sk-container-id-2 input.sk-toggleable__control:checked~label.sk-toggleable__label-arrow:before {content: \"▾\";}#sk-container-id-2 div.sk-estimator input.sk-toggleable__control:checked~label.sk-toggleable__label {background-color: #d4ebff;}#sk-container-id-2 div.sk-label input.sk-toggleable__control:checked~label.sk-toggleable__label {background-color: #d4ebff;}#sk-container-id-2 input.sk-hidden--visually {border: 0;clip: rect(1px 1px 1px 1px);clip: rect(1px, 1px, 1px, 1px);height: 1px;margin: -1px;overflow: hidden;padding: 0;position: absolute;width: 1px;}#sk-container-id-2 div.sk-estimator {font-family: monospace;background-color: #f0f8ff;border: 1px dotted black;border-radius: 0.25em;box-sizing: border-box;margin-bottom: 0.5em;}#sk-container-id-2 div.sk-estimator:hover {background-color: #d4ebff;}#sk-container-id-2 div.sk-parallel-item::after {content: \"\";width: 100%;border-bottom: 1px solid gray;flex-grow: 1;}#sk-container-id-2 div.sk-label:hover label.sk-toggleable__label {background-color: #d4ebff;}#sk-container-id-2 div.sk-serial::before {content: \"\";position: absolute;border-left: 1px solid gray;box-sizing: border-box;top: 0;bottom: 0;left: 50%;z-index: 0;}#sk-container-id-2 div.sk-serial {display: flex;flex-direction: column;align-items: center;background-color: white;padding-right: 0.2em;padding-left: 0.2em;position: relative;}#sk-container-id-2 div.sk-item {position: relative;z-index: 1;}#sk-container-id-2 div.sk-parallel {display: flex;align-items: stretch;justify-content: center;background-color: white;position: relative;}#sk-container-id-2 div.sk-item::before, #sk-container-id-2 div.sk-parallel-item::before {content: \"\";position: absolute;border-left: 1px solid gray;box-sizing: border-box;top: 0;bottom: 0;left: 50%;z-index: -1;}#sk-container-id-2 div.sk-parallel-item {display: flex;flex-direction: column;z-index: 1;position: relative;background-color: white;}#sk-container-id-2 div.sk-parallel-item:first-child::after {align-self: flex-end;width: 50%;}#sk-container-id-2 div.sk-parallel-item:last-child::after {align-self: flex-start;width: 50%;}#sk-container-id-2 div.sk-parallel-item:only-child::after {width: 0;}#sk-container-id-2 div.sk-dashed-wrapped {border: 1px dashed gray;margin: 0 0.4em 0.5em 0.4em;box-sizing: border-box;padding-bottom: 0.4em;background-color: white;}#sk-container-id-2 div.sk-label label {font-family: monospace;font-weight: bold;display: inline-block;line-height: 1.2em;}#sk-container-id-2 div.sk-label-container {text-align: center;}#sk-container-id-2 div.sk-container {/* jupyter's `normalize.less` sets `[hidden] { display: none; }` but bootstrap.min.css set `[hidden] { display: none !important; }` so we also need the `!important` here to be able to override the default hidden behavior on the sphinx rendered scikit-learn.org. See: https://github.com/scikit-learn/scikit-learn/issues/21755 */display: inline-block !important;position: relative;}#sk-container-id-2 div.sk-text-repr-fallback {display: none;}</style><div id=\"sk-container-id-2\" class=\"sk-top-container\"><div class=\"sk-text-repr-fallback\"><pre>RandomForestRegressor(max_depth=7, min_samples_leaf=2, n_estimators=150)</pre><b>In a Jupyter environment, please rerun this cell to show the HTML representation or trust the notebook. <br />On GitHub, the HTML representation is unable to render, please try loading this page with nbviewer.org.</b></div><div class=\"sk-container\" hidden><div class=\"sk-item\"><div class=\"sk-estimator sk-toggleable\"><input class=\"sk-toggleable__control sk-hidden--visually\" id=\"sk-estimator-id-2\" type=\"checkbox\" checked><label for=\"sk-estimator-id-2\" class=\"sk-toggleable__label sk-toggleable__label-arrow\">RandomForestRegressor</label><div class=\"sk-toggleable__content\"><pre>RandomForestRegressor(max_depth=7, min_samples_leaf=2, n_estimators=150)</pre></div></div></div></div></div>"
      ],
      "text/plain": [
       "RandomForestRegressor(max_depth=7, min_samples_leaf=2, n_estimators=150)"
      ]
     },
     "execution_count": 85,
     "metadata": {},
     "output_type": "execute_result"
    }
   ],
   "source": [
    "%%time\n",
    "model.fit(oe_features_train, oe_target_train)"
   ]
  },
  {
   "cell_type": "code",
   "execution_count": 86,
   "metadata": {},
   "outputs": [
    {
     "name": "stdout",
     "output_type": "stream",
     "text": [
      "RMSE score: 2272.15106689761\n",
      "CPU times: user 352 ms, sys: 2.98 ms, total: 355 ms\n",
      "Wall time: 355 ms\n"
     ]
    }
   ],
   "source": [
    "%%time\n",
    "predictions = model.predict(oe_features_test)\n",
    "print(f'RMSE score: {rmse(oe_target_test, predictions, squared=False)}')"
   ]
  },
  {
   "cell_type": "markdown",
   "metadata": {},
   "source": [
    "<div class=\"alert alert-block alert-danger\">\n",
    "<b>❌ Замечание:</b>\n",
    "\n",
    "Для моделей, основанных на деревьях решений, лучше использовать порядковое кодирование (OrdinalEncoder). Это должно ускорить их работу. Так как при большом количестве признаков, модель будет долго искать оптимальный сплит.\n",
    "</div>"
   ]
  },
  {
   "cell_type": "markdown",
   "metadata": {},
   "source": [
    "<div class=\"alert alert-block alert-success\">\n",
    "<b>V2 ✔️ Успешно исправлено</b>\n",
    "</div>"
   ]
  },
  {
   "cell_type": "markdown",
   "metadata": {},
   "source": [
    "```python\n",
    "# порядковое кодирование (для \"деревянных моделей\")\n",
    "encoder = OrdinalEncoder(handle_unknown='use_encoded_value', unknown_value=9999)\n",
    "cat_columns = df.select_dtypes(include=['object']).columns # название датафрейма может отличаться\n",
    "encoder.fit(features_train[cat_columns])\n",
    "\n",
    "features_train_ord = features_train.copy()\n",
    "features_valid_ord = features_valid.copy()\n",
    "features_test_ord = features_test.copy()\n",
    "\n",
    "features_train_ord[cat_columns] = encoder.transform(features_train_ord[cat_columns])\n",
    "features_valid_ord[cat_columns] = encoder.transform(features_valid_ord[cat_columns])\n",
    "features_test_ord[cat_columns] = encoder.transform(features_test_ord[cat_columns])\n",
    "```"
   ]
  },
  {
   "cell_type": "markdown",
   "metadata": {},
   "source": [
    "<div class=\"alert alert-block alert-info\">\n",
    "<b>Изменения:</b> смена кодироки значительно изменила скорость обучения, 52 минуты в первой попытке против 14 минут во второй попытке с учетом увеличения количества гиперапараметров\n",
    "</div>"
   ]
  },
  {
   "cell_type": "markdown",
   "metadata": {},
   "source": [
    "## Бустинг с lightGBM"
   ]
  },
  {
   "cell_type": "markdown",
   "metadata": {},
   "source": [
    "### Базовая модель без гиперпараметров"
   ]
  },
  {
   "cell_type": "code",
   "execution_count": 87,
   "metadata": {},
   "outputs": [
    {
     "name": "stdout",
     "output_type": "stream",
     "text": [
      "CPU times: user 2.88 s, sys: 621 ms, total: 3.51 s\n",
      "Wall time: 931 ms\n"
     ]
    },
    {
     "data": {
      "text/html": [
       "<style>#sk-container-id-3 {color: black;background-color: white;}#sk-container-id-3 pre{padding: 0;}#sk-container-id-3 div.sk-toggleable {background-color: white;}#sk-container-id-3 label.sk-toggleable__label {cursor: pointer;display: block;width: 100%;margin-bottom: 0;padding: 0.3em;box-sizing: border-box;text-align: center;}#sk-container-id-3 label.sk-toggleable__label-arrow:before {content: \"▸\";float: left;margin-right: 0.25em;color: #696969;}#sk-container-id-3 label.sk-toggleable__label-arrow:hover:before {color: black;}#sk-container-id-3 div.sk-estimator:hover label.sk-toggleable__label-arrow:before {color: black;}#sk-container-id-3 div.sk-toggleable__content {max-height: 0;max-width: 0;overflow: hidden;text-align: left;background-color: #f0f8ff;}#sk-container-id-3 div.sk-toggleable__content pre {margin: 0.2em;color: black;border-radius: 0.25em;background-color: #f0f8ff;}#sk-container-id-3 input.sk-toggleable__control:checked~div.sk-toggleable__content {max-height: 200px;max-width: 100%;overflow: auto;}#sk-container-id-3 input.sk-toggleable__control:checked~label.sk-toggleable__label-arrow:before {content: \"▾\";}#sk-container-id-3 div.sk-estimator input.sk-toggleable__control:checked~label.sk-toggleable__label {background-color: #d4ebff;}#sk-container-id-3 div.sk-label input.sk-toggleable__control:checked~label.sk-toggleable__label {background-color: #d4ebff;}#sk-container-id-3 input.sk-hidden--visually {border: 0;clip: rect(1px 1px 1px 1px);clip: rect(1px, 1px, 1px, 1px);height: 1px;margin: -1px;overflow: hidden;padding: 0;position: absolute;width: 1px;}#sk-container-id-3 div.sk-estimator {font-family: monospace;background-color: #f0f8ff;border: 1px dotted black;border-radius: 0.25em;box-sizing: border-box;margin-bottom: 0.5em;}#sk-container-id-3 div.sk-estimator:hover {background-color: #d4ebff;}#sk-container-id-3 div.sk-parallel-item::after {content: \"\";width: 100%;border-bottom: 1px solid gray;flex-grow: 1;}#sk-container-id-3 div.sk-label:hover label.sk-toggleable__label {background-color: #d4ebff;}#sk-container-id-3 div.sk-serial::before {content: \"\";position: absolute;border-left: 1px solid gray;box-sizing: border-box;top: 0;bottom: 0;left: 50%;z-index: 0;}#sk-container-id-3 div.sk-serial {display: flex;flex-direction: column;align-items: center;background-color: white;padding-right: 0.2em;padding-left: 0.2em;position: relative;}#sk-container-id-3 div.sk-item {position: relative;z-index: 1;}#sk-container-id-3 div.sk-parallel {display: flex;align-items: stretch;justify-content: center;background-color: white;position: relative;}#sk-container-id-3 div.sk-item::before, #sk-container-id-3 div.sk-parallel-item::before {content: \"\";position: absolute;border-left: 1px solid gray;box-sizing: border-box;top: 0;bottom: 0;left: 50%;z-index: -1;}#sk-container-id-3 div.sk-parallel-item {display: flex;flex-direction: column;z-index: 1;position: relative;background-color: white;}#sk-container-id-3 div.sk-parallel-item:first-child::after {align-self: flex-end;width: 50%;}#sk-container-id-3 div.sk-parallel-item:last-child::after {align-self: flex-start;width: 50%;}#sk-container-id-3 div.sk-parallel-item:only-child::after {width: 0;}#sk-container-id-3 div.sk-dashed-wrapped {border: 1px dashed gray;margin: 0 0.4em 0.5em 0.4em;box-sizing: border-box;padding-bottom: 0.4em;background-color: white;}#sk-container-id-3 div.sk-label label {font-family: monospace;font-weight: bold;display: inline-block;line-height: 1.2em;}#sk-container-id-3 div.sk-label-container {text-align: center;}#sk-container-id-3 div.sk-container {/* jupyter's `normalize.less` sets `[hidden] { display: none; }` but bootstrap.min.css set `[hidden] { display: none !important; }` so we also need the `!important` here to be able to override the default hidden behavior on the sphinx rendered scikit-learn.org. See: https://github.com/scikit-learn/scikit-learn/issues/21755 */display: inline-block !important;position: relative;}#sk-container-id-3 div.sk-text-repr-fallback {display: none;}</style><div id=\"sk-container-id-3\" class=\"sk-top-container\"><div class=\"sk-text-repr-fallback\"><pre>LGBMRegressor(random_state=160891)</pre><b>In a Jupyter environment, please rerun this cell to show the HTML representation or trust the notebook. <br />On GitHub, the HTML representation is unable to render, please try loading this page with nbviewer.org.</b></div><div class=\"sk-container\" hidden><div class=\"sk-item\"><div class=\"sk-estimator sk-toggleable\"><input class=\"sk-toggleable__control sk-hidden--visually\" id=\"sk-estimator-id-3\" type=\"checkbox\" checked><label for=\"sk-estimator-id-3\" class=\"sk-toggleable__label sk-toggleable__label-arrow\">LGBMRegressor</label><div class=\"sk-toggleable__content\"><pre>LGBMRegressor(random_state=160891)</pre></div></div></div></div></div>"
      ],
      "text/plain": [
       "LGBMRegressor(random_state=160891)"
      ]
     },
     "execution_count": 87,
     "metadata": {},
     "output_type": "execute_result"
    }
   ],
   "source": [
    "%%time\n",
    "model_lgb_prime = lgb.LGBMRegressor(random_state=160891)\n",
    "model_lgb_prime.fit(ohe_features_train, ohe_target_train)"
   ]
  },
  {
   "cell_type": "code",
   "execution_count": 88,
   "metadata": {},
   "outputs": [],
   "source": [
    "predictions_lgb_prime = model_lgb_prime.predict(ohe_features_test)"
   ]
  },
  {
   "cell_type": "code",
   "execution_count": 89,
   "metadata": {},
   "outputs": [
    {
     "name": "stdout",
     "output_type": "stream",
     "text": [
      "RMSE score: 1835.1959657674572\n"
     ]
    }
   ],
   "source": [
    "print(f'RMSE score: {rmse(ohe_target_test, predictions_lgb_prime, squared=False)}')"
   ]
  },
  {
   "cell_type": "markdown",
   "metadata": {},
   "source": [
    "### Подбор параметров для Градиентного бустинга"
   ]
  },
  {
   "cell_type": "code",
   "execution_count": 90,
   "metadata": {},
   "outputs": [],
   "source": [
    "param_grid_lgb = {'num_leaves': [150, 200, 250, 300, 350], \n",
    "                 'max_depth': [1, 3, 5, 7, 10], \n",
    "                 'n_estimators' : [10, 30, 50, 80]}"
   ]
  },
  {
   "cell_type": "code",
   "execution_count": 91,
   "metadata": {},
   "outputs": [],
   "source": [
    "# %%time\n",
    "# model_lgb_cv = lgb.LGBMRegressor(random_state=160891)\n",
    "\n",
    "# model_lgb_cv = GridSearchCV(estimator=model_lgb_cv,\n",
    "#                           param_grid=param_grid_lgb,\n",
    "#                           scoring='neg_root_mean_squared_error',\n",
    "#                           cv=3,\n",
    "#                           verbose=3)\n",
    "\n",
    "# model_lgb_cv.fit(ohe_features_train, ohe_target_train)"
   ]
  },
  {
   "cell_type": "code",
   "execution_count": 92,
   "metadata": {},
   "outputs": [],
   "source": [
    "#model_lgb_cv.best_params_"
   ]
  },
  {
   "cell_type": "markdown",
   "metadata": {},
   "source": [
    "Подбор параметров через GridSearchCV подобрал параметры:\n",
    "- n_estimators = 80\n",
    "- num_leaves = 350  \n",
    "- max_depth = 10\n",
    "Выполнение подбора совокупно завершено за 2 минуты"
   ]
  },
  {
   "cell_type": "markdown",
   "metadata": {},
   "source": [
    "<div class=\"alert alert-block alert-success\">\n",
    "<b>✔️ Успех:</b> \n",
    "\n",
    "Модель обучена корректно 👍\n",
    "</div>"
   ]
  },
  {
   "cell_type": "code",
   "execution_count": 93,
   "metadata": {},
   "outputs": [
    {
     "name": "stdout",
     "output_type": "stream",
     "text": [
      "CPU times: user 5.59 s, sys: 1.43 s, total: 7.02 s\n",
      "Wall time: 1.06 s\n"
     ]
    },
    {
     "data": {
      "text/html": [
       "<style>#sk-container-id-4 {color: black;background-color: white;}#sk-container-id-4 pre{padding: 0;}#sk-container-id-4 div.sk-toggleable {background-color: white;}#sk-container-id-4 label.sk-toggleable__label {cursor: pointer;display: block;width: 100%;margin-bottom: 0;padding: 0.3em;box-sizing: border-box;text-align: center;}#sk-container-id-4 label.sk-toggleable__label-arrow:before {content: \"▸\";float: left;margin-right: 0.25em;color: #696969;}#sk-container-id-4 label.sk-toggleable__label-arrow:hover:before {color: black;}#sk-container-id-4 div.sk-estimator:hover label.sk-toggleable__label-arrow:before {color: black;}#sk-container-id-4 div.sk-toggleable__content {max-height: 0;max-width: 0;overflow: hidden;text-align: left;background-color: #f0f8ff;}#sk-container-id-4 div.sk-toggleable__content pre {margin: 0.2em;color: black;border-radius: 0.25em;background-color: #f0f8ff;}#sk-container-id-4 input.sk-toggleable__control:checked~div.sk-toggleable__content {max-height: 200px;max-width: 100%;overflow: auto;}#sk-container-id-4 input.sk-toggleable__control:checked~label.sk-toggleable__label-arrow:before {content: \"▾\";}#sk-container-id-4 div.sk-estimator input.sk-toggleable__control:checked~label.sk-toggleable__label {background-color: #d4ebff;}#sk-container-id-4 div.sk-label input.sk-toggleable__control:checked~label.sk-toggleable__label {background-color: #d4ebff;}#sk-container-id-4 input.sk-hidden--visually {border: 0;clip: rect(1px 1px 1px 1px);clip: rect(1px, 1px, 1px, 1px);height: 1px;margin: -1px;overflow: hidden;padding: 0;position: absolute;width: 1px;}#sk-container-id-4 div.sk-estimator {font-family: monospace;background-color: #f0f8ff;border: 1px dotted black;border-radius: 0.25em;box-sizing: border-box;margin-bottom: 0.5em;}#sk-container-id-4 div.sk-estimator:hover {background-color: #d4ebff;}#sk-container-id-4 div.sk-parallel-item::after {content: \"\";width: 100%;border-bottom: 1px solid gray;flex-grow: 1;}#sk-container-id-4 div.sk-label:hover label.sk-toggleable__label {background-color: #d4ebff;}#sk-container-id-4 div.sk-serial::before {content: \"\";position: absolute;border-left: 1px solid gray;box-sizing: border-box;top: 0;bottom: 0;left: 50%;z-index: 0;}#sk-container-id-4 div.sk-serial {display: flex;flex-direction: column;align-items: center;background-color: white;padding-right: 0.2em;padding-left: 0.2em;position: relative;}#sk-container-id-4 div.sk-item {position: relative;z-index: 1;}#sk-container-id-4 div.sk-parallel {display: flex;align-items: stretch;justify-content: center;background-color: white;position: relative;}#sk-container-id-4 div.sk-item::before, #sk-container-id-4 div.sk-parallel-item::before {content: \"\";position: absolute;border-left: 1px solid gray;box-sizing: border-box;top: 0;bottom: 0;left: 50%;z-index: -1;}#sk-container-id-4 div.sk-parallel-item {display: flex;flex-direction: column;z-index: 1;position: relative;background-color: white;}#sk-container-id-4 div.sk-parallel-item:first-child::after {align-self: flex-end;width: 50%;}#sk-container-id-4 div.sk-parallel-item:last-child::after {align-self: flex-start;width: 50%;}#sk-container-id-4 div.sk-parallel-item:only-child::after {width: 0;}#sk-container-id-4 div.sk-dashed-wrapped {border: 1px dashed gray;margin: 0 0.4em 0.5em 0.4em;box-sizing: border-box;padding-bottom: 0.4em;background-color: white;}#sk-container-id-4 div.sk-label label {font-family: monospace;font-weight: bold;display: inline-block;line-height: 1.2em;}#sk-container-id-4 div.sk-label-container {text-align: center;}#sk-container-id-4 div.sk-container {/* jupyter's `normalize.less` sets `[hidden] { display: none; }` but bootstrap.min.css set `[hidden] { display: none !important; }` so we also need the `!important` here to be able to override the default hidden behavior on the sphinx rendered scikit-learn.org. See: https://github.com/scikit-learn/scikit-learn/issues/21755 */display: inline-block !important;position: relative;}#sk-container-id-4 div.sk-text-repr-fallback {display: none;}</style><div id=\"sk-container-id-4\" class=\"sk-top-container\"><div class=\"sk-text-repr-fallback\"><pre>LGBMRegressor(max_depth=10, n_estimators=80, num_leaves=350,\n",
       "              random_state=160891)</pre><b>In a Jupyter environment, please rerun this cell to show the HTML representation or trust the notebook. <br />On GitHub, the HTML representation is unable to render, please try loading this page with nbviewer.org.</b></div><div class=\"sk-container\" hidden><div class=\"sk-item\"><div class=\"sk-estimator sk-toggleable\"><input class=\"sk-toggleable__control sk-hidden--visually\" id=\"sk-estimator-id-4\" type=\"checkbox\" checked><label for=\"sk-estimator-id-4\" class=\"sk-toggleable__label sk-toggleable__label-arrow\">LGBMRegressor</label><div class=\"sk-toggleable__content\"><pre>LGBMRegressor(max_depth=10, n_estimators=80, num_leaves=350,\n",
       "              random_state=160891)</pre></div></div></div></div></div>"
      ],
      "text/plain": [
       "LGBMRegressor(max_depth=10, n_estimators=80, num_leaves=350,\n",
       "              random_state=160891)"
      ]
     },
     "execution_count": 93,
     "metadata": {},
     "output_type": "execute_result"
    }
   ],
   "source": [
    "%%time\n",
    "model_lgb_CV = lgb.LGBMRegressor(random_state=160891, max_depth=10, n_estimators=80, num_leaves=350)\n",
    "model_lgb_CV.fit(ohe_features_train, ohe_target_train)"
   ]
  },
  {
   "cell_type": "code",
   "execution_count": 94,
   "metadata": {},
   "outputs": [
    {
     "name": "stdout",
     "output_type": "stream",
     "text": [
      "CPU times: user 732 ms, sys: 182 ms, total: 914 ms\n",
      "Wall time: 128 ms\n"
     ]
    }
   ],
   "source": [
    "%%time\n",
    "predictions_lgb_cv = model_lgb_CV.predict(ohe_features_test)"
   ]
  },
  {
   "cell_type": "code",
   "execution_count": 95,
   "metadata": {},
   "outputs": [
    {
     "name": "stdout",
     "output_type": "stream",
     "text": [
      "RMSE score: 1752.9069088131123\n"
     ]
    }
   ],
   "source": [
    "print(f'RMSE score: {rmse(ohe_target_test, predictions_lgb_cv, squared=False)}')"
   ]
  },
  {
   "cell_type": "markdown",
   "metadata": {},
   "source": [
    "## Обучение на валидационной выборке"
   ]
  },
  {
   "cell_type": "markdown",
   "metadata": {},
   "source": [
    "Из раздела выше видно, что модель градинтного бустинга показывает лучший результат при более быстром обучении и предсказывании, примением ее к валидационной выборке"
   ]
  },
  {
   "cell_type": "markdown",
   "metadata": {},
   "source": [
    "## Применение RandomForestRegressor на валидационной выборке"
   ]
  },
  {
   "cell_type": "code",
   "execution_count": 96,
   "metadata": {},
   "outputs": [
    {
     "name": "stdout",
     "output_type": "stream",
     "text": [
      "CPU times: user 35.7 s, sys: 535 ms, total: 36.3 s\n",
      "Wall time: 35.1 s\n"
     ]
    },
    {
     "data": {
      "text/html": [
       "<style>#sk-container-id-5 {color: black;background-color: white;}#sk-container-id-5 pre{padding: 0;}#sk-container-id-5 div.sk-toggleable {background-color: white;}#sk-container-id-5 label.sk-toggleable__label {cursor: pointer;display: block;width: 100%;margin-bottom: 0;padding: 0.3em;box-sizing: border-box;text-align: center;}#sk-container-id-5 label.sk-toggleable__label-arrow:before {content: \"▸\";float: left;margin-right: 0.25em;color: #696969;}#sk-container-id-5 label.sk-toggleable__label-arrow:hover:before {color: black;}#sk-container-id-5 div.sk-estimator:hover label.sk-toggleable__label-arrow:before {color: black;}#sk-container-id-5 div.sk-toggleable__content {max-height: 0;max-width: 0;overflow: hidden;text-align: left;background-color: #f0f8ff;}#sk-container-id-5 div.sk-toggleable__content pre {margin: 0.2em;color: black;border-radius: 0.25em;background-color: #f0f8ff;}#sk-container-id-5 input.sk-toggleable__control:checked~div.sk-toggleable__content {max-height: 200px;max-width: 100%;overflow: auto;}#sk-container-id-5 input.sk-toggleable__control:checked~label.sk-toggleable__label-arrow:before {content: \"▾\";}#sk-container-id-5 div.sk-estimator input.sk-toggleable__control:checked~label.sk-toggleable__label {background-color: #d4ebff;}#sk-container-id-5 div.sk-label input.sk-toggleable__control:checked~label.sk-toggleable__label {background-color: #d4ebff;}#sk-container-id-5 input.sk-hidden--visually {border: 0;clip: rect(1px 1px 1px 1px);clip: rect(1px, 1px, 1px, 1px);height: 1px;margin: -1px;overflow: hidden;padding: 0;position: absolute;width: 1px;}#sk-container-id-5 div.sk-estimator {font-family: monospace;background-color: #f0f8ff;border: 1px dotted black;border-radius: 0.25em;box-sizing: border-box;margin-bottom: 0.5em;}#sk-container-id-5 div.sk-estimator:hover {background-color: #d4ebff;}#sk-container-id-5 div.sk-parallel-item::after {content: \"\";width: 100%;border-bottom: 1px solid gray;flex-grow: 1;}#sk-container-id-5 div.sk-label:hover label.sk-toggleable__label {background-color: #d4ebff;}#sk-container-id-5 div.sk-serial::before {content: \"\";position: absolute;border-left: 1px solid gray;box-sizing: border-box;top: 0;bottom: 0;left: 50%;z-index: 0;}#sk-container-id-5 div.sk-serial {display: flex;flex-direction: column;align-items: center;background-color: white;padding-right: 0.2em;padding-left: 0.2em;position: relative;}#sk-container-id-5 div.sk-item {position: relative;z-index: 1;}#sk-container-id-5 div.sk-parallel {display: flex;align-items: stretch;justify-content: center;background-color: white;position: relative;}#sk-container-id-5 div.sk-item::before, #sk-container-id-5 div.sk-parallel-item::before {content: \"\";position: absolute;border-left: 1px solid gray;box-sizing: border-box;top: 0;bottom: 0;left: 50%;z-index: -1;}#sk-container-id-5 div.sk-parallel-item {display: flex;flex-direction: column;z-index: 1;position: relative;background-color: white;}#sk-container-id-5 div.sk-parallel-item:first-child::after {align-self: flex-end;width: 50%;}#sk-container-id-5 div.sk-parallel-item:last-child::after {align-self: flex-start;width: 50%;}#sk-container-id-5 div.sk-parallel-item:only-child::after {width: 0;}#sk-container-id-5 div.sk-dashed-wrapped {border: 1px dashed gray;margin: 0 0.4em 0.5em 0.4em;box-sizing: border-box;padding-bottom: 0.4em;background-color: white;}#sk-container-id-5 div.sk-label label {font-family: monospace;font-weight: bold;display: inline-block;line-height: 1.2em;}#sk-container-id-5 div.sk-label-container {text-align: center;}#sk-container-id-5 div.sk-container {/* jupyter's `normalize.less` sets `[hidden] { display: none; }` but bootstrap.min.css set `[hidden] { display: none !important; }` so we also need the `!important` here to be able to override the default hidden behavior on the sphinx rendered scikit-learn.org. See: https://github.com/scikit-learn/scikit-learn/issues/21755 */display: inline-block !important;position: relative;}#sk-container-id-5 div.sk-text-repr-fallback {display: none;}</style><div id=\"sk-container-id-5\" class=\"sk-top-container\"><div class=\"sk-text-repr-fallback\"><pre>RandomForestRegressor(max_depth=7, min_samples_leaf=2, n_estimators=150)</pre><b>In a Jupyter environment, please rerun this cell to show the HTML representation or trust the notebook. <br />On GitHub, the HTML representation is unable to render, please try loading this page with nbviewer.org.</b></div><div class=\"sk-container\" hidden><div class=\"sk-item\"><div class=\"sk-estimator sk-toggleable\"><input class=\"sk-toggleable__control sk-hidden--visually\" id=\"sk-estimator-id-5\" type=\"checkbox\" checked><label for=\"sk-estimator-id-5\" class=\"sk-toggleable__label sk-toggleable__label-arrow\">RandomForestRegressor</label><div class=\"sk-toggleable__content\"><pre>RandomForestRegressor(max_depth=7, min_samples_leaf=2, n_estimators=150)</pre></div></div></div></div></div>"
      ],
      "text/plain": [
       "RandomForestRegressor(max_depth=7, min_samples_leaf=2, n_estimators=150)"
      ]
     },
     "execution_count": 96,
     "metadata": {},
     "output_type": "execute_result"
    }
   ],
   "source": [
    "%%time\n",
    "model.fit(ohe_features_valid, ohe_target_valid)"
   ]
  },
  {
   "cell_type": "code",
   "execution_count": 97,
   "metadata": {},
   "outputs": [
    {
     "name": "stdout",
     "output_type": "stream",
     "text": [
      "CPU times: user 374 ms, sys: 29.7 ms, total: 404 ms\n",
      "Wall time: 411 ms\n"
     ]
    }
   ],
   "source": [
    "%%time\n",
    "predictions = model.predict(ohe_features_valid)"
   ]
  },
  {
   "cell_type": "code",
   "execution_count": 98,
   "metadata": {},
   "outputs": [
    {
     "name": "stdout",
     "output_type": "stream",
     "text": [
      "RMSE score: 2233.057768926312\n"
     ]
    }
   ],
   "source": [
    "print(f'RMSE score: {rmse(ohe_target_valid, predictions, squared=False)}')"
   ]
  },
  {
   "cell_type": "markdown",
   "metadata": {},
   "source": [
    "## Применение LightGBM на валидационной выборке"
   ]
  },
  {
   "cell_type": "code",
   "execution_count": 99,
   "metadata": {},
   "outputs": [
    {
     "name": "stdout",
     "output_type": "stream",
     "text": [
      "CPU times: user 2.4 s, sys: 407 ms, total: 2.8 s\n",
      "Wall time: 454 ms\n"
     ]
    },
    {
     "data": {
      "text/html": [
       "<style>#sk-container-id-6 {color: black;background-color: white;}#sk-container-id-6 pre{padding: 0;}#sk-container-id-6 div.sk-toggleable {background-color: white;}#sk-container-id-6 label.sk-toggleable__label {cursor: pointer;display: block;width: 100%;margin-bottom: 0;padding: 0.3em;box-sizing: border-box;text-align: center;}#sk-container-id-6 label.sk-toggleable__label-arrow:before {content: \"▸\";float: left;margin-right: 0.25em;color: #696969;}#sk-container-id-6 label.sk-toggleable__label-arrow:hover:before {color: black;}#sk-container-id-6 div.sk-estimator:hover label.sk-toggleable__label-arrow:before {color: black;}#sk-container-id-6 div.sk-toggleable__content {max-height: 0;max-width: 0;overflow: hidden;text-align: left;background-color: #f0f8ff;}#sk-container-id-6 div.sk-toggleable__content pre {margin: 0.2em;color: black;border-radius: 0.25em;background-color: #f0f8ff;}#sk-container-id-6 input.sk-toggleable__control:checked~div.sk-toggleable__content {max-height: 200px;max-width: 100%;overflow: auto;}#sk-container-id-6 input.sk-toggleable__control:checked~label.sk-toggleable__label-arrow:before {content: \"▾\";}#sk-container-id-6 div.sk-estimator input.sk-toggleable__control:checked~label.sk-toggleable__label {background-color: #d4ebff;}#sk-container-id-6 div.sk-label input.sk-toggleable__control:checked~label.sk-toggleable__label {background-color: #d4ebff;}#sk-container-id-6 input.sk-hidden--visually {border: 0;clip: rect(1px 1px 1px 1px);clip: rect(1px, 1px, 1px, 1px);height: 1px;margin: -1px;overflow: hidden;padding: 0;position: absolute;width: 1px;}#sk-container-id-6 div.sk-estimator {font-family: monospace;background-color: #f0f8ff;border: 1px dotted black;border-radius: 0.25em;box-sizing: border-box;margin-bottom: 0.5em;}#sk-container-id-6 div.sk-estimator:hover {background-color: #d4ebff;}#sk-container-id-6 div.sk-parallel-item::after {content: \"\";width: 100%;border-bottom: 1px solid gray;flex-grow: 1;}#sk-container-id-6 div.sk-label:hover label.sk-toggleable__label {background-color: #d4ebff;}#sk-container-id-6 div.sk-serial::before {content: \"\";position: absolute;border-left: 1px solid gray;box-sizing: border-box;top: 0;bottom: 0;left: 50%;z-index: 0;}#sk-container-id-6 div.sk-serial {display: flex;flex-direction: column;align-items: center;background-color: white;padding-right: 0.2em;padding-left: 0.2em;position: relative;}#sk-container-id-6 div.sk-item {position: relative;z-index: 1;}#sk-container-id-6 div.sk-parallel {display: flex;align-items: stretch;justify-content: center;background-color: white;position: relative;}#sk-container-id-6 div.sk-item::before, #sk-container-id-6 div.sk-parallel-item::before {content: \"\";position: absolute;border-left: 1px solid gray;box-sizing: border-box;top: 0;bottom: 0;left: 50%;z-index: -1;}#sk-container-id-6 div.sk-parallel-item {display: flex;flex-direction: column;z-index: 1;position: relative;background-color: white;}#sk-container-id-6 div.sk-parallel-item:first-child::after {align-self: flex-end;width: 50%;}#sk-container-id-6 div.sk-parallel-item:last-child::after {align-self: flex-start;width: 50%;}#sk-container-id-6 div.sk-parallel-item:only-child::after {width: 0;}#sk-container-id-6 div.sk-dashed-wrapped {border: 1px dashed gray;margin: 0 0.4em 0.5em 0.4em;box-sizing: border-box;padding-bottom: 0.4em;background-color: white;}#sk-container-id-6 div.sk-label label {font-family: monospace;font-weight: bold;display: inline-block;line-height: 1.2em;}#sk-container-id-6 div.sk-label-container {text-align: center;}#sk-container-id-6 div.sk-container {/* jupyter's `normalize.less` sets `[hidden] { display: none; }` but bootstrap.min.css set `[hidden] { display: none !important; }` so we also need the `!important` here to be able to override the default hidden behavior on the sphinx rendered scikit-learn.org. See: https://github.com/scikit-learn/scikit-learn/issues/21755 */display: inline-block !important;position: relative;}#sk-container-id-6 div.sk-text-repr-fallback {display: none;}</style><div id=\"sk-container-id-6\" class=\"sk-top-container\"><div class=\"sk-text-repr-fallback\"><pre>LGBMRegressor(max_depth=10, n_estimators=80, num_leaves=350,\n",
       "              random_state=160891)</pre><b>In a Jupyter environment, please rerun this cell to show the HTML representation or trust the notebook. <br />On GitHub, the HTML representation is unable to render, please try loading this page with nbviewer.org.</b></div><div class=\"sk-container\" hidden><div class=\"sk-item\"><div class=\"sk-estimator sk-toggleable\"><input class=\"sk-toggleable__control sk-hidden--visually\" id=\"sk-estimator-id-6\" type=\"checkbox\" checked><label for=\"sk-estimator-id-6\" class=\"sk-toggleable__label sk-toggleable__label-arrow\">LGBMRegressor</label><div class=\"sk-toggleable__content\"><pre>LGBMRegressor(max_depth=10, n_estimators=80, num_leaves=350,\n",
       "              random_state=160891)</pre></div></div></div></div></div>"
      ],
      "text/plain": [
       "LGBMRegressor(max_depth=10, n_estimators=80, num_leaves=350,\n",
       "              random_state=160891)"
      ]
     },
     "execution_count": 99,
     "metadata": {},
     "output_type": "execute_result"
    }
   ],
   "source": [
    "%%time\n",
    "model_lgb_CV.fit(ohe_features_valid, ohe_target_valid)"
   ]
  },
  {
   "cell_type": "code",
   "execution_count": 100,
   "metadata": {},
   "outputs": [
    {
     "name": "stdout",
     "output_type": "stream",
     "text": [
      "CPU times: user 758 ms, sys: 196 ms, total: 955 ms\n",
      "Wall time: 133 ms\n"
     ]
    }
   ],
   "source": [
    "%%time\n",
    "predictions_lgb_cv = model_lgb_CV.predict(ohe_features_valid)"
   ]
  },
  {
   "cell_type": "code",
   "execution_count": 101,
   "metadata": {},
   "outputs": [
    {
     "name": "stdout",
     "output_type": "stream",
     "text": [
      "RMSE score: 1634.473551029479\n"
     ]
    }
   ],
   "source": [
    "print(f'RMSE score: {rmse(ohe_target_valid, predictions_lgb_cv, squared=False)}')"
   ]
  },
  {
   "cell_type": "markdown",
   "metadata": {},
   "source": [
    "<div class=\"alert alert-block alert-info\">\n",
    "<b>Изменения v2:</b> применил модели с лучшими гиперпараметрами к валидационной выборке и внес их в таблицу\n",
    "</div>"
   ]
  },
  {
   "cell_type": "markdown",
   "metadata": {},
   "source": [
    "# Выводы"
   ]
  },
  {
   "cell_type": "markdown",
   "metadata": {},
   "source": [
    "## Общая информация по моделям"
   ]
  },
  {
   "cell_type": "code",
   "execution_count": 102,
   "metadata": {},
   "outputs": [
    {
     "data": {
      "text/html": [
       "<div>\n",
       "<style scoped>\n",
       "    .dataframe tbody tr th:only-of-type {\n",
       "        vertical-align: middle;\n",
       "    }\n",
       "\n",
       "    .dataframe tbody tr th {\n",
       "        vertical-align: top;\n",
       "    }\n",
       "\n",
       "    .dataframe thead th {\n",
       "        text-align: right;\n",
       "    }\n",
       "</style>\n",
       "<table border=\"1\" class=\"dataframe\">\n",
       "  <thead>\n",
       "    <tr style=\"text-align: right;\">\n",
       "      <th></th>\n",
       "      <th>CPU-times</th>\n",
       "      <th>Wall time</th>\n",
       "      <th>RMSE</th>\n",
       "    </tr>\n",
       "  </thead>\n",
       "  <tbody>\n",
       "    <tr>\n",
       "      <th>линейная регрессия: обучение</th>\n",
       "      <td>35.6 s</td>\n",
       "      <td>35 s</td>\n",
       "      <td>--</td>\n",
       "    </tr>\n",
       "    <tr>\n",
       "      <th>линейная регрессия: предсказание</th>\n",
       "      <td>0.355 s</td>\n",
       "      <td>0.372 s</td>\n",
       "      <td>2233.85</td>\n",
       "    </tr>\n",
       "    <tr>\n",
       "      <th>LightGBM: обучение</th>\n",
       "      <td>2.63 s</td>\n",
       "      <td>0.516</td>\n",
       "      <td>--</td>\n",
       "    </tr>\n",
       "    <tr>\n",
       "      <th>LightGBM: предсказание</th>\n",
       "      <td>0.744 s</td>\n",
       "      <td>0.135 s</td>\n",
       "      <td>1634.47</td>\n",
       "    </tr>\n",
       "  </tbody>\n",
       "</table>\n",
       "</div>"
      ],
      "text/plain": [
       "                                 CPU-times Wall time     RMSE\n",
       "линейная регрессия: обучение        35.6 s      35 s       --\n",
       "линейная регрессия: предсказание   0.355 s   0.372 s  2233.85\n",
       "LightGBM: обучение                  2.63 s     0.516       --\n",
       "LightGBM: предсказание             0.744 s   0.135 s  1634.47"
      ]
     },
     "execution_count": 102,
     "metadata": {},
     "output_type": "execute_result"
    }
   ],
   "source": [
    "total_info = [['линейная регрессия: обучение', '35.6 s', '35 s', '--'],\n",
    "             ['линейная регрессия: предсказание', '0.355 s', '0.372 s', '2233.85'],\n",
    "             ['LightGBM: обучение', '2.63 s', '0.516', '--'],\n",
    "             ['LightGBM: предсказание', '0.744 s', '0.135 s', '1634.47']]\n",
    "df = pd.DataFrame(total_info, columns=['модель', 'CPU-times', 'Wall time', 'RMSE'])\n",
    "df = df.set_index('модель')\n",
    "df.index.names = [None]\n",
    "df"
   ]
  },
  {
   "cell_type": "markdown",
   "metadata": {},
   "source": [
    "Модель градиентного бустинга **рекомендована** к внедрению у заказчика как более быстрая и точная модель.  \n",
    "Метрика качества RMSE на валидационной выборке достигнутло значения `1634.47`."
   ]
  },
  {
   "cell_type": "markdown",
   "metadata": {},
   "source": [
    "<div class=\"alert alert-block alert-info\">\n",
    "<b>Изменения:</b> удивительно, что на валидационной выборке метрика лучше, чем на на тестовой, очень похоже на переобучение модели.\n",
    "</div>"
   ]
  },
  {
   "cell_type": "markdown",
   "metadata": {},
   "source": [
    "<div class=\"alert alert-block alert-success\">\n",
    "<b>✔️ Успех:</b>\n",
    "\n",
    "Молодец, что для сравнения моделей заносишь их в общий датафрейм 👍\n",
    "</div>"
   ]
  },
  {
   "cell_type": "markdown",
   "metadata": {},
   "source": [
    "<div class=\"alert alert-block alert-danger\">\n",
    "<b>❌ Замечание:</b>\n",
    "    \n",
    "Анализ моделей не должен включать тестовую выборку. Тестовая выборка используется в самом конце - в финальном тестировании лучшей модели. Выбирать лучшую модель, основываясь на результатах на тестовой выборке кажется неверным, так как это может привести к переобучению.\n",
    "\n",
    "Если валидационной выборки нет, то анализ моделей должен выглядеть так:\n",
    "\n",
    "1. RMSE вычисляется с помощью кросс-валидации на тренировочной выборке (grid.best_score_ или cross_val_score)\n",
    "2. Время обучения = время model.fit(X_train, y_train)\n",
    "3. Время предсказания = время model.predict(X_train)\n",
    "</div>"
   ]
  },
  {
   "cell_type": "markdown",
   "metadata": {},
   "source": [
    "<div class=\"alert alert-block alert-info\">\n",
    "<b>Комментарий ревьюера:</b>\n",
    "\n",
    "Либо можешь разделить данные на три выборки и для анализа моделей использовать валидационную выборку:\n",
    "    \n",
    "1. RMSE вычисляется на валидационной выборке\n",
    "2. Время обучения = время model.fit(X_train, y_train)\n",
    "3. Время предсказания = время model.predict(X_valid)\n",
    "</div>"
   ]
  },
  {
   "cell_type": "markdown",
   "metadata": {},
   "source": [
    "## Тестирование лучшей модели"
   ]
  },
  {
   "cell_type": "markdown",
   "metadata": {},
   "source": [
    "<div class=\"alert alert-block alert-danger\">\n",
    "<b>❌ Замечание:</b>\n",
    "\n",
    "После анализа моделей нужно порекомендовать заказчику **одну** модель на основе его критериев и провести на ней финальное тестирование.\n",
    "    \n",
    "Лучше в обучении и анализе не использовать тестовую выборку. Выбирать лучшую модель, основываясь на результатах на тестовой выборке кажется неверным, так как это может привести к переобучению.\n",
    "</div>"
   ]
  },
  {
   "cell_type": "markdown",
   "metadata": {},
   "source": [
    "<div class=\"alert alert-block alert-info\">\n",
    "<b>Комментарий ревьюера:</b>\n",
    "\n",
    "Для того, чтобы все было понятно, напишу конкретный план (структуру) обучения и анализа моделей:\n",
    "\n",
    "1. Обучение моделей. При обучении необходимо рассмотреть хотя бы одну простую модель и один метод бустинга. Подбор гиперпараметров должен быть проведен как минимум для одной модели. Существует два варианта:\n",
    "\n",
    "    - Без использования валидационной выборки. В этом случае гиперпараметры следует подбирать с помощью кросс-валидации (GridSearchCV, RandomizedSearchCV) или вручную (cross_val_score).\n",
    "    - С использованием валидационной выборки. В этом случае можно не использовать кросс-валидацию и подбирать гиперпараметры вручную.\n",
    "\n",
    "2. Анализ моделей. После нахождения наилучших гиперпараметров необходимо измерить время обучения, время предсказания и RMSE. Существует два варианта:\n",
    "\n",
    "    - Без использования валидационной выборки. RMSE следует рассчитать на кросс-валидации. Время обучения можно рассчитать как время выполнения метода model.fit(X_train), а время предсказания - как время выполнения метода model.predict(X_train).\n",
    "    - С использованием валидационной выборки. RMSE следует рассчитать на валидационной выборке. Время обучения можно рассчитать как время выполнения метода model.fit(X_train), а время предсказания - как время выполнения метода model.predict(X_valid).\n",
    "\n",
    "После этого необходимо сделать выводы по анализу моделей (результаты можно занести в общую таблицу) и посоветовать заказчику наиболее подходящую модель на основе его критериев.\n",
    "\n",
    "3. Тестирование. Необходимо рассчитать финальную метрику лучшей модели на тестовой выборке (при этом тестовая выборка не должна использоваться на предыдущих этапах!). RMSE должно быть не больше 2500. Если метрика не удовлетворяет требованиям, можно попробовать внести коррективы в модель (на этапе обучения, а не на тестовой выборке!).\n",
    "\n",
    "</div>"
   ]
  },
  {
   "cell_type": "markdown",
   "metadata": {},
   "source": [
    "## Общий итог"
   ]
  },
  {
   "cell_type": "markdown",
   "metadata": {},
   "source": [
    "На входе мы получили таблицу с более чем 350 тыс. строк и 16 столбцами. Мы перевели названия столбцов в змеиный регистр, удалили неинформативные столбцы, заполнили пропуски, избавились от аномалий.\n",
    "\n",
    "Для обучения регрессионых моделей, категориальные признаки были переведены в числовые.  \n",
    "\n",
    "Было проведено сравнение модели Градиентного бустинга и Случайный лес регрессии. \n",
    "\n",
    "Исходя из поставленных задач, обе модели показали результат метрики качества RMSE менее 2500, что соответствует требованиям заказчикам и может быть допущено в работу обе модели. \n",
    "Модель Градиентного бустинга предпочтительнее, если скорость является одним из важных критериев, а также если ресурсы компании позволяют."
   ]
  },
  {
   "cell_type": "markdown",
   "metadata": {},
   "source": [
    "<div class=\"alert alert-block alert-success\">\n",
    "<b>✔️ Успех:</b>\n",
    "\n",
    "Вывод соответствует исследованию 👍\n",
    "</div>"
   ]
  },
  {
   "cell_type": "markdown",
   "metadata": {},
   "source": [
    "# <font color='orange'>Общее впечатление</font>\n",
    "* Этот проект выполнен очень хорошо\n",
    "* Видно, что приложено много усилий\n",
    "* Молодец, что структурируешь ноутбук, приятно проверять такие работы\n",
    "* У тебя чистый и лаконичный код\n",
    "* Мне было интересно читать твои промежуточные выводы\n",
    "* Твой уровень подачи материала находится на высоком уровне\n",
    "* Исправь, пожалуйста, мои замечания. Затем отправляй на повторную проверку\n",
    "* Жду новую версию проекта 👋"
   ]
  },
  {
   "cell_type": "markdown",
   "metadata": {},
   "source": [
    "# <font color='orange'>Рекомендации 🔥</font>\n",
    "* Доступное объяснение про работу градиентного бустинга <a href='https://www.youtube.com/watch?v=ZNJ3lKyI-EY&t=995s'>ссылка</a>\n",
    "* После просмотра видео можешь почитать статью про ансамбли и бустинги <a href='https://habr.com/ru/company/ods/blog/645887/'>ссылка</a>\n",
    "* Статья на Хабре представляет краткое введение в алгоритмы бустинга и описывает их принципы работы <a href='https://habr.com/ru/company/ods/blog/327250/'>ссылка</a>\n",
    "* Подбор гиперпараметров для CatBoost <a href='https://habr.com/ru/company/otus/blog/527554/'>ссылка</a>\n",
    "* Подбор гиперпараметров для LightGBM <a href='https://programmersought.com/article/40776531516/'>ссылка</a>\n",
    "* Разумные способы кодирования категориальных данных для машинного обучения <a href='https://machinelearningmastery.ru/smarter-ways-to-encode-categorical-data-for-machine-learning-part-1-of-3-6dca2f71b159/'>ссылка</a>\n",
    "* Статья про \"непонятную\" метрику ROC-AUC <a href='https://dyakonov.org/2017/07/28/auc-roc-площадь-под-кривой-ошибок/'>ссылка</a>\n",
    "* Хочешь подтянуть математику для DS?) <a href='https://academy.stepik.org/math-for-data-science'>ссылка</a>\n",
    "* Также есть курс по математике от ЯП <a href='https://practicum.yandex.ru/math-for-da-ds/'>ссылка</a>\n",
    "* В нашем деле нужно быть всегда в курсе всех новинок, новостей и тд, вот тут публикуют новости в области DS <a href='https://www.infoq.com/data-analysis/news/'>ссылка</a>\n",
    "* Всем аналитикам данных рекомендую книгу Даниела Канемана \"Думай медленно, решай быстро\""
   ]
  }
 ],
 "metadata": {
  "kernelspec": {
   "display_name": "Python 3 (ipykernel)",
   "language": "python",
   "name": "python3"
  },
  "language_info": {
   "codemirror_mode": {
    "name": "ipython",
    "version": 3
   },
   "file_extension": ".py",
   "mimetype": "text/x-python",
   "name": "python",
   "nbconvert_exporter": "python",
   "pygments_lexer": "ipython3",
   "version": "3.11.5"
  },
  "toc": {
   "base_numbering": 1,
   "nav_menu": {},
   "number_sections": true,
   "sideBar": true,
   "skip_h1_title": true,
   "title_cell": "Table of Contents",
   "title_sidebar": "Contents",
   "toc_cell": false,
   "toc_position": {},
   "toc_section_display": true,
   "toc_window_display": false
  },
  "toc-autonumbering": true
 },
 "nbformat": 4,
 "nbformat_minor": 4
}
